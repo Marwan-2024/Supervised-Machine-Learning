{
 "cells": [
  {
   "cell_type": "markdown",
   "metadata": {
    "id": "9hnvGUOEgS2P"
   },
   "source": [
    "# Housing Prices: Model Selection"
   ]
  },
  {
   "cell_type": "markdown",
   "metadata": {
    "id": "rHYlIHkUgjOO"
   },
   "source": [
    "## 1. Preprocessing Pipeline"
   ]
  },
  {
   "cell_type": "code",
   "execution_count": 569,
   "metadata": {
    "id": "3gsHtmoLHz-b",
    "tags": []
   },
   "outputs": [],
   "source": [
    "import pandas as pd\n",
    "from sklearn.model_selection import train_test_split\n",
    "from sklearn.impute import SimpleImputer\n",
    "from sklearn.tree import DecisionTreeClassifier\n",
    "from sklearn.metrics import accuracy_score\n",
    "from sklearn.pipeline import make_pipeline\n",
    "from sklearn.preprocessing import OneHotEncoder\n",
    "from sklearn.preprocessing import OrdinalEncoder\n",
    "from sklearn.compose import ColumnTransformer\n",
    "from sklearn import set_config"
   ]
  },
  {
   "cell_type": "code",
   "execution_count": 570,
   "metadata": {
    "id": "qMeS2AACH5d4",
    "tags": []
   },
   "outputs": [
    {
     "data": {
      "text/html": [
       "<div>\n",
       "<style scoped>\n",
       "    .dataframe tbody tr th:only-of-type {\n",
       "        vertical-align: middle;\n",
       "    }\n",
       "\n",
       "    .dataframe tbody tr th {\n",
       "        vertical-align: top;\n",
       "    }\n",
       "\n",
       "    .dataframe thead th {\n",
       "        text-align: right;\n",
       "    }\n",
       "</style>\n",
       "<table border=\"1\" class=\"dataframe\">\n",
       "  <thead>\n",
       "    <tr style=\"text-align: right;\">\n",
       "      <th></th>\n",
       "      <th>LotArea</th>\n",
       "      <th>LotFrontage</th>\n",
       "      <th>TotalBsmtSF</th>\n",
       "      <th>BedroomAbvGr</th>\n",
       "      <th>Fireplaces</th>\n",
       "      <th>PoolArea</th>\n",
       "      <th>GarageCars</th>\n",
       "      <th>WoodDeckSF</th>\n",
       "      <th>ScreenPorch</th>\n",
       "      <th>Expensive</th>\n",
       "      <th>...</th>\n",
       "      <th>GarageType</th>\n",
       "      <th>GarageFinish</th>\n",
       "      <th>GarageQual</th>\n",
       "      <th>GarageCond</th>\n",
       "      <th>PavedDrive</th>\n",
       "      <th>PoolQC</th>\n",
       "      <th>Fence</th>\n",
       "      <th>MiscFeature</th>\n",
       "      <th>SaleType</th>\n",
       "      <th>SaleCondition</th>\n",
       "    </tr>\n",
       "  </thead>\n",
       "  <tbody>\n",
       "    <tr>\n",
       "      <th>0</th>\n",
       "      <td>8450</td>\n",
       "      <td>65.0</td>\n",
       "      <td>856</td>\n",
       "      <td>3</td>\n",
       "      <td>0</td>\n",
       "      <td>0</td>\n",
       "      <td>2</td>\n",
       "      <td>0</td>\n",
       "      <td>0</td>\n",
       "      <td>0</td>\n",
       "      <td>...</td>\n",
       "      <td>Attchd</td>\n",
       "      <td>RFn</td>\n",
       "      <td>TA</td>\n",
       "      <td>TA</td>\n",
       "      <td>Y</td>\n",
       "      <td>NaN</td>\n",
       "      <td>NaN</td>\n",
       "      <td>NaN</td>\n",
       "      <td>WD</td>\n",
       "      <td>Normal</td>\n",
       "    </tr>\n",
       "    <tr>\n",
       "      <th>1</th>\n",
       "      <td>9600</td>\n",
       "      <td>80.0</td>\n",
       "      <td>1262</td>\n",
       "      <td>3</td>\n",
       "      <td>1</td>\n",
       "      <td>0</td>\n",
       "      <td>2</td>\n",
       "      <td>298</td>\n",
       "      <td>0</td>\n",
       "      <td>0</td>\n",
       "      <td>...</td>\n",
       "      <td>Attchd</td>\n",
       "      <td>RFn</td>\n",
       "      <td>TA</td>\n",
       "      <td>TA</td>\n",
       "      <td>Y</td>\n",
       "      <td>NaN</td>\n",
       "      <td>NaN</td>\n",
       "      <td>NaN</td>\n",
       "      <td>WD</td>\n",
       "      <td>Normal</td>\n",
       "    </tr>\n",
       "    <tr>\n",
       "      <th>2</th>\n",
       "      <td>11250</td>\n",
       "      <td>68.0</td>\n",
       "      <td>920</td>\n",
       "      <td>3</td>\n",
       "      <td>1</td>\n",
       "      <td>0</td>\n",
       "      <td>2</td>\n",
       "      <td>0</td>\n",
       "      <td>0</td>\n",
       "      <td>0</td>\n",
       "      <td>...</td>\n",
       "      <td>Attchd</td>\n",
       "      <td>RFn</td>\n",
       "      <td>TA</td>\n",
       "      <td>TA</td>\n",
       "      <td>Y</td>\n",
       "      <td>NaN</td>\n",
       "      <td>NaN</td>\n",
       "      <td>NaN</td>\n",
       "      <td>WD</td>\n",
       "      <td>Normal</td>\n",
       "    </tr>\n",
       "    <tr>\n",
       "      <th>3</th>\n",
       "      <td>9550</td>\n",
       "      <td>60.0</td>\n",
       "      <td>756</td>\n",
       "      <td>3</td>\n",
       "      <td>1</td>\n",
       "      <td>0</td>\n",
       "      <td>3</td>\n",
       "      <td>0</td>\n",
       "      <td>0</td>\n",
       "      <td>0</td>\n",
       "      <td>...</td>\n",
       "      <td>Detchd</td>\n",
       "      <td>Unf</td>\n",
       "      <td>TA</td>\n",
       "      <td>TA</td>\n",
       "      <td>Y</td>\n",
       "      <td>NaN</td>\n",
       "      <td>NaN</td>\n",
       "      <td>NaN</td>\n",
       "      <td>WD</td>\n",
       "      <td>Abnorml</td>\n",
       "    </tr>\n",
       "    <tr>\n",
       "      <th>4</th>\n",
       "      <td>14260</td>\n",
       "      <td>84.0</td>\n",
       "      <td>1145</td>\n",
       "      <td>4</td>\n",
       "      <td>1</td>\n",
       "      <td>0</td>\n",
       "      <td>3</td>\n",
       "      <td>192</td>\n",
       "      <td>0</td>\n",
       "      <td>0</td>\n",
       "      <td>...</td>\n",
       "      <td>Attchd</td>\n",
       "      <td>RFn</td>\n",
       "      <td>TA</td>\n",
       "      <td>TA</td>\n",
       "      <td>Y</td>\n",
       "      <td>NaN</td>\n",
       "      <td>NaN</td>\n",
       "      <td>NaN</td>\n",
       "      <td>WD</td>\n",
       "      <td>Normal</td>\n",
       "    </tr>\n",
       "  </tbody>\n",
       "</table>\n",
       "<p>5 rows × 81 columns</p>\n",
       "</div>"
      ],
      "text/plain": [
       "   LotArea  LotFrontage  TotalBsmtSF  BedroomAbvGr  Fireplaces  PoolArea  \\\n",
       "0     8450         65.0          856             3           0         0   \n",
       "1     9600         80.0         1262             3           1         0   \n",
       "2    11250         68.0          920             3           1         0   \n",
       "3     9550         60.0          756             3           1         0   \n",
       "4    14260         84.0         1145             4           1         0   \n",
       "\n",
       "   GarageCars  WoodDeckSF  ScreenPorch  Expensive  ... GarageType  \\\n",
       "0           2           0            0          0  ...     Attchd   \n",
       "1           2         298            0          0  ...     Attchd   \n",
       "2           2           0            0          0  ...     Attchd   \n",
       "3           3           0            0          0  ...     Detchd   \n",
       "4           3         192            0          0  ...     Attchd   \n",
       "\n",
       "  GarageFinish GarageQual GarageCond PavedDrive PoolQC Fence MiscFeature  \\\n",
       "0          RFn         TA         TA          Y    NaN   NaN         NaN   \n",
       "1          RFn         TA         TA          Y    NaN   NaN         NaN   \n",
       "2          RFn         TA         TA          Y    NaN   NaN         NaN   \n",
       "3          Unf         TA         TA          Y    NaN   NaN         NaN   \n",
       "4          RFn         TA         TA          Y    NaN   NaN         NaN   \n",
       "\n",
       "  SaleType SaleCondition  \n",
       "0       WD        Normal  \n",
       "1       WD        Normal  \n",
       "2       WD        Normal  \n",
       "3       WD       Abnorml  \n",
       "4       WD        Normal  \n",
       "\n",
       "[5 rows x 81 columns]"
      ]
     },
     "execution_count": 570,
     "metadata": {},
     "output_type": "execute_result"
    }
   ],
   "source": [
    "# reading\n",
    "original_housing_df = pd.read_csv('housing-classification_competition.csv')\n",
    "competition_test_df = pd.read_csv('test-housing-classification.csv')\n",
    "competition_test_data = competition_test_df.pop(\"Id\")\n",
    "data = original_housing_df.copy()\n",
    "data.head()"
   ]
  },
  {
   "cell_type": "code",
   "execution_count": 571,
   "metadata": {
    "id": "tWj5uXTxIGdG",
    "tags": []
   },
   "outputs": [],
   "source": [
    "# X and y creation\n",
    "X = data.drop(columns=[\"Id\",\"PoolQC\",\"MiscFeature\",\"Fence\",\n",
    "                       \"Condition2\", \"Alley\", \"Exterior2nd\", \n",
    "                       \"BsmtFinType2\",\"SaleCondition\"])#,\"SaleType\"])\n",
    "y = X.pop(\"Expensive\")"
   ]
  },
  {
   "cell_type": "code",
   "execution_count": 572,
   "metadata": {
    "id": "2jgbd6AbIJvP",
    "tags": []
   },
   "outputs": [],
   "source": [
    "# Feature Engineering\n",
    "# No feature Engineering is needed\n",
    "#X.loc[:, \"Cabin\"] = X.Cabin.str[0]"
   ]
  },
  {
   "cell_type": "code",
   "execution_count": 573,
   "metadata": {
    "id": "YPjtOmH9IOhG",
    "tags": []
   },
   "outputs": [],
   "source": [
    "# data splitting\n",
    "X_train, X_test, y_train, y_test = train_test_split(X, y, test_size=0.2, random_state=31416)"
   ]
  },
  {
   "cell_type": "code",
   "execution_count": 574,
   "metadata": {
    "tags": []
   },
   "outputs": [
    {
     "data": {
      "text/plain": [
       "<Axes: >"
      ]
     },
     "execution_count": 574,
     "metadata": {},
     "output_type": "execute_result"
    },
    {
     "data": {
      "image/png": "[encoded data removed]",
      "text/plain": [
       "<Figure size 1600x800 with 2 Axes>"
      ]
     },
     "metadata": {},
     "output_type": "display_data"
    }
   ],
   "source": [
    "#!pip install missingno\n",
    "import missingno as msno\n",
    "msno.matrix(X_train, color=(0.55, 0.75, 0.85), figsize=(16, 8))"
   ]
  },
  {
   "cell_type": "code",
   "execution_count": 575,
   "metadata": {
    "colab": {
     "base_uri": "https://localhost:8080/",
     "height": 423
    },
    "id": "eMzpFA7-VcAg",
    "outputId": "39f0c49d-196c-42e0-a622-ae5d9fa0e03b",
    "tags": []
   },
   "outputs": [
    {
     "name": "stdout",
     "output_type": "stream",
     "text": [
      "<class 'pandas.core.frame.DataFrame'>\n",
      "Index: 1168 entries, 772 to 1391\n",
      "Data columns (total 71 columns):\n",
      " #   Column         Non-Null Count  Dtype  \n",
      "---  ------         --------------  -----  \n",
      " 0   LotArea        1168 non-null   int64  \n",
      " 1   LotFrontage    966 non-null    float64\n",
      " 2   TotalBsmtSF    1168 non-null   int64  \n",
      " 3   BedroomAbvGr   1168 non-null   int64  \n",
      " 4   Fireplaces     1168 non-null   int64  \n",
      " 5   PoolArea       1168 non-null   int64  \n",
      " 6   GarageCars     1168 non-null   int64  \n",
      " 7   WoodDeckSF     1168 non-null   int64  \n",
      " 8   ScreenPorch    1168 non-null   int64  \n",
      " 9   MSZoning       1168 non-null   object \n",
      " 10  Condition1     1168 non-null   object \n",
      " 11  Heating        1168 non-null   object \n",
      " 12  Street         1168 non-null   object \n",
      " 13  CentralAir     1168 non-null   object \n",
      " 14  Foundation     1168 non-null   object \n",
      " 15  ExterQual      1168 non-null   object \n",
      " 16  ExterCond      1168 non-null   object \n",
      " 17  BsmtQual       1141 non-null   object \n",
      " 18  BsmtCond       1141 non-null   object \n",
      " 19  BsmtExposure   1140 non-null   object \n",
      " 20  BsmtFinType1   1141 non-null   object \n",
      " 21  KitchenQual    1168 non-null   object \n",
      " 22  FireplaceQu    622 non-null    object \n",
      " 23  MSSubClass     1168 non-null   int64  \n",
      " 24  OverallQual    1168 non-null   int64  \n",
      " 25  OverallCond    1168 non-null   int64  \n",
      " 26  YearBuilt      1168 non-null   int64  \n",
      " 27  YearRemodAdd   1168 non-null   int64  \n",
      " 28  MasVnrArea     1161 non-null   float64\n",
      " 29  BsmtFinSF1     1168 non-null   int64  \n",
      " 30  BsmtFinSF2     1168 non-null   int64  \n",
      " 31  BsmtUnfSF      1168 non-null   int64  \n",
      " 32  1stFlrSF       1168 non-null   int64  \n",
      " 33  2ndFlrSF       1168 non-null   int64  \n",
      " 34  LowQualFinSF   1168 non-null   int64  \n",
      " 35  GrLivArea      1168 non-null   int64  \n",
      " 36  BsmtFullBath   1168 non-null   int64  \n",
      " 37  BsmtHalfBath   1168 non-null   int64  \n",
      " 38  FullBath       1168 non-null   int64  \n",
      " 39  HalfBath       1168 non-null   int64  \n",
      " 40  KitchenAbvGr   1168 non-null   int64  \n",
      " 41  TotRmsAbvGrd   1168 non-null   int64  \n",
      " 42  GarageYrBlt    1103 non-null   float64\n",
      " 43  GarageArea     1168 non-null   int64  \n",
      " 44  OpenPorchSF    1168 non-null   int64  \n",
      " 45  EnclosedPorch  1168 non-null   int64  \n",
      " 46  3SsnPorch      1168 non-null   int64  \n",
      " 47  MiscVal        1168 non-null   int64  \n",
      " 48  MoSold         1168 non-null   int64  \n",
      " 49  YrSold         1168 non-null   int64  \n",
      " 50  LotShape       1168 non-null   object \n",
      " 51  LandContour    1168 non-null   object \n",
      " 52  Utilities      1168 non-null   object \n",
      " 53  LotConfig      1168 non-null   object \n",
      " 54  LandSlope      1168 non-null   object \n",
      " 55  Neighborhood   1168 non-null   object \n",
      " 56  BldgType       1168 non-null   object \n",
      " 57  HouseStyle     1168 non-null   object \n",
      " 58  RoofStyle      1168 non-null   object \n",
      " 59  RoofMatl       1168 non-null   object \n",
      " 60  Exterior1st    1168 non-null   object \n",
      " 61  MasVnrType     474 non-null    object \n",
      " 62  HeatingQC      1168 non-null   object \n",
      " 63  Electrical     1167 non-null   object \n",
      " 64  Functional     1168 non-null   object \n",
      " 65  GarageType     1103 non-null   object \n",
      " 66  GarageFinish   1103 non-null   object \n",
      " 67  GarageQual     1103 non-null   object \n",
      " 68  GarageCond     1103 non-null   object \n",
      " 69  PavedDrive     1168 non-null   object \n",
      " 70  SaleType       1168 non-null   object \n",
      "dtypes: float64(3), int64(33), object(35)\n",
      "memory usage: 657.0+ KB\n"
     ]
    }
   ],
   "source": [
    "X_train.info()"
   ]
  },
  {
   "cell_type": "code",
   "execution_count": 576,
   "metadata": {
    "id": "FF6EV2OyIcoa",
    "tags": []
   },
   "outputs": [],
   "source": [
    "# Set the config so that we can view our preprocessor, and to transform output from numpy arrays to pandas dataframes\n",
    "set_config(display=\"diagram\")\n",
    "set_config(transform_output=\"pandas\")\n",
    "\n",
    "# building the pipeline\n",
    "X_cat = X.select_dtypes(exclude=\"number\").copy()\n",
    "X_num = X.select_dtypes(include=\"number\").copy()"
   ]
  },
  {
   "cell_type": "code",
   "execution_count": 577,
   "metadata": {
    "tags": []
   },
   "outputs": [
    {
     "data": {
      "text/html": [
       "<div>\n",
       "<style scoped>\n",
       "    .dataframe tbody tr th:only-of-type {\n",
       "        vertical-align: middle;\n",
       "    }\n",
       "\n",
       "    .dataframe tbody tr th {\n",
       "        vertical-align: top;\n",
       "    }\n",
       "\n",
       "    .dataframe thead th {\n",
       "        text-align: right;\n",
       "    }\n",
       "</style>\n",
       "<table border=\"1\" class=\"dataframe\">\n",
       "  <thead>\n",
       "    <tr style=\"text-align: right;\">\n",
       "      <th></th>\n",
       "      <th>LotArea</th>\n",
       "      <th>LotFrontage</th>\n",
       "      <th>TotalBsmtSF</th>\n",
       "      <th>BedroomAbvGr</th>\n",
       "      <th>Fireplaces</th>\n",
       "      <th>PoolArea</th>\n",
       "      <th>GarageCars</th>\n",
       "      <th>WoodDeckSF</th>\n",
       "      <th>ScreenPorch</th>\n",
       "      <th>MSSubClass</th>\n",
       "      <th>...</th>\n",
       "      <th>KitchenAbvGr</th>\n",
       "      <th>TotRmsAbvGrd</th>\n",
       "      <th>GarageYrBlt</th>\n",
       "      <th>GarageArea</th>\n",
       "      <th>OpenPorchSF</th>\n",
       "      <th>EnclosedPorch</th>\n",
       "      <th>3SsnPorch</th>\n",
       "      <th>MiscVal</th>\n",
       "      <th>MoSold</th>\n",
       "      <th>YrSold</th>\n",
       "    </tr>\n",
       "  </thead>\n",
       "  <tbody>\n",
       "    <tr>\n",
       "      <th>0</th>\n",
       "      <td>8450</td>\n",
       "      <td>65.0</td>\n",
       "      <td>856</td>\n",
       "      <td>3</td>\n",
       "      <td>0</td>\n",
       "      <td>0</td>\n",
       "      <td>2</td>\n",
       "      <td>0</td>\n",
       "      <td>0</td>\n",
       "      <td>60</td>\n",
       "      <td>...</td>\n",
       "      <td>1</td>\n",
       "      <td>8</td>\n",
       "      <td>2003.0</td>\n",
       "      <td>548</td>\n",
       "      <td>61</td>\n",
       "      <td>0</td>\n",
       "      <td>0</td>\n",
       "      <td>0</td>\n",
       "      <td>2</td>\n",
       "      <td>2008</td>\n",
       "    </tr>\n",
       "    <tr>\n",
       "      <th>1</th>\n",
       "      <td>9600</td>\n",
       "      <td>80.0</td>\n",
       "      <td>1262</td>\n",
       "      <td>3</td>\n",
       "      <td>1</td>\n",
       "      <td>0</td>\n",
       "      <td>2</td>\n",
       "      <td>298</td>\n",
       "      <td>0</td>\n",
       "      <td>20</td>\n",
       "      <td>...</td>\n",
       "      <td>1</td>\n",
       "      <td>6</td>\n",
       "      <td>1976.0</td>\n",
       "      <td>460</td>\n",
       "      <td>0</td>\n",
       "      <td>0</td>\n",
       "      <td>0</td>\n",
       "      <td>0</td>\n",
       "      <td>5</td>\n",
       "      <td>2007</td>\n",
       "    </tr>\n",
       "  </tbody>\n",
       "</table>\n",
       "<p>2 rows × 36 columns</p>\n",
       "</div>"
      ],
      "text/plain": [
       "   LotArea  LotFrontage  TotalBsmtSF  BedroomAbvGr  Fireplaces  PoolArea  \\\n",
       "0     8450         65.0          856             3           0         0   \n",
       "1     9600         80.0         1262             3           1         0   \n",
       "\n",
       "   GarageCars  WoodDeckSF  ScreenPorch  MSSubClass  ...  KitchenAbvGr  \\\n",
       "0           2           0            0          60  ...             1   \n",
       "1           2         298            0          20  ...             1   \n",
       "\n",
       "   TotRmsAbvGrd  GarageYrBlt  GarageArea  OpenPorchSF  EnclosedPorch  \\\n",
       "0             8       2003.0         548           61              0   \n",
       "1             6       1976.0         460            0              0   \n",
       "\n",
       "   3SsnPorch  MiscVal  MoSold  YrSold  \n",
       "0          0        0       2    2008  \n",
       "1          0        0       5    2007  \n",
       "\n",
       "[2 rows x 36 columns]"
      ]
     },
     "execution_count": 577,
     "metadata": {},
     "output_type": "execute_result"
    }
   ],
   "source": [
    "X_num.head(2)"
   ]
  },
  {
   "cell_type": "code",
   "execution_count": 578,
   "metadata": {
    "colab": {
     "base_uri": "https://localhost:8080/",
     "height": 423
    },
    "id": "mKoSPTcHW50S",
    "outputId": "9bbb0497-f644-4254-f8bd-98969a6a9ba2",
    "tags": []
   },
   "outputs": [
    {
     "data": {
      "text/html": [
       "<div>\n",
       "<style scoped>\n",
       "    .dataframe tbody tr th:only-of-type {\n",
       "        vertical-align: middle;\n",
       "    }\n",
       "\n",
       "    .dataframe tbody tr th {\n",
       "        vertical-align: top;\n",
       "    }\n",
       "\n",
       "    .dataframe thead th {\n",
       "        text-align: right;\n",
       "    }\n",
       "</style>\n",
       "<table border=\"1\" class=\"dataframe\">\n",
       "  <thead>\n",
       "    <tr style=\"text-align: right;\">\n",
       "      <th></th>\n",
       "      <th>MSZoning</th>\n",
       "      <th>Condition1</th>\n",
       "      <th>Heating</th>\n",
       "      <th>Street</th>\n",
       "      <th>CentralAir</th>\n",
       "      <th>Foundation</th>\n",
       "      <th>ExterQual</th>\n",
       "      <th>ExterCond</th>\n",
       "      <th>BsmtQual</th>\n",
       "      <th>BsmtCond</th>\n",
       "      <th>...</th>\n",
       "      <th>MasVnrType</th>\n",
       "      <th>HeatingQC</th>\n",
       "      <th>Electrical</th>\n",
       "      <th>Functional</th>\n",
       "      <th>GarageType</th>\n",
       "      <th>GarageFinish</th>\n",
       "      <th>GarageQual</th>\n",
       "      <th>GarageCond</th>\n",
       "      <th>PavedDrive</th>\n",
       "      <th>SaleType</th>\n",
       "    </tr>\n",
       "  </thead>\n",
       "  <tbody>\n",
       "    <tr>\n",
       "      <th>0</th>\n",
       "      <td>RL</td>\n",
       "      <td>Norm</td>\n",
       "      <td>GasA</td>\n",
       "      <td>Pave</td>\n",
       "      <td>Y</td>\n",
       "      <td>PConc</td>\n",
       "      <td>Gd</td>\n",
       "      <td>TA</td>\n",
       "      <td>Gd</td>\n",
       "      <td>TA</td>\n",
       "      <td>...</td>\n",
       "      <td>BrkFace</td>\n",
       "      <td>Ex</td>\n",
       "      <td>SBrkr</td>\n",
       "      <td>Typ</td>\n",
       "      <td>Attchd</td>\n",
       "      <td>RFn</td>\n",
       "      <td>TA</td>\n",
       "      <td>TA</td>\n",
       "      <td>Y</td>\n",
       "      <td>WD</td>\n",
       "    </tr>\n",
       "    <tr>\n",
       "      <th>1</th>\n",
       "      <td>RL</td>\n",
       "      <td>Feedr</td>\n",
       "      <td>GasA</td>\n",
       "      <td>Pave</td>\n",
       "      <td>Y</td>\n",
       "      <td>CBlock</td>\n",
       "      <td>TA</td>\n",
       "      <td>TA</td>\n",
       "      <td>Gd</td>\n",
       "      <td>TA</td>\n",
       "      <td>...</td>\n",
       "      <td>NaN</td>\n",
       "      <td>Ex</td>\n",
       "      <td>SBrkr</td>\n",
       "      <td>Typ</td>\n",
       "      <td>Attchd</td>\n",
       "      <td>RFn</td>\n",
       "      <td>TA</td>\n",
       "      <td>TA</td>\n",
       "      <td>Y</td>\n",
       "      <td>WD</td>\n",
       "    </tr>\n",
       "  </tbody>\n",
       "</table>\n",
       "<p>2 rows × 35 columns</p>\n",
       "</div>"
      ],
      "text/plain": [
       "  MSZoning Condition1 Heating Street CentralAir Foundation ExterQual  \\\n",
       "0       RL       Norm    GasA   Pave          Y      PConc        Gd   \n",
       "1       RL      Feedr    GasA   Pave          Y     CBlock        TA   \n",
       "\n",
       "  ExterCond BsmtQual BsmtCond  ... MasVnrType HeatingQC Electrical Functional  \\\n",
       "0        TA       Gd       TA  ...    BrkFace        Ex      SBrkr        Typ   \n",
       "1        TA       Gd       TA  ...        NaN        Ex      SBrkr        Typ   \n",
       "\n",
       "  GarageType GarageFinish GarageQual GarageCond PavedDrive SaleType  \n",
       "0     Attchd          RFn         TA         TA          Y       WD  \n",
       "1     Attchd          RFn         TA         TA          Y       WD  \n",
       "\n",
       "[2 rows x 35 columns]"
      ]
     },
     "execution_count": 578,
     "metadata": {},
     "output_type": "execute_result"
    }
   ],
   "source": [
    "X_cat.head(2)"
   ]
  },
  {
   "cell_type": "code",
   "execution_count": 579,
   "metadata": {
    "id": "jXMuVxexIynl",
    "tags": []
   },
   "outputs": [],
   "source": [
    "numeric_pipe = make_pipeline(\n",
    "    SimpleImputer(strategy=\"mean\"))"
   ]
  },
  {
   "cell_type": "code",
   "execution_count": 580,
   "metadata": {
    "tags": []
   },
   "outputs": [],
   "source": [
    "# defining ordinal & onehot columns\n",
    "ordinal_cols = ['Street','CentralAir','Foundation','ExterQual', \n",
    "                'ExterCond','BsmtQual','BsmtCond', 'BsmtExposure', \n",
    "                'BsmtFinType1', 'ExterQual', 'ExterCond', \n",
    "                'KitchenQual','FireplaceQu', 'LotShape', 'LandContour',\n",
    "                'Utilities','LotConfig', 'LandSlope', 'BldgType',\n",
    "                'HouseStyle','RoofStyle','RoofMatl' , \n",
    "                'MasVnrType', 'HeatingQC', 'Electrical',\n",
    "                #'PoolQC'\n",
    "                'Functional', 'GarageFinish', 'GarageQual','GarageCond', 'PavedDrive']\n",
    "onehot_cols = ['Heating', 'MSZoning','Condition1',\n",
    "               'Neighborhood', 'Exterior1st', 'GarageType','SaleType']"
   ]
  },
  {
   "cell_type": "code",
   "execution_count": 581,
   "metadata": {
    "tags": []
   },
   "outputs": [],
   "source": [
    "street_cats = ['N_A', 'Grvl', 'Pave']\n",
    "central_air_cats = ['N_A', 'N', 'Y']\n",
    "foundation_cats = ['N_A', 'Slab', 'BrkTil', 'CBlock', 'Wood', 'Stone', 'PConc']\n",
    "BsmtQual_cat = ['N_A', 'NA', 'Po', 'Fa','TA','Gd',  'Ex']\n",
    "BsmtCond_cat = ['N_A', 'NA', 'Po', 'Fa','TA','Gd',  'Ex']\n",
    "BsmtExposure_cat = ['N_A', 'NA', 'No', 'Mn', 'Av', 'Gd']\n",
    "BsmtFinType1_cat = ['N_A', 'NA', 'Unf', 'LwQ', 'Rec', 'BLQ', 'ALQ', 'GLQ']\n",
    "#BsmtFinType2_cat = ['N_A', 'NA', 'Unf', 'LwQ', 'Rec', 'BLQ', 'ALQ', 'GLQ']\n",
    "ExterQual_cat = ['N_A', 'Po', 'Fa', 'TA', 'Gd', 'Ex']\n",
    "ExterCond_cat = ['N_A', 'Po', 'Fa', 'TA', 'Gd', 'Ex']\n",
    "KitchenQual_cat = ['N_A', 'Po', 'Fa', 'TA', 'Gd', 'Ex']\n",
    "FireplaceQu_cat = ['N_A', 'NA', 'Po', 'Fa', 'TA', 'Gd', 'Ex']\n",
    "ExterQual_cat = ['N_A', 'Po', 'Fa', 'TA', 'Gd', 'Ex']\n",
    "ExterCond_cat = ['N_A', 'Po', 'Fa', 'TA', 'Gd', 'Ex']\n",
    "BsmtExposure_cat = ['N_A','NA','No','Mn','Av','Gd']\n",
    "#Alley_cat = ['N_A','NA','Pave','Grvl']\n",
    "LotShape_cat = ['N_A','IR3','IR2','IR1','Reg']\n",
    "LandContour_cat = ['N_A','Low','HLS','Bnk','Lvl']\n",
    "Utilities_cat = ['N_A','ELO','NoSeWa','NoSewr','AllPub']\n",
    "LotConfig_cat = ['N_A','Inside','Corner','CulDSac','FR2','FR3']\n",
    "LandSlope_cat = ['N_A','Sev','Mod','Gtl']\n",
    "BldgType_cat = ['N_A','Twnhs','TwnhsE','Duplex','2fmCon','1Fam']\n",
    "HouseStyle_cat = ['N_A','1Story','1.5Unf','1.5Fin','2Story','2.5Unf','2.5Fin','SFoyer','SLvl']\n",
    "RoofStyle_cat = ['N_A', 'Flat', 'Shed' , 'Gable' , 'Hip' , 'Gambrel' , 'Mansard' ]\n",
    "RoofMatl_cat = ['N_A', 'Roll', 'Tar&Grv' , 'CompShg' , 'WdShngl' , 'WdShake' , 'Membran', 'Metal','ClyTile' ]\n",
    "MasVnrType_cat = ['N_A','None','CBlock','BrkCmn', 'BrkFace', 'Stone']\n",
    "HeatingQC_cat =  ['N_A', 'Po', 'Fa', 'TA', 'Gd', 'Ex']\n",
    "Electrical_cat = ['N_A', 'Mix', 'FuseP', 'FuseF', 'FuseA', 'SBrkr']\n",
    "Functional_cat = ['N_A', 'Sal', 'Sev', 'Maj2', 'Maj1', 'Mod','Min2','Min1','Typ']\n",
    "GarageFinish_cat = ['N_A', 'NA', 'Unf', 'RFn', 'Fin']\n",
    "GarageQual_cat = ['N_A', 'Po', 'Fa', 'TA', 'Gd', 'Ex']\n",
    "GarageCond_cat = ['N_A', 'Po', 'Fa', 'TA', 'Gd', 'Ex']\n",
    "PavedDrive_cat = ['N_A', 'N', 'P', 'Y']\n",
    "PoolQC_cat = ['N_A', 'NA', 'Fa', 'TA', 'Gd', 'Ex']"
   ]
  },
  {
   "cell_type": "code",
   "execution_count": 582,
   "metadata": {
    "tags": []
   },
   "outputs": [],
   "source": [
    "# defining the categorical encoder: a ColumnTransformer with 2 branches: ordinal & onehot\n",
    "categorical_encoder = ColumnTransformer(\n",
    "    transformers=[\n",
    "        (\"cat_ordinal\", OrdinalEncoder(categories=[street_cats, central_air_cats,\n",
    "                                                   foundation_cats, ExterQual_cat,\n",
    "                                                   ExterCond_cat, BsmtQual_cat,\n",
    "                                                   BsmtCond_cat, BsmtExposure_cat,\n",
    "                                                   BsmtFinType1_cat,ExterQual_cat, \n",
    "                                                   ExterCond_cat, KitchenQual_cat, \n",
    "                                                   FireplaceQu_cat, \n",
    "                                                   LotShape_cat,\n",
    "                                                   LandContour_cat, Utilities_cat, \n",
    "                                                   LotConfig_cat, LandSlope_cat, \n",
    "                                                   BldgType_cat, HouseStyle_cat,\n",
    "                                                   RoofStyle_cat, RoofMatl_cat, \n",
    "                                                   MasVnrType_cat, \n",
    "                                                   HeatingQC_cat,\n",
    "                                                   Electrical_cat, Functional_cat,\n",
    "                                                  GarageFinish_cat, GarageQual_cat,\n",
    "                                                   #PoolQC_cat,\n",
    "                                                   GarageCond_cat, PavedDrive_cat]), ordinal_cols),\n",
    "        (\"cat_onehot\", OneHotEncoder(handle_unknown=\"ignore\", \n",
    "                                     sparse_output=False), onehot_cols),\n",
    "    ]\n",
    ")\n"
   ]
  },
  {
   "cell_type": "code",
   "execution_count": 583,
   "metadata": {
    "tags": []
   },
   "outputs": [],
   "source": [
    "#categorical pipeline = \"N_A\" imputer + categorical encoder\n",
    "categoric_pipe = make_pipeline(SimpleImputer(strategy=\"constant\", fill_value=\"N_A\"),\n",
    "                                 categorical_encoder\n",
    "                                )"
   ]
  },
  {
   "cell_type": "code",
   "execution_count": 584,
   "metadata": {
    "tags": []
   },
   "outputs": [
    {
     "data": {
      "text/html": [
       "<style>#sk-container-id-78 {color: black;}#sk-container-id-78 pre{padding: 0;}#sk-container-id-78 div.sk-toggleable {background-color: white;}#sk-container-id-78 label.sk-toggleable__label {cursor: pointer;display: block;width: 100%;margin-bottom: 0;padding: 0.3em;box-sizing: border-box;text-align: center;}#sk-container-id-78 label.sk-toggleable__label-arrow:before {content: \"▸\";float: left;margin-right: 0.25em;color: #696969;}#sk-container-id-78 label.sk-toggleable__label-arrow:hover:before {color: black;}#sk-container-id-78 div.sk-estimator:hover label.sk-toggleable__label-arrow:before {color: black;}#sk-container-id-78 div.sk-toggleable__content {max-height: 0;max-width: 0;overflow: hidden;text-align: left;background-color: #f0f8ff;}#sk-container-id-78 div.sk-toggleable__content pre {margin: 0.2em;color: black;border-radius: 0.25em;background-color: #f0f8ff;}#sk-container-id-78 input.sk-toggleable__control:checked~div.sk-toggleable__content {max-height: 200px;max-width: 100%;overflow: auto;}#sk-container-id-78 input.sk-toggleable__control:checked~label.sk-toggleable__label-arrow:before {content: \"▾\";}#sk-container-id-78 div.sk-estimator input.sk-toggleable__control:checked~label.sk-toggleable__label {background-color: #d4ebff;}#sk-container-id-78 div.sk-label input.sk-toggleable__control:checked~label.sk-toggleable__label {background-color: #d4ebff;}#sk-container-id-78 input.sk-hidden--visually {border: 0;clip: rect(1px 1px 1px 1px);clip: rect(1px, 1px, 1px, 1px);height: 1px;margin: -1px;overflow: hidden;padding: 0;position: absolute;width: 1px;}#sk-container-id-78 div.sk-estimator {font-family: monospace;background-color: #f0f8ff;border: 1px dotted black;border-radius: 0.25em;box-sizing: border-box;margin-bottom: 0.5em;}#sk-container-id-78 div.sk-estimator:hover {background-color: #d4ebff;}#sk-container-id-78 div.sk-parallel-item::after {content: \"\";width: 100%;border-bottom: 1px solid gray;flex-grow: 1;}#sk-container-id-78 div.sk-label:hover label.sk-toggleable__label {background-color: #d4ebff;}#sk-container-id-78 div.sk-serial::before {content: \"\";position: absolute;border-left: 1px solid gray;box-sizing: border-box;top: 0;bottom: 0;left: 50%;z-index: 0;}#sk-container-id-78 div.sk-serial {display: flex;flex-direction: column;align-items: center;background-color: white;padding-right: 0.2em;padding-left: 0.2em;position: relative;}#sk-container-id-78 div.sk-item {position: relative;z-index: 1;}#sk-container-id-78 div.sk-parallel {display: flex;align-items: stretch;justify-content: center;background-color: white;position: relative;}#sk-container-id-78 div.sk-item::before, #sk-container-id-78 div.sk-parallel-item::before {content: \"\";position: absolute;border-left: 1px solid gray;box-sizing: border-box;top: 0;bottom: 0;left: 50%;z-index: -1;}#sk-container-id-78 div.sk-parallel-item {display: flex;flex-direction: column;z-index: 1;position: relative;background-color: white;}#sk-container-id-78 div.sk-parallel-item:first-child::after {align-self: flex-end;width: 50%;}#sk-container-id-78 div.sk-parallel-item:last-child::after {align-self: flex-start;width: 50%;}#sk-container-id-78 div.sk-parallel-item:only-child::after {width: 0;}#sk-container-id-78 div.sk-dashed-wrapped {border: 1px dashed gray;margin: 0 0.4em 0.5em 0.4em;box-sizing: border-box;padding-bottom: 0.4em;background-color: white;}#sk-container-id-78 div.sk-label label {font-family: monospace;font-weight: bold;display: inline-block;line-height: 1.2em;}#sk-container-id-78 div.sk-label-container {text-align: center;}#sk-container-id-78 div.sk-container {/* jupyter's `normalize.less` sets `[hidden] { display: none; }` but bootstrap.min.css set `[hidden] { display: none !important; }` so we also need the `!important` here to be able to override the default hidden behavior on the sphinx rendered scikit-learn.org. See: https://github.com/scikit-learn/scikit-learn/issues/21755 */display: inline-block !important;position: relative;}#sk-container-id-78 div.sk-text-repr-fallback {display: none;}</style><div id=\"sk-container-id-78\" class=\"sk-top-container\"><div class=\"sk-text-repr-fallback\"><pre>Pipeline(steps=[(&#x27;simpleimputer&#x27;,\n",
       "                 SimpleImputer(fill_value=&#x27;N_A&#x27;, strategy=&#x27;constant&#x27;)),\n",
       "                (&#x27;columntransformer&#x27;,\n",
       "                 ColumnTransformer(transformers=[(&#x27;cat_ordinal&#x27;,\n",
       "                                                  OrdinalEncoder(categories=[[&#x27;N_A&#x27;,\n",
       "                                                                              &#x27;Grvl&#x27;,\n",
       "                                                                              &#x27;Pave&#x27;],\n",
       "                                                                             [&#x27;N_A&#x27;,\n",
       "                                                                              &#x27;N&#x27;,\n",
       "                                                                              &#x27;Y&#x27;],\n",
       "                                                                             [&#x27;N_A&#x27;,\n",
       "                                                                              &#x27;Slab&#x27;,\n",
       "                                                                              &#x27;BrkTil&#x27;,\n",
       "                                                                              &#x27;CBlock&#x27;,\n",
       "                                                                              &#x27;Wood&#x27;,\n",
       "                                                                              &#x27;Stone&#x27;,\n",
       "                                                                              &#x27;PConc&#x27;],\n",
       "                                                                             [&#x27;N_A&#x27;,\n",
       "                                                                              &#x27;Po&#x27;,\n",
       "                                                                              &#x27;Fa&#x27;,\n",
       "                                                                              &#x27;TA&#x27;,\n",
       "                                                                              &#x27;Gd&#x27;,\n",
       "                                                                              &#x27;Ex&#x27;],\n",
       "                                                                             [&#x27;N_A&#x27;,\n",
       "                                                                              &#x27;Po&#x27;,\n",
       "                                                                              &#x27;Fa&#x27;,\n",
       "                                                                              &#x27;TA&#x27;,\n",
       "                                                                              &#x27;Gd&#x27;,\n",
       "                                                                              &#x27;Ex&#x27;],\n",
       "                                                                             [&#x27;N_A&#x27;,\n",
       "                                                                              &#x27;N...\n",
       "                                                   &#x27;LandContour&#x27;, &#x27;Utilities&#x27;,\n",
       "                                                   &#x27;LotConfig&#x27;, &#x27;LandSlope&#x27;,\n",
       "                                                   &#x27;BldgType&#x27;, &#x27;HouseStyle&#x27;,\n",
       "                                                   &#x27;RoofStyle&#x27;, &#x27;RoofMatl&#x27;,\n",
       "                                                   &#x27;MasVnrType&#x27;, &#x27;HeatingQC&#x27;,\n",
       "                                                   &#x27;Electrical&#x27;, &#x27;Functional&#x27;,\n",
       "                                                   &#x27;GarageFinish&#x27;, &#x27;GarageQual&#x27;,\n",
       "                                                   &#x27;GarageCond&#x27;,\n",
       "                                                   &#x27;PavedDrive&#x27;]),\n",
       "                                                 (&#x27;cat_onehot&#x27;,\n",
       "                                                  OneHotEncoder(handle_unknown=&#x27;ignore&#x27;,\n",
       "                                                                sparse_output=False),\n",
       "                                                  [&#x27;Heating&#x27;, &#x27;MSZoning&#x27;,\n",
       "                                                   &#x27;Condition1&#x27;, &#x27;Neighborhood&#x27;,\n",
       "                                                   &#x27;Exterior1st&#x27;, &#x27;GarageType&#x27;,\n",
       "                                                   &#x27;SaleType&#x27;])]))])</pre><b>In a Jupyter environment, please rerun this cell to show the HTML representation or trust the notebook. <br />On GitHub, the HTML representation is unable to render, please try loading this page with nbviewer.org.</b></div><div class=\"sk-container\" hidden><div class=\"sk-item sk-dashed-wrapped\"><div class=\"sk-label-container\"><div class=\"sk-label sk-toggleable\"><input class=\"sk-toggleable__control sk-hidden--visually\" id=\"sk-estimator-id-952\" type=\"checkbox\" ><label for=\"sk-estimator-id-952\" class=\"sk-toggleable__label sk-toggleable__label-arrow\">Pipeline</label><div class=\"sk-toggleable__content\"><pre>Pipeline(steps=[(&#x27;simpleimputer&#x27;,\n",
       "                 SimpleImputer(fill_value=&#x27;N_A&#x27;, strategy=&#x27;constant&#x27;)),\n",
       "                (&#x27;columntransformer&#x27;,\n",
       "                 ColumnTransformer(transformers=[(&#x27;cat_ordinal&#x27;,\n",
       "                                                  OrdinalEncoder(categories=[[&#x27;N_A&#x27;,\n",
       "                                                                              &#x27;Grvl&#x27;,\n",
       "                                                                              &#x27;Pave&#x27;],\n",
       "                                                                             [&#x27;N_A&#x27;,\n",
       "                                                                              &#x27;N&#x27;,\n",
       "                                                                              &#x27;Y&#x27;],\n",
       "                                                                             [&#x27;N_A&#x27;,\n",
       "                                                                              &#x27;Slab&#x27;,\n",
       "                                                                              &#x27;BrkTil&#x27;,\n",
       "                                                                              &#x27;CBlock&#x27;,\n",
       "                                                                              &#x27;Wood&#x27;,\n",
       "                                                                              &#x27;Stone&#x27;,\n",
       "                                                                              &#x27;PConc&#x27;],\n",
       "                                                                             [&#x27;N_A&#x27;,\n",
       "                                                                              &#x27;Po&#x27;,\n",
       "                                                                              &#x27;Fa&#x27;,\n",
       "                                                                              &#x27;TA&#x27;,\n",
       "                                                                              &#x27;Gd&#x27;,\n",
       "                                                                              &#x27;Ex&#x27;],\n",
       "                                                                             [&#x27;N_A&#x27;,\n",
       "                                                                              &#x27;Po&#x27;,\n",
       "                                                                              &#x27;Fa&#x27;,\n",
       "                                                                              &#x27;TA&#x27;,\n",
       "                                                                              &#x27;Gd&#x27;,\n",
       "                                                                              &#x27;Ex&#x27;],\n",
       "                                                                             [&#x27;N_A&#x27;,\n",
       "                                                                              &#x27;N...\n",
       "                                                   &#x27;LandContour&#x27;, &#x27;Utilities&#x27;,\n",
       "                                                   &#x27;LotConfig&#x27;, &#x27;LandSlope&#x27;,\n",
       "                                                   &#x27;BldgType&#x27;, &#x27;HouseStyle&#x27;,\n",
       "                                                   &#x27;RoofStyle&#x27;, &#x27;RoofMatl&#x27;,\n",
       "                                                   &#x27;MasVnrType&#x27;, &#x27;HeatingQC&#x27;,\n",
       "                                                   &#x27;Electrical&#x27;, &#x27;Functional&#x27;,\n",
       "                                                   &#x27;GarageFinish&#x27;, &#x27;GarageQual&#x27;,\n",
       "                                                   &#x27;GarageCond&#x27;,\n",
       "                                                   &#x27;PavedDrive&#x27;]),\n",
       "                                                 (&#x27;cat_onehot&#x27;,\n",
       "                                                  OneHotEncoder(handle_unknown=&#x27;ignore&#x27;,\n",
       "                                                                sparse_output=False),\n",
       "                                                  [&#x27;Heating&#x27;, &#x27;MSZoning&#x27;,\n",
       "                                                   &#x27;Condition1&#x27;, &#x27;Neighborhood&#x27;,\n",
       "                                                   &#x27;Exterior1st&#x27;, &#x27;GarageType&#x27;,\n",
       "                                                   &#x27;SaleType&#x27;])]))])</pre></div></div></div><div class=\"sk-serial\"><div class=\"sk-item\"><div class=\"sk-estimator sk-toggleable\"><input class=\"sk-toggleable__control sk-hidden--visually\" id=\"sk-estimator-id-953\" type=\"checkbox\" ><label for=\"sk-estimator-id-953\" class=\"sk-toggleable__label sk-toggleable__label-arrow\">SimpleImputer</label><div class=\"sk-toggleable__content\"><pre>SimpleImputer(fill_value=&#x27;N_A&#x27;, strategy=&#x27;constant&#x27;)</pre></div></div></div><div class=\"sk-item sk-dashed-wrapped\"><div class=\"sk-label-container\"><div class=\"sk-label sk-toggleable\"><input class=\"sk-toggleable__control sk-hidden--visually\" id=\"sk-estimator-id-954\" type=\"checkbox\" ><label for=\"sk-estimator-id-954\" class=\"sk-toggleable__label sk-toggleable__label-arrow\">columntransformer: ColumnTransformer</label><div class=\"sk-toggleable__content\"><pre>ColumnTransformer(transformers=[(&#x27;cat_ordinal&#x27;,\n",
       "                                 OrdinalEncoder(categories=[[&#x27;N_A&#x27;, &#x27;Grvl&#x27;,\n",
       "                                                             &#x27;Pave&#x27;],\n",
       "                                                            [&#x27;N_A&#x27;, &#x27;N&#x27;, &#x27;Y&#x27;],\n",
       "                                                            [&#x27;N_A&#x27;, &#x27;Slab&#x27;,\n",
       "                                                             &#x27;BrkTil&#x27;, &#x27;CBlock&#x27;,\n",
       "                                                             &#x27;Wood&#x27;, &#x27;Stone&#x27;,\n",
       "                                                             &#x27;PConc&#x27;],\n",
       "                                                            [&#x27;N_A&#x27;, &#x27;Po&#x27;, &#x27;Fa&#x27;,\n",
       "                                                             &#x27;TA&#x27;, &#x27;Gd&#x27;, &#x27;Ex&#x27;],\n",
       "                                                            [&#x27;N_A&#x27;, &#x27;Po&#x27;, &#x27;Fa&#x27;,\n",
       "                                                             &#x27;TA&#x27;, &#x27;Gd&#x27;, &#x27;Ex&#x27;],\n",
       "                                                            [&#x27;N_A&#x27;, &#x27;NA&#x27;, &#x27;Po&#x27;,\n",
       "                                                             &#x27;Fa&#x27;, &#x27;TA&#x27;, &#x27;Gd&#x27;,\n",
       "                                                             &#x27;Ex&#x27;],\n",
       "                                                            [&#x27;N_A&#x27;, &#x27;NA&#x27;, &#x27;Po&#x27;,\n",
       "                                                             &#x27;Fa&#x27;, &#x27;TA&#x27;, &#x27;Gd&#x27;,\n",
       "                                                             &#x27;Ex&#x27;],\n",
       "                                                            [&#x27;N_A&#x27;, &#x27;NA&#x27;, &#x27;No&#x27;,\n",
       "                                                             &#x27;Mn&#x27;, &#x27;Av&#x27;, &#x27;Gd&#x27;],\n",
       "                                                            [&#x27;N_A&#x27;,...\n",
       "                                  &#x27;Utilities&#x27;, &#x27;LotConfig&#x27;, &#x27;LandSlope&#x27;,\n",
       "                                  &#x27;BldgType&#x27;, &#x27;HouseStyle&#x27;, &#x27;RoofStyle&#x27;,\n",
       "                                  &#x27;RoofMatl&#x27;, &#x27;MasVnrType&#x27;, &#x27;HeatingQC&#x27;,\n",
       "                                  &#x27;Electrical&#x27;, &#x27;Functional&#x27;, &#x27;GarageFinish&#x27;,\n",
       "                                  &#x27;GarageQual&#x27;, &#x27;GarageCond&#x27;, &#x27;PavedDrive&#x27;]),\n",
       "                                (&#x27;cat_onehot&#x27;,\n",
       "                                 OneHotEncoder(handle_unknown=&#x27;ignore&#x27;,\n",
       "                                               sparse_output=False),\n",
       "                                 [&#x27;Heating&#x27;, &#x27;MSZoning&#x27;, &#x27;Condition1&#x27;,\n",
       "                                  &#x27;Neighborhood&#x27;, &#x27;Exterior1st&#x27;, &#x27;GarageType&#x27;,\n",
       "                                  &#x27;SaleType&#x27;])])</pre></div></div></div><div class=\"sk-parallel\"><div class=\"sk-parallel-item\"><div class=\"sk-item\"><div class=\"sk-label-container\"><div class=\"sk-label sk-toggleable\"><input class=\"sk-toggleable__control sk-hidden--visually\" id=\"sk-estimator-id-955\" type=\"checkbox\" ><label for=\"sk-estimator-id-955\" class=\"sk-toggleable__label sk-toggleable__label-arrow\">cat_ordinal</label><div class=\"sk-toggleable__content\"><pre>[&#x27;Street&#x27;, &#x27;CentralAir&#x27;, &#x27;Foundation&#x27;, &#x27;ExterQual&#x27;, &#x27;ExterCond&#x27;, &#x27;BsmtQual&#x27;, &#x27;BsmtCond&#x27;, &#x27;BsmtExposure&#x27;, &#x27;BsmtFinType1&#x27;, &#x27;ExterQual&#x27;, &#x27;ExterCond&#x27;, &#x27;KitchenQual&#x27;, &#x27;FireplaceQu&#x27;, &#x27;LotShape&#x27;, &#x27;LandContour&#x27;, &#x27;Utilities&#x27;, &#x27;LotConfig&#x27;, &#x27;LandSlope&#x27;, &#x27;BldgType&#x27;, &#x27;HouseStyle&#x27;, &#x27;RoofStyle&#x27;, &#x27;RoofMatl&#x27;, &#x27;MasVnrType&#x27;, &#x27;HeatingQC&#x27;, &#x27;Electrical&#x27;, &#x27;Functional&#x27;, &#x27;GarageFinish&#x27;, &#x27;GarageQual&#x27;, &#x27;GarageCond&#x27;, &#x27;PavedDrive&#x27;]</pre></div></div></div><div class=\"sk-serial\"><div class=\"sk-item\"><div class=\"sk-estimator sk-toggleable\"><input class=\"sk-toggleable__control sk-hidden--visually\" id=\"sk-estimator-id-956\" type=\"checkbox\" ><label for=\"sk-estimator-id-956\" class=\"sk-toggleable__label sk-toggleable__label-arrow\">OrdinalEncoder</label><div class=\"sk-toggleable__content\"><pre>OrdinalEncoder(categories=[[&#x27;N_A&#x27;, &#x27;Grvl&#x27;, &#x27;Pave&#x27;], [&#x27;N_A&#x27;, &#x27;N&#x27;, &#x27;Y&#x27;],\n",
       "                           [&#x27;N_A&#x27;, &#x27;Slab&#x27;, &#x27;BrkTil&#x27;, &#x27;CBlock&#x27;, &#x27;Wood&#x27;, &#x27;Stone&#x27;,\n",
       "                            &#x27;PConc&#x27;],\n",
       "                           [&#x27;N_A&#x27;, &#x27;Po&#x27;, &#x27;Fa&#x27;, &#x27;TA&#x27;, &#x27;Gd&#x27;, &#x27;Ex&#x27;],\n",
       "                           [&#x27;N_A&#x27;, &#x27;Po&#x27;, &#x27;Fa&#x27;, &#x27;TA&#x27;, &#x27;Gd&#x27;, &#x27;Ex&#x27;],\n",
       "                           [&#x27;N_A&#x27;, &#x27;NA&#x27;, &#x27;Po&#x27;, &#x27;Fa&#x27;, &#x27;TA&#x27;, &#x27;Gd&#x27;, &#x27;Ex&#x27;],\n",
       "                           [&#x27;N_A&#x27;, &#x27;NA&#x27;, &#x27;Po&#x27;, &#x27;Fa&#x27;, &#x27;TA&#x27;, &#x27;Gd&#x27;, &#x27;Ex&#x27;],\n",
       "                           [&#x27;N_A&#x27;, &#x27;NA&#x27;, &#x27;No&#x27;, &#x27;Mn&#x27;, &#x27;Av&#x27;, &#x27;Gd&#x27;],\n",
       "                           [&#x27;N_A&#x27;, &#x27;NA&#x27;, &#x27;Unf&#x27;, &#x27;LwQ&#x27;, &#x27;Rec&#x27;, &#x27;BLQ&#x27;, &#x27;ALQ&#x27;,\n",
       "                            &#x27;GLQ&#x27;],\n",
       "                           [&#x27;N_A...\n",
       "                           [&#x27;N_A&#x27;, &#x27;Roll&#x27;, &#x27;Tar&amp;Grv&#x27;, &#x27;CompShg&#x27;, &#x27;WdShngl&#x27;,\n",
       "                            &#x27;WdShake&#x27;, &#x27;Membran&#x27;, &#x27;Metal&#x27;, &#x27;ClyTile&#x27;],\n",
       "                           [&#x27;N_A&#x27;, &#x27;None&#x27;, &#x27;CBlock&#x27;, &#x27;BrkCmn&#x27;, &#x27;BrkFace&#x27;,\n",
       "                            &#x27;Stone&#x27;],\n",
       "                           [&#x27;N_A&#x27;, &#x27;Po&#x27;, &#x27;Fa&#x27;, &#x27;TA&#x27;, &#x27;Gd&#x27;, &#x27;Ex&#x27;],\n",
       "                           [&#x27;N_A&#x27;, &#x27;Mix&#x27;, &#x27;FuseP&#x27;, &#x27;FuseF&#x27;, &#x27;FuseA&#x27;, &#x27;SBrkr&#x27;],\n",
       "                           [&#x27;N_A&#x27;, &#x27;Sal&#x27;, &#x27;Sev&#x27;, &#x27;Maj2&#x27;, &#x27;Maj1&#x27;, &#x27;Mod&#x27;, &#x27;Min2&#x27;,\n",
       "                            &#x27;Min1&#x27;, &#x27;Typ&#x27;],\n",
       "                           [&#x27;N_A&#x27;, &#x27;NA&#x27;, &#x27;Unf&#x27;, &#x27;RFn&#x27;, &#x27;Fin&#x27;],\n",
       "                           [&#x27;N_A&#x27;, &#x27;Po&#x27;, &#x27;Fa&#x27;, &#x27;TA&#x27;, &#x27;Gd&#x27;, &#x27;Ex&#x27;],\n",
       "                           [&#x27;N_A&#x27;, &#x27;Po&#x27;, &#x27;Fa&#x27;, &#x27;TA&#x27;, &#x27;Gd&#x27;, &#x27;Ex&#x27;],\n",
       "                           [&#x27;N_A&#x27;, &#x27;N&#x27;, &#x27;P&#x27;, &#x27;Y&#x27;]])</pre></div></div></div></div></div></div><div class=\"sk-parallel-item\"><div class=\"sk-item\"><div class=\"sk-label-container\"><div class=\"sk-label sk-toggleable\"><input class=\"sk-toggleable__control sk-hidden--visually\" id=\"sk-estimator-id-957\" type=\"checkbox\" ><label for=\"sk-estimator-id-957\" class=\"sk-toggleable__label sk-toggleable__label-arrow\">cat_onehot</label><div class=\"sk-toggleable__content\"><pre>[&#x27;Heating&#x27;, &#x27;MSZoning&#x27;, &#x27;Condition1&#x27;, &#x27;Neighborhood&#x27;, &#x27;Exterior1st&#x27;, &#x27;GarageType&#x27;, &#x27;SaleType&#x27;]</pre></div></div></div><div class=\"sk-serial\"><div class=\"sk-item\"><div class=\"sk-estimator sk-toggleable\"><input class=\"sk-toggleable__control sk-hidden--visually\" id=\"sk-estimator-id-958\" type=\"checkbox\" ><label for=\"sk-estimator-id-958\" class=\"sk-toggleable__label sk-toggleable__label-arrow\">OneHotEncoder</label><div class=\"sk-toggleable__content\"><pre>OneHotEncoder(handle_unknown=&#x27;ignore&#x27;, sparse_output=False)</pre></div></div></div></div></div></div></div></div></div></div></div></div>"
      ],
      "text/plain": [
       "Pipeline(steps=[('simpleimputer',\n",
       "                 SimpleImputer(fill_value='N_A', strategy='constant')),\n",
       "                ('columntransformer',\n",
       "                 ColumnTransformer(transformers=[('cat_ordinal',\n",
       "                                                  OrdinalEncoder(categories=[['N_A',\n",
       "                                                                              'Grvl',\n",
       "                                                                              'Pave'],\n",
       "                                                                             ['N_A',\n",
       "                                                                              'N',\n",
       "                                                                              'Y'],\n",
       "                                                                             ['N_A',\n",
       "                                                                              'Slab',\n",
       "                                                                              'BrkTil',\n",
       "                                                                              'CBlock',\n",
       "                                                                              'Wood',\n",
       "                                                                              'Stone',\n",
       "                                                                              'PConc'],\n",
       "                                                                             ['N_A',\n",
       "                                                                              'Po',\n",
       "                                                                              'Fa',\n",
       "                                                                              'TA',\n",
       "                                                                              'Gd',\n",
       "                                                                              'Ex'],\n",
       "                                                                             ['N_A',\n",
       "                                                                              'Po',\n",
       "                                                                              'Fa',\n",
       "                                                                              'TA',\n",
       "                                                                              'Gd',\n",
       "                                                                              'Ex'],\n",
       "                                                                             ['N_A',\n",
       "                                                                              'N...\n",
       "                                                   'LandContour', 'Utilities',\n",
       "                                                   'LotConfig', 'LandSlope',\n",
       "                                                   'BldgType', 'HouseStyle',\n",
       "                                                   'RoofStyle', 'RoofMatl',\n",
       "                                                   'MasVnrType', 'HeatingQC',\n",
       "                                                   'Electrical', 'Functional',\n",
       "                                                   'GarageFinish', 'GarageQual',\n",
       "                                                   'GarageCond',\n",
       "                                                   'PavedDrive']),\n",
       "                                                 ('cat_onehot',\n",
       "                                                  OneHotEncoder(handle_unknown='ignore',\n",
       "                                                                sparse_output=False),\n",
       "                                                  ['Heating', 'MSZoning',\n",
       "                                                   'Condition1', 'Neighborhood',\n",
       "                                                   'Exterior1st', 'GarageType',\n",
       "                                                   'SaleType'])]))])"
      ]
     },
     "execution_count": 584,
     "metadata": {},
     "output_type": "execute_result"
    }
   ],
   "source": [
    "categoric_pipe"
   ]
  },
  {
   "cell_type": "code",
   "execution_count": 585,
   "metadata": {
    "id": "ZlVaR1WCJbd9",
    "tags": []
   },
   "outputs": [],
   "source": [
    "preprocessor = ColumnTransformer(\n",
    "    transformers=[\n",
    "        (\"num_pipe\", numeric_pipe, X_num.columns),\n",
    "        (\"cat_pipe\", categoric_pipe, X_cat.columns),\n",
    "    ]\n",
    ")"
   ]
  },
  {
   "cell_type": "markdown",
   "metadata": {
    "id": "6iMK6i7qgS2W"
   },
   "source": [
    "## 2. Modelling (Decision Tree)"
   ]
  },
  {
   "cell_type": "code",
   "execution_count": 586,
   "metadata": {
    "id": "mrX3CYHZJoGO",
    "tags": []
   },
   "outputs": [],
   "source": [
    "full_pipeline_dtree = make_pipeline(preprocessor,\n",
    "                              DecisionTreeClassifier(random_state=31416))"
   ]
  },
  {
   "cell_type": "code",
   "execution_count": 587,
   "metadata": {
    "colab": {
     "base_uri": "https://localhost:8080/",
     "height": 248
    },
    "id": "uc0P9Q9LYiUF",
    "outputId": "c4545d6f-5fd0-4e56-94e6-e2facdbd0347",
    "tags": []
   },
   "outputs": [
    {
     "data": {
      "text/html": [
       "<style>#sk-container-id-79 {color: black;}#sk-container-id-79 pre{padding: 0;}#sk-container-id-79 div.sk-toggleable {background-color: white;}#sk-container-id-79 label.sk-toggleable__label {cursor: pointer;display: block;width: 100%;margin-bottom: 0;padding: 0.3em;box-sizing: border-box;text-align: center;}#sk-container-id-79 label.sk-toggleable__label-arrow:before {content: \"▸\";float: left;margin-right: 0.25em;color: #696969;}#sk-container-id-79 label.sk-toggleable__label-arrow:hover:before {color: black;}#sk-container-id-79 div.sk-estimator:hover label.sk-toggleable__label-arrow:before {color: black;}#sk-container-id-79 div.sk-toggleable__content {max-height: 0;max-width: 0;overflow: hidden;text-align: left;background-color: #f0f8ff;}#sk-container-id-79 div.sk-toggleable__content pre {margin: 0.2em;color: black;border-radius: 0.25em;background-color: #f0f8ff;}#sk-container-id-79 input.sk-toggleable__control:checked~div.sk-toggleable__content {max-height: 200px;max-width: 100%;overflow: auto;}#sk-container-id-79 input.sk-toggleable__control:checked~label.sk-toggleable__label-arrow:before {content: \"▾\";}#sk-container-id-79 div.sk-estimator input.sk-toggleable__control:checked~label.sk-toggleable__label {background-color: #d4ebff;}#sk-container-id-79 div.sk-label input.sk-toggleable__control:checked~label.sk-toggleable__label {background-color: #d4ebff;}#sk-container-id-79 input.sk-hidden--visually {border: 0;clip: rect(1px 1px 1px 1px);clip: rect(1px, 1px, 1px, 1px);height: 1px;margin: -1px;overflow: hidden;padding: 0;position: absolute;width: 1px;}#sk-container-id-79 div.sk-estimator {font-family: monospace;background-color: #f0f8ff;border: 1px dotted black;border-radius: 0.25em;box-sizing: border-box;margin-bottom: 0.5em;}#sk-container-id-79 div.sk-estimator:hover {background-color: #d4ebff;}#sk-container-id-79 div.sk-parallel-item::after {content: \"\";width: 100%;border-bottom: 1px solid gray;flex-grow: 1;}#sk-container-id-79 div.sk-label:hover label.sk-toggleable__label {background-color: #d4ebff;}#sk-container-id-79 div.sk-serial::before {content: \"\";position: absolute;border-left: 1px solid gray;box-sizing: border-box;top: 0;bottom: 0;left: 50%;z-index: 0;}#sk-container-id-79 div.sk-serial {display: flex;flex-direction: column;align-items: center;background-color: white;padding-right: 0.2em;padding-left: 0.2em;position: relative;}#sk-container-id-79 div.sk-item {position: relative;z-index: 1;}#sk-container-id-79 div.sk-parallel {display: flex;align-items: stretch;justify-content: center;background-color: white;position: relative;}#sk-container-id-79 div.sk-item::before, #sk-container-id-79 div.sk-parallel-item::before {content: \"\";position: absolute;border-left: 1px solid gray;box-sizing: border-box;top: 0;bottom: 0;left: 50%;z-index: -1;}#sk-container-id-79 div.sk-parallel-item {display: flex;flex-direction: column;z-index: 1;position: relative;background-color: white;}#sk-container-id-79 div.sk-parallel-item:first-child::after {align-self: flex-end;width: 50%;}#sk-container-id-79 div.sk-parallel-item:last-child::after {align-self: flex-start;width: 50%;}#sk-container-id-79 div.sk-parallel-item:only-child::after {width: 0;}#sk-container-id-79 div.sk-dashed-wrapped {border: 1px dashed gray;margin: 0 0.4em 0.5em 0.4em;box-sizing: border-box;padding-bottom: 0.4em;background-color: white;}#sk-container-id-79 div.sk-label label {font-family: monospace;font-weight: bold;display: inline-block;line-height: 1.2em;}#sk-container-id-79 div.sk-label-container {text-align: center;}#sk-container-id-79 div.sk-container {/* jupyter's `normalize.less` sets `[hidden] { display: none; }` but bootstrap.min.css set `[hidden] { display: none !important; }` so we also need the `!important` here to be able to override the default hidden behavior on the sphinx rendered scikit-learn.org. See: https://github.com/scikit-learn/scikit-learn/issues/21755 */display: inline-block !important;position: relative;}#sk-container-id-79 div.sk-text-repr-fallback {display: none;}</style><div id=\"sk-container-id-79\" class=\"sk-top-container\"><div class=\"sk-text-repr-fallback\"><pre>Pipeline(steps=[(&#x27;columntransformer&#x27;,\n",
       "                 ColumnTransformer(transformers=[(&#x27;num_pipe&#x27;,\n",
       "                                                  Pipeline(steps=[(&#x27;simpleimputer&#x27;,\n",
       "                                                                   SimpleImputer())]),\n",
       "                                                  Index([&#x27;LotArea&#x27;, &#x27;LotFrontage&#x27;, &#x27;TotalBsmtSF&#x27;, &#x27;BedroomAbvGr&#x27;, &#x27;Fireplaces&#x27;,\n",
       "       &#x27;PoolArea&#x27;, &#x27;GarageCars&#x27;, &#x27;WoodDeckSF&#x27;, &#x27;ScreenPorch&#x27;, &#x27;MSSubClass&#x27;,\n",
       "       &#x27;OverallQual&#x27;, &#x27;OverallCond&#x27;, &#x27;YearBuilt&#x27;, &#x27;YearRemodAdd&#x27;, &#x27;MasVnrArea&#x27;,\n",
       "       &#x27;BsmtFinSF1&#x27;...\n",
       "       &#x27;LotShape&#x27;, &#x27;LandContour&#x27;, &#x27;Utilities&#x27;, &#x27;LotConfig&#x27;, &#x27;LandSlope&#x27;,\n",
       "       &#x27;Neighborhood&#x27;, &#x27;BldgType&#x27;, &#x27;HouseStyle&#x27;, &#x27;RoofStyle&#x27;, &#x27;RoofMatl&#x27;,\n",
       "       &#x27;Exterior1st&#x27;, &#x27;MasVnrType&#x27;, &#x27;HeatingQC&#x27;, &#x27;Electrical&#x27;, &#x27;Functional&#x27;,\n",
       "       &#x27;GarageType&#x27;, &#x27;GarageFinish&#x27;, &#x27;GarageQual&#x27;, &#x27;GarageCond&#x27;, &#x27;PavedDrive&#x27;,\n",
       "       &#x27;SaleType&#x27;],\n",
       "      dtype=&#x27;object&#x27;))])),\n",
       "                (&#x27;decisiontreeclassifier&#x27;,\n",
       "                 DecisionTreeClassifier(random_state=31416))])</pre><b>In a Jupyter environment, please rerun this cell to show the HTML representation or trust the notebook. <br />On GitHub, the HTML representation is unable to render, please try loading this page with nbviewer.org.</b></div><div class=\"sk-container\" hidden><div class=\"sk-item sk-dashed-wrapped\"><div class=\"sk-label-container\"><div class=\"sk-label sk-toggleable\"><input class=\"sk-toggleable__control sk-hidden--visually\" id=\"sk-estimator-id-959\" type=\"checkbox\" ><label for=\"sk-estimator-id-959\" class=\"sk-toggleable__label sk-toggleable__label-arrow\">Pipeline</label><div class=\"sk-toggleable__content\"><pre>Pipeline(steps=[(&#x27;columntransformer&#x27;,\n",
       "                 ColumnTransformer(transformers=[(&#x27;num_pipe&#x27;,\n",
       "                                                  Pipeline(steps=[(&#x27;simpleimputer&#x27;,\n",
       "                                                                   SimpleImputer())]),\n",
       "                                                  Index([&#x27;LotArea&#x27;, &#x27;LotFrontage&#x27;, &#x27;TotalBsmtSF&#x27;, &#x27;BedroomAbvGr&#x27;, &#x27;Fireplaces&#x27;,\n",
       "       &#x27;PoolArea&#x27;, &#x27;GarageCars&#x27;, &#x27;WoodDeckSF&#x27;, &#x27;ScreenPorch&#x27;, &#x27;MSSubClass&#x27;,\n",
       "       &#x27;OverallQual&#x27;, &#x27;OverallCond&#x27;, &#x27;YearBuilt&#x27;, &#x27;YearRemodAdd&#x27;, &#x27;MasVnrArea&#x27;,\n",
       "       &#x27;BsmtFinSF1&#x27;...\n",
       "       &#x27;LotShape&#x27;, &#x27;LandContour&#x27;, &#x27;Utilities&#x27;, &#x27;LotConfig&#x27;, &#x27;LandSlope&#x27;,\n",
       "       &#x27;Neighborhood&#x27;, &#x27;BldgType&#x27;, &#x27;HouseStyle&#x27;, &#x27;RoofStyle&#x27;, &#x27;RoofMatl&#x27;,\n",
       "       &#x27;Exterior1st&#x27;, &#x27;MasVnrType&#x27;, &#x27;HeatingQC&#x27;, &#x27;Electrical&#x27;, &#x27;Functional&#x27;,\n",
       "       &#x27;GarageType&#x27;, &#x27;GarageFinish&#x27;, &#x27;GarageQual&#x27;, &#x27;GarageCond&#x27;, &#x27;PavedDrive&#x27;,\n",
       "       &#x27;SaleType&#x27;],\n",
       "      dtype=&#x27;object&#x27;))])),\n",
       "                (&#x27;decisiontreeclassifier&#x27;,\n",
       "                 DecisionTreeClassifier(random_state=31416))])</pre></div></div></div><div class=\"sk-serial\"><div class=\"sk-item sk-dashed-wrapped\"><div class=\"sk-label-container\"><div class=\"sk-label sk-toggleable\"><input class=\"sk-toggleable__control sk-hidden--visually\" id=\"sk-estimator-id-960\" type=\"checkbox\" ><label for=\"sk-estimator-id-960\" class=\"sk-toggleable__label sk-toggleable__label-arrow\">columntransformer: ColumnTransformer</label><div class=\"sk-toggleable__content\"><pre>ColumnTransformer(transformers=[(&#x27;num_pipe&#x27;,\n",
       "                                 Pipeline(steps=[(&#x27;simpleimputer&#x27;,\n",
       "                                                  SimpleImputer())]),\n",
       "                                 Index([&#x27;LotArea&#x27;, &#x27;LotFrontage&#x27;, &#x27;TotalBsmtSF&#x27;, &#x27;BedroomAbvGr&#x27;, &#x27;Fireplaces&#x27;,\n",
       "       &#x27;PoolArea&#x27;, &#x27;GarageCars&#x27;, &#x27;WoodDeckSF&#x27;, &#x27;ScreenPorch&#x27;, &#x27;MSSubClass&#x27;,\n",
       "       &#x27;OverallQual&#x27;, &#x27;OverallCond&#x27;, &#x27;YearBuilt&#x27;, &#x27;YearRemodAdd&#x27;, &#x27;MasVnrArea&#x27;,\n",
       "       &#x27;BsmtFinSF1&#x27;, &#x27;BsmtFinSF2&#x27;, &#x27;BsmtUnfSF&#x27;, &#x27;1stFlrSF&#x27;,...\n",
       "       &#x27;Foundation&#x27;, &#x27;ExterQual&#x27;, &#x27;ExterCond&#x27;, &#x27;BsmtQual&#x27;, &#x27;BsmtCond&#x27;,\n",
       "       &#x27;BsmtExposure&#x27;, &#x27;BsmtFinType1&#x27;, &#x27;KitchenQual&#x27;, &#x27;FireplaceQu&#x27;,\n",
       "       &#x27;LotShape&#x27;, &#x27;LandContour&#x27;, &#x27;Utilities&#x27;, &#x27;LotConfig&#x27;, &#x27;LandSlope&#x27;,\n",
       "       &#x27;Neighborhood&#x27;, &#x27;BldgType&#x27;, &#x27;HouseStyle&#x27;, &#x27;RoofStyle&#x27;, &#x27;RoofMatl&#x27;,\n",
       "       &#x27;Exterior1st&#x27;, &#x27;MasVnrType&#x27;, &#x27;HeatingQC&#x27;, &#x27;Electrical&#x27;, &#x27;Functional&#x27;,\n",
       "       &#x27;GarageType&#x27;, &#x27;GarageFinish&#x27;, &#x27;GarageQual&#x27;, &#x27;GarageCond&#x27;, &#x27;PavedDrive&#x27;,\n",
       "       &#x27;SaleType&#x27;],\n",
       "      dtype=&#x27;object&#x27;))])</pre></div></div></div><div class=\"sk-parallel\"><div class=\"sk-parallel-item\"><div class=\"sk-item\"><div class=\"sk-label-container\"><div class=\"sk-label sk-toggleable\"><input class=\"sk-toggleable__control sk-hidden--visually\" id=\"sk-estimator-id-961\" type=\"checkbox\" ><label for=\"sk-estimator-id-961\" class=\"sk-toggleable__label sk-toggleable__label-arrow\">num_pipe</label><div class=\"sk-toggleable__content\"><pre>Index([&#x27;LotArea&#x27;, &#x27;LotFrontage&#x27;, &#x27;TotalBsmtSF&#x27;, &#x27;BedroomAbvGr&#x27;, &#x27;Fireplaces&#x27;,\n",
       "       &#x27;PoolArea&#x27;, &#x27;GarageCars&#x27;, &#x27;WoodDeckSF&#x27;, &#x27;ScreenPorch&#x27;, &#x27;MSSubClass&#x27;,\n",
       "       &#x27;OverallQual&#x27;, &#x27;OverallCond&#x27;, &#x27;YearBuilt&#x27;, &#x27;YearRemodAdd&#x27;, &#x27;MasVnrArea&#x27;,\n",
       "       &#x27;BsmtFinSF1&#x27;, &#x27;BsmtFinSF2&#x27;, &#x27;BsmtUnfSF&#x27;, &#x27;1stFlrSF&#x27;, &#x27;2ndFlrSF&#x27;,\n",
       "       &#x27;LowQualFinSF&#x27;, &#x27;GrLivArea&#x27;, &#x27;BsmtFullBath&#x27;, &#x27;BsmtHalfBath&#x27;, &#x27;FullBath&#x27;,\n",
       "       &#x27;HalfBath&#x27;, &#x27;KitchenAbvGr&#x27;, &#x27;TotRmsAbvGrd&#x27;, &#x27;GarageYrBlt&#x27;, &#x27;GarageArea&#x27;,\n",
       "       &#x27;OpenPorchSF&#x27;, &#x27;EnclosedPorch&#x27;, &#x27;3SsnPorch&#x27;, &#x27;MiscVal&#x27;, &#x27;MoSold&#x27;,\n",
       "       &#x27;YrSold&#x27;],\n",
       "      dtype=&#x27;object&#x27;)</pre></div></div></div><div class=\"sk-serial\"><div class=\"sk-item\"><div class=\"sk-serial\"><div class=\"sk-item\"><div class=\"sk-estimator sk-toggleable\"><input class=\"sk-toggleable__control sk-hidden--visually\" id=\"sk-estimator-id-962\" type=\"checkbox\" ><label for=\"sk-estimator-id-962\" class=\"sk-toggleable__label sk-toggleable__label-arrow\">SimpleImputer</label><div class=\"sk-toggleable__content\"><pre>SimpleImputer()</pre></div></div></div></div></div></div></div></div><div class=\"sk-parallel-item\"><div class=\"sk-item\"><div class=\"sk-label-container\"><div class=\"sk-label sk-toggleable\"><input class=\"sk-toggleable__control sk-hidden--visually\" id=\"sk-estimator-id-963\" type=\"checkbox\" ><label for=\"sk-estimator-id-963\" class=\"sk-toggleable__label sk-toggleable__label-arrow\">cat_pipe</label><div class=\"sk-toggleable__content\"><pre>Index([&#x27;MSZoning&#x27;, &#x27;Condition1&#x27;, &#x27;Heating&#x27;, &#x27;Street&#x27;, &#x27;CentralAir&#x27;,\n",
       "       &#x27;Foundation&#x27;, &#x27;ExterQual&#x27;, &#x27;ExterCond&#x27;, &#x27;BsmtQual&#x27;, &#x27;BsmtCond&#x27;,\n",
       "       &#x27;BsmtExposure&#x27;, &#x27;BsmtFinType1&#x27;, &#x27;KitchenQual&#x27;, &#x27;FireplaceQu&#x27;,\n",
       "       &#x27;LotShape&#x27;, &#x27;LandContour&#x27;, &#x27;Utilities&#x27;, &#x27;LotConfig&#x27;, &#x27;LandSlope&#x27;,\n",
       "       &#x27;Neighborhood&#x27;, &#x27;BldgType&#x27;, &#x27;HouseStyle&#x27;, &#x27;RoofStyle&#x27;, &#x27;RoofMatl&#x27;,\n",
       "       &#x27;Exterior1st&#x27;, &#x27;MasVnrType&#x27;, &#x27;HeatingQC&#x27;, &#x27;Electrical&#x27;, &#x27;Functional&#x27;,\n",
       "       &#x27;GarageType&#x27;, &#x27;GarageFinish&#x27;, &#x27;GarageQual&#x27;, &#x27;GarageCond&#x27;, &#x27;PavedDrive&#x27;,\n",
       "       &#x27;SaleType&#x27;],\n",
       "      dtype=&#x27;object&#x27;)</pre></div></div></div><div class=\"sk-serial\"><div class=\"sk-item\"><div class=\"sk-serial\"><div class=\"sk-item\"><div class=\"sk-estimator sk-toggleable\"><input class=\"sk-toggleable__control sk-hidden--visually\" id=\"sk-estimator-id-964\" type=\"checkbox\" ><label for=\"sk-estimator-id-964\" class=\"sk-toggleable__label sk-toggleable__label-arrow\">SimpleImputer</label><div class=\"sk-toggleable__content\"><pre>SimpleImputer(fill_value=&#x27;N_A&#x27;, strategy=&#x27;constant&#x27;)</pre></div></div></div><div class=\"sk-item sk-dashed-wrapped\"><div class=\"sk-label-container\"><div class=\"sk-label sk-toggleable\"><input class=\"sk-toggleable__control sk-hidden--visually\" id=\"sk-estimator-id-965\" type=\"checkbox\" ><label for=\"sk-estimator-id-965\" class=\"sk-toggleable__label sk-toggleable__label-arrow\">columntransformer: ColumnTransformer</label><div class=\"sk-toggleable__content\"><pre>ColumnTransformer(transformers=[(&#x27;cat_ordinal&#x27;,\n",
       "                                 OrdinalEncoder(categories=[[&#x27;N_A&#x27;, &#x27;Grvl&#x27;,\n",
       "                                                             &#x27;Pave&#x27;],\n",
       "                                                            [&#x27;N_A&#x27;, &#x27;N&#x27;, &#x27;Y&#x27;],\n",
       "                                                            [&#x27;N_A&#x27;, &#x27;Slab&#x27;,\n",
       "                                                             &#x27;BrkTil&#x27;, &#x27;CBlock&#x27;,\n",
       "                                                             &#x27;Wood&#x27;, &#x27;Stone&#x27;,\n",
       "                                                             &#x27;PConc&#x27;],\n",
       "                                                            [&#x27;N_A&#x27;, &#x27;Po&#x27;, &#x27;Fa&#x27;,\n",
       "                                                             &#x27;TA&#x27;, &#x27;Gd&#x27;, &#x27;Ex&#x27;],\n",
       "                                                            [&#x27;N_A&#x27;, &#x27;Po&#x27;, &#x27;Fa&#x27;,\n",
       "                                                             &#x27;TA&#x27;, &#x27;Gd&#x27;, &#x27;Ex&#x27;],\n",
       "                                                            [&#x27;N_A&#x27;, &#x27;NA&#x27;, &#x27;Po&#x27;,\n",
       "                                                             &#x27;Fa&#x27;, &#x27;TA&#x27;, &#x27;Gd&#x27;,\n",
       "                                                             &#x27;Ex&#x27;],\n",
       "                                                            [&#x27;N_A&#x27;, &#x27;NA&#x27;, &#x27;Po&#x27;,\n",
       "                                                             &#x27;Fa&#x27;, &#x27;TA&#x27;, &#x27;Gd&#x27;,\n",
       "                                                             &#x27;Ex&#x27;],\n",
       "                                                            [&#x27;N_A&#x27;, &#x27;NA&#x27;, &#x27;No&#x27;,\n",
       "                                                             &#x27;Mn&#x27;, &#x27;Av&#x27;, &#x27;Gd&#x27;],\n",
       "                                                            [&#x27;N_A&#x27;,...\n",
       "                                  &#x27;Utilities&#x27;, &#x27;LotConfig&#x27;, &#x27;LandSlope&#x27;,\n",
       "                                  &#x27;BldgType&#x27;, &#x27;HouseStyle&#x27;, &#x27;RoofStyle&#x27;,\n",
       "                                  &#x27;RoofMatl&#x27;, &#x27;MasVnrType&#x27;, &#x27;HeatingQC&#x27;,\n",
       "                                  &#x27;Electrical&#x27;, &#x27;Functional&#x27;, &#x27;GarageFinish&#x27;,\n",
       "                                  &#x27;GarageQual&#x27;, &#x27;GarageCond&#x27;, &#x27;PavedDrive&#x27;]),\n",
       "                                (&#x27;cat_onehot&#x27;,\n",
       "                                 OneHotEncoder(handle_unknown=&#x27;ignore&#x27;,\n",
       "                                               sparse_output=False),\n",
       "                                 [&#x27;Heating&#x27;, &#x27;MSZoning&#x27;, &#x27;Condition1&#x27;,\n",
       "                                  &#x27;Neighborhood&#x27;, &#x27;Exterior1st&#x27;, &#x27;GarageType&#x27;,\n",
       "                                  &#x27;SaleType&#x27;])])</pre></div></div></div><div class=\"sk-parallel\"><div class=\"sk-parallel-item\"><div class=\"sk-item\"><div class=\"sk-label-container\"><div class=\"sk-label sk-toggleable\"><input class=\"sk-toggleable__control sk-hidden--visually\" id=\"sk-estimator-id-966\" type=\"checkbox\" ><label for=\"sk-estimator-id-966\" class=\"sk-toggleable__label sk-toggleable__label-arrow\">cat_ordinal</label><div class=\"sk-toggleable__content\"><pre>[&#x27;Street&#x27;, &#x27;CentralAir&#x27;, &#x27;Foundation&#x27;, &#x27;ExterQual&#x27;, &#x27;ExterCond&#x27;, &#x27;BsmtQual&#x27;, &#x27;BsmtCond&#x27;, &#x27;BsmtExposure&#x27;, &#x27;BsmtFinType1&#x27;, &#x27;ExterQual&#x27;, &#x27;ExterCond&#x27;, &#x27;KitchenQual&#x27;, &#x27;FireplaceQu&#x27;, &#x27;LotShape&#x27;, &#x27;LandContour&#x27;, &#x27;Utilities&#x27;, &#x27;LotConfig&#x27;, &#x27;LandSlope&#x27;, &#x27;BldgType&#x27;, &#x27;HouseStyle&#x27;, &#x27;RoofStyle&#x27;, &#x27;RoofMatl&#x27;, &#x27;MasVnrType&#x27;, &#x27;HeatingQC&#x27;, &#x27;Electrical&#x27;, &#x27;Functional&#x27;, &#x27;GarageFinish&#x27;, &#x27;GarageQual&#x27;, &#x27;GarageCond&#x27;, &#x27;PavedDrive&#x27;]</pre></div></div></div><div class=\"sk-serial\"><div class=\"sk-item\"><div class=\"sk-estimator sk-toggleable\"><input class=\"sk-toggleable__control sk-hidden--visually\" id=\"sk-estimator-id-967\" type=\"checkbox\" ><label for=\"sk-estimator-id-967\" class=\"sk-toggleable__label sk-toggleable__label-arrow\">OrdinalEncoder</label><div class=\"sk-toggleable__content\"><pre>OrdinalEncoder(categories=[[&#x27;N_A&#x27;, &#x27;Grvl&#x27;, &#x27;Pave&#x27;], [&#x27;N_A&#x27;, &#x27;N&#x27;, &#x27;Y&#x27;],\n",
       "                           [&#x27;N_A&#x27;, &#x27;Slab&#x27;, &#x27;BrkTil&#x27;, &#x27;CBlock&#x27;, &#x27;Wood&#x27;, &#x27;Stone&#x27;,\n",
       "                            &#x27;PConc&#x27;],\n",
       "                           [&#x27;N_A&#x27;, &#x27;Po&#x27;, &#x27;Fa&#x27;, &#x27;TA&#x27;, &#x27;Gd&#x27;, &#x27;Ex&#x27;],\n",
       "                           [&#x27;N_A&#x27;, &#x27;Po&#x27;, &#x27;Fa&#x27;, &#x27;TA&#x27;, &#x27;Gd&#x27;, &#x27;Ex&#x27;],\n",
       "                           [&#x27;N_A&#x27;, &#x27;NA&#x27;, &#x27;Po&#x27;, &#x27;Fa&#x27;, &#x27;TA&#x27;, &#x27;Gd&#x27;, &#x27;Ex&#x27;],\n",
       "                           [&#x27;N_A&#x27;, &#x27;NA&#x27;, &#x27;Po&#x27;, &#x27;Fa&#x27;, &#x27;TA&#x27;, &#x27;Gd&#x27;, &#x27;Ex&#x27;],\n",
       "                           [&#x27;N_A&#x27;, &#x27;NA&#x27;, &#x27;No&#x27;, &#x27;Mn&#x27;, &#x27;Av&#x27;, &#x27;Gd&#x27;],\n",
       "                           [&#x27;N_A&#x27;, &#x27;NA&#x27;, &#x27;Unf&#x27;, &#x27;LwQ&#x27;, &#x27;Rec&#x27;, &#x27;BLQ&#x27;, &#x27;ALQ&#x27;,\n",
       "                            &#x27;GLQ&#x27;],\n",
       "                           [&#x27;N_A...\n",
       "                           [&#x27;N_A&#x27;, &#x27;Roll&#x27;, &#x27;Tar&amp;Grv&#x27;, &#x27;CompShg&#x27;, &#x27;WdShngl&#x27;,\n",
       "                            &#x27;WdShake&#x27;, &#x27;Membran&#x27;, &#x27;Metal&#x27;, &#x27;ClyTile&#x27;],\n",
       "                           [&#x27;N_A&#x27;, &#x27;None&#x27;, &#x27;CBlock&#x27;, &#x27;BrkCmn&#x27;, &#x27;BrkFace&#x27;,\n",
       "                            &#x27;Stone&#x27;],\n",
       "                           [&#x27;N_A&#x27;, &#x27;Po&#x27;, &#x27;Fa&#x27;, &#x27;TA&#x27;, &#x27;Gd&#x27;, &#x27;Ex&#x27;],\n",
       "                           [&#x27;N_A&#x27;, &#x27;Mix&#x27;, &#x27;FuseP&#x27;, &#x27;FuseF&#x27;, &#x27;FuseA&#x27;, &#x27;SBrkr&#x27;],\n",
       "                           [&#x27;N_A&#x27;, &#x27;Sal&#x27;, &#x27;Sev&#x27;, &#x27;Maj2&#x27;, &#x27;Maj1&#x27;, &#x27;Mod&#x27;, &#x27;Min2&#x27;,\n",
       "                            &#x27;Min1&#x27;, &#x27;Typ&#x27;],\n",
       "                           [&#x27;N_A&#x27;, &#x27;NA&#x27;, &#x27;Unf&#x27;, &#x27;RFn&#x27;, &#x27;Fin&#x27;],\n",
       "                           [&#x27;N_A&#x27;, &#x27;Po&#x27;, &#x27;Fa&#x27;, &#x27;TA&#x27;, &#x27;Gd&#x27;, &#x27;Ex&#x27;],\n",
       "                           [&#x27;N_A&#x27;, &#x27;Po&#x27;, &#x27;Fa&#x27;, &#x27;TA&#x27;, &#x27;Gd&#x27;, &#x27;Ex&#x27;],\n",
       "                           [&#x27;N_A&#x27;, &#x27;N&#x27;, &#x27;P&#x27;, &#x27;Y&#x27;]])</pre></div></div></div></div></div></div><div class=\"sk-parallel-item\"><div class=\"sk-item\"><div class=\"sk-label-container\"><div class=\"sk-label sk-toggleable\"><input class=\"sk-toggleable__control sk-hidden--visually\" id=\"sk-estimator-id-968\" type=\"checkbox\" ><label for=\"sk-estimator-id-968\" class=\"sk-toggleable__label sk-toggleable__label-arrow\">cat_onehot</label><div class=\"sk-toggleable__content\"><pre>[&#x27;Heating&#x27;, &#x27;MSZoning&#x27;, &#x27;Condition1&#x27;, &#x27;Neighborhood&#x27;, &#x27;Exterior1st&#x27;, &#x27;GarageType&#x27;, &#x27;SaleType&#x27;]</pre></div></div></div><div class=\"sk-serial\"><div class=\"sk-item\"><div class=\"sk-estimator sk-toggleable\"><input class=\"sk-toggleable__control sk-hidden--visually\" id=\"sk-estimator-id-969\" type=\"checkbox\" ><label for=\"sk-estimator-id-969\" class=\"sk-toggleable__label sk-toggleable__label-arrow\">OneHotEncoder</label><div class=\"sk-toggleable__content\"><pre>OneHotEncoder(handle_unknown=&#x27;ignore&#x27;, sparse_output=False)</pre></div></div></div></div></div></div></div></div></div></div></div></div></div></div></div><div class=\"sk-item\"><div class=\"sk-estimator sk-toggleable\"><input class=\"sk-toggleable__control sk-hidden--visually\" id=\"sk-estimator-id-970\" type=\"checkbox\" ><label for=\"sk-estimator-id-970\" class=\"sk-toggleable__label sk-toggleable__label-arrow\">DecisionTreeClassifier</label><div class=\"sk-toggleable__content\"><pre>DecisionTreeClassifier(random_state=31416)</pre></div></div></div></div></div></div></div>"
      ],
      "text/plain": [
       "Pipeline(steps=[('columntransformer',\n",
       "                 ColumnTransformer(transformers=[('num_pipe',\n",
       "                                                  Pipeline(steps=[('simpleimputer',\n",
       "                                                                   SimpleImputer())]),\n",
       "                                                  Index(['LotArea', 'LotFrontage', 'TotalBsmtSF', 'BedroomAbvGr', 'Fireplaces',\n",
       "       'PoolArea', 'GarageCars', 'WoodDeckSF', 'ScreenPorch', 'MSSubClass',\n",
       "       'OverallQual', 'OverallCond', 'YearBuilt', 'YearRemodAdd', 'MasVnrArea',\n",
       "       'BsmtFinSF1'...\n",
       "       'LotShape', 'LandContour', 'Utilities', 'LotConfig', 'LandSlope',\n",
       "       'Neighborhood', 'BldgType', 'HouseStyle', 'RoofStyle', 'RoofMatl',\n",
       "       'Exterior1st', 'MasVnrType', 'HeatingQC', 'Electrical', 'Functional',\n",
       "       'GarageType', 'GarageFinish', 'GarageQual', 'GarageCond', 'PavedDrive',\n",
       "       'SaleType'],\n",
       "      dtype='object'))])),\n",
       "                ('decisiontreeclassifier',\n",
       "                 DecisionTreeClassifier(random_state=31416))])"
      ]
     },
     "execution_count": 587,
     "metadata": {},
     "output_type": "execute_result"
    }
   ],
   "source": [
    "full_pipeline_dtree"
   ]
  },
  {
   "cell_type": "code",
   "execution_count": 588,
   "metadata": {
    "colab": {
     "base_uri": "https://localhost:8080/",
     "height": 503
    },
    "id": "ii4YcR89gS2X",
    "outputId": "a9231432-1820-4ad9-f32b-b13ac4b6c638",
    "tags": []
   },
   "outputs": [
    {
     "name": "stdout",
     "output_type": "stream",
     "text": [
      "Fitting 10 folds for each of 54 candidates, totalling 540 fits\n"
     ]
    },
    {
     "data": {
      "text/html": [
       "<style>#sk-container-id-80 {color: black;}#sk-container-id-80 pre{padding: 0;}#sk-container-id-80 div.sk-toggleable {background-color: white;}#sk-container-id-80 label.sk-toggleable__label {cursor: pointer;display: block;width: 100%;margin-bottom: 0;padding: 0.3em;box-sizing: border-box;text-align: center;}#sk-container-id-80 label.sk-toggleable__label-arrow:before {content: \"▸\";float: left;margin-right: 0.25em;color: #696969;}#sk-container-id-80 label.sk-toggleable__label-arrow:hover:before {color: black;}#sk-container-id-80 div.sk-estimator:hover label.sk-toggleable__label-arrow:before {color: black;}#sk-container-id-80 div.sk-toggleable__content {max-height: 0;max-width: 0;overflow: hidden;text-align: left;background-color: #f0f8ff;}#sk-container-id-80 div.sk-toggleable__content pre {margin: 0.2em;color: black;border-radius: 0.25em;background-color: #f0f8ff;}#sk-container-id-80 input.sk-toggleable__control:checked~div.sk-toggleable__content {max-height: 200px;max-width: 100%;overflow: auto;}#sk-container-id-80 input.sk-toggleable__control:checked~label.sk-toggleable__label-arrow:before {content: \"▾\";}#sk-container-id-80 div.sk-estimator input.sk-toggleable__control:checked~label.sk-toggleable__label {background-color: #d4ebff;}#sk-container-id-80 div.sk-label input.sk-toggleable__control:checked~label.sk-toggleable__label {background-color: #d4ebff;}#sk-container-id-80 input.sk-hidden--visually {border: 0;clip: rect(1px 1px 1px 1px);clip: rect(1px, 1px, 1px, 1px);height: 1px;margin: -1px;overflow: hidden;padding: 0;position: absolute;width: 1px;}#sk-container-id-80 div.sk-estimator {font-family: monospace;background-color: #f0f8ff;border: 1px dotted black;border-radius: 0.25em;box-sizing: border-box;margin-bottom: 0.5em;}#sk-container-id-80 div.sk-estimator:hover {background-color: #d4ebff;}#sk-container-id-80 div.sk-parallel-item::after {content: \"\";width: 100%;border-bottom: 1px solid gray;flex-grow: 1;}#sk-container-id-80 div.sk-label:hover label.sk-toggleable__label {background-color: #d4ebff;}#sk-container-id-80 div.sk-serial::before {content: \"\";position: absolute;border-left: 1px solid gray;box-sizing: border-box;top: 0;bottom: 0;left: 50%;z-index: 0;}#sk-container-id-80 div.sk-serial {display: flex;flex-direction: column;align-items: center;background-color: white;padding-right: 0.2em;padding-left: 0.2em;position: relative;}#sk-container-id-80 div.sk-item {position: relative;z-index: 1;}#sk-container-id-80 div.sk-parallel {display: flex;align-items: stretch;justify-content: center;background-color: white;position: relative;}#sk-container-id-80 div.sk-item::before, #sk-container-id-80 div.sk-parallel-item::before {content: \"\";position: absolute;border-left: 1px solid gray;box-sizing: border-box;top: 0;bottom: 0;left: 50%;z-index: -1;}#sk-container-id-80 div.sk-parallel-item {display: flex;flex-direction: column;z-index: 1;position: relative;background-color: white;}#sk-container-id-80 div.sk-parallel-item:first-child::after {align-self: flex-end;width: 50%;}#sk-container-id-80 div.sk-parallel-item:last-child::after {align-self: flex-start;width: 50%;}#sk-container-id-80 div.sk-parallel-item:only-child::after {width: 0;}#sk-container-id-80 div.sk-dashed-wrapped {border: 1px dashed gray;margin: 0 0.4em 0.5em 0.4em;box-sizing: border-box;padding-bottom: 0.4em;background-color: white;}#sk-container-id-80 div.sk-label label {font-family: monospace;font-weight: bold;display: inline-block;line-height: 1.2em;}#sk-container-id-80 div.sk-label-container {text-align: center;}#sk-container-id-80 div.sk-container {/* jupyter's `normalize.less` sets `[hidden] { display: none; }` but bootstrap.min.css set `[hidden] { display: none !important; }` so we also need the `!important` here to be able to override the default hidden behavior on the sphinx rendered scikit-learn.org. See: https://github.com/scikit-learn/scikit-learn/issues/21755 */display: inline-block !important;position: relative;}#sk-container-id-80 div.sk-text-repr-fallback {display: none;}</style><div id=\"sk-container-id-80\" class=\"sk-top-container\"><div class=\"sk-text-repr-fallback\"><pre>GridSearchCV(cv=10,\n",
       "             estimator=Pipeline(steps=[(&#x27;columntransformer&#x27;,\n",
       "                                        ColumnTransformer(transformers=[(&#x27;num_pipe&#x27;,\n",
       "                                                                         Pipeline(steps=[(&#x27;simpleimputer&#x27;,\n",
       "                                                                                          SimpleImputer())]),\n",
       "                                                                         Index([&#x27;LotArea&#x27;, &#x27;LotFrontage&#x27;, &#x27;TotalBsmtSF&#x27;, &#x27;BedroomAbvGr&#x27;, &#x27;Fireplaces&#x27;,\n",
       "       &#x27;PoolArea&#x27;, &#x27;GarageCars&#x27;, &#x27;WoodDeckSF&#x27;, &#x27;ScreenPorch&#x27;, &#x27;MSSubClass&#x27;,\n",
       "       &#x27;OverallQual&#x27;, &#x27;OverallCond&#x27;, &#x27;YearBuilt&#x27;, &#x27;YearRemodA...\n",
       "       &#x27;GarageType&#x27;, &#x27;GarageFinish&#x27;, &#x27;GarageQual&#x27;, &#x27;GarageCond&#x27;, &#x27;PavedDrive&#x27;,\n",
       "       &#x27;SaleType&#x27;],\n",
       "      dtype=&#x27;object&#x27;))])),\n",
       "                                       (&#x27;decisiontreeclassifier&#x27;,\n",
       "                                        DecisionTreeClassifier(random_state=31416))]),\n",
       "             param_grid={&#x27;decisiontreeclassifier__max_depth&#x27;: range(2, 8),\n",
       "                         &#x27;decisiontreeclassifier__min_samples_leaf&#x27;: range(2, 5),\n",
       "                         &#x27;decisiontreeclassifier__min_samples_split&#x27;: range(2, 5)},\n",
       "             verbose=1)</pre><b>In a Jupyter environment, please rerun this cell to show the HTML representation or trust the notebook. <br />On GitHub, the HTML representation is unable to render, please try loading this page with nbviewer.org.</b></div><div class=\"sk-container\" hidden><div class=\"sk-item sk-dashed-wrapped\"><div class=\"sk-label-container\"><div class=\"sk-label sk-toggleable\"><input class=\"sk-toggleable__control sk-hidden--visually\" id=\"sk-estimator-id-971\" type=\"checkbox\" ><label for=\"sk-estimator-id-971\" class=\"sk-toggleable__label sk-toggleable__label-arrow\">GridSearchCV</label><div class=\"sk-toggleable__content\"><pre>GridSearchCV(cv=10,\n",
       "             estimator=Pipeline(steps=[(&#x27;columntransformer&#x27;,\n",
       "                                        ColumnTransformer(transformers=[(&#x27;num_pipe&#x27;,\n",
       "                                                                         Pipeline(steps=[(&#x27;simpleimputer&#x27;,\n",
       "                                                                                          SimpleImputer())]),\n",
       "                                                                         Index([&#x27;LotArea&#x27;, &#x27;LotFrontage&#x27;, &#x27;TotalBsmtSF&#x27;, &#x27;BedroomAbvGr&#x27;, &#x27;Fireplaces&#x27;,\n",
       "       &#x27;PoolArea&#x27;, &#x27;GarageCars&#x27;, &#x27;WoodDeckSF&#x27;, &#x27;ScreenPorch&#x27;, &#x27;MSSubClass&#x27;,\n",
       "       &#x27;OverallQual&#x27;, &#x27;OverallCond&#x27;, &#x27;YearBuilt&#x27;, &#x27;YearRemodA...\n",
       "       &#x27;GarageType&#x27;, &#x27;GarageFinish&#x27;, &#x27;GarageQual&#x27;, &#x27;GarageCond&#x27;, &#x27;PavedDrive&#x27;,\n",
       "       &#x27;SaleType&#x27;],\n",
       "      dtype=&#x27;object&#x27;))])),\n",
       "                                       (&#x27;decisiontreeclassifier&#x27;,\n",
       "                                        DecisionTreeClassifier(random_state=31416))]),\n",
       "             param_grid={&#x27;decisiontreeclassifier__max_depth&#x27;: range(2, 8),\n",
       "                         &#x27;decisiontreeclassifier__min_samples_leaf&#x27;: range(2, 5),\n",
       "                         &#x27;decisiontreeclassifier__min_samples_split&#x27;: range(2, 5)},\n",
       "             verbose=1)</pre></div></div></div><div class=\"sk-parallel\"><div class=\"sk-parallel-item\"><div class=\"sk-item\"><div class=\"sk-label-container\"><div class=\"sk-label sk-toggleable\"><input class=\"sk-toggleable__control sk-hidden--visually\" id=\"sk-estimator-id-972\" type=\"checkbox\" ><label for=\"sk-estimator-id-972\" class=\"sk-toggleable__label sk-toggleable__label-arrow\">estimator: Pipeline</label><div class=\"sk-toggleable__content\"><pre>Pipeline(steps=[(&#x27;columntransformer&#x27;,\n",
       "                 ColumnTransformer(transformers=[(&#x27;num_pipe&#x27;,\n",
       "                                                  Pipeline(steps=[(&#x27;simpleimputer&#x27;,\n",
       "                                                                   SimpleImputer())]),\n",
       "                                                  Index([&#x27;LotArea&#x27;, &#x27;LotFrontage&#x27;, &#x27;TotalBsmtSF&#x27;, &#x27;BedroomAbvGr&#x27;, &#x27;Fireplaces&#x27;,\n",
       "       &#x27;PoolArea&#x27;, &#x27;GarageCars&#x27;, &#x27;WoodDeckSF&#x27;, &#x27;ScreenPorch&#x27;, &#x27;MSSubClass&#x27;,\n",
       "       &#x27;OverallQual&#x27;, &#x27;OverallCond&#x27;, &#x27;YearBuilt&#x27;, &#x27;YearRemodAdd&#x27;, &#x27;MasVnrArea&#x27;,\n",
       "       &#x27;BsmtFinSF1&#x27;...\n",
       "       &#x27;LotShape&#x27;, &#x27;LandContour&#x27;, &#x27;Utilities&#x27;, &#x27;LotConfig&#x27;, &#x27;LandSlope&#x27;,\n",
       "       &#x27;Neighborhood&#x27;, &#x27;BldgType&#x27;, &#x27;HouseStyle&#x27;, &#x27;RoofStyle&#x27;, &#x27;RoofMatl&#x27;,\n",
       "       &#x27;Exterior1st&#x27;, &#x27;MasVnrType&#x27;, &#x27;HeatingQC&#x27;, &#x27;Electrical&#x27;, &#x27;Functional&#x27;,\n",
       "       &#x27;GarageType&#x27;, &#x27;GarageFinish&#x27;, &#x27;GarageQual&#x27;, &#x27;GarageCond&#x27;, &#x27;PavedDrive&#x27;,\n",
       "       &#x27;SaleType&#x27;],\n",
       "      dtype=&#x27;object&#x27;))])),\n",
       "                (&#x27;decisiontreeclassifier&#x27;,\n",
       "                 DecisionTreeClassifier(random_state=31416))])</pre></div></div></div><div class=\"sk-serial\"><div class=\"sk-item\"><div class=\"sk-serial\"><div class=\"sk-item sk-dashed-wrapped\"><div class=\"sk-label-container\"><div class=\"sk-label sk-toggleable\"><input class=\"sk-toggleable__control sk-hidden--visually\" id=\"sk-estimator-id-973\" type=\"checkbox\" ><label for=\"sk-estimator-id-973\" class=\"sk-toggleable__label sk-toggleable__label-arrow\">columntransformer: ColumnTransformer</label><div class=\"sk-toggleable__content\"><pre>ColumnTransformer(transformers=[(&#x27;num_pipe&#x27;,\n",
       "                                 Pipeline(steps=[(&#x27;simpleimputer&#x27;,\n",
       "                                                  SimpleImputer())]),\n",
       "                                 Index([&#x27;LotArea&#x27;, &#x27;LotFrontage&#x27;, &#x27;TotalBsmtSF&#x27;, &#x27;BedroomAbvGr&#x27;, &#x27;Fireplaces&#x27;,\n",
       "       &#x27;PoolArea&#x27;, &#x27;GarageCars&#x27;, &#x27;WoodDeckSF&#x27;, &#x27;ScreenPorch&#x27;, &#x27;MSSubClass&#x27;,\n",
       "       &#x27;OverallQual&#x27;, &#x27;OverallCond&#x27;, &#x27;YearBuilt&#x27;, &#x27;YearRemodAdd&#x27;, &#x27;MasVnrArea&#x27;,\n",
       "       &#x27;BsmtFinSF1&#x27;, &#x27;BsmtFinSF2&#x27;, &#x27;BsmtUnfSF&#x27;, &#x27;1stFlrSF&#x27;,...\n",
       "       &#x27;Foundation&#x27;, &#x27;ExterQual&#x27;, &#x27;ExterCond&#x27;, &#x27;BsmtQual&#x27;, &#x27;BsmtCond&#x27;,\n",
       "       &#x27;BsmtExposure&#x27;, &#x27;BsmtFinType1&#x27;, &#x27;KitchenQual&#x27;, &#x27;FireplaceQu&#x27;,\n",
       "       &#x27;LotShape&#x27;, &#x27;LandContour&#x27;, &#x27;Utilities&#x27;, &#x27;LotConfig&#x27;, &#x27;LandSlope&#x27;,\n",
       "       &#x27;Neighborhood&#x27;, &#x27;BldgType&#x27;, &#x27;HouseStyle&#x27;, &#x27;RoofStyle&#x27;, &#x27;RoofMatl&#x27;,\n",
       "       &#x27;Exterior1st&#x27;, &#x27;MasVnrType&#x27;, &#x27;HeatingQC&#x27;, &#x27;Electrical&#x27;, &#x27;Functional&#x27;,\n",
       "       &#x27;GarageType&#x27;, &#x27;GarageFinish&#x27;, &#x27;GarageQual&#x27;, &#x27;GarageCond&#x27;, &#x27;PavedDrive&#x27;,\n",
       "       &#x27;SaleType&#x27;],\n",
       "      dtype=&#x27;object&#x27;))])</pre></div></div></div><div class=\"sk-parallel\"><div class=\"sk-parallel-item\"><div class=\"sk-item\"><div class=\"sk-label-container\"><div class=\"sk-label sk-toggleable\"><input class=\"sk-toggleable__control sk-hidden--visually\" id=\"sk-estimator-id-974\" type=\"checkbox\" ><label for=\"sk-estimator-id-974\" class=\"sk-toggleable__label sk-toggleable__label-arrow\">num_pipe</label><div class=\"sk-toggleable__content\"><pre>Index([&#x27;LotArea&#x27;, &#x27;LotFrontage&#x27;, &#x27;TotalBsmtSF&#x27;, &#x27;BedroomAbvGr&#x27;, &#x27;Fireplaces&#x27;,\n",
       "       &#x27;PoolArea&#x27;, &#x27;GarageCars&#x27;, &#x27;WoodDeckSF&#x27;, &#x27;ScreenPorch&#x27;, &#x27;MSSubClass&#x27;,\n",
       "       &#x27;OverallQual&#x27;, &#x27;OverallCond&#x27;, &#x27;YearBuilt&#x27;, &#x27;YearRemodAdd&#x27;, &#x27;MasVnrArea&#x27;,\n",
       "       &#x27;BsmtFinSF1&#x27;, &#x27;BsmtFinSF2&#x27;, &#x27;BsmtUnfSF&#x27;, &#x27;1stFlrSF&#x27;, &#x27;2ndFlrSF&#x27;,\n",
       "       &#x27;LowQualFinSF&#x27;, &#x27;GrLivArea&#x27;, &#x27;BsmtFullBath&#x27;, &#x27;BsmtHalfBath&#x27;, &#x27;FullBath&#x27;,\n",
       "       &#x27;HalfBath&#x27;, &#x27;KitchenAbvGr&#x27;, &#x27;TotRmsAbvGrd&#x27;, &#x27;GarageYrBlt&#x27;, &#x27;GarageArea&#x27;,\n",
       "       &#x27;OpenPorchSF&#x27;, &#x27;EnclosedPorch&#x27;, &#x27;3SsnPorch&#x27;, &#x27;MiscVal&#x27;, &#x27;MoSold&#x27;,\n",
       "       &#x27;YrSold&#x27;],\n",
       "      dtype=&#x27;object&#x27;)</pre></div></div></div><div class=\"sk-serial\"><div class=\"sk-item\"><div class=\"sk-serial\"><div class=\"sk-item\"><div class=\"sk-estimator sk-toggleable\"><input class=\"sk-toggleable__control sk-hidden--visually\" id=\"sk-estimator-id-975\" type=\"checkbox\" ><label for=\"sk-estimator-id-975\" class=\"sk-toggleable__label sk-toggleable__label-arrow\">SimpleImputer</label><div class=\"sk-toggleable__content\"><pre>SimpleImputer()</pre></div></div></div></div></div></div></div></div><div class=\"sk-parallel-item\"><div class=\"sk-item\"><div class=\"sk-label-container\"><div class=\"sk-label sk-toggleable\"><input class=\"sk-toggleable__control sk-hidden--visually\" id=\"sk-estimator-id-976\" type=\"checkbox\" ><label for=\"sk-estimator-id-976\" class=\"sk-toggleable__label sk-toggleable__label-arrow\">cat_pipe</label><div class=\"sk-toggleable__content\"><pre>Index([&#x27;MSZoning&#x27;, &#x27;Condition1&#x27;, &#x27;Heating&#x27;, &#x27;Street&#x27;, &#x27;CentralAir&#x27;,\n",
       "       &#x27;Foundation&#x27;, &#x27;ExterQual&#x27;, &#x27;ExterCond&#x27;, &#x27;BsmtQual&#x27;, &#x27;BsmtCond&#x27;,\n",
       "       &#x27;BsmtExposure&#x27;, &#x27;BsmtFinType1&#x27;, &#x27;KitchenQual&#x27;, &#x27;FireplaceQu&#x27;,\n",
       "       &#x27;LotShape&#x27;, &#x27;LandContour&#x27;, &#x27;Utilities&#x27;, &#x27;LotConfig&#x27;, &#x27;LandSlope&#x27;,\n",
       "       &#x27;Neighborhood&#x27;, &#x27;BldgType&#x27;, &#x27;HouseStyle&#x27;, &#x27;RoofStyle&#x27;, &#x27;RoofMatl&#x27;,\n",
       "       &#x27;Exterior1st&#x27;, &#x27;MasVnrType&#x27;, &#x27;HeatingQC&#x27;, &#x27;Electrical&#x27;, &#x27;Functional&#x27;,\n",
       "       &#x27;GarageType&#x27;, &#x27;GarageFinish&#x27;, &#x27;GarageQual&#x27;, &#x27;GarageCond&#x27;, &#x27;PavedDrive&#x27;,\n",
       "       &#x27;SaleType&#x27;],\n",
       "      dtype=&#x27;object&#x27;)</pre></div></div></div><div class=\"sk-serial\"><div class=\"sk-item\"><div class=\"sk-serial\"><div class=\"sk-item\"><div class=\"sk-estimator sk-toggleable\"><input class=\"sk-toggleable__control sk-hidden--visually\" id=\"sk-estimator-id-977\" type=\"checkbox\" ><label for=\"sk-estimator-id-977\" class=\"sk-toggleable__label sk-toggleable__label-arrow\">SimpleImputer</label><div class=\"sk-toggleable__content\"><pre>SimpleImputer(fill_value=&#x27;N_A&#x27;, strategy=&#x27;constant&#x27;)</pre></div></div></div><div class=\"sk-item sk-dashed-wrapped\"><div class=\"sk-label-container\"><div class=\"sk-label sk-toggleable\"><input class=\"sk-toggleable__control sk-hidden--visually\" id=\"sk-estimator-id-978\" type=\"checkbox\" ><label for=\"sk-estimator-id-978\" class=\"sk-toggleable__label sk-toggleable__label-arrow\">columntransformer: ColumnTransformer</label><div class=\"sk-toggleable__content\"><pre>ColumnTransformer(transformers=[(&#x27;cat_ordinal&#x27;,\n",
       "                                 OrdinalEncoder(categories=[[&#x27;N_A&#x27;, &#x27;Grvl&#x27;,\n",
       "                                                             &#x27;Pave&#x27;],\n",
       "                                                            [&#x27;N_A&#x27;, &#x27;N&#x27;, &#x27;Y&#x27;],\n",
       "                                                            [&#x27;N_A&#x27;, &#x27;Slab&#x27;,\n",
       "                                                             &#x27;BrkTil&#x27;, &#x27;CBlock&#x27;,\n",
       "                                                             &#x27;Wood&#x27;, &#x27;Stone&#x27;,\n",
       "                                                             &#x27;PConc&#x27;],\n",
       "                                                            [&#x27;N_A&#x27;, &#x27;Po&#x27;, &#x27;Fa&#x27;,\n",
       "                                                             &#x27;TA&#x27;, &#x27;Gd&#x27;, &#x27;Ex&#x27;],\n",
       "                                                            [&#x27;N_A&#x27;, &#x27;Po&#x27;, &#x27;Fa&#x27;,\n",
       "                                                             &#x27;TA&#x27;, &#x27;Gd&#x27;, &#x27;Ex&#x27;],\n",
       "                                                            [&#x27;N_A&#x27;, &#x27;NA&#x27;, &#x27;Po&#x27;,\n",
       "                                                             &#x27;Fa&#x27;, &#x27;TA&#x27;, &#x27;Gd&#x27;,\n",
       "                                                             &#x27;Ex&#x27;],\n",
       "                                                            [&#x27;N_A&#x27;, &#x27;NA&#x27;, &#x27;Po&#x27;,\n",
       "                                                             &#x27;Fa&#x27;, &#x27;TA&#x27;, &#x27;Gd&#x27;,\n",
       "                                                             &#x27;Ex&#x27;],\n",
       "                                                            [&#x27;N_A&#x27;, &#x27;NA&#x27;, &#x27;No&#x27;,\n",
       "                                                             &#x27;Mn&#x27;, &#x27;Av&#x27;, &#x27;Gd&#x27;],\n",
       "                                                            [&#x27;N_A&#x27;,...\n",
       "                                  &#x27;Utilities&#x27;, &#x27;LotConfig&#x27;, &#x27;LandSlope&#x27;,\n",
       "                                  &#x27;BldgType&#x27;, &#x27;HouseStyle&#x27;, &#x27;RoofStyle&#x27;,\n",
       "                                  &#x27;RoofMatl&#x27;, &#x27;MasVnrType&#x27;, &#x27;HeatingQC&#x27;,\n",
       "                                  &#x27;Electrical&#x27;, &#x27;Functional&#x27;, &#x27;GarageFinish&#x27;,\n",
       "                                  &#x27;GarageQual&#x27;, &#x27;GarageCond&#x27;, &#x27;PavedDrive&#x27;]),\n",
       "                                (&#x27;cat_onehot&#x27;,\n",
       "                                 OneHotEncoder(handle_unknown=&#x27;ignore&#x27;,\n",
       "                                               sparse_output=False),\n",
       "                                 [&#x27;Heating&#x27;, &#x27;MSZoning&#x27;, &#x27;Condition1&#x27;,\n",
       "                                  &#x27;Neighborhood&#x27;, &#x27;Exterior1st&#x27;, &#x27;GarageType&#x27;,\n",
       "                                  &#x27;SaleType&#x27;])])</pre></div></div></div><div class=\"sk-parallel\"><div class=\"sk-parallel-item\"><div class=\"sk-item\"><div class=\"sk-label-container\"><div class=\"sk-label sk-toggleable\"><input class=\"sk-toggleable__control sk-hidden--visually\" id=\"sk-estimator-id-979\" type=\"checkbox\" ><label for=\"sk-estimator-id-979\" class=\"sk-toggleable__label sk-toggleable__label-arrow\">cat_ordinal</label><div class=\"sk-toggleable__content\"><pre>[&#x27;Street&#x27;, &#x27;CentralAir&#x27;, &#x27;Foundation&#x27;, &#x27;ExterQual&#x27;, &#x27;ExterCond&#x27;, &#x27;BsmtQual&#x27;, &#x27;BsmtCond&#x27;, &#x27;BsmtExposure&#x27;, &#x27;BsmtFinType1&#x27;, &#x27;ExterQual&#x27;, &#x27;ExterCond&#x27;, &#x27;KitchenQual&#x27;, &#x27;FireplaceQu&#x27;, &#x27;LotShape&#x27;, &#x27;LandContour&#x27;, &#x27;Utilities&#x27;, &#x27;LotConfig&#x27;, &#x27;LandSlope&#x27;, &#x27;BldgType&#x27;, &#x27;HouseStyle&#x27;, &#x27;RoofStyle&#x27;, &#x27;RoofMatl&#x27;, &#x27;MasVnrType&#x27;, &#x27;HeatingQC&#x27;, &#x27;Electrical&#x27;, &#x27;Functional&#x27;, &#x27;GarageFinish&#x27;, &#x27;GarageQual&#x27;, &#x27;GarageCond&#x27;, &#x27;PavedDrive&#x27;]</pre></div></div></div><div class=\"sk-serial\"><div class=\"sk-item\"><div class=\"sk-estimator sk-toggleable\"><input class=\"sk-toggleable__control sk-hidden--visually\" id=\"sk-estimator-id-980\" type=\"checkbox\" ><label for=\"sk-estimator-id-980\" class=\"sk-toggleable__label sk-toggleable__label-arrow\">OrdinalEncoder</label><div class=\"sk-toggleable__content\"><pre>OrdinalEncoder(categories=[[&#x27;N_A&#x27;, &#x27;Grvl&#x27;, &#x27;Pave&#x27;], [&#x27;N_A&#x27;, &#x27;N&#x27;, &#x27;Y&#x27;],\n",
       "                           [&#x27;N_A&#x27;, &#x27;Slab&#x27;, &#x27;BrkTil&#x27;, &#x27;CBlock&#x27;, &#x27;Wood&#x27;, &#x27;Stone&#x27;,\n",
       "                            &#x27;PConc&#x27;],\n",
       "                           [&#x27;N_A&#x27;, &#x27;Po&#x27;, &#x27;Fa&#x27;, &#x27;TA&#x27;, &#x27;Gd&#x27;, &#x27;Ex&#x27;],\n",
       "                           [&#x27;N_A&#x27;, &#x27;Po&#x27;, &#x27;Fa&#x27;, &#x27;TA&#x27;, &#x27;Gd&#x27;, &#x27;Ex&#x27;],\n",
       "                           [&#x27;N_A&#x27;, &#x27;NA&#x27;, &#x27;Po&#x27;, &#x27;Fa&#x27;, &#x27;TA&#x27;, &#x27;Gd&#x27;, &#x27;Ex&#x27;],\n",
       "                           [&#x27;N_A&#x27;, &#x27;NA&#x27;, &#x27;Po&#x27;, &#x27;Fa&#x27;, &#x27;TA&#x27;, &#x27;Gd&#x27;, &#x27;Ex&#x27;],\n",
       "                           [&#x27;N_A&#x27;, &#x27;NA&#x27;, &#x27;No&#x27;, &#x27;Mn&#x27;, &#x27;Av&#x27;, &#x27;Gd&#x27;],\n",
       "                           [&#x27;N_A&#x27;, &#x27;NA&#x27;, &#x27;Unf&#x27;, &#x27;LwQ&#x27;, &#x27;Rec&#x27;, &#x27;BLQ&#x27;, &#x27;ALQ&#x27;,\n",
       "                            &#x27;GLQ&#x27;],\n",
       "                           [&#x27;N_A...\n",
       "                           [&#x27;N_A&#x27;, &#x27;Roll&#x27;, &#x27;Tar&amp;Grv&#x27;, &#x27;CompShg&#x27;, &#x27;WdShngl&#x27;,\n",
       "                            &#x27;WdShake&#x27;, &#x27;Membran&#x27;, &#x27;Metal&#x27;, &#x27;ClyTile&#x27;],\n",
       "                           [&#x27;N_A&#x27;, &#x27;None&#x27;, &#x27;CBlock&#x27;, &#x27;BrkCmn&#x27;, &#x27;BrkFace&#x27;,\n",
       "                            &#x27;Stone&#x27;],\n",
       "                           [&#x27;N_A&#x27;, &#x27;Po&#x27;, &#x27;Fa&#x27;, &#x27;TA&#x27;, &#x27;Gd&#x27;, &#x27;Ex&#x27;],\n",
       "                           [&#x27;N_A&#x27;, &#x27;Mix&#x27;, &#x27;FuseP&#x27;, &#x27;FuseF&#x27;, &#x27;FuseA&#x27;, &#x27;SBrkr&#x27;],\n",
       "                           [&#x27;N_A&#x27;, &#x27;Sal&#x27;, &#x27;Sev&#x27;, &#x27;Maj2&#x27;, &#x27;Maj1&#x27;, &#x27;Mod&#x27;, &#x27;Min2&#x27;,\n",
       "                            &#x27;Min1&#x27;, &#x27;Typ&#x27;],\n",
       "                           [&#x27;N_A&#x27;, &#x27;NA&#x27;, &#x27;Unf&#x27;, &#x27;RFn&#x27;, &#x27;Fin&#x27;],\n",
       "                           [&#x27;N_A&#x27;, &#x27;Po&#x27;, &#x27;Fa&#x27;, &#x27;TA&#x27;, &#x27;Gd&#x27;, &#x27;Ex&#x27;],\n",
       "                           [&#x27;N_A&#x27;, &#x27;Po&#x27;, &#x27;Fa&#x27;, &#x27;TA&#x27;, &#x27;Gd&#x27;, &#x27;Ex&#x27;],\n",
       "                           [&#x27;N_A&#x27;, &#x27;N&#x27;, &#x27;P&#x27;, &#x27;Y&#x27;]])</pre></div></div></div></div></div></div><div class=\"sk-parallel-item\"><div class=\"sk-item\"><div class=\"sk-label-container\"><div class=\"sk-label sk-toggleable\"><input class=\"sk-toggleable__control sk-hidden--visually\" id=\"sk-estimator-id-981\" type=\"checkbox\" ><label for=\"sk-estimator-id-981\" class=\"sk-toggleable__label sk-toggleable__label-arrow\">cat_onehot</label><div class=\"sk-toggleable__content\"><pre>[&#x27;Heating&#x27;, &#x27;MSZoning&#x27;, &#x27;Condition1&#x27;, &#x27;Neighborhood&#x27;, &#x27;Exterior1st&#x27;, &#x27;GarageType&#x27;, &#x27;SaleType&#x27;]</pre></div></div></div><div class=\"sk-serial\"><div class=\"sk-item\"><div class=\"sk-estimator sk-toggleable\"><input class=\"sk-toggleable__control sk-hidden--visually\" id=\"sk-estimator-id-982\" type=\"checkbox\" ><label for=\"sk-estimator-id-982\" class=\"sk-toggleable__label sk-toggleable__label-arrow\">OneHotEncoder</label><div class=\"sk-toggleable__content\"><pre>OneHotEncoder(handle_unknown=&#x27;ignore&#x27;, sparse_output=False)</pre></div></div></div></div></div></div></div></div></div></div></div></div></div></div></div><div class=\"sk-item\"><div class=\"sk-estimator sk-toggleable\"><input class=\"sk-toggleable__control sk-hidden--visually\" id=\"sk-estimator-id-983\" type=\"checkbox\" ><label for=\"sk-estimator-id-983\" class=\"sk-toggleable__label sk-toggleable__label-arrow\">DecisionTreeClassifier</label><div class=\"sk-toggleable__content\"><pre>DecisionTreeClassifier(random_state=31416)</pre></div></div></div></div></div></div></div></div></div></div></div></div>"
      ],
      "text/plain": [
       "GridSearchCV(cv=10,\n",
       "             estimator=Pipeline(steps=[('columntransformer',\n",
       "                                        ColumnTransformer(transformers=[('num_pipe',\n",
       "                                                                         Pipeline(steps=[('simpleimputer',\n",
       "                                                                                          SimpleImputer())]),\n",
       "                                                                         Index(['LotArea', 'LotFrontage', 'TotalBsmtSF', 'BedroomAbvGr', 'Fireplaces',\n",
       "       'PoolArea', 'GarageCars', 'WoodDeckSF', 'ScreenPorch', 'MSSubClass',\n",
       "       'OverallQual', 'OverallCond', 'YearBuilt', 'YearRemodA...\n",
       "       'GarageType', 'GarageFinish', 'GarageQual', 'GarageCond', 'PavedDrive',\n",
       "       'SaleType'],\n",
       "      dtype='object'))])),\n",
       "                                       ('decisiontreeclassifier',\n",
       "                                        DecisionTreeClassifier(random_state=31416))]),\n",
       "             param_grid={'decisiontreeclassifier__max_depth': range(2, 8),\n",
       "                         'decisiontreeclassifier__min_samples_leaf': range(2, 5),\n",
       "                         'decisiontreeclassifier__min_samples_split': range(2, 5)},\n",
       "             verbose=1)"
      ]
     },
     "execution_count": 588,
     "metadata": {},
     "output_type": "execute_result"
    }
   ],
   "source": [
    "from sklearn.model_selection import GridSearchCV\n",
    "\n",
    "\n",
    "param_grid = {\n",
    "     # \"columntransformer__num_pipe__simpleimputer__strategy\":[\"mean\", \"median\"],\n",
    "      \"decisiontreeclassifier__max_depth\": range(2, 8),\n",
    "       \"decisiontreeclassifier__min_samples_leaf\": range(2, 5),\n",
    "        \"decisiontreeclassifier__min_samples_split\": range(2, 5),\n",
    "       # \"decisiontreeclassifier__criterion\":[\"gini\", \"entropy\"]\n",
    "}\n",
    "\n",
    "search = GridSearchCV(full_pipeline_dtree,\n",
    "                      param_grid,\n",
    "                      cv=10,\n",
    "                      verbose=1)\n",
    "\n",
    "search.fit(X_train, y_train)"
   ]
  },
  {
   "cell_type": "code",
   "execution_count": 589,
   "metadata": {
    "tags": []
   },
   "outputs": [
    {
     "data": {
      "text/plain": [
       "{'decisiontreeclassifier__max_depth': 4,\n",
       " 'decisiontreeclassifier__min_samples_leaf': 3,\n",
       " 'decisiontreeclassifier__min_samples_split': 2}"
      ]
     },
     "execution_count": 589,
     "metadata": {},
     "output_type": "execute_result"
    }
   ],
   "source": [
    "search.best_params_"
   ]
  },
  {
   "cell_type": "code",
   "execution_count": 590,
   "metadata": {
    "colab": {
     "base_uri": "https://localhost:8080/"
    },
    "id": "GnGj2fVbKYuZ",
    "outputId": "b9c2cdbd-8137-411c-e491-b6b5f9c40cc4",
    "tags": []
   },
   "outputs": [
    {
     "data": {
      "text/plain": [
       "{'dtree': 0.9306734453286177}"
      ]
     },
     "execution_count": 590,
     "metadata": {},
     "output_type": "execute_result"
    }
   ],
   "source": [
    "# Create a dictionary to store the best scores from the different models\n",
    "scores = {\"dtree\" : search.best_score_}\n",
    "\n",
    "scores"
   ]
  },
  {
   "cell_type": "markdown",
   "metadata": {
    "id": "su6ZEvYWgS2Y"
   },
   "source": [
    "## 3. Error analysis"
   ]
  },
  {
   "cell_type": "code",
   "execution_count": 591,
   "metadata": {
    "colab": {
     "base_uri": "https://localhost:8080/"
    },
    "id": "TCPO9kphgS2Y",
    "outputId": "a2d3ba8d-a846-4356-e43d-7920f06c94f7",
    "tags": []
   },
   "outputs": [
    {
     "data": {
      "text/plain": [
       "0.9315068493150684"
      ]
     },
     "execution_count": 591,
     "metadata": {},
     "output_type": "execute_result"
    }
   ],
   "source": [
    "# test accuracy\n",
    "accuracy_score(search.predict(X_test), y_test)"
   ]
  },
  {
   "cell_type": "code",
   "execution_count": 592,
   "metadata": {
    "colab": {
     "base_uri": "https://localhost:8080/",
     "height": 449
    },
    "id": "4U-OmI-ogS2Z",
    "outputId": "86eb43c7-5ac8-4ede-ae17-be4daadc6bd6",
    "tags": []
   },
   "outputs": [
    {
     "data": {
      "image/png": "[encoded data removed]",
      "text/plain": [
       "<Figure size 640x480 with 2 Axes>"
      ]
     },
     "metadata": {},
     "output_type": "display_data"
    }
   ],
   "source": [
    "#from sklearn.metrics import plot_confusion_matrix\n",
    "#plot_confusion_matrix(search, X_test, y_test, display_labels=['Not Survied', 'Survived']);\n",
    "\n",
    "from sklearn.metrics import ConfusionMatrixDisplay\n",
    "ConfusionMatrixDisplay.from_estimator(search,\n",
    "                                      X_test,\n",
    "                                      y_test,\n",
    "                                      display_labels=['Not Expensive','Expensive']);"
   ]
  },
  {
   "cell_type": "markdown",
   "metadata": {
    "id": "7U4_bhV6gS2Z"
   },
   "source": [
    "### KNN\n",
    "\n",
    "Read the Platform lesson on KNN: https://learn.wbscodingschool.com/topic/%f0%9f%93%9d-iteration-5-k-nearest-neighbors/\n",
    "\n",
    "> **Tip**: Check the SciKit-Learn docummentation to find how to import the KNN model for this task and how to tune its hyperparameters (the names and possible values of the parameters).\n"
   ]
  },
  {
   "cell_type": "code",
   "execution_count": 593,
   "metadata": {
    "id": "auKdBw_tgS2a",
    "tags": []
   },
   "outputs": [],
   "source": [
    "import warnings\n",
    "\n",
    "\n",
    "# Filter out the specific warning by specifying its category\n",
    "warnings.filterwarnings(\"ignore\", category=UserWarning, message=\"Scoring failed.\")\n",
    "warnings.filterwarnings(\"ignore\", category=UserWarning, message=\"One or more of the test scores are non-finite\")\n",
    "\n",
    "\n",
    "from sklearn.neighbors import KNeighborsClassifier\n",
    "full_knn_pipeline = make_pipeline(preprocessor,\n",
    "                              KNeighborsClassifier())"
   ]
  },
  {
   "cell_type": "code",
   "execution_count": 594,
   "metadata": {
    "colab": {
     "base_uri": "https://localhost:8080/",
     "height": 225
    },
    "id": "484wOAp1eo1N",
    "outputId": "4d79c35d-68f5-42c7-8817-c1761d8f79a4",
    "tags": []
   },
   "outputs": [
    {
     "data": {
      "text/html": [
       "<style>#sk-container-id-81 {color: black;}#sk-container-id-81 pre{padding: 0;}#sk-container-id-81 div.sk-toggleable {background-color: white;}#sk-container-id-81 label.sk-toggleable__label {cursor: pointer;display: block;width: 100%;margin-bottom: 0;padding: 0.3em;box-sizing: border-box;text-align: center;}#sk-container-id-81 label.sk-toggleable__label-arrow:before {content: \"▸\";float: left;margin-right: 0.25em;color: #696969;}#sk-container-id-81 label.sk-toggleable__label-arrow:hover:before {color: black;}#sk-container-id-81 div.sk-estimator:hover label.sk-toggleable__label-arrow:before {color: black;}#sk-container-id-81 div.sk-toggleable__content {max-height: 0;max-width: 0;overflow: hidden;text-align: left;background-color: #f0f8ff;}#sk-container-id-81 div.sk-toggleable__content pre {margin: 0.2em;color: black;border-radius: 0.25em;background-color: #f0f8ff;}#sk-container-id-81 input.sk-toggleable__control:checked~div.sk-toggleable__content {max-height: 200px;max-width: 100%;overflow: auto;}#sk-container-id-81 input.sk-toggleable__control:checked~label.sk-toggleable__label-arrow:before {content: \"▾\";}#sk-container-id-81 div.sk-estimator input.sk-toggleable__control:checked~label.sk-toggleable__label {background-color: #d4ebff;}#sk-container-id-81 div.sk-label input.sk-toggleable__control:checked~label.sk-toggleable__label {background-color: #d4ebff;}#sk-container-id-81 input.sk-hidden--visually {border: 0;clip: rect(1px 1px 1px 1px);clip: rect(1px, 1px, 1px, 1px);height: 1px;margin: -1px;overflow: hidden;padding: 0;position: absolute;width: 1px;}#sk-container-id-81 div.sk-estimator {font-family: monospace;background-color: #f0f8ff;border: 1px dotted black;border-radius: 0.25em;box-sizing: border-box;margin-bottom: 0.5em;}#sk-container-id-81 div.sk-estimator:hover {background-color: #d4ebff;}#sk-container-id-81 div.sk-parallel-item::after {content: \"\";width: 100%;border-bottom: 1px solid gray;flex-grow: 1;}#sk-container-id-81 div.sk-label:hover label.sk-toggleable__label {background-color: #d4ebff;}#sk-container-id-81 div.sk-serial::before {content: \"\";position: absolute;border-left: 1px solid gray;box-sizing: border-box;top: 0;bottom: 0;left: 50%;z-index: 0;}#sk-container-id-81 div.sk-serial {display: flex;flex-direction: column;align-items: center;background-color: white;padding-right: 0.2em;padding-left: 0.2em;position: relative;}#sk-container-id-81 div.sk-item {position: relative;z-index: 1;}#sk-container-id-81 div.sk-parallel {display: flex;align-items: stretch;justify-content: center;background-color: white;position: relative;}#sk-container-id-81 div.sk-item::before, #sk-container-id-81 div.sk-parallel-item::before {content: \"\";position: absolute;border-left: 1px solid gray;box-sizing: border-box;top: 0;bottom: 0;left: 50%;z-index: -1;}#sk-container-id-81 div.sk-parallel-item {display: flex;flex-direction: column;z-index: 1;position: relative;background-color: white;}#sk-container-id-81 div.sk-parallel-item:first-child::after {align-self: flex-end;width: 50%;}#sk-container-id-81 div.sk-parallel-item:last-child::after {align-self: flex-start;width: 50%;}#sk-container-id-81 div.sk-parallel-item:only-child::after {width: 0;}#sk-container-id-81 div.sk-dashed-wrapped {border: 1px dashed gray;margin: 0 0.4em 0.5em 0.4em;box-sizing: border-box;padding-bottom: 0.4em;background-color: white;}#sk-container-id-81 div.sk-label label {font-family: monospace;font-weight: bold;display: inline-block;line-height: 1.2em;}#sk-container-id-81 div.sk-label-container {text-align: center;}#sk-container-id-81 div.sk-container {/* jupyter's `normalize.less` sets `[hidden] { display: none; }` but bootstrap.min.css set `[hidden] { display: none !important; }` so we also need the `!important` here to be able to override the default hidden behavior on the sphinx rendered scikit-learn.org. See: https://github.com/scikit-learn/scikit-learn/issues/21755 */display: inline-block !important;position: relative;}#sk-container-id-81 div.sk-text-repr-fallback {display: none;}</style><div id=\"sk-container-id-81\" class=\"sk-top-container\"><div class=\"sk-text-repr-fallback\"><pre>Pipeline(steps=[(&#x27;columntransformer&#x27;,\n",
       "                 ColumnTransformer(transformers=[(&#x27;num_pipe&#x27;,\n",
       "                                                  Pipeline(steps=[(&#x27;simpleimputer&#x27;,\n",
       "                                                                   SimpleImputer())]),\n",
       "                                                  Index([&#x27;LotArea&#x27;, &#x27;LotFrontage&#x27;, &#x27;TotalBsmtSF&#x27;, &#x27;BedroomAbvGr&#x27;, &#x27;Fireplaces&#x27;,\n",
       "       &#x27;PoolArea&#x27;, &#x27;GarageCars&#x27;, &#x27;WoodDeckSF&#x27;, &#x27;ScreenPorch&#x27;, &#x27;MSSubClass&#x27;,\n",
       "       &#x27;OverallQual&#x27;, &#x27;OverallCond&#x27;, &#x27;YearBuilt&#x27;, &#x27;YearRemodAdd&#x27;, &#x27;MasVnrArea&#x27;,\n",
       "       &#x27;BsmtFinSF1&#x27;...\n",
       "       &#x27;BsmtExposure&#x27;, &#x27;BsmtFinType1&#x27;, &#x27;KitchenQual&#x27;, &#x27;FireplaceQu&#x27;,\n",
       "       &#x27;LotShape&#x27;, &#x27;LandContour&#x27;, &#x27;Utilities&#x27;, &#x27;LotConfig&#x27;, &#x27;LandSlope&#x27;,\n",
       "       &#x27;Neighborhood&#x27;, &#x27;BldgType&#x27;, &#x27;HouseStyle&#x27;, &#x27;RoofStyle&#x27;, &#x27;RoofMatl&#x27;,\n",
       "       &#x27;Exterior1st&#x27;, &#x27;MasVnrType&#x27;, &#x27;HeatingQC&#x27;, &#x27;Electrical&#x27;, &#x27;Functional&#x27;,\n",
       "       &#x27;GarageType&#x27;, &#x27;GarageFinish&#x27;, &#x27;GarageQual&#x27;, &#x27;GarageCond&#x27;, &#x27;PavedDrive&#x27;,\n",
       "       &#x27;SaleType&#x27;],\n",
       "      dtype=&#x27;object&#x27;))])),\n",
       "                (&#x27;kneighborsclassifier&#x27;, KNeighborsClassifier())])</pre><b>In a Jupyter environment, please rerun this cell to show the HTML representation or trust the notebook. <br />On GitHub, the HTML representation is unable to render, please try loading this page with nbviewer.org.</b></div><div class=\"sk-container\" hidden><div class=\"sk-item sk-dashed-wrapped\"><div class=\"sk-label-container\"><div class=\"sk-label sk-toggleable\"><input class=\"sk-toggleable__control sk-hidden--visually\" id=\"sk-estimator-id-984\" type=\"checkbox\" ><label for=\"sk-estimator-id-984\" class=\"sk-toggleable__label sk-toggleable__label-arrow\">Pipeline</label><div class=\"sk-toggleable__content\"><pre>Pipeline(steps=[(&#x27;columntransformer&#x27;,\n",
       "                 ColumnTransformer(transformers=[(&#x27;num_pipe&#x27;,\n",
       "                                                  Pipeline(steps=[(&#x27;simpleimputer&#x27;,\n",
       "                                                                   SimpleImputer())]),\n",
       "                                                  Index([&#x27;LotArea&#x27;, &#x27;LotFrontage&#x27;, &#x27;TotalBsmtSF&#x27;, &#x27;BedroomAbvGr&#x27;, &#x27;Fireplaces&#x27;,\n",
       "       &#x27;PoolArea&#x27;, &#x27;GarageCars&#x27;, &#x27;WoodDeckSF&#x27;, &#x27;ScreenPorch&#x27;, &#x27;MSSubClass&#x27;,\n",
       "       &#x27;OverallQual&#x27;, &#x27;OverallCond&#x27;, &#x27;YearBuilt&#x27;, &#x27;YearRemodAdd&#x27;, &#x27;MasVnrArea&#x27;,\n",
       "       &#x27;BsmtFinSF1&#x27;...\n",
       "       &#x27;BsmtExposure&#x27;, &#x27;BsmtFinType1&#x27;, &#x27;KitchenQual&#x27;, &#x27;FireplaceQu&#x27;,\n",
       "       &#x27;LotShape&#x27;, &#x27;LandContour&#x27;, &#x27;Utilities&#x27;, &#x27;LotConfig&#x27;, &#x27;LandSlope&#x27;,\n",
       "       &#x27;Neighborhood&#x27;, &#x27;BldgType&#x27;, &#x27;HouseStyle&#x27;, &#x27;RoofStyle&#x27;, &#x27;RoofMatl&#x27;,\n",
       "       &#x27;Exterior1st&#x27;, &#x27;MasVnrType&#x27;, &#x27;HeatingQC&#x27;, &#x27;Electrical&#x27;, &#x27;Functional&#x27;,\n",
       "       &#x27;GarageType&#x27;, &#x27;GarageFinish&#x27;, &#x27;GarageQual&#x27;, &#x27;GarageCond&#x27;, &#x27;PavedDrive&#x27;,\n",
       "       &#x27;SaleType&#x27;],\n",
       "      dtype=&#x27;object&#x27;))])),\n",
       "                (&#x27;kneighborsclassifier&#x27;, KNeighborsClassifier())])</pre></div></div></div><div class=\"sk-serial\"><div class=\"sk-item sk-dashed-wrapped\"><div class=\"sk-label-container\"><div class=\"sk-label sk-toggleable\"><input class=\"sk-toggleable__control sk-hidden--visually\" id=\"sk-estimator-id-985\" type=\"checkbox\" ><label for=\"sk-estimator-id-985\" class=\"sk-toggleable__label sk-toggleable__label-arrow\">columntransformer: ColumnTransformer</label><div class=\"sk-toggleable__content\"><pre>ColumnTransformer(transformers=[(&#x27;num_pipe&#x27;,\n",
       "                                 Pipeline(steps=[(&#x27;simpleimputer&#x27;,\n",
       "                                                  SimpleImputer())]),\n",
       "                                 Index([&#x27;LotArea&#x27;, &#x27;LotFrontage&#x27;, &#x27;TotalBsmtSF&#x27;, &#x27;BedroomAbvGr&#x27;, &#x27;Fireplaces&#x27;,\n",
       "       &#x27;PoolArea&#x27;, &#x27;GarageCars&#x27;, &#x27;WoodDeckSF&#x27;, &#x27;ScreenPorch&#x27;, &#x27;MSSubClass&#x27;,\n",
       "       &#x27;OverallQual&#x27;, &#x27;OverallCond&#x27;, &#x27;YearBuilt&#x27;, &#x27;YearRemodAdd&#x27;, &#x27;MasVnrArea&#x27;,\n",
       "       &#x27;BsmtFinSF1&#x27;, &#x27;BsmtFinSF2&#x27;, &#x27;BsmtUnfSF&#x27;, &#x27;1stFlrSF&#x27;,...\n",
       "       &#x27;Foundation&#x27;, &#x27;ExterQual&#x27;, &#x27;ExterCond&#x27;, &#x27;BsmtQual&#x27;, &#x27;BsmtCond&#x27;,\n",
       "       &#x27;BsmtExposure&#x27;, &#x27;BsmtFinType1&#x27;, &#x27;KitchenQual&#x27;, &#x27;FireplaceQu&#x27;,\n",
       "       &#x27;LotShape&#x27;, &#x27;LandContour&#x27;, &#x27;Utilities&#x27;, &#x27;LotConfig&#x27;, &#x27;LandSlope&#x27;,\n",
       "       &#x27;Neighborhood&#x27;, &#x27;BldgType&#x27;, &#x27;HouseStyle&#x27;, &#x27;RoofStyle&#x27;, &#x27;RoofMatl&#x27;,\n",
       "       &#x27;Exterior1st&#x27;, &#x27;MasVnrType&#x27;, &#x27;HeatingQC&#x27;, &#x27;Electrical&#x27;, &#x27;Functional&#x27;,\n",
       "       &#x27;GarageType&#x27;, &#x27;GarageFinish&#x27;, &#x27;GarageQual&#x27;, &#x27;GarageCond&#x27;, &#x27;PavedDrive&#x27;,\n",
       "       &#x27;SaleType&#x27;],\n",
       "      dtype=&#x27;object&#x27;))])</pre></div></div></div><div class=\"sk-parallel\"><div class=\"sk-parallel-item\"><div class=\"sk-item\"><div class=\"sk-label-container\"><div class=\"sk-label sk-toggleable\"><input class=\"sk-toggleable__control sk-hidden--visually\" id=\"sk-estimator-id-986\" type=\"checkbox\" ><label for=\"sk-estimator-id-986\" class=\"sk-toggleable__label sk-toggleable__label-arrow\">num_pipe</label><div class=\"sk-toggleable__content\"><pre>Index([&#x27;LotArea&#x27;, &#x27;LotFrontage&#x27;, &#x27;TotalBsmtSF&#x27;, &#x27;BedroomAbvGr&#x27;, &#x27;Fireplaces&#x27;,\n",
       "       &#x27;PoolArea&#x27;, &#x27;GarageCars&#x27;, &#x27;WoodDeckSF&#x27;, &#x27;ScreenPorch&#x27;, &#x27;MSSubClass&#x27;,\n",
       "       &#x27;OverallQual&#x27;, &#x27;OverallCond&#x27;, &#x27;YearBuilt&#x27;, &#x27;YearRemodAdd&#x27;, &#x27;MasVnrArea&#x27;,\n",
       "       &#x27;BsmtFinSF1&#x27;, &#x27;BsmtFinSF2&#x27;, &#x27;BsmtUnfSF&#x27;, &#x27;1stFlrSF&#x27;, &#x27;2ndFlrSF&#x27;,\n",
       "       &#x27;LowQualFinSF&#x27;, &#x27;GrLivArea&#x27;, &#x27;BsmtFullBath&#x27;, &#x27;BsmtHalfBath&#x27;, &#x27;FullBath&#x27;,\n",
       "       &#x27;HalfBath&#x27;, &#x27;KitchenAbvGr&#x27;, &#x27;TotRmsAbvGrd&#x27;, &#x27;GarageYrBlt&#x27;, &#x27;GarageArea&#x27;,\n",
       "       &#x27;OpenPorchSF&#x27;, &#x27;EnclosedPorch&#x27;, &#x27;3SsnPorch&#x27;, &#x27;MiscVal&#x27;, &#x27;MoSold&#x27;,\n",
       "       &#x27;YrSold&#x27;],\n",
       "      dtype=&#x27;object&#x27;)</pre></div></div></div><div class=\"sk-serial\"><div class=\"sk-item\"><div class=\"sk-serial\"><div class=\"sk-item\"><div class=\"sk-estimator sk-toggleable\"><input class=\"sk-toggleable__control sk-hidden--visually\" id=\"sk-estimator-id-987\" type=\"checkbox\" ><label for=\"sk-estimator-id-987\" class=\"sk-toggleable__label sk-toggleable__label-arrow\">SimpleImputer</label><div class=\"sk-toggleable__content\"><pre>SimpleImputer()</pre></div></div></div></div></div></div></div></div><div class=\"sk-parallel-item\"><div class=\"sk-item\"><div class=\"sk-label-container\"><div class=\"sk-label sk-toggleable\"><input class=\"sk-toggleable__control sk-hidden--visually\" id=\"sk-estimator-id-988\" type=\"checkbox\" ><label for=\"sk-estimator-id-988\" class=\"sk-toggleable__label sk-toggleable__label-arrow\">cat_pipe</label><div class=\"sk-toggleable__content\"><pre>Index([&#x27;MSZoning&#x27;, &#x27;Condition1&#x27;, &#x27;Heating&#x27;, &#x27;Street&#x27;, &#x27;CentralAir&#x27;,\n",
       "       &#x27;Foundation&#x27;, &#x27;ExterQual&#x27;, &#x27;ExterCond&#x27;, &#x27;BsmtQual&#x27;, &#x27;BsmtCond&#x27;,\n",
       "       &#x27;BsmtExposure&#x27;, &#x27;BsmtFinType1&#x27;, &#x27;KitchenQual&#x27;, &#x27;FireplaceQu&#x27;,\n",
       "       &#x27;LotShape&#x27;, &#x27;LandContour&#x27;, &#x27;Utilities&#x27;, &#x27;LotConfig&#x27;, &#x27;LandSlope&#x27;,\n",
       "       &#x27;Neighborhood&#x27;, &#x27;BldgType&#x27;, &#x27;HouseStyle&#x27;, &#x27;RoofStyle&#x27;, &#x27;RoofMatl&#x27;,\n",
       "       &#x27;Exterior1st&#x27;, &#x27;MasVnrType&#x27;, &#x27;HeatingQC&#x27;, &#x27;Electrical&#x27;, &#x27;Functional&#x27;,\n",
       "       &#x27;GarageType&#x27;, &#x27;GarageFinish&#x27;, &#x27;GarageQual&#x27;, &#x27;GarageCond&#x27;, &#x27;PavedDrive&#x27;,\n",
       "       &#x27;SaleType&#x27;],\n",
       "      dtype=&#x27;object&#x27;)</pre></div></div></div><div class=\"sk-serial\"><div class=\"sk-item\"><div class=\"sk-serial\"><div class=\"sk-item\"><div class=\"sk-estimator sk-toggleable\"><input class=\"sk-toggleable__control sk-hidden--visually\" id=\"sk-estimator-id-989\" type=\"checkbox\" ><label for=\"sk-estimator-id-989\" class=\"sk-toggleable__label sk-toggleable__label-arrow\">SimpleImputer</label><div class=\"sk-toggleable__content\"><pre>SimpleImputer(fill_value=&#x27;N_A&#x27;, strategy=&#x27;constant&#x27;)</pre></div></div></div><div class=\"sk-item sk-dashed-wrapped\"><div class=\"sk-label-container\"><div class=\"sk-label sk-toggleable\"><input class=\"sk-toggleable__control sk-hidden--visually\" id=\"sk-estimator-id-990\" type=\"checkbox\" ><label for=\"sk-estimator-id-990\" class=\"sk-toggleable__label sk-toggleable__label-arrow\">columntransformer: ColumnTransformer</label><div class=\"sk-toggleable__content\"><pre>ColumnTransformer(transformers=[(&#x27;cat_ordinal&#x27;,\n",
       "                                 OrdinalEncoder(categories=[[&#x27;N_A&#x27;, &#x27;Grvl&#x27;,\n",
       "                                                             &#x27;Pave&#x27;],\n",
       "                                                            [&#x27;N_A&#x27;, &#x27;N&#x27;, &#x27;Y&#x27;],\n",
       "                                                            [&#x27;N_A&#x27;, &#x27;Slab&#x27;,\n",
       "                                                             &#x27;BrkTil&#x27;, &#x27;CBlock&#x27;,\n",
       "                                                             &#x27;Wood&#x27;, &#x27;Stone&#x27;,\n",
       "                                                             &#x27;PConc&#x27;],\n",
       "                                                            [&#x27;N_A&#x27;, &#x27;Po&#x27;, &#x27;Fa&#x27;,\n",
       "                                                             &#x27;TA&#x27;, &#x27;Gd&#x27;, &#x27;Ex&#x27;],\n",
       "                                                            [&#x27;N_A&#x27;, &#x27;Po&#x27;, &#x27;Fa&#x27;,\n",
       "                                                             &#x27;TA&#x27;, &#x27;Gd&#x27;, &#x27;Ex&#x27;],\n",
       "                                                            [&#x27;N_A&#x27;, &#x27;NA&#x27;, &#x27;Po&#x27;,\n",
       "                                                             &#x27;Fa&#x27;, &#x27;TA&#x27;, &#x27;Gd&#x27;,\n",
       "                                                             &#x27;Ex&#x27;],\n",
       "                                                            [&#x27;N_A&#x27;, &#x27;NA&#x27;, &#x27;Po&#x27;,\n",
       "                                                             &#x27;Fa&#x27;, &#x27;TA&#x27;, &#x27;Gd&#x27;,\n",
       "                                                             &#x27;Ex&#x27;],\n",
       "                                                            [&#x27;N_A&#x27;, &#x27;NA&#x27;, &#x27;No&#x27;,\n",
       "                                                             &#x27;Mn&#x27;, &#x27;Av&#x27;, &#x27;Gd&#x27;],\n",
       "                                                            [&#x27;N_A&#x27;,...\n",
       "                                  &#x27;Utilities&#x27;, &#x27;LotConfig&#x27;, &#x27;LandSlope&#x27;,\n",
       "                                  &#x27;BldgType&#x27;, &#x27;HouseStyle&#x27;, &#x27;RoofStyle&#x27;,\n",
       "                                  &#x27;RoofMatl&#x27;, &#x27;MasVnrType&#x27;, &#x27;HeatingQC&#x27;,\n",
       "                                  &#x27;Electrical&#x27;, &#x27;Functional&#x27;, &#x27;GarageFinish&#x27;,\n",
       "                                  &#x27;GarageQual&#x27;, &#x27;GarageCond&#x27;, &#x27;PavedDrive&#x27;]),\n",
       "                                (&#x27;cat_onehot&#x27;,\n",
       "                                 OneHotEncoder(handle_unknown=&#x27;ignore&#x27;,\n",
       "                                               sparse_output=False),\n",
       "                                 [&#x27;Heating&#x27;, &#x27;MSZoning&#x27;, &#x27;Condition1&#x27;,\n",
       "                                  &#x27;Neighborhood&#x27;, &#x27;Exterior1st&#x27;, &#x27;GarageType&#x27;,\n",
       "                                  &#x27;SaleType&#x27;])])</pre></div></div></div><div class=\"sk-parallel\"><div class=\"sk-parallel-item\"><div class=\"sk-item\"><div class=\"sk-label-container\"><div class=\"sk-label sk-toggleable\"><input class=\"sk-toggleable__control sk-hidden--visually\" id=\"sk-estimator-id-991\" type=\"checkbox\" ><label for=\"sk-estimator-id-991\" class=\"sk-toggleable__label sk-toggleable__label-arrow\">cat_ordinal</label><div class=\"sk-toggleable__content\"><pre>[&#x27;Street&#x27;, &#x27;CentralAir&#x27;, &#x27;Foundation&#x27;, &#x27;ExterQual&#x27;, &#x27;ExterCond&#x27;, &#x27;BsmtQual&#x27;, &#x27;BsmtCond&#x27;, &#x27;BsmtExposure&#x27;, &#x27;BsmtFinType1&#x27;, &#x27;ExterQual&#x27;, &#x27;ExterCond&#x27;, &#x27;KitchenQual&#x27;, &#x27;FireplaceQu&#x27;, &#x27;LotShape&#x27;, &#x27;LandContour&#x27;, &#x27;Utilities&#x27;, &#x27;LotConfig&#x27;, &#x27;LandSlope&#x27;, &#x27;BldgType&#x27;, &#x27;HouseStyle&#x27;, &#x27;RoofStyle&#x27;, &#x27;RoofMatl&#x27;, &#x27;MasVnrType&#x27;, &#x27;HeatingQC&#x27;, &#x27;Electrical&#x27;, &#x27;Functional&#x27;, &#x27;GarageFinish&#x27;, &#x27;GarageQual&#x27;, &#x27;GarageCond&#x27;, &#x27;PavedDrive&#x27;]</pre></div></div></div><div class=\"sk-serial\"><div class=\"sk-item\"><div class=\"sk-estimator sk-toggleable\"><input class=\"sk-toggleable__control sk-hidden--visually\" id=\"sk-estimator-id-992\" type=\"checkbox\" ><label for=\"sk-estimator-id-992\" class=\"sk-toggleable__label sk-toggleable__label-arrow\">OrdinalEncoder</label><div class=\"sk-toggleable__content\"><pre>OrdinalEncoder(categories=[[&#x27;N_A&#x27;, &#x27;Grvl&#x27;, &#x27;Pave&#x27;], [&#x27;N_A&#x27;, &#x27;N&#x27;, &#x27;Y&#x27;],\n",
       "                           [&#x27;N_A&#x27;, &#x27;Slab&#x27;, &#x27;BrkTil&#x27;, &#x27;CBlock&#x27;, &#x27;Wood&#x27;, &#x27;Stone&#x27;,\n",
       "                            &#x27;PConc&#x27;],\n",
       "                           [&#x27;N_A&#x27;, &#x27;Po&#x27;, &#x27;Fa&#x27;, &#x27;TA&#x27;, &#x27;Gd&#x27;, &#x27;Ex&#x27;],\n",
       "                           [&#x27;N_A&#x27;, &#x27;Po&#x27;, &#x27;Fa&#x27;, &#x27;TA&#x27;, &#x27;Gd&#x27;, &#x27;Ex&#x27;],\n",
       "                           [&#x27;N_A&#x27;, &#x27;NA&#x27;, &#x27;Po&#x27;, &#x27;Fa&#x27;, &#x27;TA&#x27;, &#x27;Gd&#x27;, &#x27;Ex&#x27;],\n",
       "                           [&#x27;N_A&#x27;, &#x27;NA&#x27;, &#x27;Po&#x27;, &#x27;Fa&#x27;, &#x27;TA&#x27;, &#x27;Gd&#x27;, &#x27;Ex&#x27;],\n",
       "                           [&#x27;N_A&#x27;, &#x27;NA&#x27;, &#x27;No&#x27;, &#x27;Mn&#x27;, &#x27;Av&#x27;, &#x27;Gd&#x27;],\n",
       "                           [&#x27;N_A&#x27;, &#x27;NA&#x27;, &#x27;Unf&#x27;, &#x27;LwQ&#x27;, &#x27;Rec&#x27;, &#x27;BLQ&#x27;, &#x27;ALQ&#x27;,\n",
       "                            &#x27;GLQ&#x27;],\n",
       "                           [&#x27;N_A...\n",
       "                           [&#x27;N_A&#x27;, &#x27;Roll&#x27;, &#x27;Tar&amp;Grv&#x27;, &#x27;CompShg&#x27;, &#x27;WdShngl&#x27;,\n",
       "                            &#x27;WdShake&#x27;, &#x27;Membran&#x27;, &#x27;Metal&#x27;, &#x27;ClyTile&#x27;],\n",
       "                           [&#x27;N_A&#x27;, &#x27;None&#x27;, &#x27;CBlock&#x27;, &#x27;BrkCmn&#x27;, &#x27;BrkFace&#x27;,\n",
       "                            &#x27;Stone&#x27;],\n",
       "                           [&#x27;N_A&#x27;, &#x27;Po&#x27;, &#x27;Fa&#x27;, &#x27;TA&#x27;, &#x27;Gd&#x27;, &#x27;Ex&#x27;],\n",
       "                           [&#x27;N_A&#x27;, &#x27;Mix&#x27;, &#x27;FuseP&#x27;, &#x27;FuseF&#x27;, &#x27;FuseA&#x27;, &#x27;SBrkr&#x27;],\n",
       "                           [&#x27;N_A&#x27;, &#x27;Sal&#x27;, &#x27;Sev&#x27;, &#x27;Maj2&#x27;, &#x27;Maj1&#x27;, &#x27;Mod&#x27;, &#x27;Min2&#x27;,\n",
       "                            &#x27;Min1&#x27;, &#x27;Typ&#x27;],\n",
       "                           [&#x27;N_A&#x27;, &#x27;NA&#x27;, &#x27;Unf&#x27;, &#x27;RFn&#x27;, &#x27;Fin&#x27;],\n",
       "                           [&#x27;N_A&#x27;, &#x27;Po&#x27;, &#x27;Fa&#x27;, &#x27;TA&#x27;, &#x27;Gd&#x27;, &#x27;Ex&#x27;],\n",
       "                           [&#x27;N_A&#x27;, &#x27;Po&#x27;, &#x27;Fa&#x27;, &#x27;TA&#x27;, &#x27;Gd&#x27;, &#x27;Ex&#x27;],\n",
       "                           [&#x27;N_A&#x27;, &#x27;N&#x27;, &#x27;P&#x27;, &#x27;Y&#x27;]])</pre></div></div></div></div></div></div><div class=\"sk-parallel-item\"><div class=\"sk-item\"><div class=\"sk-label-container\"><div class=\"sk-label sk-toggleable\"><input class=\"sk-toggleable__control sk-hidden--visually\" id=\"sk-estimator-id-993\" type=\"checkbox\" ><label for=\"sk-estimator-id-993\" class=\"sk-toggleable__label sk-toggleable__label-arrow\">cat_onehot</label><div class=\"sk-toggleable__content\"><pre>[&#x27;Heating&#x27;, &#x27;MSZoning&#x27;, &#x27;Condition1&#x27;, &#x27;Neighborhood&#x27;, &#x27;Exterior1st&#x27;, &#x27;GarageType&#x27;, &#x27;SaleType&#x27;]</pre></div></div></div><div class=\"sk-serial\"><div class=\"sk-item\"><div class=\"sk-estimator sk-toggleable\"><input class=\"sk-toggleable__control sk-hidden--visually\" id=\"sk-estimator-id-994\" type=\"checkbox\" ><label for=\"sk-estimator-id-994\" class=\"sk-toggleable__label sk-toggleable__label-arrow\">OneHotEncoder</label><div class=\"sk-toggleable__content\"><pre>OneHotEncoder(handle_unknown=&#x27;ignore&#x27;, sparse_output=False)</pre></div></div></div></div></div></div></div></div></div></div></div></div></div></div></div><div class=\"sk-item\"><div class=\"sk-estimator sk-toggleable\"><input class=\"sk-toggleable__control sk-hidden--visually\" id=\"sk-estimator-id-995\" type=\"checkbox\" ><label for=\"sk-estimator-id-995\" class=\"sk-toggleable__label sk-toggleable__label-arrow\">KNeighborsClassifier</label><div class=\"sk-toggleable__content\"><pre>KNeighborsClassifier()</pre></div></div></div></div></div></div></div>"
      ],
      "text/plain": [
       "Pipeline(steps=[('columntransformer',\n",
       "                 ColumnTransformer(transformers=[('num_pipe',\n",
       "                                                  Pipeline(steps=[('simpleimputer',\n",
       "                                                                   SimpleImputer())]),\n",
       "                                                  Index(['LotArea', 'LotFrontage', 'TotalBsmtSF', 'BedroomAbvGr', 'Fireplaces',\n",
       "       'PoolArea', 'GarageCars', 'WoodDeckSF', 'ScreenPorch', 'MSSubClass',\n",
       "       'OverallQual', 'OverallCond', 'YearBuilt', 'YearRemodAdd', 'MasVnrArea',\n",
       "       'BsmtFinSF1'...\n",
       "       'BsmtExposure', 'BsmtFinType1', 'KitchenQual', 'FireplaceQu',\n",
       "       'LotShape', 'LandContour', 'Utilities', 'LotConfig', 'LandSlope',\n",
       "       'Neighborhood', 'BldgType', 'HouseStyle', 'RoofStyle', 'RoofMatl',\n",
       "       'Exterior1st', 'MasVnrType', 'HeatingQC', 'Electrical', 'Functional',\n",
       "       'GarageType', 'GarageFinish', 'GarageQual', 'GarageCond', 'PavedDrive',\n",
       "       'SaleType'],\n",
       "      dtype='object'))])),\n",
       "                ('kneighborsclassifier', KNeighborsClassifier())])"
      ]
     },
     "execution_count": 594,
     "metadata": {},
     "output_type": "execute_result"
    }
   ],
   "source": [
    "full_knn_pipeline"
   ]
  },
  {
   "cell_type": "code",
   "execution_count": 595,
   "metadata": {
    "colab": {
     "base_uri": "https://localhost:8080/",
     "height": 268
    },
    "id": "8kS0UVVeeyYZ",
    "outputId": "eb066a13-645e-45ea-d2c8-fcaee3af39b9",
    "tags": []
   },
   "outputs": [
    {
     "name": "stdout",
     "output_type": "stream",
     "text": [
      "Fitting 10 folds for each of 40 candidates, totalling 400 fits\n"
     ]
    },
    {
     "data": {
      "text/html": [
       "<style>#sk-container-id-82 {color: black;}#sk-container-id-82 pre{padding: 0;}#sk-container-id-82 div.sk-toggleable {background-color: white;}#sk-container-id-82 label.sk-toggleable__label {cursor: pointer;display: block;width: 100%;margin-bottom: 0;padding: 0.3em;box-sizing: border-box;text-align: center;}#sk-container-id-82 label.sk-toggleable__label-arrow:before {content: \"▸\";float: left;margin-right: 0.25em;color: #696969;}#sk-container-id-82 label.sk-toggleable__label-arrow:hover:before {color: black;}#sk-container-id-82 div.sk-estimator:hover label.sk-toggleable__label-arrow:before {color: black;}#sk-container-id-82 div.sk-toggleable__content {max-height: 0;max-width: 0;overflow: hidden;text-align: left;background-color: #f0f8ff;}#sk-container-id-82 div.sk-toggleable__content pre {margin: 0.2em;color: black;border-radius: 0.25em;background-color: #f0f8ff;}#sk-container-id-82 input.sk-toggleable__control:checked~div.sk-toggleable__content {max-height: 200px;max-width: 100%;overflow: auto;}#sk-container-id-82 input.sk-toggleable__control:checked~label.sk-toggleable__label-arrow:before {content: \"▾\";}#sk-container-id-82 div.sk-estimator input.sk-toggleable__control:checked~label.sk-toggleable__label {background-color: #d4ebff;}#sk-container-id-82 div.sk-label input.sk-toggleable__control:checked~label.sk-toggleable__label {background-color: #d4ebff;}#sk-container-id-82 input.sk-hidden--visually {border: 0;clip: rect(1px 1px 1px 1px);clip: rect(1px, 1px, 1px, 1px);height: 1px;margin: -1px;overflow: hidden;padding: 0;position: absolute;width: 1px;}#sk-container-id-82 div.sk-estimator {font-family: monospace;background-color: #f0f8ff;border: 1px dotted black;border-radius: 0.25em;box-sizing: border-box;margin-bottom: 0.5em;}#sk-container-id-82 div.sk-estimator:hover {background-color: #d4ebff;}#sk-container-id-82 div.sk-parallel-item::after {content: \"\";width: 100%;border-bottom: 1px solid gray;flex-grow: 1;}#sk-container-id-82 div.sk-label:hover label.sk-toggleable__label {background-color: #d4ebff;}#sk-container-id-82 div.sk-serial::before {content: \"\";position: absolute;border-left: 1px solid gray;box-sizing: border-box;top: 0;bottom: 0;left: 50%;z-index: 0;}#sk-container-id-82 div.sk-serial {display: flex;flex-direction: column;align-items: center;background-color: white;padding-right: 0.2em;padding-left: 0.2em;position: relative;}#sk-container-id-82 div.sk-item {position: relative;z-index: 1;}#sk-container-id-82 div.sk-parallel {display: flex;align-items: stretch;justify-content: center;background-color: white;position: relative;}#sk-container-id-82 div.sk-item::before, #sk-container-id-82 div.sk-parallel-item::before {content: \"\";position: absolute;border-left: 1px solid gray;box-sizing: border-box;top: 0;bottom: 0;left: 50%;z-index: -1;}#sk-container-id-82 div.sk-parallel-item {display: flex;flex-direction: column;z-index: 1;position: relative;background-color: white;}#sk-container-id-82 div.sk-parallel-item:first-child::after {align-self: flex-end;width: 50%;}#sk-container-id-82 div.sk-parallel-item:last-child::after {align-self: flex-start;width: 50%;}#sk-container-id-82 div.sk-parallel-item:only-child::after {width: 0;}#sk-container-id-82 div.sk-dashed-wrapped {border: 1px dashed gray;margin: 0 0.4em 0.5em 0.4em;box-sizing: border-box;padding-bottom: 0.4em;background-color: white;}#sk-container-id-82 div.sk-label label {font-family: monospace;font-weight: bold;display: inline-block;line-height: 1.2em;}#sk-container-id-82 div.sk-label-container {text-align: center;}#sk-container-id-82 div.sk-container {/* jupyter's `normalize.less` sets `[hidden] { display: none; }` but bootstrap.min.css set `[hidden] { display: none !important; }` so we also need the `!important` here to be able to override the default hidden behavior on the sphinx rendered scikit-learn.org. See: https://github.com/scikit-learn/scikit-learn/issues/21755 */display: inline-block !important;position: relative;}#sk-container-id-82 div.sk-text-repr-fallback {display: none;}</style><div id=\"sk-container-id-82\" class=\"sk-top-container\"><div class=\"sk-text-repr-fallback\"><pre>GridSearchCV(cv=10,\n",
       "             estimator=Pipeline(steps=[(&#x27;columntransformer&#x27;,\n",
       "                                        ColumnTransformer(transformers=[(&#x27;num_pipe&#x27;,\n",
       "                                                                         Pipeline(steps=[(&#x27;simpleimputer&#x27;,\n",
       "                                                                                          SimpleImputer())]),\n",
       "                                                                         Index([&#x27;LotArea&#x27;, &#x27;LotFrontage&#x27;, &#x27;TotalBsmtSF&#x27;, &#x27;BedroomAbvGr&#x27;, &#x27;Fireplaces&#x27;,\n",
       "       &#x27;PoolArea&#x27;, &#x27;GarageCars&#x27;, &#x27;WoodDeckSF&#x27;, &#x27;ScreenPorch&#x27;, &#x27;MSSubClass&#x27;,\n",
       "       &#x27;OverallQual&#x27;, &#x27;OverallCond&#x27;, &#x27;YearBuilt&#x27;, &#x27;YearRemodA...\n",
       "       &#x27;GarageType&#x27;, &#x27;GarageFinish&#x27;, &#x27;GarageQual&#x27;, &#x27;GarageCond&#x27;, &#x27;PavedDrive&#x27;,\n",
       "       &#x27;SaleType&#x27;],\n",
       "      dtype=&#x27;object&#x27;))])),\n",
       "                                       (&#x27;kneighborsclassifier&#x27;,\n",
       "                                        KNeighborsClassifier())]),\n",
       "             param_grid={&#x27;columntransformer__num_pipe__simpleimputer__strategy&#x27;: [&#x27;mean&#x27;,\n",
       "                                                                                  &#x27;median&#x27;],\n",
       "                         &#x27;kneighborsclassifier__n_neighbors&#x27;: range(2, 50, 5),\n",
       "                         &#x27;kneighborsclassifier__weights&#x27;: [&#x27;uniform&#x27;,\n",
       "                                                           &#x27;distance&#x27;]},\n",
       "             verbose=1)</pre><b>In a Jupyter environment, please rerun this cell to show the HTML representation or trust the notebook. <br />On GitHub, the HTML representation is unable to render, please try loading this page with nbviewer.org.</b></div><div class=\"sk-container\" hidden><div class=\"sk-item sk-dashed-wrapped\"><div class=\"sk-label-container\"><div class=\"sk-label sk-toggleable\"><input class=\"sk-toggleable__control sk-hidden--visually\" id=\"sk-estimator-id-996\" type=\"checkbox\" ><label for=\"sk-estimator-id-996\" class=\"sk-toggleable__label sk-toggleable__label-arrow\">GridSearchCV</label><div class=\"sk-toggleable__content\"><pre>GridSearchCV(cv=10,\n",
       "             estimator=Pipeline(steps=[(&#x27;columntransformer&#x27;,\n",
       "                                        ColumnTransformer(transformers=[(&#x27;num_pipe&#x27;,\n",
       "                                                                         Pipeline(steps=[(&#x27;simpleimputer&#x27;,\n",
       "                                                                                          SimpleImputer())]),\n",
       "                                                                         Index([&#x27;LotArea&#x27;, &#x27;LotFrontage&#x27;, &#x27;TotalBsmtSF&#x27;, &#x27;BedroomAbvGr&#x27;, &#x27;Fireplaces&#x27;,\n",
       "       &#x27;PoolArea&#x27;, &#x27;GarageCars&#x27;, &#x27;WoodDeckSF&#x27;, &#x27;ScreenPorch&#x27;, &#x27;MSSubClass&#x27;,\n",
       "       &#x27;OverallQual&#x27;, &#x27;OverallCond&#x27;, &#x27;YearBuilt&#x27;, &#x27;YearRemodA...\n",
       "       &#x27;GarageType&#x27;, &#x27;GarageFinish&#x27;, &#x27;GarageQual&#x27;, &#x27;GarageCond&#x27;, &#x27;PavedDrive&#x27;,\n",
       "       &#x27;SaleType&#x27;],\n",
       "      dtype=&#x27;object&#x27;))])),\n",
       "                                       (&#x27;kneighborsclassifier&#x27;,\n",
       "                                        KNeighborsClassifier())]),\n",
       "             param_grid={&#x27;columntransformer__num_pipe__simpleimputer__strategy&#x27;: [&#x27;mean&#x27;,\n",
       "                                                                                  &#x27;median&#x27;],\n",
       "                         &#x27;kneighborsclassifier__n_neighbors&#x27;: range(2, 50, 5),\n",
       "                         &#x27;kneighborsclassifier__weights&#x27;: [&#x27;uniform&#x27;,\n",
       "                                                           &#x27;distance&#x27;]},\n",
       "             verbose=1)</pre></div></div></div><div class=\"sk-parallel\"><div class=\"sk-parallel-item\"><div class=\"sk-item\"><div class=\"sk-label-container\"><div class=\"sk-label sk-toggleable\"><input class=\"sk-toggleable__control sk-hidden--visually\" id=\"sk-estimator-id-997\" type=\"checkbox\" ><label for=\"sk-estimator-id-997\" class=\"sk-toggleable__label sk-toggleable__label-arrow\">estimator: Pipeline</label><div class=\"sk-toggleable__content\"><pre>Pipeline(steps=[(&#x27;columntransformer&#x27;,\n",
       "                 ColumnTransformer(transformers=[(&#x27;num_pipe&#x27;,\n",
       "                                                  Pipeline(steps=[(&#x27;simpleimputer&#x27;,\n",
       "                                                                   SimpleImputer())]),\n",
       "                                                  Index([&#x27;LotArea&#x27;, &#x27;LotFrontage&#x27;, &#x27;TotalBsmtSF&#x27;, &#x27;BedroomAbvGr&#x27;, &#x27;Fireplaces&#x27;,\n",
       "       &#x27;PoolArea&#x27;, &#x27;GarageCars&#x27;, &#x27;WoodDeckSF&#x27;, &#x27;ScreenPorch&#x27;, &#x27;MSSubClass&#x27;,\n",
       "       &#x27;OverallQual&#x27;, &#x27;OverallCond&#x27;, &#x27;YearBuilt&#x27;, &#x27;YearRemodAdd&#x27;, &#x27;MasVnrArea&#x27;,\n",
       "       &#x27;BsmtFinSF1&#x27;...\n",
       "       &#x27;BsmtExposure&#x27;, &#x27;BsmtFinType1&#x27;, &#x27;KitchenQual&#x27;, &#x27;FireplaceQu&#x27;,\n",
       "       &#x27;LotShape&#x27;, &#x27;LandContour&#x27;, &#x27;Utilities&#x27;, &#x27;LotConfig&#x27;, &#x27;LandSlope&#x27;,\n",
       "       &#x27;Neighborhood&#x27;, &#x27;BldgType&#x27;, &#x27;HouseStyle&#x27;, &#x27;RoofStyle&#x27;, &#x27;RoofMatl&#x27;,\n",
       "       &#x27;Exterior1st&#x27;, &#x27;MasVnrType&#x27;, &#x27;HeatingQC&#x27;, &#x27;Electrical&#x27;, &#x27;Functional&#x27;,\n",
       "       &#x27;GarageType&#x27;, &#x27;GarageFinish&#x27;, &#x27;GarageQual&#x27;, &#x27;GarageCond&#x27;, &#x27;PavedDrive&#x27;,\n",
       "       &#x27;SaleType&#x27;],\n",
       "      dtype=&#x27;object&#x27;))])),\n",
       "                (&#x27;kneighborsclassifier&#x27;, KNeighborsClassifier())])</pre></div></div></div><div class=\"sk-serial\"><div class=\"sk-item\"><div class=\"sk-serial\"><div class=\"sk-item sk-dashed-wrapped\"><div class=\"sk-label-container\"><div class=\"sk-label sk-toggleable\"><input class=\"sk-toggleable__control sk-hidden--visually\" id=\"sk-estimator-id-998\" type=\"checkbox\" ><label for=\"sk-estimator-id-998\" class=\"sk-toggleable__label sk-toggleable__label-arrow\">columntransformer: ColumnTransformer</label><div class=\"sk-toggleable__content\"><pre>ColumnTransformer(transformers=[(&#x27;num_pipe&#x27;,\n",
       "                                 Pipeline(steps=[(&#x27;simpleimputer&#x27;,\n",
       "                                                  SimpleImputer())]),\n",
       "                                 Index([&#x27;LotArea&#x27;, &#x27;LotFrontage&#x27;, &#x27;TotalBsmtSF&#x27;, &#x27;BedroomAbvGr&#x27;, &#x27;Fireplaces&#x27;,\n",
       "       &#x27;PoolArea&#x27;, &#x27;GarageCars&#x27;, &#x27;WoodDeckSF&#x27;, &#x27;ScreenPorch&#x27;, &#x27;MSSubClass&#x27;,\n",
       "       &#x27;OverallQual&#x27;, &#x27;OverallCond&#x27;, &#x27;YearBuilt&#x27;, &#x27;YearRemodAdd&#x27;, &#x27;MasVnrArea&#x27;,\n",
       "       &#x27;BsmtFinSF1&#x27;, &#x27;BsmtFinSF2&#x27;, &#x27;BsmtUnfSF&#x27;, &#x27;1stFlrSF&#x27;,...\n",
       "       &#x27;Foundation&#x27;, &#x27;ExterQual&#x27;, &#x27;ExterCond&#x27;, &#x27;BsmtQual&#x27;, &#x27;BsmtCond&#x27;,\n",
       "       &#x27;BsmtExposure&#x27;, &#x27;BsmtFinType1&#x27;, &#x27;KitchenQual&#x27;, &#x27;FireplaceQu&#x27;,\n",
       "       &#x27;LotShape&#x27;, &#x27;LandContour&#x27;, &#x27;Utilities&#x27;, &#x27;LotConfig&#x27;, &#x27;LandSlope&#x27;,\n",
       "       &#x27;Neighborhood&#x27;, &#x27;BldgType&#x27;, &#x27;HouseStyle&#x27;, &#x27;RoofStyle&#x27;, &#x27;RoofMatl&#x27;,\n",
       "       &#x27;Exterior1st&#x27;, &#x27;MasVnrType&#x27;, &#x27;HeatingQC&#x27;, &#x27;Electrical&#x27;, &#x27;Functional&#x27;,\n",
       "       &#x27;GarageType&#x27;, &#x27;GarageFinish&#x27;, &#x27;GarageQual&#x27;, &#x27;GarageCond&#x27;, &#x27;PavedDrive&#x27;,\n",
       "       &#x27;SaleType&#x27;],\n",
       "      dtype=&#x27;object&#x27;))])</pre></div></div></div><div class=\"sk-parallel\"><div class=\"sk-parallel-item\"><div class=\"sk-item\"><div class=\"sk-label-container\"><div class=\"sk-label sk-toggleable\"><input class=\"sk-toggleable__control sk-hidden--visually\" id=\"sk-estimator-id-999\" type=\"checkbox\" ><label for=\"sk-estimator-id-999\" class=\"sk-toggleable__label sk-toggleable__label-arrow\">num_pipe</label><div class=\"sk-toggleable__content\"><pre>Index([&#x27;LotArea&#x27;, &#x27;LotFrontage&#x27;, &#x27;TotalBsmtSF&#x27;, &#x27;BedroomAbvGr&#x27;, &#x27;Fireplaces&#x27;,\n",
       "       &#x27;PoolArea&#x27;, &#x27;GarageCars&#x27;, &#x27;WoodDeckSF&#x27;, &#x27;ScreenPorch&#x27;, &#x27;MSSubClass&#x27;,\n",
       "       &#x27;OverallQual&#x27;, &#x27;OverallCond&#x27;, &#x27;YearBuilt&#x27;, &#x27;YearRemodAdd&#x27;, &#x27;MasVnrArea&#x27;,\n",
       "       &#x27;BsmtFinSF1&#x27;, &#x27;BsmtFinSF2&#x27;, &#x27;BsmtUnfSF&#x27;, &#x27;1stFlrSF&#x27;, &#x27;2ndFlrSF&#x27;,\n",
       "       &#x27;LowQualFinSF&#x27;, &#x27;GrLivArea&#x27;, &#x27;BsmtFullBath&#x27;, &#x27;BsmtHalfBath&#x27;, &#x27;FullBath&#x27;,\n",
       "       &#x27;HalfBath&#x27;, &#x27;KitchenAbvGr&#x27;, &#x27;TotRmsAbvGrd&#x27;, &#x27;GarageYrBlt&#x27;, &#x27;GarageArea&#x27;,\n",
       "       &#x27;OpenPorchSF&#x27;, &#x27;EnclosedPorch&#x27;, &#x27;3SsnPorch&#x27;, &#x27;MiscVal&#x27;, &#x27;MoSold&#x27;,\n",
       "       &#x27;YrSold&#x27;],\n",
       "      dtype=&#x27;object&#x27;)</pre></div></div></div><div class=\"sk-serial\"><div class=\"sk-item\"><div class=\"sk-serial\"><div class=\"sk-item\"><div class=\"sk-estimator sk-toggleable\"><input class=\"sk-toggleable__control sk-hidden--visually\" id=\"sk-estimator-id-1000\" type=\"checkbox\" ><label for=\"sk-estimator-id-1000\" class=\"sk-toggleable__label sk-toggleable__label-arrow\">SimpleImputer</label><div class=\"sk-toggleable__content\"><pre>SimpleImputer()</pre></div></div></div></div></div></div></div></div><div class=\"sk-parallel-item\"><div class=\"sk-item\"><div class=\"sk-label-container\"><div class=\"sk-label sk-toggleable\"><input class=\"sk-toggleable__control sk-hidden--visually\" id=\"sk-estimator-id-1001\" type=\"checkbox\" ><label for=\"sk-estimator-id-1001\" class=\"sk-toggleable__label sk-toggleable__label-arrow\">cat_pipe</label><div class=\"sk-toggleable__content\"><pre>Index([&#x27;MSZoning&#x27;, &#x27;Condition1&#x27;, &#x27;Heating&#x27;, &#x27;Street&#x27;, &#x27;CentralAir&#x27;,\n",
       "       &#x27;Foundation&#x27;, &#x27;ExterQual&#x27;, &#x27;ExterCond&#x27;, &#x27;BsmtQual&#x27;, &#x27;BsmtCond&#x27;,\n",
       "       &#x27;BsmtExposure&#x27;, &#x27;BsmtFinType1&#x27;, &#x27;KitchenQual&#x27;, &#x27;FireplaceQu&#x27;,\n",
       "       &#x27;LotShape&#x27;, &#x27;LandContour&#x27;, &#x27;Utilities&#x27;, &#x27;LotConfig&#x27;, &#x27;LandSlope&#x27;,\n",
       "       &#x27;Neighborhood&#x27;, &#x27;BldgType&#x27;, &#x27;HouseStyle&#x27;, &#x27;RoofStyle&#x27;, &#x27;RoofMatl&#x27;,\n",
       "       &#x27;Exterior1st&#x27;, &#x27;MasVnrType&#x27;, &#x27;HeatingQC&#x27;, &#x27;Electrical&#x27;, &#x27;Functional&#x27;,\n",
       "       &#x27;GarageType&#x27;, &#x27;GarageFinish&#x27;, &#x27;GarageQual&#x27;, &#x27;GarageCond&#x27;, &#x27;PavedDrive&#x27;,\n",
       "       &#x27;SaleType&#x27;],\n",
       "      dtype=&#x27;object&#x27;)</pre></div></div></div><div class=\"sk-serial\"><div class=\"sk-item\"><div class=\"sk-serial\"><div class=\"sk-item\"><div class=\"sk-estimator sk-toggleable\"><input class=\"sk-toggleable__control sk-hidden--visually\" id=\"sk-estimator-id-1002\" type=\"checkbox\" ><label for=\"sk-estimator-id-1002\" class=\"sk-toggleable__label sk-toggleable__label-arrow\">SimpleImputer</label><div class=\"sk-toggleable__content\"><pre>SimpleImputer(fill_value=&#x27;N_A&#x27;, strategy=&#x27;constant&#x27;)</pre></div></div></div><div class=\"sk-item sk-dashed-wrapped\"><div class=\"sk-label-container\"><div class=\"sk-label sk-toggleable\"><input class=\"sk-toggleable__control sk-hidden--visually\" id=\"sk-estimator-id-1003\" type=\"checkbox\" ><label for=\"sk-estimator-id-1003\" class=\"sk-toggleable__label sk-toggleable__label-arrow\">columntransformer: ColumnTransformer</label><div class=\"sk-toggleable__content\"><pre>ColumnTransformer(transformers=[(&#x27;cat_ordinal&#x27;,\n",
       "                                 OrdinalEncoder(categories=[[&#x27;N_A&#x27;, &#x27;Grvl&#x27;,\n",
       "                                                             &#x27;Pave&#x27;],\n",
       "                                                            [&#x27;N_A&#x27;, &#x27;N&#x27;, &#x27;Y&#x27;],\n",
       "                                                            [&#x27;N_A&#x27;, &#x27;Slab&#x27;,\n",
       "                                                             &#x27;BrkTil&#x27;, &#x27;CBlock&#x27;,\n",
       "                                                             &#x27;Wood&#x27;, &#x27;Stone&#x27;,\n",
       "                                                             &#x27;PConc&#x27;],\n",
       "                                                            [&#x27;N_A&#x27;, &#x27;Po&#x27;, &#x27;Fa&#x27;,\n",
       "                                                             &#x27;TA&#x27;, &#x27;Gd&#x27;, &#x27;Ex&#x27;],\n",
       "                                                            [&#x27;N_A&#x27;, &#x27;Po&#x27;, &#x27;Fa&#x27;,\n",
       "                                                             &#x27;TA&#x27;, &#x27;Gd&#x27;, &#x27;Ex&#x27;],\n",
       "                                                            [&#x27;N_A&#x27;, &#x27;NA&#x27;, &#x27;Po&#x27;,\n",
       "                                                             &#x27;Fa&#x27;, &#x27;TA&#x27;, &#x27;Gd&#x27;,\n",
       "                                                             &#x27;Ex&#x27;],\n",
       "                                                            [&#x27;N_A&#x27;, &#x27;NA&#x27;, &#x27;Po&#x27;,\n",
       "                                                             &#x27;Fa&#x27;, &#x27;TA&#x27;, &#x27;Gd&#x27;,\n",
       "                                                             &#x27;Ex&#x27;],\n",
       "                                                            [&#x27;N_A&#x27;, &#x27;NA&#x27;, &#x27;No&#x27;,\n",
       "                                                             &#x27;Mn&#x27;, &#x27;Av&#x27;, &#x27;Gd&#x27;],\n",
       "                                                            [&#x27;N_A&#x27;,...\n",
       "                                  &#x27;Utilities&#x27;, &#x27;LotConfig&#x27;, &#x27;LandSlope&#x27;,\n",
       "                                  &#x27;BldgType&#x27;, &#x27;HouseStyle&#x27;, &#x27;RoofStyle&#x27;,\n",
       "                                  &#x27;RoofMatl&#x27;, &#x27;MasVnrType&#x27;, &#x27;HeatingQC&#x27;,\n",
       "                                  &#x27;Electrical&#x27;, &#x27;Functional&#x27;, &#x27;GarageFinish&#x27;,\n",
       "                                  &#x27;GarageQual&#x27;, &#x27;GarageCond&#x27;, &#x27;PavedDrive&#x27;]),\n",
       "                                (&#x27;cat_onehot&#x27;,\n",
       "                                 OneHotEncoder(handle_unknown=&#x27;ignore&#x27;,\n",
       "                                               sparse_output=False),\n",
       "                                 [&#x27;Heating&#x27;, &#x27;MSZoning&#x27;, &#x27;Condition1&#x27;,\n",
       "                                  &#x27;Neighborhood&#x27;, &#x27;Exterior1st&#x27;, &#x27;GarageType&#x27;,\n",
       "                                  &#x27;SaleType&#x27;])])</pre></div></div></div><div class=\"sk-parallel\"><div class=\"sk-parallel-item\"><div class=\"sk-item\"><div class=\"sk-label-container\"><div class=\"sk-label sk-toggleable\"><input class=\"sk-toggleable__control sk-hidden--visually\" id=\"sk-estimator-id-1004\" type=\"checkbox\" ><label for=\"sk-estimator-id-1004\" class=\"sk-toggleable__label sk-toggleable__label-arrow\">cat_ordinal</label><div class=\"sk-toggleable__content\"><pre>[&#x27;Street&#x27;, &#x27;CentralAir&#x27;, &#x27;Foundation&#x27;, &#x27;ExterQual&#x27;, &#x27;ExterCond&#x27;, &#x27;BsmtQual&#x27;, &#x27;BsmtCond&#x27;, &#x27;BsmtExposure&#x27;, &#x27;BsmtFinType1&#x27;, &#x27;ExterQual&#x27;, &#x27;ExterCond&#x27;, &#x27;KitchenQual&#x27;, &#x27;FireplaceQu&#x27;, &#x27;LotShape&#x27;, &#x27;LandContour&#x27;, &#x27;Utilities&#x27;, &#x27;LotConfig&#x27;, &#x27;LandSlope&#x27;, &#x27;BldgType&#x27;, &#x27;HouseStyle&#x27;, &#x27;RoofStyle&#x27;, &#x27;RoofMatl&#x27;, &#x27;MasVnrType&#x27;, &#x27;HeatingQC&#x27;, &#x27;Electrical&#x27;, &#x27;Functional&#x27;, &#x27;GarageFinish&#x27;, &#x27;GarageQual&#x27;, &#x27;GarageCond&#x27;, &#x27;PavedDrive&#x27;]</pre></div></div></div><div class=\"sk-serial\"><div class=\"sk-item\"><div class=\"sk-estimator sk-toggleable\"><input class=\"sk-toggleable__control sk-hidden--visually\" id=\"sk-estimator-id-1005\" type=\"checkbox\" ><label for=\"sk-estimator-id-1005\" class=\"sk-toggleable__label sk-toggleable__label-arrow\">OrdinalEncoder</label><div class=\"sk-toggleable__content\"><pre>OrdinalEncoder(categories=[[&#x27;N_A&#x27;, &#x27;Grvl&#x27;, &#x27;Pave&#x27;], [&#x27;N_A&#x27;, &#x27;N&#x27;, &#x27;Y&#x27;],\n",
       "                           [&#x27;N_A&#x27;, &#x27;Slab&#x27;, &#x27;BrkTil&#x27;, &#x27;CBlock&#x27;, &#x27;Wood&#x27;, &#x27;Stone&#x27;,\n",
       "                            &#x27;PConc&#x27;],\n",
       "                           [&#x27;N_A&#x27;, &#x27;Po&#x27;, &#x27;Fa&#x27;, &#x27;TA&#x27;, &#x27;Gd&#x27;, &#x27;Ex&#x27;],\n",
       "                           [&#x27;N_A&#x27;, &#x27;Po&#x27;, &#x27;Fa&#x27;, &#x27;TA&#x27;, &#x27;Gd&#x27;, &#x27;Ex&#x27;],\n",
       "                           [&#x27;N_A&#x27;, &#x27;NA&#x27;, &#x27;Po&#x27;, &#x27;Fa&#x27;, &#x27;TA&#x27;, &#x27;Gd&#x27;, &#x27;Ex&#x27;],\n",
       "                           [&#x27;N_A&#x27;, &#x27;NA&#x27;, &#x27;Po&#x27;, &#x27;Fa&#x27;, &#x27;TA&#x27;, &#x27;Gd&#x27;, &#x27;Ex&#x27;],\n",
       "                           [&#x27;N_A&#x27;, &#x27;NA&#x27;, &#x27;No&#x27;, &#x27;Mn&#x27;, &#x27;Av&#x27;, &#x27;Gd&#x27;],\n",
       "                           [&#x27;N_A&#x27;, &#x27;NA&#x27;, &#x27;Unf&#x27;, &#x27;LwQ&#x27;, &#x27;Rec&#x27;, &#x27;BLQ&#x27;, &#x27;ALQ&#x27;,\n",
       "                            &#x27;GLQ&#x27;],\n",
       "                           [&#x27;N_A...\n",
       "                           [&#x27;N_A&#x27;, &#x27;Roll&#x27;, &#x27;Tar&amp;Grv&#x27;, &#x27;CompShg&#x27;, &#x27;WdShngl&#x27;,\n",
       "                            &#x27;WdShake&#x27;, &#x27;Membran&#x27;, &#x27;Metal&#x27;, &#x27;ClyTile&#x27;],\n",
       "                           [&#x27;N_A&#x27;, &#x27;None&#x27;, &#x27;CBlock&#x27;, &#x27;BrkCmn&#x27;, &#x27;BrkFace&#x27;,\n",
       "                            &#x27;Stone&#x27;],\n",
       "                           [&#x27;N_A&#x27;, &#x27;Po&#x27;, &#x27;Fa&#x27;, &#x27;TA&#x27;, &#x27;Gd&#x27;, &#x27;Ex&#x27;],\n",
       "                           [&#x27;N_A&#x27;, &#x27;Mix&#x27;, &#x27;FuseP&#x27;, &#x27;FuseF&#x27;, &#x27;FuseA&#x27;, &#x27;SBrkr&#x27;],\n",
       "                           [&#x27;N_A&#x27;, &#x27;Sal&#x27;, &#x27;Sev&#x27;, &#x27;Maj2&#x27;, &#x27;Maj1&#x27;, &#x27;Mod&#x27;, &#x27;Min2&#x27;,\n",
       "                            &#x27;Min1&#x27;, &#x27;Typ&#x27;],\n",
       "                           [&#x27;N_A&#x27;, &#x27;NA&#x27;, &#x27;Unf&#x27;, &#x27;RFn&#x27;, &#x27;Fin&#x27;],\n",
       "                           [&#x27;N_A&#x27;, &#x27;Po&#x27;, &#x27;Fa&#x27;, &#x27;TA&#x27;, &#x27;Gd&#x27;, &#x27;Ex&#x27;],\n",
       "                           [&#x27;N_A&#x27;, &#x27;Po&#x27;, &#x27;Fa&#x27;, &#x27;TA&#x27;, &#x27;Gd&#x27;, &#x27;Ex&#x27;],\n",
       "                           [&#x27;N_A&#x27;, &#x27;N&#x27;, &#x27;P&#x27;, &#x27;Y&#x27;]])</pre></div></div></div></div></div></div><div class=\"sk-parallel-item\"><div class=\"sk-item\"><div class=\"sk-label-container\"><div class=\"sk-label sk-toggleable\"><input class=\"sk-toggleable__control sk-hidden--visually\" id=\"sk-estimator-id-1006\" type=\"checkbox\" ><label for=\"sk-estimator-id-1006\" class=\"sk-toggleable__label sk-toggleable__label-arrow\">cat_onehot</label><div class=\"sk-toggleable__content\"><pre>[&#x27;Heating&#x27;, &#x27;MSZoning&#x27;, &#x27;Condition1&#x27;, &#x27;Neighborhood&#x27;, &#x27;Exterior1st&#x27;, &#x27;GarageType&#x27;, &#x27;SaleType&#x27;]</pre></div></div></div><div class=\"sk-serial\"><div class=\"sk-item\"><div class=\"sk-estimator sk-toggleable\"><input class=\"sk-toggleable__control sk-hidden--visually\" id=\"sk-estimator-id-1007\" type=\"checkbox\" ><label for=\"sk-estimator-id-1007\" class=\"sk-toggleable__label sk-toggleable__label-arrow\">OneHotEncoder</label><div class=\"sk-toggleable__content\"><pre>OneHotEncoder(handle_unknown=&#x27;ignore&#x27;, sparse_output=False)</pre></div></div></div></div></div></div></div></div></div></div></div></div></div></div></div><div class=\"sk-item\"><div class=\"sk-estimator sk-toggleable\"><input class=\"sk-toggleable__control sk-hidden--visually\" id=\"sk-estimator-id-1008\" type=\"checkbox\" ><label for=\"sk-estimator-id-1008\" class=\"sk-toggleable__label sk-toggleable__label-arrow\">KNeighborsClassifier</label><div class=\"sk-toggleable__content\"><pre>KNeighborsClassifier()</pre></div></div></div></div></div></div></div></div></div></div></div></div>"
      ],
      "text/plain": [
       "GridSearchCV(cv=10,\n",
       "             estimator=Pipeline(steps=[('columntransformer',\n",
       "                                        ColumnTransformer(transformers=[('num_pipe',\n",
       "                                                                         Pipeline(steps=[('simpleimputer',\n",
       "                                                                                          SimpleImputer())]),\n",
       "                                                                         Index(['LotArea', 'LotFrontage', 'TotalBsmtSF', 'BedroomAbvGr', 'Fireplaces',\n",
       "       'PoolArea', 'GarageCars', 'WoodDeckSF', 'ScreenPorch', 'MSSubClass',\n",
       "       'OverallQual', 'OverallCond', 'YearBuilt', 'YearRemodA...\n",
       "       'GarageType', 'GarageFinish', 'GarageQual', 'GarageCond', 'PavedDrive',\n",
       "       'SaleType'],\n",
       "      dtype='object'))])),\n",
       "                                       ('kneighborsclassifier',\n",
       "                                        KNeighborsClassifier())]),\n",
       "             param_grid={'columntransformer__num_pipe__simpleimputer__strategy': ['mean',\n",
       "                                                                                  'median'],\n",
       "                         'kneighborsclassifier__n_neighbors': range(2, 50, 5),\n",
       "                         'kneighborsclassifier__weights': ['uniform',\n",
       "                                                           'distance']},\n",
       "             verbose=1)"
      ]
     },
     "execution_count": 595,
     "metadata": {},
     "output_type": "execute_result"
    }
   ],
   "source": [
    "param_grid_knn = {\n",
    "    \"columntransformer__num_pipe__simpleimputer__strategy\":[\"mean\", \"median\"],\n",
    "    \"kneighborsclassifier__n_neighbors\": range(2, 50, 5),\n",
    "    \"kneighborsclassifier__weights\": [\"uniform\", \"distance\"]\n",
    "}\n",
    "\n",
    "search_knn = GridSearchCV(full_knn_pipeline,\n",
    "                      param_grid_knn,\n",
    "                      cv=10,\n",
    "                      verbose=1)\n",
    "\n",
    "search_knn.fit(X_train, y_train)"
   ]
  },
  {
   "cell_type": "code",
   "execution_count": 596,
   "metadata": {
    "colab": {
     "base_uri": "https://localhost:8080/"
    },
    "id": "LcjVh3XAfyLV",
    "outputId": "b185bf4d-6ef8-41d2-a8f7-cf3f100fca59",
    "tags": []
   },
   "outputs": [
    {
     "data": {
      "text/plain": [
       "{'columntransformer__num_pipe__simpleimputer__strategy': 'mean',\n",
       " 'kneighborsclassifier__n_neighbors': 7,\n",
       " 'kneighborsclassifier__weights': 'distance'}"
      ]
     },
     "execution_count": 596,
     "metadata": {},
     "output_type": "execute_result"
    }
   ],
   "source": [
    "search_knn.best_params_"
   ]
  },
  {
   "cell_type": "code",
   "execution_count": 597,
   "metadata": {
    "colab": {
     "base_uri": "https://localhost:8080/"
    },
    "id": "qu062LXOf7ui",
    "outputId": "131bcf7e-0db9-4ee7-d955-a2e6d50fee75",
    "tags": []
   },
   "outputs": [
    {
     "data": {
      "text/plain": [
       "{'dtree': 0.9306734453286177, 'knn': 0.9126510462717359}"
      ]
     },
     "execution_count": 597,
     "metadata": {},
     "output_type": "execute_result"
    }
   ],
   "source": [
    "scores[\"knn\"] = search_knn.best_score_\n",
    "\n",
    "scores"
   ]
  },
  {
   "cell_type": "markdown",
   "metadata": {
    "id": "Nu-WRhhbg0mZ"
   },
   "source": [
    "### Adding a scaler"
   ]
  },
  {
   "cell_type": "code",
   "execution_count": 598,
   "metadata": {
    "id": "dXrih4osg34p",
    "tags": []
   },
   "outputs": [],
   "source": [
    "from sklearn.preprocessing import StandardScaler\n",
    "knn_full_pipeline_scaled = make_pipeline(preprocessor,\n",
    "                                  StandardScaler(),\n",
    "                                  KNeighborsClassifier()\n",
    "                                 )"
   ]
  },
  {
   "cell_type": "code",
   "execution_count": 599,
   "metadata": {
    "colab": {
     "base_uri": "https://localhost:8080/",
     "height": 259
    },
    "id": "qObI0YF8hFnb",
    "outputId": "87e1f02f-b126-4cf4-83df-067963fc7a51",
    "tags": []
   },
   "outputs": [
    {
     "data": {
      "text/html": [
       "<style>#sk-container-id-83 {color: black;}#sk-container-id-83 pre{padding: 0;}#sk-container-id-83 div.sk-toggleable {background-color: white;}#sk-container-id-83 label.sk-toggleable__label {cursor: pointer;display: block;width: 100%;margin-bottom: 0;padding: 0.3em;box-sizing: border-box;text-align: center;}#sk-container-id-83 label.sk-toggleable__label-arrow:before {content: \"▸\";float: left;margin-right: 0.25em;color: #696969;}#sk-container-id-83 label.sk-toggleable__label-arrow:hover:before {color: black;}#sk-container-id-83 div.sk-estimator:hover label.sk-toggleable__label-arrow:before {color: black;}#sk-container-id-83 div.sk-toggleable__content {max-height: 0;max-width: 0;overflow: hidden;text-align: left;background-color: #f0f8ff;}#sk-container-id-83 div.sk-toggleable__content pre {margin: 0.2em;color: black;border-radius: 0.25em;background-color: #f0f8ff;}#sk-container-id-83 input.sk-toggleable__control:checked~div.sk-toggleable__content {max-height: 200px;max-width: 100%;overflow: auto;}#sk-container-id-83 input.sk-toggleable__control:checked~label.sk-toggleable__label-arrow:before {content: \"▾\";}#sk-container-id-83 div.sk-estimator input.sk-toggleable__control:checked~label.sk-toggleable__label {background-color: #d4ebff;}#sk-container-id-83 div.sk-label input.sk-toggleable__control:checked~label.sk-toggleable__label {background-color: #d4ebff;}#sk-container-id-83 input.sk-hidden--visually {border: 0;clip: rect(1px 1px 1px 1px);clip: rect(1px, 1px, 1px, 1px);height: 1px;margin: -1px;overflow: hidden;padding: 0;position: absolute;width: 1px;}#sk-container-id-83 div.sk-estimator {font-family: monospace;background-color: #f0f8ff;border: 1px dotted black;border-radius: 0.25em;box-sizing: border-box;margin-bottom: 0.5em;}#sk-container-id-83 div.sk-estimator:hover {background-color: #d4ebff;}#sk-container-id-83 div.sk-parallel-item::after {content: \"\";width: 100%;border-bottom: 1px solid gray;flex-grow: 1;}#sk-container-id-83 div.sk-label:hover label.sk-toggleable__label {background-color: #d4ebff;}#sk-container-id-83 div.sk-serial::before {content: \"\";position: absolute;border-left: 1px solid gray;box-sizing: border-box;top: 0;bottom: 0;left: 50%;z-index: 0;}#sk-container-id-83 div.sk-serial {display: flex;flex-direction: column;align-items: center;background-color: white;padding-right: 0.2em;padding-left: 0.2em;position: relative;}#sk-container-id-83 div.sk-item {position: relative;z-index: 1;}#sk-container-id-83 div.sk-parallel {display: flex;align-items: stretch;justify-content: center;background-color: white;position: relative;}#sk-container-id-83 div.sk-item::before, #sk-container-id-83 div.sk-parallel-item::before {content: \"\";position: absolute;border-left: 1px solid gray;box-sizing: border-box;top: 0;bottom: 0;left: 50%;z-index: -1;}#sk-container-id-83 div.sk-parallel-item {display: flex;flex-direction: column;z-index: 1;position: relative;background-color: white;}#sk-container-id-83 div.sk-parallel-item:first-child::after {align-self: flex-end;width: 50%;}#sk-container-id-83 div.sk-parallel-item:last-child::after {align-self: flex-start;width: 50%;}#sk-container-id-83 div.sk-parallel-item:only-child::after {width: 0;}#sk-container-id-83 div.sk-dashed-wrapped {border: 1px dashed gray;margin: 0 0.4em 0.5em 0.4em;box-sizing: border-box;padding-bottom: 0.4em;background-color: white;}#sk-container-id-83 div.sk-label label {font-family: monospace;font-weight: bold;display: inline-block;line-height: 1.2em;}#sk-container-id-83 div.sk-label-container {text-align: center;}#sk-container-id-83 div.sk-container {/* jupyter's `normalize.less` sets `[hidden] { display: none; }` but bootstrap.min.css set `[hidden] { display: none !important; }` so we also need the `!important` here to be able to override the default hidden behavior on the sphinx rendered scikit-learn.org. See: https://github.com/scikit-learn/scikit-learn/issues/21755 */display: inline-block !important;position: relative;}#sk-container-id-83 div.sk-text-repr-fallback {display: none;}</style><div id=\"sk-container-id-83\" class=\"sk-top-container\"><div class=\"sk-text-repr-fallback\"><pre>Pipeline(steps=[(&#x27;columntransformer&#x27;,\n",
       "                 ColumnTransformer(transformers=[(&#x27;num_pipe&#x27;,\n",
       "                                                  Pipeline(steps=[(&#x27;simpleimputer&#x27;,\n",
       "                                                                   SimpleImputer())]),\n",
       "                                                  Index([&#x27;LotArea&#x27;, &#x27;LotFrontage&#x27;, &#x27;TotalBsmtSF&#x27;, &#x27;BedroomAbvGr&#x27;, &#x27;Fireplaces&#x27;,\n",
       "       &#x27;PoolArea&#x27;, &#x27;GarageCars&#x27;, &#x27;WoodDeckSF&#x27;, &#x27;ScreenPorch&#x27;, &#x27;MSSubClass&#x27;,\n",
       "       &#x27;OverallQual&#x27;, &#x27;OverallCond&#x27;, &#x27;YearBuilt&#x27;, &#x27;YearRemodAdd&#x27;, &#x27;MasVnrArea&#x27;,\n",
       "       &#x27;BsmtFinSF1&#x27;...\n",
       "       &#x27;LotShape&#x27;, &#x27;LandContour&#x27;, &#x27;Utilities&#x27;, &#x27;LotConfig&#x27;, &#x27;LandSlope&#x27;,\n",
       "       &#x27;Neighborhood&#x27;, &#x27;BldgType&#x27;, &#x27;HouseStyle&#x27;, &#x27;RoofStyle&#x27;, &#x27;RoofMatl&#x27;,\n",
       "       &#x27;Exterior1st&#x27;, &#x27;MasVnrType&#x27;, &#x27;HeatingQC&#x27;, &#x27;Electrical&#x27;, &#x27;Functional&#x27;,\n",
       "       &#x27;GarageType&#x27;, &#x27;GarageFinish&#x27;, &#x27;GarageQual&#x27;, &#x27;GarageCond&#x27;, &#x27;PavedDrive&#x27;,\n",
       "       &#x27;SaleType&#x27;],\n",
       "      dtype=&#x27;object&#x27;))])),\n",
       "                (&#x27;standardscaler&#x27;, StandardScaler()),\n",
       "                (&#x27;kneighborsclassifier&#x27;, KNeighborsClassifier())])</pre><b>In a Jupyter environment, please rerun this cell to show the HTML representation or trust the notebook. <br />On GitHub, the HTML representation is unable to render, please try loading this page with nbviewer.org.</b></div><div class=\"sk-container\" hidden><div class=\"sk-item sk-dashed-wrapped\"><div class=\"sk-label-container\"><div class=\"sk-label sk-toggleable\"><input class=\"sk-toggleable__control sk-hidden--visually\" id=\"sk-estimator-id-1009\" type=\"checkbox\" ><label for=\"sk-estimator-id-1009\" class=\"sk-toggleable__label sk-toggleable__label-arrow\">Pipeline</label><div class=\"sk-toggleable__content\"><pre>Pipeline(steps=[(&#x27;columntransformer&#x27;,\n",
       "                 ColumnTransformer(transformers=[(&#x27;num_pipe&#x27;,\n",
       "                                                  Pipeline(steps=[(&#x27;simpleimputer&#x27;,\n",
       "                                                                   SimpleImputer())]),\n",
       "                                                  Index([&#x27;LotArea&#x27;, &#x27;LotFrontage&#x27;, &#x27;TotalBsmtSF&#x27;, &#x27;BedroomAbvGr&#x27;, &#x27;Fireplaces&#x27;,\n",
       "       &#x27;PoolArea&#x27;, &#x27;GarageCars&#x27;, &#x27;WoodDeckSF&#x27;, &#x27;ScreenPorch&#x27;, &#x27;MSSubClass&#x27;,\n",
       "       &#x27;OverallQual&#x27;, &#x27;OverallCond&#x27;, &#x27;YearBuilt&#x27;, &#x27;YearRemodAdd&#x27;, &#x27;MasVnrArea&#x27;,\n",
       "       &#x27;BsmtFinSF1&#x27;...\n",
       "       &#x27;LotShape&#x27;, &#x27;LandContour&#x27;, &#x27;Utilities&#x27;, &#x27;LotConfig&#x27;, &#x27;LandSlope&#x27;,\n",
       "       &#x27;Neighborhood&#x27;, &#x27;BldgType&#x27;, &#x27;HouseStyle&#x27;, &#x27;RoofStyle&#x27;, &#x27;RoofMatl&#x27;,\n",
       "       &#x27;Exterior1st&#x27;, &#x27;MasVnrType&#x27;, &#x27;HeatingQC&#x27;, &#x27;Electrical&#x27;, &#x27;Functional&#x27;,\n",
       "       &#x27;GarageType&#x27;, &#x27;GarageFinish&#x27;, &#x27;GarageQual&#x27;, &#x27;GarageCond&#x27;, &#x27;PavedDrive&#x27;,\n",
       "       &#x27;SaleType&#x27;],\n",
       "      dtype=&#x27;object&#x27;))])),\n",
       "                (&#x27;standardscaler&#x27;, StandardScaler()),\n",
       "                (&#x27;kneighborsclassifier&#x27;, KNeighborsClassifier())])</pre></div></div></div><div class=\"sk-serial\"><div class=\"sk-item sk-dashed-wrapped\"><div class=\"sk-label-container\"><div class=\"sk-label sk-toggleable\"><input class=\"sk-toggleable__control sk-hidden--visually\" id=\"sk-estimator-id-1010\" type=\"checkbox\" ><label for=\"sk-estimator-id-1010\" class=\"sk-toggleable__label sk-toggleable__label-arrow\">columntransformer: ColumnTransformer</label><div class=\"sk-toggleable__content\"><pre>ColumnTransformer(transformers=[(&#x27;num_pipe&#x27;,\n",
       "                                 Pipeline(steps=[(&#x27;simpleimputer&#x27;,\n",
       "                                                  SimpleImputer())]),\n",
       "                                 Index([&#x27;LotArea&#x27;, &#x27;LotFrontage&#x27;, &#x27;TotalBsmtSF&#x27;, &#x27;BedroomAbvGr&#x27;, &#x27;Fireplaces&#x27;,\n",
       "       &#x27;PoolArea&#x27;, &#x27;GarageCars&#x27;, &#x27;WoodDeckSF&#x27;, &#x27;ScreenPorch&#x27;, &#x27;MSSubClass&#x27;,\n",
       "       &#x27;OverallQual&#x27;, &#x27;OverallCond&#x27;, &#x27;YearBuilt&#x27;, &#x27;YearRemodAdd&#x27;, &#x27;MasVnrArea&#x27;,\n",
       "       &#x27;BsmtFinSF1&#x27;, &#x27;BsmtFinSF2&#x27;, &#x27;BsmtUnfSF&#x27;, &#x27;1stFlrSF&#x27;,...\n",
       "       &#x27;Foundation&#x27;, &#x27;ExterQual&#x27;, &#x27;ExterCond&#x27;, &#x27;BsmtQual&#x27;, &#x27;BsmtCond&#x27;,\n",
       "       &#x27;BsmtExposure&#x27;, &#x27;BsmtFinType1&#x27;, &#x27;KitchenQual&#x27;, &#x27;FireplaceQu&#x27;,\n",
       "       &#x27;LotShape&#x27;, &#x27;LandContour&#x27;, &#x27;Utilities&#x27;, &#x27;LotConfig&#x27;, &#x27;LandSlope&#x27;,\n",
       "       &#x27;Neighborhood&#x27;, &#x27;BldgType&#x27;, &#x27;HouseStyle&#x27;, &#x27;RoofStyle&#x27;, &#x27;RoofMatl&#x27;,\n",
       "       &#x27;Exterior1st&#x27;, &#x27;MasVnrType&#x27;, &#x27;HeatingQC&#x27;, &#x27;Electrical&#x27;, &#x27;Functional&#x27;,\n",
       "       &#x27;GarageType&#x27;, &#x27;GarageFinish&#x27;, &#x27;GarageQual&#x27;, &#x27;GarageCond&#x27;, &#x27;PavedDrive&#x27;,\n",
       "       &#x27;SaleType&#x27;],\n",
       "      dtype=&#x27;object&#x27;))])</pre></div></div></div><div class=\"sk-parallel\"><div class=\"sk-parallel-item\"><div class=\"sk-item\"><div class=\"sk-label-container\"><div class=\"sk-label sk-toggleable\"><input class=\"sk-toggleable__control sk-hidden--visually\" id=\"sk-estimator-id-1011\" type=\"checkbox\" ><label for=\"sk-estimator-id-1011\" class=\"sk-toggleable__label sk-toggleable__label-arrow\">num_pipe</label><div class=\"sk-toggleable__content\"><pre>Index([&#x27;LotArea&#x27;, &#x27;LotFrontage&#x27;, &#x27;TotalBsmtSF&#x27;, &#x27;BedroomAbvGr&#x27;, &#x27;Fireplaces&#x27;,\n",
       "       &#x27;PoolArea&#x27;, &#x27;GarageCars&#x27;, &#x27;WoodDeckSF&#x27;, &#x27;ScreenPorch&#x27;, &#x27;MSSubClass&#x27;,\n",
       "       &#x27;OverallQual&#x27;, &#x27;OverallCond&#x27;, &#x27;YearBuilt&#x27;, &#x27;YearRemodAdd&#x27;, &#x27;MasVnrArea&#x27;,\n",
       "       &#x27;BsmtFinSF1&#x27;, &#x27;BsmtFinSF2&#x27;, &#x27;BsmtUnfSF&#x27;, &#x27;1stFlrSF&#x27;, &#x27;2ndFlrSF&#x27;,\n",
       "       &#x27;LowQualFinSF&#x27;, &#x27;GrLivArea&#x27;, &#x27;BsmtFullBath&#x27;, &#x27;BsmtHalfBath&#x27;, &#x27;FullBath&#x27;,\n",
       "       &#x27;HalfBath&#x27;, &#x27;KitchenAbvGr&#x27;, &#x27;TotRmsAbvGrd&#x27;, &#x27;GarageYrBlt&#x27;, &#x27;GarageArea&#x27;,\n",
       "       &#x27;OpenPorchSF&#x27;, &#x27;EnclosedPorch&#x27;, &#x27;3SsnPorch&#x27;, &#x27;MiscVal&#x27;, &#x27;MoSold&#x27;,\n",
       "       &#x27;YrSold&#x27;],\n",
       "      dtype=&#x27;object&#x27;)</pre></div></div></div><div class=\"sk-serial\"><div class=\"sk-item\"><div class=\"sk-serial\"><div class=\"sk-item\"><div class=\"sk-estimator sk-toggleable\"><input class=\"sk-toggleable__control sk-hidden--visually\" id=\"sk-estimator-id-1012\" type=\"checkbox\" ><label for=\"sk-estimator-id-1012\" class=\"sk-toggleable__label sk-toggleable__label-arrow\">SimpleImputer</label><div class=\"sk-toggleable__content\"><pre>SimpleImputer()</pre></div></div></div></div></div></div></div></div><div class=\"sk-parallel-item\"><div class=\"sk-item\"><div class=\"sk-label-container\"><div class=\"sk-label sk-toggleable\"><input class=\"sk-toggleable__control sk-hidden--visually\" id=\"sk-estimator-id-1013\" type=\"checkbox\" ><label for=\"sk-estimator-id-1013\" class=\"sk-toggleable__label sk-toggleable__label-arrow\">cat_pipe</label><div class=\"sk-toggleable__content\"><pre>Index([&#x27;MSZoning&#x27;, &#x27;Condition1&#x27;, &#x27;Heating&#x27;, &#x27;Street&#x27;, &#x27;CentralAir&#x27;,\n",
       "       &#x27;Foundation&#x27;, &#x27;ExterQual&#x27;, &#x27;ExterCond&#x27;, &#x27;BsmtQual&#x27;, &#x27;BsmtCond&#x27;,\n",
       "       &#x27;BsmtExposure&#x27;, &#x27;BsmtFinType1&#x27;, &#x27;KitchenQual&#x27;, &#x27;FireplaceQu&#x27;,\n",
       "       &#x27;LotShape&#x27;, &#x27;LandContour&#x27;, &#x27;Utilities&#x27;, &#x27;LotConfig&#x27;, &#x27;LandSlope&#x27;,\n",
       "       &#x27;Neighborhood&#x27;, &#x27;BldgType&#x27;, &#x27;HouseStyle&#x27;, &#x27;RoofStyle&#x27;, &#x27;RoofMatl&#x27;,\n",
       "       &#x27;Exterior1st&#x27;, &#x27;MasVnrType&#x27;, &#x27;HeatingQC&#x27;, &#x27;Electrical&#x27;, &#x27;Functional&#x27;,\n",
       "       &#x27;GarageType&#x27;, &#x27;GarageFinish&#x27;, &#x27;GarageQual&#x27;, &#x27;GarageCond&#x27;, &#x27;PavedDrive&#x27;,\n",
       "       &#x27;SaleType&#x27;],\n",
       "      dtype=&#x27;object&#x27;)</pre></div></div></div><div class=\"sk-serial\"><div class=\"sk-item\"><div class=\"sk-serial\"><div class=\"sk-item\"><div class=\"sk-estimator sk-toggleable\"><input class=\"sk-toggleable__control sk-hidden--visually\" id=\"sk-estimator-id-1014\" type=\"checkbox\" ><label for=\"sk-estimator-id-1014\" class=\"sk-toggleable__label sk-toggleable__label-arrow\">SimpleImputer</label><div class=\"sk-toggleable__content\"><pre>SimpleImputer(fill_value=&#x27;N_A&#x27;, strategy=&#x27;constant&#x27;)</pre></div></div></div><div class=\"sk-item sk-dashed-wrapped\"><div class=\"sk-label-container\"><div class=\"sk-label sk-toggleable\"><input class=\"sk-toggleable__control sk-hidden--visually\" id=\"sk-estimator-id-1015\" type=\"checkbox\" ><label for=\"sk-estimator-id-1015\" class=\"sk-toggleable__label sk-toggleable__label-arrow\">columntransformer: ColumnTransformer</label><div class=\"sk-toggleable__content\"><pre>ColumnTransformer(transformers=[(&#x27;cat_ordinal&#x27;,\n",
       "                                 OrdinalEncoder(categories=[[&#x27;N_A&#x27;, &#x27;Grvl&#x27;,\n",
       "                                                             &#x27;Pave&#x27;],\n",
       "                                                            [&#x27;N_A&#x27;, &#x27;N&#x27;, &#x27;Y&#x27;],\n",
       "                                                            [&#x27;N_A&#x27;, &#x27;Slab&#x27;,\n",
       "                                                             &#x27;BrkTil&#x27;, &#x27;CBlock&#x27;,\n",
       "                                                             &#x27;Wood&#x27;, &#x27;Stone&#x27;,\n",
       "                                                             &#x27;PConc&#x27;],\n",
       "                                                            [&#x27;N_A&#x27;, &#x27;Po&#x27;, &#x27;Fa&#x27;,\n",
       "                                                             &#x27;TA&#x27;, &#x27;Gd&#x27;, &#x27;Ex&#x27;],\n",
       "                                                            [&#x27;N_A&#x27;, &#x27;Po&#x27;, &#x27;Fa&#x27;,\n",
       "                                                             &#x27;TA&#x27;, &#x27;Gd&#x27;, &#x27;Ex&#x27;],\n",
       "                                                            [&#x27;N_A&#x27;, &#x27;NA&#x27;, &#x27;Po&#x27;,\n",
       "                                                             &#x27;Fa&#x27;, &#x27;TA&#x27;, &#x27;Gd&#x27;,\n",
       "                                                             &#x27;Ex&#x27;],\n",
       "                                                            [&#x27;N_A&#x27;, &#x27;NA&#x27;, &#x27;Po&#x27;,\n",
       "                                                             &#x27;Fa&#x27;, &#x27;TA&#x27;, &#x27;Gd&#x27;,\n",
       "                                                             &#x27;Ex&#x27;],\n",
       "                                                            [&#x27;N_A&#x27;, &#x27;NA&#x27;, &#x27;No&#x27;,\n",
       "                                                             &#x27;Mn&#x27;, &#x27;Av&#x27;, &#x27;Gd&#x27;],\n",
       "                                                            [&#x27;N_A&#x27;,...\n",
       "                                  &#x27;Utilities&#x27;, &#x27;LotConfig&#x27;, &#x27;LandSlope&#x27;,\n",
       "                                  &#x27;BldgType&#x27;, &#x27;HouseStyle&#x27;, &#x27;RoofStyle&#x27;,\n",
       "                                  &#x27;RoofMatl&#x27;, &#x27;MasVnrType&#x27;, &#x27;HeatingQC&#x27;,\n",
       "                                  &#x27;Electrical&#x27;, &#x27;Functional&#x27;, &#x27;GarageFinish&#x27;,\n",
       "                                  &#x27;GarageQual&#x27;, &#x27;GarageCond&#x27;, &#x27;PavedDrive&#x27;]),\n",
       "                                (&#x27;cat_onehot&#x27;,\n",
       "                                 OneHotEncoder(handle_unknown=&#x27;ignore&#x27;,\n",
       "                                               sparse_output=False),\n",
       "                                 [&#x27;Heating&#x27;, &#x27;MSZoning&#x27;, &#x27;Condition1&#x27;,\n",
       "                                  &#x27;Neighborhood&#x27;, &#x27;Exterior1st&#x27;, &#x27;GarageType&#x27;,\n",
       "                                  &#x27;SaleType&#x27;])])</pre></div></div></div><div class=\"sk-parallel\"><div class=\"sk-parallel-item\"><div class=\"sk-item\"><div class=\"sk-label-container\"><div class=\"sk-label sk-toggleable\"><input class=\"sk-toggleable__control sk-hidden--visually\" id=\"sk-estimator-id-1016\" type=\"checkbox\" ><label for=\"sk-estimator-id-1016\" class=\"sk-toggleable__label sk-toggleable__label-arrow\">cat_ordinal</label><div class=\"sk-toggleable__content\"><pre>[&#x27;Street&#x27;, &#x27;CentralAir&#x27;, &#x27;Foundation&#x27;, &#x27;ExterQual&#x27;, &#x27;ExterCond&#x27;, &#x27;BsmtQual&#x27;, &#x27;BsmtCond&#x27;, &#x27;BsmtExposure&#x27;, &#x27;BsmtFinType1&#x27;, &#x27;ExterQual&#x27;, &#x27;ExterCond&#x27;, &#x27;KitchenQual&#x27;, &#x27;FireplaceQu&#x27;, &#x27;LotShape&#x27;, &#x27;LandContour&#x27;, &#x27;Utilities&#x27;, &#x27;LotConfig&#x27;, &#x27;LandSlope&#x27;, &#x27;BldgType&#x27;, &#x27;HouseStyle&#x27;, &#x27;RoofStyle&#x27;, &#x27;RoofMatl&#x27;, &#x27;MasVnrType&#x27;, &#x27;HeatingQC&#x27;, &#x27;Electrical&#x27;, &#x27;Functional&#x27;, &#x27;GarageFinish&#x27;, &#x27;GarageQual&#x27;, &#x27;GarageCond&#x27;, &#x27;PavedDrive&#x27;]</pre></div></div></div><div class=\"sk-serial\"><div class=\"sk-item\"><div class=\"sk-estimator sk-toggleable\"><input class=\"sk-toggleable__control sk-hidden--visually\" id=\"sk-estimator-id-1017\" type=\"checkbox\" ><label for=\"sk-estimator-id-1017\" class=\"sk-toggleable__label sk-toggleable__label-arrow\">OrdinalEncoder</label><div class=\"sk-toggleable__content\"><pre>OrdinalEncoder(categories=[[&#x27;N_A&#x27;, &#x27;Grvl&#x27;, &#x27;Pave&#x27;], [&#x27;N_A&#x27;, &#x27;N&#x27;, &#x27;Y&#x27;],\n",
       "                           [&#x27;N_A&#x27;, &#x27;Slab&#x27;, &#x27;BrkTil&#x27;, &#x27;CBlock&#x27;, &#x27;Wood&#x27;, &#x27;Stone&#x27;,\n",
       "                            &#x27;PConc&#x27;],\n",
       "                           [&#x27;N_A&#x27;, &#x27;Po&#x27;, &#x27;Fa&#x27;, &#x27;TA&#x27;, &#x27;Gd&#x27;, &#x27;Ex&#x27;],\n",
       "                           [&#x27;N_A&#x27;, &#x27;Po&#x27;, &#x27;Fa&#x27;, &#x27;TA&#x27;, &#x27;Gd&#x27;, &#x27;Ex&#x27;],\n",
       "                           [&#x27;N_A&#x27;, &#x27;NA&#x27;, &#x27;Po&#x27;, &#x27;Fa&#x27;, &#x27;TA&#x27;, &#x27;Gd&#x27;, &#x27;Ex&#x27;],\n",
       "                           [&#x27;N_A&#x27;, &#x27;NA&#x27;, &#x27;Po&#x27;, &#x27;Fa&#x27;, &#x27;TA&#x27;, &#x27;Gd&#x27;, &#x27;Ex&#x27;],\n",
       "                           [&#x27;N_A&#x27;, &#x27;NA&#x27;, &#x27;No&#x27;, &#x27;Mn&#x27;, &#x27;Av&#x27;, &#x27;Gd&#x27;],\n",
       "                           [&#x27;N_A&#x27;, &#x27;NA&#x27;, &#x27;Unf&#x27;, &#x27;LwQ&#x27;, &#x27;Rec&#x27;, &#x27;BLQ&#x27;, &#x27;ALQ&#x27;,\n",
       "                            &#x27;GLQ&#x27;],\n",
       "                           [&#x27;N_A...\n",
       "                           [&#x27;N_A&#x27;, &#x27;Roll&#x27;, &#x27;Tar&amp;Grv&#x27;, &#x27;CompShg&#x27;, &#x27;WdShngl&#x27;,\n",
       "                            &#x27;WdShake&#x27;, &#x27;Membran&#x27;, &#x27;Metal&#x27;, &#x27;ClyTile&#x27;],\n",
       "                           [&#x27;N_A&#x27;, &#x27;None&#x27;, &#x27;CBlock&#x27;, &#x27;BrkCmn&#x27;, &#x27;BrkFace&#x27;,\n",
       "                            &#x27;Stone&#x27;],\n",
       "                           [&#x27;N_A&#x27;, &#x27;Po&#x27;, &#x27;Fa&#x27;, &#x27;TA&#x27;, &#x27;Gd&#x27;, &#x27;Ex&#x27;],\n",
       "                           [&#x27;N_A&#x27;, &#x27;Mix&#x27;, &#x27;FuseP&#x27;, &#x27;FuseF&#x27;, &#x27;FuseA&#x27;, &#x27;SBrkr&#x27;],\n",
       "                           [&#x27;N_A&#x27;, &#x27;Sal&#x27;, &#x27;Sev&#x27;, &#x27;Maj2&#x27;, &#x27;Maj1&#x27;, &#x27;Mod&#x27;, &#x27;Min2&#x27;,\n",
       "                            &#x27;Min1&#x27;, &#x27;Typ&#x27;],\n",
       "                           [&#x27;N_A&#x27;, &#x27;NA&#x27;, &#x27;Unf&#x27;, &#x27;RFn&#x27;, &#x27;Fin&#x27;],\n",
       "                           [&#x27;N_A&#x27;, &#x27;Po&#x27;, &#x27;Fa&#x27;, &#x27;TA&#x27;, &#x27;Gd&#x27;, &#x27;Ex&#x27;],\n",
       "                           [&#x27;N_A&#x27;, &#x27;Po&#x27;, &#x27;Fa&#x27;, &#x27;TA&#x27;, &#x27;Gd&#x27;, &#x27;Ex&#x27;],\n",
       "                           [&#x27;N_A&#x27;, &#x27;N&#x27;, &#x27;P&#x27;, &#x27;Y&#x27;]])</pre></div></div></div></div></div></div><div class=\"sk-parallel-item\"><div class=\"sk-item\"><div class=\"sk-label-container\"><div class=\"sk-label sk-toggleable\"><input class=\"sk-toggleable__control sk-hidden--visually\" id=\"sk-estimator-id-1018\" type=\"checkbox\" ><label for=\"sk-estimator-id-1018\" class=\"sk-toggleable__label sk-toggleable__label-arrow\">cat_onehot</label><div class=\"sk-toggleable__content\"><pre>[&#x27;Heating&#x27;, &#x27;MSZoning&#x27;, &#x27;Condition1&#x27;, &#x27;Neighborhood&#x27;, &#x27;Exterior1st&#x27;, &#x27;GarageType&#x27;, &#x27;SaleType&#x27;]</pre></div></div></div><div class=\"sk-serial\"><div class=\"sk-item\"><div class=\"sk-estimator sk-toggleable\"><input class=\"sk-toggleable__control sk-hidden--visually\" id=\"sk-estimator-id-1019\" type=\"checkbox\" ><label for=\"sk-estimator-id-1019\" class=\"sk-toggleable__label sk-toggleable__label-arrow\">OneHotEncoder</label><div class=\"sk-toggleable__content\"><pre>OneHotEncoder(handle_unknown=&#x27;ignore&#x27;, sparse_output=False)</pre></div></div></div></div></div></div></div></div></div></div></div></div></div></div></div><div class=\"sk-item\"><div class=\"sk-estimator sk-toggleable\"><input class=\"sk-toggleable__control sk-hidden--visually\" id=\"sk-estimator-id-1020\" type=\"checkbox\" ><label for=\"sk-estimator-id-1020\" class=\"sk-toggleable__label sk-toggleable__label-arrow\">StandardScaler</label><div class=\"sk-toggleable__content\"><pre>StandardScaler()</pre></div></div></div><div class=\"sk-item\"><div class=\"sk-estimator sk-toggleable\"><input class=\"sk-toggleable__control sk-hidden--visually\" id=\"sk-estimator-id-1021\" type=\"checkbox\" ><label for=\"sk-estimator-id-1021\" class=\"sk-toggleable__label sk-toggleable__label-arrow\">KNeighborsClassifier</label><div class=\"sk-toggleable__content\"><pre>KNeighborsClassifier()</pre></div></div></div></div></div></div></div>"
      ],
      "text/plain": [
       "Pipeline(steps=[('columntransformer',\n",
       "                 ColumnTransformer(transformers=[('num_pipe',\n",
       "                                                  Pipeline(steps=[('simpleimputer',\n",
       "                                                                   SimpleImputer())]),\n",
       "                                                  Index(['LotArea', 'LotFrontage', 'TotalBsmtSF', 'BedroomAbvGr', 'Fireplaces',\n",
       "       'PoolArea', 'GarageCars', 'WoodDeckSF', 'ScreenPorch', 'MSSubClass',\n",
       "       'OverallQual', 'OverallCond', 'YearBuilt', 'YearRemodAdd', 'MasVnrArea',\n",
       "       'BsmtFinSF1'...\n",
       "       'LotShape', 'LandContour', 'Utilities', 'LotConfig', 'LandSlope',\n",
       "       'Neighborhood', 'BldgType', 'HouseStyle', 'RoofStyle', 'RoofMatl',\n",
       "       'Exterior1st', 'MasVnrType', 'HeatingQC', 'Electrical', 'Functional',\n",
       "       'GarageType', 'GarageFinish', 'GarageQual', 'GarageCond', 'PavedDrive',\n",
       "       'SaleType'],\n",
       "      dtype='object'))])),\n",
       "                ('standardscaler', StandardScaler()),\n",
       "                ('kneighborsclassifier', KNeighborsClassifier())])"
      ]
     },
     "execution_count": 599,
     "metadata": {},
     "output_type": "execute_result"
    }
   ],
   "source": [
    "knn_full_pipeline_scaled"
   ]
  },
  {
   "cell_type": "code",
   "execution_count": 600,
   "metadata": {
    "colab": {
     "base_uri": "https://localhost:8080/",
     "height": 303
    },
    "id": "uFzMR08UhUlR",
    "outputId": "a78c5f59-3a6d-4c3d-fb17-a448a356629e",
    "tags": []
   },
   "outputs": [],
   "source": [
    "param_grid_knn_scaled = {\n",
    "    \"columntransformer__num_pipe__simpleimputer__strategy\":[\"mean\", \"median\"],\n",
    "    \"kneighborsclassifier__n_neighbors\": range(2, 50, 5),\n",
    "    \"kneighborsclassifier__weights\": [\"uniform\", \"distance\"]\n",
    "}\n",
    "\n",
    "search_knn_scaled = GridSearchCV(knn_full_pipeline_scaled,\n",
    "                      param_grid_knn_scaled,\n",
    "                      cv=10,\n",
    "                      verbose=1)"
   ]
  },
  {
   "cell_type": "code",
   "execution_count": 601,
   "metadata": {
    "tags": []
   },
   "outputs": [
    {
     "name": "stdout",
     "output_type": "stream",
     "text": [
      "Fitting 10 folds for each of 40 candidates, totalling 400 fits\n"
     ]
    },
    {
     "data": {
      "text/html": [
       "<style>#sk-container-id-84 {color: black;}#sk-container-id-84 pre{padding: 0;}#sk-container-id-84 div.sk-toggleable {background-color: white;}#sk-container-id-84 label.sk-toggleable__label {cursor: pointer;display: block;width: 100%;margin-bottom: 0;padding: 0.3em;box-sizing: border-box;text-align: center;}#sk-container-id-84 label.sk-toggleable__label-arrow:before {content: \"▸\";float: left;margin-right: 0.25em;color: #696969;}#sk-container-id-84 label.sk-toggleable__label-arrow:hover:before {color: black;}#sk-container-id-84 div.sk-estimator:hover label.sk-toggleable__label-arrow:before {color: black;}#sk-container-id-84 div.sk-toggleable__content {max-height: 0;max-width: 0;overflow: hidden;text-align: left;background-color: #f0f8ff;}#sk-container-id-84 div.sk-toggleable__content pre {margin: 0.2em;color: black;border-radius: 0.25em;background-color: #f0f8ff;}#sk-container-id-84 input.sk-toggleable__control:checked~div.sk-toggleable__content {max-height: 200px;max-width: 100%;overflow: auto;}#sk-container-id-84 input.sk-toggleable__control:checked~label.sk-toggleable__label-arrow:before {content: \"▾\";}#sk-container-id-84 div.sk-estimator input.sk-toggleable__control:checked~label.sk-toggleable__label {background-color: #d4ebff;}#sk-container-id-84 div.sk-label input.sk-toggleable__control:checked~label.sk-toggleable__label {background-color: #d4ebff;}#sk-container-id-84 input.sk-hidden--visually {border: 0;clip: rect(1px 1px 1px 1px);clip: rect(1px, 1px, 1px, 1px);height: 1px;margin: -1px;overflow: hidden;padding: 0;position: absolute;width: 1px;}#sk-container-id-84 div.sk-estimator {font-family: monospace;background-color: #f0f8ff;border: 1px dotted black;border-radius: 0.25em;box-sizing: border-box;margin-bottom: 0.5em;}#sk-container-id-84 div.sk-estimator:hover {background-color: #d4ebff;}#sk-container-id-84 div.sk-parallel-item::after {content: \"\";width: 100%;border-bottom: 1px solid gray;flex-grow: 1;}#sk-container-id-84 div.sk-label:hover label.sk-toggleable__label {background-color: #d4ebff;}#sk-container-id-84 div.sk-serial::before {content: \"\";position: absolute;border-left: 1px solid gray;box-sizing: border-box;top: 0;bottom: 0;left: 50%;z-index: 0;}#sk-container-id-84 div.sk-serial {display: flex;flex-direction: column;align-items: center;background-color: white;padding-right: 0.2em;padding-left: 0.2em;position: relative;}#sk-container-id-84 div.sk-item {position: relative;z-index: 1;}#sk-container-id-84 div.sk-parallel {display: flex;align-items: stretch;justify-content: center;background-color: white;position: relative;}#sk-container-id-84 div.sk-item::before, #sk-container-id-84 div.sk-parallel-item::before {content: \"\";position: absolute;border-left: 1px solid gray;box-sizing: border-box;top: 0;bottom: 0;left: 50%;z-index: -1;}#sk-container-id-84 div.sk-parallel-item {display: flex;flex-direction: column;z-index: 1;position: relative;background-color: white;}#sk-container-id-84 div.sk-parallel-item:first-child::after {align-self: flex-end;width: 50%;}#sk-container-id-84 div.sk-parallel-item:last-child::after {align-self: flex-start;width: 50%;}#sk-container-id-84 div.sk-parallel-item:only-child::after {width: 0;}#sk-container-id-84 div.sk-dashed-wrapped {border: 1px dashed gray;margin: 0 0.4em 0.5em 0.4em;box-sizing: border-box;padding-bottom: 0.4em;background-color: white;}#sk-container-id-84 div.sk-label label {font-family: monospace;font-weight: bold;display: inline-block;line-height: 1.2em;}#sk-container-id-84 div.sk-label-container {text-align: center;}#sk-container-id-84 div.sk-container {/* jupyter's `normalize.less` sets `[hidden] { display: none; }` but bootstrap.min.css set `[hidden] { display: none !important; }` so we also need the `!important` here to be able to override the default hidden behavior on the sphinx rendered scikit-learn.org. See: https://github.com/scikit-learn/scikit-learn/issues/21755 */display: inline-block !important;position: relative;}#sk-container-id-84 div.sk-text-repr-fallback {display: none;}</style><div id=\"sk-container-id-84\" class=\"sk-top-container\"><div class=\"sk-text-repr-fallback\"><pre>GridSearchCV(cv=10,\n",
       "             estimator=Pipeline(steps=[(&#x27;columntransformer&#x27;,\n",
       "                                        ColumnTransformer(transformers=[(&#x27;num_pipe&#x27;,\n",
       "                                                                         Pipeline(steps=[(&#x27;simpleimputer&#x27;,\n",
       "                                                                                          SimpleImputer())]),\n",
       "                                                                         Index([&#x27;LotArea&#x27;, &#x27;LotFrontage&#x27;, &#x27;TotalBsmtSF&#x27;, &#x27;BedroomAbvGr&#x27;, &#x27;Fireplaces&#x27;,\n",
       "       &#x27;PoolArea&#x27;, &#x27;GarageCars&#x27;, &#x27;WoodDeckSF&#x27;, &#x27;ScreenPorch&#x27;, &#x27;MSSubClass&#x27;,\n",
       "       &#x27;OverallQual&#x27;, &#x27;OverallCond&#x27;, &#x27;YearBuilt&#x27;, &#x27;YearRemodA...\n",
       "       &#x27;GarageType&#x27;, &#x27;GarageFinish&#x27;, &#x27;GarageQual&#x27;, &#x27;GarageCond&#x27;, &#x27;PavedDrive&#x27;,\n",
       "       &#x27;SaleType&#x27;],\n",
       "      dtype=&#x27;object&#x27;))])),\n",
       "                                       (&#x27;standardscaler&#x27;, StandardScaler()),\n",
       "                                       (&#x27;kneighborsclassifier&#x27;,\n",
       "                                        KNeighborsClassifier())]),\n",
       "             param_grid={&#x27;columntransformer__num_pipe__simpleimputer__strategy&#x27;: [&#x27;mean&#x27;,\n",
       "                                                                                  &#x27;median&#x27;],\n",
       "                         &#x27;kneighborsclassifier__n_neighbors&#x27;: range(2, 50, 5),\n",
       "                         &#x27;kneighborsclassifier__weights&#x27;: [&#x27;uniform&#x27;,\n",
       "                                                           &#x27;distance&#x27;]},\n",
       "             verbose=1)</pre><b>In a Jupyter environment, please rerun this cell to show the HTML representation or trust the notebook. <br />On GitHub, the HTML representation is unable to render, please try loading this page with nbviewer.org.</b></div><div class=\"sk-container\" hidden><div class=\"sk-item sk-dashed-wrapped\"><div class=\"sk-label-container\"><div class=\"sk-label sk-toggleable\"><input class=\"sk-toggleable__control sk-hidden--visually\" id=\"sk-estimator-id-1022\" type=\"checkbox\" ><label for=\"sk-estimator-id-1022\" class=\"sk-toggleable__label sk-toggleable__label-arrow\">GridSearchCV</label><div class=\"sk-toggleable__content\"><pre>GridSearchCV(cv=10,\n",
       "             estimator=Pipeline(steps=[(&#x27;columntransformer&#x27;,\n",
       "                                        ColumnTransformer(transformers=[(&#x27;num_pipe&#x27;,\n",
       "                                                                         Pipeline(steps=[(&#x27;simpleimputer&#x27;,\n",
       "                                                                                          SimpleImputer())]),\n",
       "                                                                         Index([&#x27;LotArea&#x27;, &#x27;LotFrontage&#x27;, &#x27;TotalBsmtSF&#x27;, &#x27;BedroomAbvGr&#x27;, &#x27;Fireplaces&#x27;,\n",
       "       &#x27;PoolArea&#x27;, &#x27;GarageCars&#x27;, &#x27;WoodDeckSF&#x27;, &#x27;ScreenPorch&#x27;, &#x27;MSSubClass&#x27;,\n",
       "       &#x27;OverallQual&#x27;, &#x27;OverallCond&#x27;, &#x27;YearBuilt&#x27;, &#x27;YearRemodA...\n",
       "       &#x27;GarageType&#x27;, &#x27;GarageFinish&#x27;, &#x27;GarageQual&#x27;, &#x27;GarageCond&#x27;, &#x27;PavedDrive&#x27;,\n",
       "       &#x27;SaleType&#x27;],\n",
       "      dtype=&#x27;object&#x27;))])),\n",
       "                                       (&#x27;standardscaler&#x27;, StandardScaler()),\n",
       "                                       (&#x27;kneighborsclassifier&#x27;,\n",
       "                                        KNeighborsClassifier())]),\n",
       "             param_grid={&#x27;columntransformer__num_pipe__simpleimputer__strategy&#x27;: [&#x27;mean&#x27;,\n",
       "                                                                                  &#x27;median&#x27;],\n",
       "                         &#x27;kneighborsclassifier__n_neighbors&#x27;: range(2, 50, 5),\n",
       "                         &#x27;kneighborsclassifier__weights&#x27;: [&#x27;uniform&#x27;,\n",
       "                                                           &#x27;distance&#x27;]},\n",
       "             verbose=1)</pre></div></div></div><div class=\"sk-parallel\"><div class=\"sk-parallel-item\"><div class=\"sk-item\"><div class=\"sk-label-container\"><div class=\"sk-label sk-toggleable\"><input class=\"sk-toggleable__control sk-hidden--visually\" id=\"sk-estimator-id-1023\" type=\"checkbox\" ><label for=\"sk-estimator-id-1023\" class=\"sk-toggleable__label sk-toggleable__label-arrow\">estimator: Pipeline</label><div class=\"sk-toggleable__content\"><pre>Pipeline(steps=[(&#x27;columntransformer&#x27;,\n",
       "                 ColumnTransformer(transformers=[(&#x27;num_pipe&#x27;,\n",
       "                                                  Pipeline(steps=[(&#x27;simpleimputer&#x27;,\n",
       "                                                                   SimpleImputer())]),\n",
       "                                                  Index([&#x27;LotArea&#x27;, &#x27;LotFrontage&#x27;, &#x27;TotalBsmtSF&#x27;, &#x27;BedroomAbvGr&#x27;, &#x27;Fireplaces&#x27;,\n",
       "       &#x27;PoolArea&#x27;, &#x27;GarageCars&#x27;, &#x27;WoodDeckSF&#x27;, &#x27;ScreenPorch&#x27;, &#x27;MSSubClass&#x27;,\n",
       "       &#x27;OverallQual&#x27;, &#x27;OverallCond&#x27;, &#x27;YearBuilt&#x27;, &#x27;YearRemodAdd&#x27;, &#x27;MasVnrArea&#x27;,\n",
       "       &#x27;BsmtFinSF1&#x27;...\n",
       "       &#x27;LotShape&#x27;, &#x27;LandContour&#x27;, &#x27;Utilities&#x27;, &#x27;LotConfig&#x27;, &#x27;LandSlope&#x27;,\n",
       "       &#x27;Neighborhood&#x27;, &#x27;BldgType&#x27;, &#x27;HouseStyle&#x27;, &#x27;RoofStyle&#x27;, &#x27;RoofMatl&#x27;,\n",
       "       &#x27;Exterior1st&#x27;, &#x27;MasVnrType&#x27;, &#x27;HeatingQC&#x27;, &#x27;Electrical&#x27;, &#x27;Functional&#x27;,\n",
       "       &#x27;GarageType&#x27;, &#x27;GarageFinish&#x27;, &#x27;GarageQual&#x27;, &#x27;GarageCond&#x27;, &#x27;PavedDrive&#x27;,\n",
       "       &#x27;SaleType&#x27;],\n",
       "      dtype=&#x27;object&#x27;))])),\n",
       "                (&#x27;standardscaler&#x27;, StandardScaler()),\n",
       "                (&#x27;kneighborsclassifier&#x27;, KNeighborsClassifier())])</pre></div></div></div><div class=\"sk-serial\"><div class=\"sk-item\"><div class=\"sk-serial\"><div class=\"sk-item sk-dashed-wrapped\"><div class=\"sk-label-container\"><div class=\"sk-label sk-toggleable\"><input class=\"sk-toggleable__control sk-hidden--visually\" id=\"sk-estimator-id-1024\" type=\"checkbox\" ><label for=\"sk-estimator-id-1024\" class=\"sk-toggleable__label sk-toggleable__label-arrow\">columntransformer: ColumnTransformer</label><div class=\"sk-toggleable__content\"><pre>ColumnTransformer(transformers=[(&#x27;num_pipe&#x27;,\n",
       "                                 Pipeline(steps=[(&#x27;simpleimputer&#x27;,\n",
       "                                                  SimpleImputer())]),\n",
       "                                 Index([&#x27;LotArea&#x27;, &#x27;LotFrontage&#x27;, &#x27;TotalBsmtSF&#x27;, &#x27;BedroomAbvGr&#x27;, &#x27;Fireplaces&#x27;,\n",
       "       &#x27;PoolArea&#x27;, &#x27;GarageCars&#x27;, &#x27;WoodDeckSF&#x27;, &#x27;ScreenPorch&#x27;, &#x27;MSSubClass&#x27;,\n",
       "       &#x27;OverallQual&#x27;, &#x27;OverallCond&#x27;, &#x27;YearBuilt&#x27;, &#x27;YearRemodAdd&#x27;, &#x27;MasVnrArea&#x27;,\n",
       "       &#x27;BsmtFinSF1&#x27;, &#x27;BsmtFinSF2&#x27;, &#x27;BsmtUnfSF&#x27;, &#x27;1stFlrSF&#x27;,...\n",
       "       &#x27;Foundation&#x27;, &#x27;ExterQual&#x27;, &#x27;ExterCond&#x27;, &#x27;BsmtQual&#x27;, &#x27;BsmtCond&#x27;,\n",
       "       &#x27;BsmtExposure&#x27;, &#x27;BsmtFinType1&#x27;, &#x27;KitchenQual&#x27;, &#x27;FireplaceQu&#x27;,\n",
       "       &#x27;LotShape&#x27;, &#x27;LandContour&#x27;, &#x27;Utilities&#x27;, &#x27;LotConfig&#x27;, &#x27;LandSlope&#x27;,\n",
       "       &#x27;Neighborhood&#x27;, &#x27;BldgType&#x27;, &#x27;HouseStyle&#x27;, &#x27;RoofStyle&#x27;, &#x27;RoofMatl&#x27;,\n",
       "       &#x27;Exterior1st&#x27;, &#x27;MasVnrType&#x27;, &#x27;HeatingQC&#x27;, &#x27;Electrical&#x27;, &#x27;Functional&#x27;,\n",
       "       &#x27;GarageType&#x27;, &#x27;GarageFinish&#x27;, &#x27;GarageQual&#x27;, &#x27;GarageCond&#x27;, &#x27;PavedDrive&#x27;,\n",
       "       &#x27;SaleType&#x27;],\n",
       "      dtype=&#x27;object&#x27;))])</pre></div></div></div><div class=\"sk-parallel\"><div class=\"sk-parallel-item\"><div class=\"sk-item\"><div class=\"sk-label-container\"><div class=\"sk-label sk-toggleable\"><input class=\"sk-toggleable__control sk-hidden--visually\" id=\"sk-estimator-id-1025\" type=\"checkbox\" ><label for=\"sk-estimator-id-1025\" class=\"sk-toggleable__label sk-toggleable__label-arrow\">num_pipe</label><div class=\"sk-toggleable__content\"><pre>Index([&#x27;LotArea&#x27;, &#x27;LotFrontage&#x27;, &#x27;TotalBsmtSF&#x27;, &#x27;BedroomAbvGr&#x27;, &#x27;Fireplaces&#x27;,\n",
       "       &#x27;PoolArea&#x27;, &#x27;GarageCars&#x27;, &#x27;WoodDeckSF&#x27;, &#x27;ScreenPorch&#x27;, &#x27;MSSubClass&#x27;,\n",
       "       &#x27;OverallQual&#x27;, &#x27;OverallCond&#x27;, &#x27;YearBuilt&#x27;, &#x27;YearRemodAdd&#x27;, &#x27;MasVnrArea&#x27;,\n",
       "       &#x27;BsmtFinSF1&#x27;, &#x27;BsmtFinSF2&#x27;, &#x27;BsmtUnfSF&#x27;, &#x27;1stFlrSF&#x27;, &#x27;2ndFlrSF&#x27;,\n",
       "       &#x27;LowQualFinSF&#x27;, &#x27;GrLivArea&#x27;, &#x27;BsmtFullBath&#x27;, &#x27;BsmtHalfBath&#x27;, &#x27;FullBath&#x27;,\n",
       "       &#x27;HalfBath&#x27;, &#x27;KitchenAbvGr&#x27;, &#x27;TotRmsAbvGrd&#x27;, &#x27;GarageYrBlt&#x27;, &#x27;GarageArea&#x27;,\n",
       "       &#x27;OpenPorchSF&#x27;, &#x27;EnclosedPorch&#x27;, &#x27;3SsnPorch&#x27;, &#x27;MiscVal&#x27;, &#x27;MoSold&#x27;,\n",
       "       &#x27;YrSold&#x27;],\n",
       "      dtype=&#x27;object&#x27;)</pre></div></div></div><div class=\"sk-serial\"><div class=\"sk-item\"><div class=\"sk-serial\"><div class=\"sk-item\"><div class=\"sk-estimator sk-toggleable\"><input class=\"sk-toggleable__control sk-hidden--visually\" id=\"sk-estimator-id-1026\" type=\"checkbox\" ><label for=\"sk-estimator-id-1026\" class=\"sk-toggleable__label sk-toggleable__label-arrow\">SimpleImputer</label><div class=\"sk-toggleable__content\"><pre>SimpleImputer()</pre></div></div></div></div></div></div></div></div><div class=\"sk-parallel-item\"><div class=\"sk-item\"><div class=\"sk-label-container\"><div class=\"sk-label sk-toggleable\"><input class=\"sk-toggleable__control sk-hidden--visually\" id=\"sk-estimator-id-1027\" type=\"checkbox\" ><label for=\"sk-estimator-id-1027\" class=\"sk-toggleable__label sk-toggleable__label-arrow\">cat_pipe</label><div class=\"sk-toggleable__content\"><pre>Index([&#x27;MSZoning&#x27;, &#x27;Condition1&#x27;, &#x27;Heating&#x27;, &#x27;Street&#x27;, &#x27;CentralAir&#x27;,\n",
       "       &#x27;Foundation&#x27;, &#x27;ExterQual&#x27;, &#x27;ExterCond&#x27;, &#x27;BsmtQual&#x27;, &#x27;BsmtCond&#x27;,\n",
       "       &#x27;BsmtExposure&#x27;, &#x27;BsmtFinType1&#x27;, &#x27;KitchenQual&#x27;, &#x27;FireplaceQu&#x27;,\n",
       "       &#x27;LotShape&#x27;, &#x27;LandContour&#x27;, &#x27;Utilities&#x27;, &#x27;LotConfig&#x27;, &#x27;LandSlope&#x27;,\n",
       "       &#x27;Neighborhood&#x27;, &#x27;BldgType&#x27;, &#x27;HouseStyle&#x27;, &#x27;RoofStyle&#x27;, &#x27;RoofMatl&#x27;,\n",
       "       &#x27;Exterior1st&#x27;, &#x27;MasVnrType&#x27;, &#x27;HeatingQC&#x27;, &#x27;Electrical&#x27;, &#x27;Functional&#x27;,\n",
       "       &#x27;GarageType&#x27;, &#x27;GarageFinish&#x27;, &#x27;GarageQual&#x27;, &#x27;GarageCond&#x27;, &#x27;PavedDrive&#x27;,\n",
       "       &#x27;SaleType&#x27;],\n",
       "      dtype=&#x27;object&#x27;)</pre></div></div></div><div class=\"sk-serial\"><div class=\"sk-item\"><div class=\"sk-serial\"><div class=\"sk-item\"><div class=\"sk-estimator sk-toggleable\"><input class=\"sk-toggleable__control sk-hidden--visually\" id=\"sk-estimator-id-1028\" type=\"checkbox\" ><label for=\"sk-estimator-id-1028\" class=\"sk-toggleable__label sk-toggleable__label-arrow\">SimpleImputer</label><div class=\"sk-toggleable__content\"><pre>SimpleImputer(fill_value=&#x27;N_A&#x27;, strategy=&#x27;constant&#x27;)</pre></div></div></div><div class=\"sk-item sk-dashed-wrapped\"><div class=\"sk-label-container\"><div class=\"sk-label sk-toggleable\"><input class=\"sk-toggleable__control sk-hidden--visually\" id=\"sk-estimator-id-1029\" type=\"checkbox\" ><label for=\"sk-estimator-id-1029\" class=\"sk-toggleable__label sk-toggleable__label-arrow\">columntransformer: ColumnTransformer</label><div class=\"sk-toggleable__content\"><pre>ColumnTransformer(transformers=[(&#x27;cat_ordinal&#x27;,\n",
       "                                 OrdinalEncoder(categories=[[&#x27;N_A&#x27;, &#x27;Grvl&#x27;,\n",
       "                                                             &#x27;Pave&#x27;],\n",
       "                                                            [&#x27;N_A&#x27;, &#x27;N&#x27;, &#x27;Y&#x27;],\n",
       "                                                            [&#x27;N_A&#x27;, &#x27;Slab&#x27;,\n",
       "                                                             &#x27;BrkTil&#x27;, &#x27;CBlock&#x27;,\n",
       "                                                             &#x27;Wood&#x27;, &#x27;Stone&#x27;,\n",
       "                                                             &#x27;PConc&#x27;],\n",
       "                                                            [&#x27;N_A&#x27;, &#x27;Po&#x27;, &#x27;Fa&#x27;,\n",
       "                                                             &#x27;TA&#x27;, &#x27;Gd&#x27;, &#x27;Ex&#x27;],\n",
       "                                                            [&#x27;N_A&#x27;, &#x27;Po&#x27;, &#x27;Fa&#x27;,\n",
       "                                                             &#x27;TA&#x27;, &#x27;Gd&#x27;, &#x27;Ex&#x27;],\n",
       "                                                            [&#x27;N_A&#x27;, &#x27;NA&#x27;, &#x27;Po&#x27;,\n",
       "                                                             &#x27;Fa&#x27;, &#x27;TA&#x27;, &#x27;Gd&#x27;,\n",
       "                                                             &#x27;Ex&#x27;],\n",
       "                                                            [&#x27;N_A&#x27;, &#x27;NA&#x27;, &#x27;Po&#x27;,\n",
       "                                                             &#x27;Fa&#x27;, &#x27;TA&#x27;, &#x27;Gd&#x27;,\n",
       "                                                             &#x27;Ex&#x27;],\n",
       "                                                            [&#x27;N_A&#x27;, &#x27;NA&#x27;, &#x27;No&#x27;,\n",
       "                                                             &#x27;Mn&#x27;, &#x27;Av&#x27;, &#x27;Gd&#x27;],\n",
       "                                                            [&#x27;N_A&#x27;,...\n",
       "                                  &#x27;Utilities&#x27;, &#x27;LotConfig&#x27;, &#x27;LandSlope&#x27;,\n",
       "                                  &#x27;BldgType&#x27;, &#x27;HouseStyle&#x27;, &#x27;RoofStyle&#x27;,\n",
       "                                  &#x27;RoofMatl&#x27;, &#x27;MasVnrType&#x27;, &#x27;HeatingQC&#x27;,\n",
       "                                  &#x27;Electrical&#x27;, &#x27;Functional&#x27;, &#x27;GarageFinish&#x27;,\n",
       "                                  &#x27;GarageQual&#x27;, &#x27;GarageCond&#x27;, &#x27;PavedDrive&#x27;]),\n",
       "                                (&#x27;cat_onehot&#x27;,\n",
       "                                 OneHotEncoder(handle_unknown=&#x27;ignore&#x27;,\n",
       "                                               sparse_output=False),\n",
       "                                 [&#x27;Heating&#x27;, &#x27;MSZoning&#x27;, &#x27;Condition1&#x27;,\n",
       "                                  &#x27;Neighborhood&#x27;, &#x27;Exterior1st&#x27;, &#x27;GarageType&#x27;,\n",
       "                                  &#x27;SaleType&#x27;])])</pre></div></div></div><div class=\"sk-parallel\"><div class=\"sk-parallel-item\"><div class=\"sk-item\"><div class=\"sk-label-container\"><div class=\"sk-label sk-toggleable\"><input class=\"sk-toggleable__control sk-hidden--visually\" id=\"sk-estimator-id-1030\" type=\"checkbox\" ><label for=\"sk-estimator-id-1030\" class=\"sk-toggleable__label sk-toggleable__label-arrow\">cat_ordinal</label><div class=\"sk-toggleable__content\"><pre>[&#x27;Street&#x27;, &#x27;CentralAir&#x27;, &#x27;Foundation&#x27;, &#x27;ExterQual&#x27;, &#x27;ExterCond&#x27;, &#x27;BsmtQual&#x27;, &#x27;BsmtCond&#x27;, &#x27;BsmtExposure&#x27;, &#x27;BsmtFinType1&#x27;, &#x27;ExterQual&#x27;, &#x27;ExterCond&#x27;, &#x27;KitchenQual&#x27;, &#x27;FireplaceQu&#x27;, &#x27;LotShape&#x27;, &#x27;LandContour&#x27;, &#x27;Utilities&#x27;, &#x27;LotConfig&#x27;, &#x27;LandSlope&#x27;, &#x27;BldgType&#x27;, &#x27;HouseStyle&#x27;, &#x27;RoofStyle&#x27;, &#x27;RoofMatl&#x27;, &#x27;MasVnrType&#x27;, &#x27;HeatingQC&#x27;, &#x27;Electrical&#x27;, &#x27;Functional&#x27;, &#x27;GarageFinish&#x27;, &#x27;GarageQual&#x27;, &#x27;GarageCond&#x27;, &#x27;PavedDrive&#x27;]</pre></div></div></div><div class=\"sk-serial\"><div class=\"sk-item\"><div class=\"sk-estimator sk-toggleable\"><input class=\"sk-toggleable__control sk-hidden--visually\" id=\"sk-estimator-id-1031\" type=\"checkbox\" ><label for=\"sk-estimator-id-1031\" class=\"sk-toggleable__label sk-toggleable__label-arrow\">OrdinalEncoder</label><div class=\"sk-toggleable__content\"><pre>OrdinalEncoder(categories=[[&#x27;N_A&#x27;, &#x27;Grvl&#x27;, &#x27;Pave&#x27;], [&#x27;N_A&#x27;, &#x27;N&#x27;, &#x27;Y&#x27;],\n",
       "                           [&#x27;N_A&#x27;, &#x27;Slab&#x27;, &#x27;BrkTil&#x27;, &#x27;CBlock&#x27;, &#x27;Wood&#x27;, &#x27;Stone&#x27;,\n",
       "                            &#x27;PConc&#x27;],\n",
       "                           [&#x27;N_A&#x27;, &#x27;Po&#x27;, &#x27;Fa&#x27;, &#x27;TA&#x27;, &#x27;Gd&#x27;, &#x27;Ex&#x27;],\n",
       "                           [&#x27;N_A&#x27;, &#x27;Po&#x27;, &#x27;Fa&#x27;, &#x27;TA&#x27;, &#x27;Gd&#x27;, &#x27;Ex&#x27;],\n",
       "                           [&#x27;N_A&#x27;, &#x27;NA&#x27;, &#x27;Po&#x27;, &#x27;Fa&#x27;, &#x27;TA&#x27;, &#x27;Gd&#x27;, &#x27;Ex&#x27;],\n",
       "                           [&#x27;N_A&#x27;, &#x27;NA&#x27;, &#x27;Po&#x27;, &#x27;Fa&#x27;, &#x27;TA&#x27;, &#x27;Gd&#x27;, &#x27;Ex&#x27;],\n",
       "                           [&#x27;N_A&#x27;, &#x27;NA&#x27;, &#x27;No&#x27;, &#x27;Mn&#x27;, &#x27;Av&#x27;, &#x27;Gd&#x27;],\n",
       "                           [&#x27;N_A&#x27;, &#x27;NA&#x27;, &#x27;Unf&#x27;, &#x27;LwQ&#x27;, &#x27;Rec&#x27;, &#x27;BLQ&#x27;, &#x27;ALQ&#x27;,\n",
       "                            &#x27;GLQ&#x27;],\n",
       "                           [&#x27;N_A...\n",
       "                           [&#x27;N_A&#x27;, &#x27;Roll&#x27;, &#x27;Tar&amp;Grv&#x27;, &#x27;CompShg&#x27;, &#x27;WdShngl&#x27;,\n",
       "                            &#x27;WdShake&#x27;, &#x27;Membran&#x27;, &#x27;Metal&#x27;, &#x27;ClyTile&#x27;],\n",
       "                           [&#x27;N_A&#x27;, &#x27;None&#x27;, &#x27;CBlock&#x27;, &#x27;BrkCmn&#x27;, &#x27;BrkFace&#x27;,\n",
       "                            &#x27;Stone&#x27;],\n",
       "                           [&#x27;N_A&#x27;, &#x27;Po&#x27;, &#x27;Fa&#x27;, &#x27;TA&#x27;, &#x27;Gd&#x27;, &#x27;Ex&#x27;],\n",
       "                           [&#x27;N_A&#x27;, &#x27;Mix&#x27;, &#x27;FuseP&#x27;, &#x27;FuseF&#x27;, &#x27;FuseA&#x27;, &#x27;SBrkr&#x27;],\n",
       "                           [&#x27;N_A&#x27;, &#x27;Sal&#x27;, &#x27;Sev&#x27;, &#x27;Maj2&#x27;, &#x27;Maj1&#x27;, &#x27;Mod&#x27;, &#x27;Min2&#x27;,\n",
       "                            &#x27;Min1&#x27;, &#x27;Typ&#x27;],\n",
       "                           [&#x27;N_A&#x27;, &#x27;NA&#x27;, &#x27;Unf&#x27;, &#x27;RFn&#x27;, &#x27;Fin&#x27;],\n",
       "                           [&#x27;N_A&#x27;, &#x27;Po&#x27;, &#x27;Fa&#x27;, &#x27;TA&#x27;, &#x27;Gd&#x27;, &#x27;Ex&#x27;],\n",
       "                           [&#x27;N_A&#x27;, &#x27;Po&#x27;, &#x27;Fa&#x27;, &#x27;TA&#x27;, &#x27;Gd&#x27;, &#x27;Ex&#x27;],\n",
       "                           [&#x27;N_A&#x27;, &#x27;N&#x27;, &#x27;P&#x27;, &#x27;Y&#x27;]])</pre></div></div></div></div></div></div><div class=\"sk-parallel-item\"><div class=\"sk-item\"><div class=\"sk-label-container\"><div class=\"sk-label sk-toggleable\"><input class=\"sk-toggleable__control sk-hidden--visually\" id=\"sk-estimator-id-1032\" type=\"checkbox\" ><label for=\"sk-estimator-id-1032\" class=\"sk-toggleable__label sk-toggleable__label-arrow\">cat_onehot</label><div class=\"sk-toggleable__content\"><pre>[&#x27;Heating&#x27;, &#x27;MSZoning&#x27;, &#x27;Condition1&#x27;, &#x27;Neighborhood&#x27;, &#x27;Exterior1st&#x27;, &#x27;GarageType&#x27;, &#x27;SaleType&#x27;]</pre></div></div></div><div class=\"sk-serial\"><div class=\"sk-item\"><div class=\"sk-estimator sk-toggleable\"><input class=\"sk-toggleable__control sk-hidden--visually\" id=\"sk-estimator-id-1033\" type=\"checkbox\" ><label for=\"sk-estimator-id-1033\" class=\"sk-toggleable__label sk-toggleable__label-arrow\">OneHotEncoder</label><div class=\"sk-toggleable__content\"><pre>OneHotEncoder(handle_unknown=&#x27;ignore&#x27;, sparse_output=False)</pre></div></div></div></div></div></div></div></div></div></div></div></div></div></div></div><div class=\"sk-item\"><div class=\"sk-estimator sk-toggleable\"><input class=\"sk-toggleable__control sk-hidden--visually\" id=\"sk-estimator-id-1034\" type=\"checkbox\" ><label for=\"sk-estimator-id-1034\" class=\"sk-toggleable__label sk-toggleable__label-arrow\">StandardScaler</label><div class=\"sk-toggleable__content\"><pre>StandardScaler()</pre></div></div></div><div class=\"sk-item\"><div class=\"sk-estimator sk-toggleable\"><input class=\"sk-toggleable__control sk-hidden--visually\" id=\"sk-estimator-id-1035\" type=\"checkbox\" ><label for=\"sk-estimator-id-1035\" class=\"sk-toggleable__label sk-toggleable__label-arrow\">KNeighborsClassifier</label><div class=\"sk-toggleable__content\"><pre>KNeighborsClassifier()</pre></div></div></div></div></div></div></div></div></div></div></div></div>"
      ],
      "text/plain": [
       "GridSearchCV(cv=10,\n",
       "             estimator=Pipeline(steps=[('columntransformer',\n",
       "                                        ColumnTransformer(transformers=[('num_pipe',\n",
       "                                                                         Pipeline(steps=[('simpleimputer',\n",
       "                                                                                          SimpleImputer())]),\n",
       "                                                                         Index(['LotArea', 'LotFrontage', 'TotalBsmtSF', 'BedroomAbvGr', 'Fireplaces',\n",
       "       'PoolArea', 'GarageCars', 'WoodDeckSF', 'ScreenPorch', 'MSSubClass',\n",
       "       'OverallQual', 'OverallCond', 'YearBuilt', 'YearRemodA...\n",
       "       'GarageType', 'GarageFinish', 'GarageQual', 'GarageCond', 'PavedDrive',\n",
       "       'SaleType'],\n",
       "      dtype='object'))])),\n",
       "                                       ('standardscaler', StandardScaler()),\n",
       "                                       ('kneighborsclassifier',\n",
       "                                        KNeighborsClassifier())]),\n",
       "             param_grid={'columntransformer__num_pipe__simpleimputer__strategy': ['mean',\n",
       "                                                                                  'median'],\n",
       "                         'kneighborsclassifier__n_neighbors': range(2, 50, 5),\n",
       "                         'kneighborsclassifier__weights': ['uniform',\n",
       "                                                           'distance']},\n",
       "             verbose=1)"
      ]
     },
     "execution_count": 601,
     "metadata": {},
     "output_type": "execute_result"
    }
   ],
   "source": [
    "search_knn_scaled.fit(X_train, y_train)"
   ]
  },
  {
   "cell_type": "code",
   "execution_count": 602,
   "metadata": {
    "colab": {
     "base_uri": "https://localhost:8080/"
    },
    "id": "7iZ6wD6MhxmH",
    "outputId": "4b63fa87-3882-482d-ba10-744ef64e918e",
    "tags": []
   },
   "outputs": [
    {
     "data": {
      "text/plain": [
       "{'columntransformer__num_pipe__simpleimputer__strategy': 'mean',\n",
       " 'kneighborsclassifier__n_neighbors': 7,\n",
       " 'kneighborsclassifier__weights': 'distance'}"
      ]
     },
     "execution_count": 602,
     "metadata": {},
     "output_type": "execute_result"
    }
   ],
   "source": [
    "search_knn_scaled.best_params_"
   ]
  },
  {
   "cell_type": "code",
   "execution_count": 603,
   "metadata": {
    "colab": {
     "base_uri": "https://localhost:8080/"
    },
    "id": "Vt9NX1xpiXCx",
    "outputId": "0a25505f-a9ee-40cd-9731-19281d35296a",
    "tags": []
   },
   "outputs": [
    {
     "data": {
      "text/plain": [
       "{'dtree': 0.9306734453286177,\n",
       " 'knn': 0.9126510462717359,\n",
       " 'knn_scaled': 0.9263483642793988}"
      ]
     },
     "execution_count": 603,
     "metadata": {},
     "output_type": "execute_result"
    }
   ],
   "source": [
    "scores[\"knn_scaled\"] = search_knn_scaled.best_score_\n",
    "\n",
    "scores"
   ]
  },
  {
   "cell_type": "code",
   "execution_count": 604,
   "metadata": {
    "colab": {
     "base_uri": "https://localhost:8080/"
    },
    "id": "V6FWjwjBi6HF",
    "outputId": "24a13a21-7efe-432f-b81a-8306f134e907",
    "tags": []
   },
   "outputs": [
    {
     "data": {
      "text/plain": [
       "0.9383561643835616"
      ]
     },
     "execution_count": 604,
     "metadata": {},
     "output_type": "execute_result"
    }
   ],
   "source": [
    "accuracy_score(y_test, search_knn_scaled.predict(X_test))"
   ]
  },
  {
   "cell_type": "code",
   "execution_count": 605,
   "metadata": {
    "id": "quWQfhOMjeC7",
    "tags": []
   },
   "outputs": [
    {
     "data": {
      "image/png": "[encoded data removed]",
      "text/plain": [
       "<Figure size 640x480 with 2 Axes>"
      ]
     },
     "metadata": {},
     "output_type": "display_data"
    }
   ],
   "source": [
    "#from sklearn.metrics import plot_confusion_matrix\n",
    "#plot_confusion_matrix(search, X_test, y_test, display_labels=['Not Survied', 'Survived']);\n",
    "\n",
    "from sklearn.metrics import ConfusionMatrixDisplay\n",
    "ConfusionMatrixDisplay.from_estimator(search,\n",
    "                                      X_test,\n",
    "                                      y_test,\n",
    "                                      display_labels=['Not Expensive','Expensive']);"
   ]
  },
  {
   "cell_type": "markdown",
   "metadata": {
    "id": "xtLN70Br1Bg1",
    "tags": []
   },
   "source": [
    "### **Exercise 2:** build the same pipeline using other algorithms\n",
    "\n",
    "Go through the Plaform lesson on Model Selection () and check the performance of, at least, the following algorithms:\n",
    "\n",
    "* Logistic Regression\n",
    "* Support Vector Machine\n",
    "* Random Forest"
   ]
  },
  {
   "cell_type": "markdown",
   "metadata": {
    "id": "xtLN70Br1Bg1",
    "tags": []
   },
   "source": [
    "#### LogisticRegression"
   ]
  },
  {
   "cell_type": "code",
   "execution_count": 606,
   "metadata": {
    "id": "1dU1RjlP2rNI",
    "tags": []
   },
   "outputs": [],
   "source": [
    "from sklearn.linear_model import LogisticRegression\n"
   ]
  },
  {
   "cell_type": "code",
   "execution_count": 607,
   "metadata": {
    "tags": []
   },
   "outputs": [],
   "source": [
    "full_logreg_pipeline_scaled = make_pipeline(preprocessor,\n",
    "                                    StandardScaler(),\n",
    "                                 LogisticRegression())"
   ]
  },
  {
   "cell_type": "code",
   "execution_count": 608,
   "metadata": {
    "tags": []
   },
   "outputs": [],
   "source": [
    "#full_logreg_pipeline_scaled = make_pipeline(preprocessor,\n",
    "#                                  StandardScaler(),\n",
    "#                                  LogisticRegression(solver='newton-cholesky'))"
   ]
  },
  {
   "cell_type": "code",
   "execution_count": 609,
   "metadata": {
    "tags": []
   },
   "outputs": [],
   "source": [
    "#full_logreg_pipeline_scaled = make_pipeline(preprocessor,\n",
    "#                                  StandardScaler(),\n",
    "#                                  LogisticRegression(solver='newton-cholesky'))"
   ]
  },
  {
   "cell_type": "code",
   "execution_count": 610,
   "metadata": {
    "tags": []
   },
   "outputs": [
    {
     "data": {
      "text/html": [
       "<style>#sk-container-id-85 {color: black;}#sk-container-id-85 pre{padding: 0;}#sk-container-id-85 div.sk-toggleable {background-color: white;}#sk-container-id-85 label.sk-toggleable__label {cursor: pointer;display: block;width: 100%;margin-bottom: 0;padding: 0.3em;box-sizing: border-box;text-align: center;}#sk-container-id-85 label.sk-toggleable__label-arrow:before {content: \"▸\";float: left;margin-right: 0.25em;color: #696969;}#sk-container-id-85 label.sk-toggleable__label-arrow:hover:before {color: black;}#sk-container-id-85 div.sk-estimator:hover label.sk-toggleable__label-arrow:before {color: black;}#sk-container-id-85 div.sk-toggleable__content {max-height: 0;max-width: 0;overflow: hidden;text-align: left;background-color: #f0f8ff;}#sk-container-id-85 div.sk-toggleable__content pre {margin: 0.2em;color: black;border-radius: 0.25em;background-color: #f0f8ff;}#sk-container-id-85 input.sk-toggleable__control:checked~div.sk-toggleable__content {max-height: 200px;max-width: 100%;overflow: auto;}#sk-container-id-85 input.sk-toggleable__control:checked~label.sk-toggleable__label-arrow:before {content: \"▾\";}#sk-container-id-85 div.sk-estimator input.sk-toggleable__control:checked~label.sk-toggleable__label {background-color: #d4ebff;}#sk-container-id-85 div.sk-label input.sk-toggleable__control:checked~label.sk-toggleable__label {background-color: #d4ebff;}#sk-container-id-85 input.sk-hidden--visually {border: 0;clip: rect(1px 1px 1px 1px);clip: rect(1px, 1px, 1px, 1px);height: 1px;margin: -1px;overflow: hidden;padding: 0;position: absolute;width: 1px;}#sk-container-id-85 div.sk-estimator {font-family: monospace;background-color: #f0f8ff;border: 1px dotted black;border-radius: 0.25em;box-sizing: border-box;margin-bottom: 0.5em;}#sk-container-id-85 div.sk-estimator:hover {background-color: #d4ebff;}#sk-container-id-85 div.sk-parallel-item::after {content: \"\";width: 100%;border-bottom: 1px solid gray;flex-grow: 1;}#sk-container-id-85 div.sk-label:hover label.sk-toggleable__label {background-color: #d4ebff;}#sk-container-id-85 div.sk-serial::before {content: \"\";position: absolute;border-left: 1px solid gray;box-sizing: border-box;top: 0;bottom: 0;left: 50%;z-index: 0;}#sk-container-id-85 div.sk-serial {display: flex;flex-direction: column;align-items: center;background-color: white;padding-right: 0.2em;padding-left: 0.2em;position: relative;}#sk-container-id-85 div.sk-item {position: relative;z-index: 1;}#sk-container-id-85 div.sk-parallel {display: flex;align-items: stretch;justify-content: center;background-color: white;position: relative;}#sk-container-id-85 div.sk-item::before, #sk-container-id-85 div.sk-parallel-item::before {content: \"\";position: absolute;border-left: 1px solid gray;box-sizing: border-box;top: 0;bottom: 0;left: 50%;z-index: -1;}#sk-container-id-85 div.sk-parallel-item {display: flex;flex-direction: column;z-index: 1;position: relative;background-color: white;}#sk-container-id-85 div.sk-parallel-item:first-child::after {align-self: flex-end;width: 50%;}#sk-container-id-85 div.sk-parallel-item:last-child::after {align-self: flex-start;width: 50%;}#sk-container-id-85 div.sk-parallel-item:only-child::after {width: 0;}#sk-container-id-85 div.sk-dashed-wrapped {border: 1px dashed gray;margin: 0 0.4em 0.5em 0.4em;box-sizing: border-box;padding-bottom: 0.4em;background-color: white;}#sk-container-id-85 div.sk-label label {font-family: monospace;font-weight: bold;display: inline-block;line-height: 1.2em;}#sk-container-id-85 div.sk-label-container {text-align: center;}#sk-container-id-85 div.sk-container {/* jupyter's `normalize.less` sets `[hidden] { display: none; }` but bootstrap.min.css set `[hidden] { display: none !important; }` so we also need the `!important` here to be able to override the default hidden behavior on the sphinx rendered scikit-learn.org. See: https://github.com/scikit-learn/scikit-learn/issues/21755 */display: inline-block !important;position: relative;}#sk-container-id-85 div.sk-text-repr-fallback {display: none;}</style><div id=\"sk-container-id-85\" class=\"sk-top-container\"><div class=\"sk-text-repr-fallback\"><pre>Pipeline(steps=[(&#x27;columntransformer&#x27;,\n",
       "                 ColumnTransformer(transformers=[(&#x27;num_pipe&#x27;,\n",
       "                                                  Pipeline(steps=[(&#x27;simpleimputer&#x27;,\n",
       "                                                                   SimpleImputer())]),\n",
       "                                                  Index([&#x27;LotArea&#x27;, &#x27;LotFrontage&#x27;, &#x27;TotalBsmtSF&#x27;, &#x27;BedroomAbvGr&#x27;, &#x27;Fireplaces&#x27;,\n",
       "       &#x27;PoolArea&#x27;, &#x27;GarageCars&#x27;, &#x27;WoodDeckSF&#x27;, &#x27;ScreenPorch&#x27;, &#x27;MSSubClass&#x27;,\n",
       "       &#x27;OverallQual&#x27;, &#x27;OverallCond&#x27;, &#x27;YearBuilt&#x27;, &#x27;YearRemodAdd&#x27;, &#x27;MasVnrArea&#x27;,\n",
       "       &#x27;BsmtFinSF1&#x27;...\n",
       "       &#x27;LotShape&#x27;, &#x27;LandContour&#x27;, &#x27;Utilities&#x27;, &#x27;LotConfig&#x27;, &#x27;LandSlope&#x27;,\n",
       "       &#x27;Neighborhood&#x27;, &#x27;BldgType&#x27;, &#x27;HouseStyle&#x27;, &#x27;RoofStyle&#x27;, &#x27;RoofMatl&#x27;,\n",
       "       &#x27;Exterior1st&#x27;, &#x27;MasVnrType&#x27;, &#x27;HeatingQC&#x27;, &#x27;Electrical&#x27;, &#x27;Functional&#x27;,\n",
       "       &#x27;GarageType&#x27;, &#x27;GarageFinish&#x27;, &#x27;GarageQual&#x27;, &#x27;GarageCond&#x27;, &#x27;PavedDrive&#x27;,\n",
       "       &#x27;SaleType&#x27;],\n",
       "      dtype=&#x27;object&#x27;))])),\n",
       "                (&#x27;standardscaler&#x27;, StandardScaler()),\n",
       "                (&#x27;logisticregression&#x27;, LogisticRegression())])</pre><b>In a Jupyter environment, please rerun this cell to show the HTML representation or trust the notebook. <br />On GitHub, the HTML representation is unable to render, please try loading this page with nbviewer.org.</b></div><div class=\"sk-container\" hidden><div class=\"sk-item sk-dashed-wrapped\"><div class=\"sk-label-container\"><div class=\"sk-label sk-toggleable\"><input class=\"sk-toggleable__control sk-hidden--visually\" id=\"sk-estimator-id-1036\" type=\"checkbox\" ><label for=\"sk-estimator-id-1036\" class=\"sk-toggleable__label sk-toggleable__label-arrow\">Pipeline</label><div class=\"sk-toggleable__content\"><pre>Pipeline(steps=[(&#x27;columntransformer&#x27;,\n",
       "                 ColumnTransformer(transformers=[(&#x27;num_pipe&#x27;,\n",
       "                                                  Pipeline(steps=[(&#x27;simpleimputer&#x27;,\n",
       "                                                                   SimpleImputer())]),\n",
       "                                                  Index([&#x27;LotArea&#x27;, &#x27;LotFrontage&#x27;, &#x27;TotalBsmtSF&#x27;, &#x27;BedroomAbvGr&#x27;, &#x27;Fireplaces&#x27;,\n",
       "       &#x27;PoolArea&#x27;, &#x27;GarageCars&#x27;, &#x27;WoodDeckSF&#x27;, &#x27;ScreenPorch&#x27;, &#x27;MSSubClass&#x27;,\n",
       "       &#x27;OverallQual&#x27;, &#x27;OverallCond&#x27;, &#x27;YearBuilt&#x27;, &#x27;YearRemodAdd&#x27;, &#x27;MasVnrArea&#x27;,\n",
       "       &#x27;BsmtFinSF1&#x27;...\n",
       "       &#x27;LotShape&#x27;, &#x27;LandContour&#x27;, &#x27;Utilities&#x27;, &#x27;LotConfig&#x27;, &#x27;LandSlope&#x27;,\n",
       "       &#x27;Neighborhood&#x27;, &#x27;BldgType&#x27;, &#x27;HouseStyle&#x27;, &#x27;RoofStyle&#x27;, &#x27;RoofMatl&#x27;,\n",
       "       &#x27;Exterior1st&#x27;, &#x27;MasVnrType&#x27;, &#x27;HeatingQC&#x27;, &#x27;Electrical&#x27;, &#x27;Functional&#x27;,\n",
       "       &#x27;GarageType&#x27;, &#x27;GarageFinish&#x27;, &#x27;GarageQual&#x27;, &#x27;GarageCond&#x27;, &#x27;PavedDrive&#x27;,\n",
       "       &#x27;SaleType&#x27;],\n",
       "      dtype=&#x27;object&#x27;))])),\n",
       "                (&#x27;standardscaler&#x27;, StandardScaler()),\n",
       "                (&#x27;logisticregression&#x27;, LogisticRegression())])</pre></div></div></div><div class=\"sk-serial\"><div class=\"sk-item sk-dashed-wrapped\"><div class=\"sk-label-container\"><div class=\"sk-label sk-toggleable\"><input class=\"sk-toggleable__control sk-hidden--visually\" id=\"sk-estimator-id-1037\" type=\"checkbox\" ><label for=\"sk-estimator-id-1037\" class=\"sk-toggleable__label sk-toggleable__label-arrow\">columntransformer: ColumnTransformer</label><div class=\"sk-toggleable__content\"><pre>ColumnTransformer(transformers=[(&#x27;num_pipe&#x27;,\n",
       "                                 Pipeline(steps=[(&#x27;simpleimputer&#x27;,\n",
       "                                                  SimpleImputer())]),\n",
       "                                 Index([&#x27;LotArea&#x27;, &#x27;LotFrontage&#x27;, &#x27;TotalBsmtSF&#x27;, &#x27;BedroomAbvGr&#x27;, &#x27;Fireplaces&#x27;,\n",
       "       &#x27;PoolArea&#x27;, &#x27;GarageCars&#x27;, &#x27;WoodDeckSF&#x27;, &#x27;ScreenPorch&#x27;, &#x27;MSSubClass&#x27;,\n",
       "       &#x27;OverallQual&#x27;, &#x27;OverallCond&#x27;, &#x27;YearBuilt&#x27;, &#x27;YearRemodAdd&#x27;, &#x27;MasVnrArea&#x27;,\n",
       "       &#x27;BsmtFinSF1&#x27;, &#x27;BsmtFinSF2&#x27;, &#x27;BsmtUnfSF&#x27;, &#x27;1stFlrSF&#x27;,...\n",
       "       &#x27;Foundation&#x27;, &#x27;ExterQual&#x27;, &#x27;ExterCond&#x27;, &#x27;BsmtQual&#x27;, &#x27;BsmtCond&#x27;,\n",
       "       &#x27;BsmtExposure&#x27;, &#x27;BsmtFinType1&#x27;, &#x27;KitchenQual&#x27;, &#x27;FireplaceQu&#x27;,\n",
       "       &#x27;LotShape&#x27;, &#x27;LandContour&#x27;, &#x27;Utilities&#x27;, &#x27;LotConfig&#x27;, &#x27;LandSlope&#x27;,\n",
       "       &#x27;Neighborhood&#x27;, &#x27;BldgType&#x27;, &#x27;HouseStyle&#x27;, &#x27;RoofStyle&#x27;, &#x27;RoofMatl&#x27;,\n",
       "       &#x27;Exterior1st&#x27;, &#x27;MasVnrType&#x27;, &#x27;HeatingQC&#x27;, &#x27;Electrical&#x27;, &#x27;Functional&#x27;,\n",
       "       &#x27;GarageType&#x27;, &#x27;GarageFinish&#x27;, &#x27;GarageQual&#x27;, &#x27;GarageCond&#x27;, &#x27;PavedDrive&#x27;,\n",
       "       &#x27;SaleType&#x27;],\n",
       "      dtype=&#x27;object&#x27;))])</pre></div></div></div><div class=\"sk-parallel\"><div class=\"sk-parallel-item\"><div class=\"sk-item\"><div class=\"sk-label-container\"><div class=\"sk-label sk-toggleable\"><input class=\"sk-toggleable__control sk-hidden--visually\" id=\"sk-estimator-id-1038\" type=\"checkbox\" ><label for=\"sk-estimator-id-1038\" class=\"sk-toggleable__label sk-toggleable__label-arrow\">num_pipe</label><div class=\"sk-toggleable__content\"><pre>Index([&#x27;LotArea&#x27;, &#x27;LotFrontage&#x27;, &#x27;TotalBsmtSF&#x27;, &#x27;BedroomAbvGr&#x27;, &#x27;Fireplaces&#x27;,\n",
       "       &#x27;PoolArea&#x27;, &#x27;GarageCars&#x27;, &#x27;WoodDeckSF&#x27;, &#x27;ScreenPorch&#x27;, &#x27;MSSubClass&#x27;,\n",
       "       &#x27;OverallQual&#x27;, &#x27;OverallCond&#x27;, &#x27;YearBuilt&#x27;, &#x27;YearRemodAdd&#x27;, &#x27;MasVnrArea&#x27;,\n",
       "       &#x27;BsmtFinSF1&#x27;, &#x27;BsmtFinSF2&#x27;, &#x27;BsmtUnfSF&#x27;, &#x27;1stFlrSF&#x27;, &#x27;2ndFlrSF&#x27;,\n",
       "       &#x27;LowQualFinSF&#x27;, &#x27;GrLivArea&#x27;, &#x27;BsmtFullBath&#x27;, &#x27;BsmtHalfBath&#x27;, &#x27;FullBath&#x27;,\n",
       "       &#x27;HalfBath&#x27;, &#x27;KitchenAbvGr&#x27;, &#x27;TotRmsAbvGrd&#x27;, &#x27;GarageYrBlt&#x27;, &#x27;GarageArea&#x27;,\n",
       "       &#x27;OpenPorchSF&#x27;, &#x27;EnclosedPorch&#x27;, &#x27;3SsnPorch&#x27;, &#x27;MiscVal&#x27;, &#x27;MoSold&#x27;,\n",
       "       &#x27;YrSold&#x27;],\n",
       "      dtype=&#x27;object&#x27;)</pre></div></div></div><div class=\"sk-serial\"><div class=\"sk-item\"><div class=\"sk-serial\"><div class=\"sk-item\"><div class=\"sk-estimator sk-toggleable\"><input class=\"sk-toggleable__control sk-hidden--visually\" id=\"sk-estimator-id-1039\" type=\"checkbox\" ><label for=\"sk-estimator-id-1039\" class=\"sk-toggleable__label sk-toggleable__label-arrow\">SimpleImputer</label><div class=\"sk-toggleable__content\"><pre>SimpleImputer()</pre></div></div></div></div></div></div></div></div><div class=\"sk-parallel-item\"><div class=\"sk-item\"><div class=\"sk-label-container\"><div class=\"sk-label sk-toggleable\"><input class=\"sk-toggleable__control sk-hidden--visually\" id=\"sk-estimator-id-1040\" type=\"checkbox\" ><label for=\"sk-estimator-id-1040\" class=\"sk-toggleable__label sk-toggleable__label-arrow\">cat_pipe</label><div class=\"sk-toggleable__content\"><pre>Index([&#x27;MSZoning&#x27;, &#x27;Condition1&#x27;, &#x27;Heating&#x27;, &#x27;Street&#x27;, &#x27;CentralAir&#x27;,\n",
       "       &#x27;Foundation&#x27;, &#x27;ExterQual&#x27;, &#x27;ExterCond&#x27;, &#x27;BsmtQual&#x27;, &#x27;BsmtCond&#x27;,\n",
       "       &#x27;BsmtExposure&#x27;, &#x27;BsmtFinType1&#x27;, &#x27;KitchenQual&#x27;, &#x27;FireplaceQu&#x27;,\n",
       "       &#x27;LotShape&#x27;, &#x27;LandContour&#x27;, &#x27;Utilities&#x27;, &#x27;LotConfig&#x27;, &#x27;LandSlope&#x27;,\n",
       "       &#x27;Neighborhood&#x27;, &#x27;BldgType&#x27;, &#x27;HouseStyle&#x27;, &#x27;RoofStyle&#x27;, &#x27;RoofMatl&#x27;,\n",
       "       &#x27;Exterior1st&#x27;, &#x27;MasVnrType&#x27;, &#x27;HeatingQC&#x27;, &#x27;Electrical&#x27;, &#x27;Functional&#x27;,\n",
       "       &#x27;GarageType&#x27;, &#x27;GarageFinish&#x27;, &#x27;GarageQual&#x27;, &#x27;GarageCond&#x27;, &#x27;PavedDrive&#x27;,\n",
       "       &#x27;SaleType&#x27;],\n",
       "      dtype=&#x27;object&#x27;)</pre></div></div></div><div class=\"sk-serial\"><div class=\"sk-item\"><div class=\"sk-serial\"><div class=\"sk-item\"><div class=\"sk-estimator sk-toggleable\"><input class=\"sk-toggleable__control sk-hidden--visually\" id=\"sk-estimator-id-1041\" type=\"checkbox\" ><label for=\"sk-estimator-id-1041\" class=\"sk-toggleable__label sk-toggleable__label-arrow\">SimpleImputer</label><div class=\"sk-toggleable__content\"><pre>SimpleImputer(fill_value=&#x27;N_A&#x27;, strategy=&#x27;constant&#x27;)</pre></div></div></div><div class=\"sk-item sk-dashed-wrapped\"><div class=\"sk-label-container\"><div class=\"sk-label sk-toggleable\"><input class=\"sk-toggleable__control sk-hidden--visually\" id=\"sk-estimator-id-1042\" type=\"checkbox\" ><label for=\"sk-estimator-id-1042\" class=\"sk-toggleable__label sk-toggleable__label-arrow\">columntransformer: ColumnTransformer</label><div class=\"sk-toggleable__content\"><pre>ColumnTransformer(transformers=[(&#x27;cat_ordinal&#x27;,\n",
       "                                 OrdinalEncoder(categories=[[&#x27;N_A&#x27;, &#x27;Grvl&#x27;,\n",
       "                                                             &#x27;Pave&#x27;],\n",
       "                                                            [&#x27;N_A&#x27;, &#x27;N&#x27;, &#x27;Y&#x27;],\n",
       "                                                            [&#x27;N_A&#x27;, &#x27;Slab&#x27;,\n",
       "                                                             &#x27;BrkTil&#x27;, &#x27;CBlock&#x27;,\n",
       "                                                             &#x27;Wood&#x27;, &#x27;Stone&#x27;,\n",
       "                                                             &#x27;PConc&#x27;],\n",
       "                                                            [&#x27;N_A&#x27;, &#x27;Po&#x27;, &#x27;Fa&#x27;,\n",
       "                                                             &#x27;TA&#x27;, &#x27;Gd&#x27;, &#x27;Ex&#x27;],\n",
       "                                                            [&#x27;N_A&#x27;, &#x27;Po&#x27;, &#x27;Fa&#x27;,\n",
       "                                                             &#x27;TA&#x27;, &#x27;Gd&#x27;, &#x27;Ex&#x27;],\n",
       "                                                            [&#x27;N_A&#x27;, &#x27;NA&#x27;, &#x27;Po&#x27;,\n",
       "                                                             &#x27;Fa&#x27;, &#x27;TA&#x27;, &#x27;Gd&#x27;,\n",
       "                                                             &#x27;Ex&#x27;],\n",
       "                                                            [&#x27;N_A&#x27;, &#x27;NA&#x27;, &#x27;Po&#x27;,\n",
       "                                                             &#x27;Fa&#x27;, &#x27;TA&#x27;, &#x27;Gd&#x27;,\n",
       "                                                             &#x27;Ex&#x27;],\n",
       "                                                            [&#x27;N_A&#x27;, &#x27;NA&#x27;, &#x27;No&#x27;,\n",
       "                                                             &#x27;Mn&#x27;, &#x27;Av&#x27;, &#x27;Gd&#x27;],\n",
       "                                                            [&#x27;N_A&#x27;,...\n",
       "                                  &#x27;Utilities&#x27;, &#x27;LotConfig&#x27;, &#x27;LandSlope&#x27;,\n",
       "                                  &#x27;BldgType&#x27;, &#x27;HouseStyle&#x27;, &#x27;RoofStyle&#x27;,\n",
       "                                  &#x27;RoofMatl&#x27;, &#x27;MasVnrType&#x27;, &#x27;HeatingQC&#x27;,\n",
       "                                  &#x27;Electrical&#x27;, &#x27;Functional&#x27;, &#x27;GarageFinish&#x27;,\n",
       "                                  &#x27;GarageQual&#x27;, &#x27;GarageCond&#x27;, &#x27;PavedDrive&#x27;]),\n",
       "                                (&#x27;cat_onehot&#x27;,\n",
       "                                 OneHotEncoder(handle_unknown=&#x27;ignore&#x27;,\n",
       "                                               sparse_output=False),\n",
       "                                 [&#x27;Heating&#x27;, &#x27;MSZoning&#x27;, &#x27;Condition1&#x27;,\n",
       "                                  &#x27;Neighborhood&#x27;, &#x27;Exterior1st&#x27;, &#x27;GarageType&#x27;,\n",
       "                                  &#x27;SaleType&#x27;])])</pre></div></div></div><div class=\"sk-parallel\"><div class=\"sk-parallel-item\"><div class=\"sk-item\"><div class=\"sk-label-container\"><div class=\"sk-label sk-toggleable\"><input class=\"sk-toggleable__control sk-hidden--visually\" id=\"sk-estimator-id-1043\" type=\"checkbox\" ><label for=\"sk-estimator-id-1043\" class=\"sk-toggleable__label sk-toggleable__label-arrow\">cat_ordinal</label><div class=\"sk-toggleable__content\"><pre>[&#x27;Street&#x27;, &#x27;CentralAir&#x27;, &#x27;Foundation&#x27;, &#x27;ExterQual&#x27;, &#x27;ExterCond&#x27;, &#x27;BsmtQual&#x27;, &#x27;BsmtCond&#x27;, &#x27;BsmtExposure&#x27;, &#x27;BsmtFinType1&#x27;, &#x27;ExterQual&#x27;, &#x27;ExterCond&#x27;, &#x27;KitchenQual&#x27;, &#x27;FireplaceQu&#x27;, &#x27;LotShape&#x27;, &#x27;LandContour&#x27;, &#x27;Utilities&#x27;, &#x27;LotConfig&#x27;, &#x27;LandSlope&#x27;, &#x27;BldgType&#x27;, &#x27;HouseStyle&#x27;, &#x27;RoofStyle&#x27;, &#x27;RoofMatl&#x27;, &#x27;MasVnrType&#x27;, &#x27;HeatingQC&#x27;, &#x27;Electrical&#x27;, &#x27;Functional&#x27;, &#x27;GarageFinish&#x27;, &#x27;GarageQual&#x27;, &#x27;GarageCond&#x27;, &#x27;PavedDrive&#x27;]</pre></div></div></div><div class=\"sk-serial\"><div class=\"sk-item\"><div class=\"sk-estimator sk-toggleable\"><input class=\"sk-toggleable__control sk-hidden--visually\" id=\"sk-estimator-id-1044\" type=\"checkbox\" ><label for=\"sk-estimator-id-1044\" class=\"sk-toggleable__label sk-toggleable__label-arrow\">OrdinalEncoder</label><div class=\"sk-toggleable__content\"><pre>OrdinalEncoder(categories=[[&#x27;N_A&#x27;, &#x27;Grvl&#x27;, &#x27;Pave&#x27;], [&#x27;N_A&#x27;, &#x27;N&#x27;, &#x27;Y&#x27;],\n",
       "                           [&#x27;N_A&#x27;, &#x27;Slab&#x27;, &#x27;BrkTil&#x27;, &#x27;CBlock&#x27;, &#x27;Wood&#x27;, &#x27;Stone&#x27;,\n",
       "                            &#x27;PConc&#x27;],\n",
       "                           [&#x27;N_A&#x27;, &#x27;Po&#x27;, &#x27;Fa&#x27;, &#x27;TA&#x27;, &#x27;Gd&#x27;, &#x27;Ex&#x27;],\n",
       "                           [&#x27;N_A&#x27;, &#x27;Po&#x27;, &#x27;Fa&#x27;, &#x27;TA&#x27;, &#x27;Gd&#x27;, &#x27;Ex&#x27;],\n",
       "                           [&#x27;N_A&#x27;, &#x27;NA&#x27;, &#x27;Po&#x27;, &#x27;Fa&#x27;, &#x27;TA&#x27;, &#x27;Gd&#x27;, &#x27;Ex&#x27;],\n",
       "                           [&#x27;N_A&#x27;, &#x27;NA&#x27;, &#x27;Po&#x27;, &#x27;Fa&#x27;, &#x27;TA&#x27;, &#x27;Gd&#x27;, &#x27;Ex&#x27;],\n",
       "                           [&#x27;N_A&#x27;, &#x27;NA&#x27;, &#x27;No&#x27;, &#x27;Mn&#x27;, &#x27;Av&#x27;, &#x27;Gd&#x27;],\n",
       "                           [&#x27;N_A&#x27;, &#x27;NA&#x27;, &#x27;Unf&#x27;, &#x27;LwQ&#x27;, &#x27;Rec&#x27;, &#x27;BLQ&#x27;, &#x27;ALQ&#x27;,\n",
       "                            &#x27;GLQ&#x27;],\n",
       "                           [&#x27;N_A...\n",
       "                           [&#x27;N_A&#x27;, &#x27;Roll&#x27;, &#x27;Tar&amp;Grv&#x27;, &#x27;CompShg&#x27;, &#x27;WdShngl&#x27;,\n",
       "                            &#x27;WdShake&#x27;, &#x27;Membran&#x27;, &#x27;Metal&#x27;, &#x27;ClyTile&#x27;],\n",
       "                           [&#x27;N_A&#x27;, &#x27;None&#x27;, &#x27;CBlock&#x27;, &#x27;BrkCmn&#x27;, &#x27;BrkFace&#x27;,\n",
       "                            &#x27;Stone&#x27;],\n",
       "                           [&#x27;N_A&#x27;, &#x27;Po&#x27;, &#x27;Fa&#x27;, &#x27;TA&#x27;, &#x27;Gd&#x27;, &#x27;Ex&#x27;],\n",
       "                           [&#x27;N_A&#x27;, &#x27;Mix&#x27;, &#x27;FuseP&#x27;, &#x27;FuseF&#x27;, &#x27;FuseA&#x27;, &#x27;SBrkr&#x27;],\n",
       "                           [&#x27;N_A&#x27;, &#x27;Sal&#x27;, &#x27;Sev&#x27;, &#x27;Maj2&#x27;, &#x27;Maj1&#x27;, &#x27;Mod&#x27;, &#x27;Min2&#x27;,\n",
       "                            &#x27;Min1&#x27;, &#x27;Typ&#x27;],\n",
       "                           [&#x27;N_A&#x27;, &#x27;NA&#x27;, &#x27;Unf&#x27;, &#x27;RFn&#x27;, &#x27;Fin&#x27;],\n",
       "                           [&#x27;N_A&#x27;, &#x27;Po&#x27;, &#x27;Fa&#x27;, &#x27;TA&#x27;, &#x27;Gd&#x27;, &#x27;Ex&#x27;],\n",
       "                           [&#x27;N_A&#x27;, &#x27;Po&#x27;, &#x27;Fa&#x27;, &#x27;TA&#x27;, &#x27;Gd&#x27;, &#x27;Ex&#x27;],\n",
       "                           [&#x27;N_A&#x27;, &#x27;N&#x27;, &#x27;P&#x27;, &#x27;Y&#x27;]])</pre></div></div></div></div></div></div><div class=\"sk-parallel-item\"><div class=\"sk-item\"><div class=\"sk-label-container\"><div class=\"sk-label sk-toggleable\"><input class=\"sk-toggleable__control sk-hidden--visually\" id=\"sk-estimator-id-1045\" type=\"checkbox\" ><label for=\"sk-estimator-id-1045\" class=\"sk-toggleable__label sk-toggleable__label-arrow\">cat_onehot</label><div class=\"sk-toggleable__content\"><pre>[&#x27;Heating&#x27;, &#x27;MSZoning&#x27;, &#x27;Condition1&#x27;, &#x27;Neighborhood&#x27;, &#x27;Exterior1st&#x27;, &#x27;GarageType&#x27;, &#x27;SaleType&#x27;]</pre></div></div></div><div class=\"sk-serial\"><div class=\"sk-item\"><div class=\"sk-estimator sk-toggleable\"><input class=\"sk-toggleable__control sk-hidden--visually\" id=\"sk-estimator-id-1046\" type=\"checkbox\" ><label for=\"sk-estimator-id-1046\" class=\"sk-toggleable__label sk-toggleable__label-arrow\">OneHotEncoder</label><div class=\"sk-toggleable__content\"><pre>OneHotEncoder(handle_unknown=&#x27;ignore&#x27;, sparse_output=False)</pre></div></div></div></div></div></div></div></div></div></div></div></div></div></div></div><div class=\"sk-item\"><div class=\"sk-estimator sk-toggleable\"><input class=\"sk-toggleable__control sk-hidden--visually\" id=\"sk-estimator-id-1047\" type=\"checkbox\" ><label for=\"sk-estimator-id-1047\" class=\"sk-toggleable__label sk-toggleable__label-arrow\">StandardScaler</label><div class=\"sk-toggleable__content\"><pre>StandardScaler()</pre></div></div></div><div class=\"sk-item\"><div class=\"sk-estimator sk-toggleable\"><input class=\"sk-toggleable__control sk-hidden--visually\" id=\"sk-estimator-id-1048\" type=\"checkbox\" ><label for=\"sk-estimator-id-1048\" class=\"sk-toggleable__label sk-toggleable__label-arrow\">LogisticRegression</label><div class=\"sk-toggleable__content\"><pre>LogisticRegression()</pre></div></div></div></div></div></div></div>"
      ],
      "text/plain": [
       "Pipeline(steps=[('columntransformer',\n",
       "                 ColumnTransformer(transformers=[('num_pipe',\n",
       "                                                  Pipeline(steps=[('simpleimputer',\n",
       "                                                                   SimpleImputer())]),\n",
       "                                                  Index(['LotArea', 'LotFrontage', 'TotalBsmtSF', 'BedroomAbvGr', 'Fireplaces',\n",
       "       'PoolArea', 'GarageCars', 'WoodDeckSF', 'ScreenPorch', 'MSSubClass',\n",
       "       'OverallQual', 'OverallCond', 'YearBuilt', 'YearRemodAdd', 'MasVnrArea',\n",
       "       'BsmtFinSF1'...\n",
       "       'LotShape', 'LandContour', 'Utilities', 'LotConfig', 'LandSlope',\n",
       "       'Neighborhood', 'BldgType', 'HouseStyle', 'RoofStyle', 'RoofMatl',\n",
       "       'Exterior1st', 'MasVnrType', 'HeatingQC', 'Electrical', 'Functional',\n",
       "       'GarageType', 'GarageFinish', 'GarageQual', 'GarageCond', 'PavedDrive',\n",
       "       'SaleType'],\n",
       "      dtype='object'))])),\n",
       "                ('standardscaler', StandardScaler()),\n",
       "                ('logisticregression', LogisticRegression())])"
      ]
     },
     "execution_count": 610,
     "metadata": {},
     "output_type": "execute_result"
    }
   ],
   "source": [
    "full_logreg_pipeline_scaled"
   ]
  },
  {
   "cell_type": "code",
   "execution_count": 611,
   "metadata": {
    "tags": []
   },
   "outputs": [
    {
     "name": "stdout",
     "output_type": "stream",
     "text": [
      "Fitting 10 folds for each of 1 candidates, totalling 10 fits\n"
     ]
    },
    {
     "data": {
      "text/html": [
       "<style>#sk-container-id-86 {color: black;}#sk-container-id-86 pre{padding: 0;}#sk-container-id-86 div.sk-toggleable {background-color: white;}#sk-container-id-86 label.sk-toggleable__label {cursor: pointer;display: block;width: 100%;margin-bottom: 0;padding: 0.3em;box-sizing: border-box;text-align: center;}#sk-container-id-86 label.sk-toggleable__label-arrow:before {content: \"▸\";float: left;margin-right: 0.25em;color: #696969;}#sk-container-id-86 label.sk-toggleable__label-arrow:hover:before {color: black;}#sk-container-id-86 div.sk-estimator:hover label.sk-toggleable__label-arrow:before {color: black;}#sk-container-id-86 div.sk-toggleable__content {max-height: 0;max-width: 0;overflow: hidden;text-align: left;background-color: #f0f8ff;}#sk-container-id-86 div.sk-toggleable__content pre {margin: 0.2em;color: black;border-radius: 0.25em;background-color: #f0f8ff;}#sk-container-id-86 input.sk-toggleable__control:checked~div.sk-toggleable__content {max-height: 200px;max-width: 100%;overflow: auto;}#sk-container-id-86 input.sk-toggleable__control:checked~label.sk-toggleable__label-arrow:before {content: \"▾\";}#sk-container-id-86 div.sk-estimator input.sk-toggleable__control:checked~label.sk-toggleable__label {background-color: #d4ebff;}#sk-container-id-86 div.sk-label input.sk-toggleable__control:checked~label.sk-toggleable__label {background-color: #d4ebff;}#sk-container-id-86 input.sk-hidden--visually {border: 0;clip: rect(1px 1px 1px 1px);clip: rect(1px, 1px, 1px, 1px);height: 1px;margin: -1px;overflow: hidden;padding: 0;position: absolute;width: 1px;}#sk-container-id-86 div.sk-estimator {font-family: monospace;background-color: #f0f8ff;border: 1px dotted black;border-radius: 0.25em;box-sizing: border-box;margin-bottom: 0.5em;}#sk-container-id-86 div.sk-estimator:hover {background-color: #d4ebff;}#sk-container-id-86 div.sk-parallel-item::after {content: \"\";width: 100%;border-bottom: 1px solid gray;flex-grow: 1;}#sk-container-id-86 div.sk-label:hover label.sk-toggleable__label {background-color: #d4ebff;}#sk-container-id-86 div.sk-serial::before {content: \"\";position: absolute;border-left: 1px solid gray;box-sizing: border-box;top: 0;bottom: 0;left: 50%;z-index: 0;}#sk-container-id-86 div.sk-serial {display: flex;flex-direction: column;align-items: center;background-color: white;padding-right: 0.2em;padding-left: 0.2em;position: relative;}#sk-container-id-86 div.sk-item {position: relative;z-index: 1;}#sk-container-id-86 div.sk-parallel {display: flex;align-items: stretch;justify-content: center;background-color: white;position: relative;}#sk-container-id-86 div.sk-item::before, #sk-container-id-86 div.sk-parallel-item::before {content: \"\";position: absolute;border-left: 1px solid gray;box-sizing: border-box;top: 0;bottom: 0;left: 50%;z-index: -1;}#sk-container-id-86 div.sk-parallel-item {display: flex;flex-direction: column;z-index: 1;position: relative;background-color: white;}#sk-container-id-86 div.sk-parallel-item:first-child::after {align-self: flex-end;width: 50%;}#sk-container-id-86 div.sk-parallel-item:last-child::after {align-self: flex-start;width: 50%;}#sk-container-id-86 div.sk-parallel-item:only-child::after {width: 0;}#sk-container-id-86 div.sk-dashed-wrapped {border: 1px dashed gray;margin: 0 0.4em 0.5em 0.4em;box-sizing: border-box;padding-bottom: 0.4em;background-color: white;}#sk-container-id-86 div.sk-label label {font-family: monospace;font-weight: bold;display: inline-block;line-height: 1.2em;}#sk-container-id-86 div.sk-label-container {text-align: center;}#sk-container-id-86 div.sk-container {/* jupyter's `normalize.less` sets `[hidden] { display: none; }` but bootstrap.min.css set `[hidden] { display: none !important; }` so we also need the `!important` here to be able to override the default hidden behavior on the sphinx rendered scikit-learn.org. See: https://github.com/scikit-learn/scikit-learn/issues/21755 */display: inline-block !important;position: relative;}#sk-container-id-86 div.sk-text-repr-fallback {display: none;}</style><div id=\"sk-container-id-86\" class=\"sk-top-container\"><div class=\"sk-text-repr-fallback\"><pre>GridSearchCV(cv=10,\n",
       "             estimator=Pipeline(steps=[(&#x27;columntransformer&#x27;,\n",
       "                                        ColumnTransformer(transformers=[(&#x27;num_pipe&#x27;,\n",
       "                                                                         Pipeline(steps=[(&#x27;simpleimputer&#x27;,\n",
       "                                                                                          SimpleImputer())]),\n",
       "                                                                         Index([&#x27;LotArea&#x27;, &#x27;LotFrontage&#x27;, &#x27;TotalBsmtSF&#x27;, &#x27;BedroomAbvGr&#x27;, &#x27;Fireplaces&#x27;,\n",
       "       &#x27;PoolArea&#x27;, &#x27;GarageCars&#x27;, &#x27;WoodDeckSF&#x27;, &#x27;ScreenPorch&#x27;, &#x27;MSSubClass&#x27;,\n",
       "       &#x27;OverallQual&#x27;, &#x27;OverallCond&#x27;, &#x27;YearBuilt&#x27;, &#x27;YearRemodA...\n",
       "       &#x27;GarageType&#x27;, &#x27;GarageFinish&#x27;, &#x27;GarageQual&#x27;, &#x27;GarageCond&#x27;, &#x27;PavedDrive&#x27;,\n",
       "       &#x27;SaleType&#x27;],\n",
       "      dtype=&#x27;object&#x27;))])),\n",
       "                                       (&#x27;standardscaler&#x27;, StandardScaler()),\n",
       "                                       (&#x27;logisticregression&#x27;,\n",
       "                                        LogisticRegression())]),\n",
       "             param_grid={&#x27;columntransformer__num_pipe__simpleimputer__strategy&#x27;: [&#x27;mean&#x27;],\n",
       "                         &#x27;logisticregression__penalty&#x27;: [&#x27;l2&#x27;],\n",
       "                         &#x27;logisticregression__solver&#x27;: [&#x27;newton-cholesky&#x27;]},\n",
       "             verbose=True)</pre><b>In a Jupyter environment, please rerun this cell to show the HTML representation or trust the notebook. <br />On GitHub, the HTML representation is unable to render, please try loading this page with nbviewer.org.</b></div><div class=\"sk-container\" hidden><div class=\"sk-item sk-dashed-wrapped\"><div class=\"sk-label-container\"><div class=\"sk-label sk-toggleable\"><input class=\"sk-toggleable__control sk-hidden--visually\" id=\"sk-estimator-id-1049\" type=\"checkbox\" ><label for=\"sk-estimator-id-1049\" class=\"sk-toggleable__label sk-toggleable__label-arrow\">GridSearchCV</label><div class=\"sk-toggleable__content\"><pre>GridSearchCV(cv=10,\n",
       "             estimator=Pipeline(steps=[(&#x27;columntransformer&#x27;,\n",
       "                                        ColumnTransformer(transformers=[(&#x27;num_pipe&#x27;,\n",
       "                                                                         Pipeline(steps=[(&#x27;simpleimputer&#x27;,\n",
       "                                                                                          SimpleImputer())]),\n",
       "                                                                         Index([&#x27;LotArea&#x27;, &#x27;LotFrontage&#x27;, &#x27;TotalBsmtSF&#x27;, &#x27;BedroomAbvGr&#x27;, &#x27;Fireplaces&#x27;,\n",
       "       &#x27;PoolArea&#x27;, &#x27;GarageCars&#x27;, &#x27;WoodDeckSF&#x27;, &#x27;ScreenPorch&#x27;, &#x27;MSSubClass&#x27;,\n",
       "       &#x27;OverallQual&#x27;, &#x27;OverallCond&#x27;, &#x27;YearBuilt&#x27;, &#x27;YearRemodA...\n",
       "       &#x27;GarageType&#x27;, &#x27;GarageFinish&#x27;, &#x27;GarageQual&#x27;, &#x27;GarageCond&#x27;, &#x27;PavedDrive&#x27;,\n",
       "       &#x27;SaleType&#x27;],\n",
       "      dtype=&#x27;object&#x27;))])),\n",
       "                                       (&#x27;standardscaler&#x27;, StandardScaler()),\n",
       "                                       (&#x27;logisticregression&#x27;,\n",
       "                                        LogisticRegression())]),\n",
       "             param_grid={&#x27;columntransformer__num_pipe__simpleimputer__strategy&#x27;: [&#x27;mean&#x27;],\n",
       "                         &#x27;logisticregression__penalty&#x27;: [&#x27;l2&#x27;],\n",
       "                         &#x27;logisticregression__solver&#x27;: [&#x27;newton-cholesky&#x27;]},\n",
       "             verbose=True)</pre></div></div></div><div class=\"sk-parallel\"><div class=\"sk-parallel-item\"><div class=\"sk-item\"><div class=\"sk-label-container\"><div class=\"sk-label sk-toggleable\"><input class=\"sk-toggleable__control sk-hidden--visually\" id=\"sk-estimator-id-1050\" type=\"checkbox\" ><label for=\"sk-estimator-id-1050\" class=\"sk-toggleable__label sk-toggleable__label-arrow\">estimator: Pipeline</label><div class=\"sk-toggleable__content\"><pre>Pipeline(steps=[(&#x27;columntransformer&#x27;,\n",
       "                 ColumnTransformer(transformers=[(&#x27;num_pipe&#x27;,\n",
       "                                                  Pipeline(steps=[(&#x27;simpleimputer&#x27;,\n",
       "                                                                   SimpleImputer())]),\n",
       "                                                  Index([&#x27;LotArea&#x27;, &#x27;LotFrontage&#x27;, &#x27;TotalBsmtSF&#x27;, &#x27;BedroomAbvGr&#x27;, &#x27;Fireplaces&#x27;,\n",
       "       &#x27;PoolArea&#x27;, &#x27;GarageCars&#x27;, &#x27;WoodDeckSF&#x27;, &#x27;ScreenPorch&#x27;, &#x27;MSSubClass&#x27;,\n",
       "       &#x27;OverallQual&#x27;, &#x27;OverallCond&#x27;, &#x27;YearBuilt&#x27;, &#x27;YearRemodAdd&#x27;, &#x27;MasVnrArea&#x27;,\n",
       "       &#x27;BsmtFinSF1&#x27;...\n",
       "       &#x27;LotShape&#x27;, &#x27;LandContour&#x27;, &#x27;Utilities&#x27;, &#x27;LotConfig&#x27;, &#x27;LandSlope&#x27;,\n",
       "       &#x27;Neighborhood&#x27;, &#x27;BldgType&#x27;, &#x27;HouseStyle&#x27;, &#x27;RoofStyle&#x27;, &#x27;RoofMatl&#x27;,\n",
       "       &#x27;Exterior1st&#x27;, &#x27;MasVnrType&#x27;, &#x27;HeatingQC&#x27;, &#x27;Electrical&#x27;, &#x27;Functional&#x27;,\n",
       "       &#x27;GarageType&#x27;, &#x27;GarageFinish&#x27;, &#x27;GarageQual&#x27;, &#x27;GarageCond&#x27;, &#x27;PavedDrive&#x27;,\n",
       "       &#x27;SaleType&#x27;],\n",
       "      dtype=&#x27;object&#x27;))])),\n",
       "                (&#x27;standardscaler&#x27;, StandardScaler()),\n",
       "                (&#x27;logisticregression&#x27;, LogisticRegression())])</pre></div></div></div><div class=\"sk-serial\"><div class=\"sk-item\"><div class=\"sk-serial\"><div class=\"sk-item sk-dashed-wrapped\"><div class=\"sk-label-container\"><div class=\"sk-label sk-toggleable\"><input class=\"sk-toggleable__control sk-hidden--visually\" id=\"sk-estimator-id-1051\" type=\"checkbox\" ><label for=\"sk-estimator-id-1051\" class=\"sk-toggleable__label sk-toggleable__label-arrow\">columntransformer: ColumnTransformer</label><div class=\"sk-toggleable__content\"><pre>ColumnTransformer(transformers=[(&#x27;num_pipe&#x27;,\n",
       "                                 Pipeline(steps=[(&#x27;simpleimputer&#x27;,\n",
       "                                                  SimpleImputer())]),\n",
       "                                 Index([&#x27;LotArea&#x27;, &#x27;LotFrontage&#x27;, &#x27;TotalBsmtSF&#x27;, &#x27;BedroomAbvGr&#x27;, &#x27;Fireplaces&#x27;,\n",
       "       &#x27;PoolArea&#x27;, &#x27;GarageCars&#x27;, &#x27;WoodDeckSF&#x27;, &#x27;ScreenPorch&#x27;, &#x27;MSSubClass&#x27;,\n",
       "       &#x27;OverallQual&#x27;, &#x27;OverallCond&#x27;, &#x27;YearBuilt&#x27;, &#x27;YearRemodAdd&#x27;, &#x27;MasVnrArea&#x27;,\n",
       "       &#x27;BsmtFinSF1&#x27;, &#x27;BsmtFinSF2&#x27;, &#x27;BsmtUnfSF&#x27;, &#x27;1stFlrSF&#x27;,...\n",
       "       &#x27;Foundation&#x27;, &#x27;ExterQual&#x27;, &#x27;ExterCond&#x27;, &#x27;BsmtQual&#x27;, &#x27;BsmtCond&#x27;,\n",
       "       &#x27;BsmtExposure&#x27;, &#x27;BsmtFinType1&#x27;, &#x27;KitchenQual&#x27;, &#x27;FireplaceQu&#x27;,\n",
       "       &#x27;LotShape&#x27;, &#x27;LandContour&#x27;, &#x27;Utilities&#x27;, &#x27;LotConfig&#x27;, &#x27;LandSlope&#x27;,\n",
       "       &#x27;Neighborhood&#x27;, &#x27;BldgType&#x27;, &#x27;HouseStyle&#x27;, &#x27;RoofStyle&#x27;, &#x27;RoofMatl&#x27;,\n",
       "       &#x27;Exterior1st&#x27;, &#x27;MasVnrType&#x27;, &#x27;HeatingQC&#x27;, &#x27;Electrical&#x27;, &#x27;Functional&#x27;,\n",
       "       &#x27;GarageType&#x27;, &#x27;GarageFinish&#x27;, &#x27;GarageQual&#x27;, &#x27;GarageCond&#x27;, &#x27;PavedDrive&#x27;,\n",
       "       &#x27;SaleType&#x27;],\n",
       "      dtype=&#x27;object&#x27;))])</pre></div></div></div><div class=\"sk-parallel\"><div class=\"sk-parallel-item\"><div class=\"sk-item\"><div class=\"sk-label-container\"><div class=\"sk-label sk-toggleable\"><input class=\"sk-toggleable__control sk-hidden--visually\" id=\"sk-estimator-id-1052\" type=\"checkbox\" ><label for=\"sk-estimator-id-1052\" class=\"sk-toggleable__label sk-toggleable__label-arrow\">num_pipe</label><div class=\"sk-toggleable__content\"><pre>Index([&#x27;LotArea&#x27;, &#x27;LotFrontage&#x27;, &#x27;TotalBsmtSF&#x27;, &#x27;BedroomAbvGr&#x27;, &#x27;Fireplaces&#x27;,\n",
       "       &#x27;PoolArea&#x27;, &#x27;GarageCars&#x27;, &#x27;WoodDeckSF&#x27;, &#x27;ScreenPorch&#x27;, &#x27;MSSubClass&#x27;,\n",
       "       &#x27;OverallQual&#x27;, &#x27;OverallCond&#x27;, &#x27;YearBuilt&#x27;, &#x27;YearRemodAdd&#x27;, &#x27;MasVnrArea&#x27;,\n",
       "       &#x27;BsmtFinSF1&#x27;, &#x27;BsmtFinSF2&#x27;, &#x27;BsmtUnfSF&#x27;, &#x27;1stFlrSF&#x27;, &#x27;2ndFlrSF&#x27;,\n",
       "       &#x27;LowQualFinSF&#x27;, &#x27;GrLivArea&#x27;, &#x27;BsmtFullBath&#x27;, &#x27;BsmtHalfBath&#x27;, &#x27;FullBath&#x27;,\n",
       "       &#x27;HalfBath&#x27;, &#x27;KitchenAbvGr&#x27;, &#x27;TotRmsAbvGrd&#x27;, &#x27;GarageYrBlt&#x27;, &#x27;GarageArea&#x27;,\n",
       "       &#x27;OpenPorchSF&#x27;, &#x27;EnclosedPorch&#x27;, &#x27;3SsnPorch&#x27;, &#x27;MiscVal&#x27;, &#x27;MoSold&#x27;,\n",
       "       &#x27;YrSold&#x27;],\n",
       "      dtype=&#x27;object&#x27;)</pre></div></div></div><div class=\"sk-serial\"><div class=\"sk-item\"><div class=\"sk-serial\"><div class=\"sk-item\"><div class=\"sk-estimator sk-toggleable\"><input class=\"sk-toggleable__control sk-hidden--visually\" id=\"sk-estimator-id-1053\" type=\"checkbox\" ><label for=\"sk-estimator-id-1053\" class=\"sk-toggleable__label sk-toggleable__label-arrow\">SimpleImputer</label><div class=\"sk-toggleable__content\"><pre>SimpleImputer()</pre></div></div></div></div></div></div></div></div><div class=\"sk-parallel-item\"><div class=\"sk-item\"><div class=\"sk-label-container\"><div class=\"sk-label sk-toggleable\"><input class=\"sk-toggleable__control sk-hidden--visually\" id=\"sk-estimator-id-1054\" type=\"checkbox\" ><label for=\"sk-estimator-id-1054\" class=\"sk-toggleable__label sk-toggleable__label-arrow\">cat_pipe</label><div class=\"sk-toggleable__content\"><pre>Index([&#x27;MSZoning&#x27;, &#x27;Condition1&#x27;, &#x27;Heating&#x27;, &#x27;Street&#x27;, &#x27;CentralAir&#x27;,\n",
       "       &#x27;Foundation&#x27;, &#x27;ExterQual&#x27;, &#x27;ExterCond&#x27;, &#x27;BsmtQual&#x27;, &#x27;BsmtCond&#x27;,\n",
       "       &#x27;BsmtExposure&#x27;, &#x27;BsmtFinType1&#x27;, &#x27;KitchenQual&#x27;, &#x27;FireplaceQu&#x27;,\n",
       "       &#x27;LotShape&#x27;, &#x27;LandContour&#x27;, &#x27;Utilities&#x27;, &#x27;LotConfig&#x27;, &#x27;LandSlope&#x27;,\n",
       "       &#x27;Neighborhood&#x27;, &#x27;BldgType&#x27;, &#x27;HouseStyle&#x27;, &#x27;RoofStyle&#x27;, &#x27;RoofMatl&#x27;,\n",
       "       &#x27;Exterior1st&#x27;, &#x27;MasVnrType&#x27;, &#x27;HeatingQC&#x27;, &#x27;Electrical&#x27;, &#x27;Functional&#x27;,\n",
       "       &#x27;GarageType&#x27;, &#x27;GarageFinish&#x27;, &#x27;GarageQual&#x27;, &#x27;GarageCond&#x27;, &#x27;PavedDrive&#x27;,\n",
       "       &#x27;SaleType&#x27;],\n",
       "      dtype=&#x27;object&#x27;)</pre></div></div></div><div class=\"sk-serial\"><div class=\"sk-item\"><div class=\"sk-serial\"><div class=\"sk-item\"><div class=\"sk-estimator sk-toggleable\"><input class=\"sk-toggleable__control sk-hidden--visually\" id=\"sk-estimator-id-1055\" type=\"checkbox\" ><label for=\"sk-estimator-id-1055\" class=\"sk-toggleable__label sk-toggleable__label-arrow\">SimpleImputer</label><div class=\"sk-toggleable__content\"><pre>SimpleImputer(fill_value=&#x27;N_A&#x27;, strategy=&#x27;constant&#x27;)</pre></div></div></div><div class=\"sk-item sk-dashed-wrapped\"><div class=\"sk-label-container\"><div class=\"sk-label sk-toggleable\"><input class=\"sk-toggleable__control sk-hidden--visually\" id=\"sk-estimator-id-1056\" type=\"checkbox\" ><label for=\"sk-estimator-id-1056\" class=\"sk-toggleable__label sk-toggleable__label-arrow\">columntransformer: ColumnTransformer</label><div class=\"sk-toggleable__content\"><pre>ColumnTransformer(transformers=[(&#x27;cat_ordinal&#x27;,\n",
       "                                 OrdinalEncoder(categories=[[&#x27;N_A&#x27;, &#x27;Grvl&#x27;,\n",
       "                                                             &#x27;Pave&#x27;],\n",
       "                                                            [&#x27;N_A&#x27;, &#x27;N&#x27;, &#x27;Y&#x27;],\n",
       "                                                            [&#x27;N_A&#x27;, &#x27;Slab&#x27;,\n",
       "                                                             &#x27;BrkTil&#x27;, &#x27;CBlock&#x27;,\n",
       "                                                             &#x27;Wood&#x27;, &#x27;Stone&#x27;,\n",
       "                                                             &#x27;PConc&#x27;],\n",
       "                                                            [&#x27;N_A&#x27;, &#x27;Po&#x27;, &#x27;Fa&#x27;,\n",
       "                                                             &#x27;TA&#x27;, &#x27;Gd&#x27;, &#x27;Ex&#x27;],\n",
       "                                                            [&#x27;N_A&#x27;, &#x27;Po&#x27;, &#x27;Fa&#x27;,\n",
       "                                                             &#x27;TA&#x27;, &#x27;Gd&#x27;, &#x27;Ex&#x27;],\n",
       "                                                            [&#x27;N_A&#x27;, &#x27;NA&#x27;, &#x27;Po&#x27;,\n",
       "                                                             &#x27;Fa&#x27;, &#x27;TA&#x27;, &#x27;Gd&#x27;,\n",
       "                                                             &#x27;Ex&#x27;],\n",
       "                                                            [&#x27;N_A&#x27;, &#x27;NA&#x27;, &#x27;Po&#x27;,\n",
       "                                                             &#x27;Fa&#x27;, &#x27;TA&#x27;, &#x27;Gd&#x27;,\n",
       "                                                             &#x27;Ex&#x27;],\n",
       "                                                            [&#x27;N_A&#x27;, &#x27;NA&#x27;, &#x27;No&#x27;,\n",
       "                                                             &#x27;Mn&#x27;, &#x27;Av&#x27;, &#x27;Gd&#x27;],\n",
       "                                                            [&#x27;N_A&#x27;,...\n",
       "                                  &#x27;Utilities&#x27;, &#x27;LotConfig&#x27;, &#x27;LandSlope&#x27;,\n",
       "                                  &#x27;BldgType&#x27;, &#x27;HouseStyle&#x27;, &#x27;RoofStyle&#x27;,\n",
       "                                  &#x27;RoofMatl&#x27;, &#x27;MasVnrType&#x27;, &#x27;HeatingQC&#x27;,\n",
       "                                  &#x27;Electrical&#x27;, &#x27;Functional&#x27;, &#x27;GarageFinish&#x27;,\n",
       "                                  &#x27;GarageQual&#x27;, &#x27;GarageCond&#x27;, &#x27;PavedDrive&#x27;]),\n",
       "                                (&#x27;cat_onehot&#x27;,\n",
       "                                 OneHotEncoder(handle_unknown=&#x27;ignore&#x27;,\n",
       "                                               sparse_output=False),\n",
       "                                 [&#x27;Heating&#x27;, &#x27;MSZoning&#x27;, &#x27;Condition1&#x27;,\n",
       "                                  &#x27;Neighborhood&#x27;, &#x27;Exterior1st&#x27;, &#x27;GarageType&#x27;,\n",
       "                                  &#x27;SaleType&#x27;])])</pre></div></div></div><div class=\"sk-parallel\"><div class=\"sk-parallel-item\"><div class=\"sk-item\"><div class=\"sk-label-container\"><div class=\"sk-label sk-toggleable\"><input class=\"sk-toggleable__control sk-hidden--visually\" id=\"sk-estimator-id-1057\" type=\"checkbox\" ><label for=\"sk-estimator-id-1057\" class=\"sk-toggleable__label sk-toggleable__label-arrow\">cat_ordinal</label><div class=\"sk-toggleable__content\"><pre>[&#x27;Street&#x27;, &#x27;CentralAir&#x27;, &#x27;Foundation&#x27;, &#x27;ExterQual&#x27;, &#x27;ExterCond&#x27;, &#x27;BsmtQual&#x27;, &#x27;BsmtCond&#x27;, &#x27;BsmtExposure&#x27;, &#x27;BsmtFinType1&#x27;, &#x27;ExterQual&#x27;, &#x27;ExterCond&#x27;, &#x27;KitchenQual&#x27;, &#x27;FireplaceQu&#x27;, &#x27;LotShape&#x27;, &#x27;LandContour&#x27;, &#x27;Utilities&#x27;, &#x27;LotConfig&#x27;, &#x27;LandSlope&#x27;, &#x27;BldgType&#x27;, &#x27;HouseStyle&#x27;, &#x27;RoofStyle&#x27;, &#x27;RoofMatl&#x27;, &#x27;MasVnrType&#x27;, &#x27;HeatingQC&#x27;, &#x27;Electrical&#x27;, &#x27;Functional&#x27;, &#x27;GarageFinish&#x27;, &#x27;GarageQual&#x27;, &#x27;GarageCond&#x27;, &#x27;PavedDrive&#x27;]</pre></div></div></div><div class=\"sk-serial\"><div class=\"sk-item\"><div class=\"sk-estimator sk-toggleable\"><input class=\"sk-toggleable__control sk-hidden--visually\" id=\"sk-estimator-id-1058\" type=\"checkbox\" ><label for=\"sk-estimator-id-1058\" class=\"sk-toggleable__label sk-toggleable__label-arrow\">OrdinalEncoder</label><div class=\"sk-toggleable__content\"><pre>OrdinalEncoder(categories=[[&#x27;N_A&#x27;, &#x27;Grvl&#x27;, &#x27;Pave&#x27;], [&#x27;N_A&#x27;, &#x27;N&#x27;, &#x27;Y&#x27;],\n",
       "                           [&#x27;N_A&#x27;, &#x27;Slab&#x27;, &#x27;BrkTil&#x27;, &#x27;CBlock&#x27;, &#x27;Wood&#x27;, &#x27;Stone&#x27;,\n",
       "                            &#x27;PConc&#x27;],\n",
       "                           [&#x27;N_A&#x27;, &#x27;Po&#x27;, &#x27;Fa&#x27;, &#x27;TA&#x27;, &#x27;Gd&#x27;, &#x27;Ex&#x27;],\n",
       "                           [&#x27;N_A&#x27;, &#x27;Po&#x27;, &#x27;Fa&#x27;, &#x27;TA&#x27;, &#x27;Gd&#x27;, &#x27;Ex&#x27;],\n",
       "                           [&#x27;N_A&#x27;, &#x27;NA&#x27;, &#x27;Po&#x27;, &#x27;Fa&#x27;, &#x27;TA&#x27;, &#x27;Gd&#x27;, &#x27;Ex&#x27;],\n",
       "                           [&#x27;N_A&#x27;, &#x27;NA&#x27;, &#x27;Po&#x27;, &#x27;Fa&#x27;, &#x27;TA&#x27;, &#x27;Gd&#x27;, &#x27;Ex&#x27;],\n",
       "                           [&#x27;N_A&#x27;, &#x27;NA&#x27;, &#x27;No&#x27;, &#x27;Mn&#x27;, &#x27;Av&#x27;, &#x27;Gd&#x27;],\n",
       "                           [&#x27;N_A&#x27;, &#x27;NA&#x27;, &#x27;Unf&#x27;, &#x27;LwQ&#x27;, &#x27;Rec&#x27;, &#x27;BLQ&#x27;, &#x27;ALQ&#x27;,\n",
       "                            &#x27;GLQ&#x27;],\n",
       "                           [&#x27;N_A...\n",
       "                           [&#x27;N_A&#x27;, &#x27;Roll&#x27;, &#x27;Tar&amp;Grv&#x27;, &#x27;CompShg&#x27;, &#x27;WdShngl&#x27;,\n",
       "                            &#x27;WdShake&#x27;, &#x27;Membran&#x27;, &#x27;Metal&#x27;, &#x27;ClyTile&#x27;],\n",
       "                           [&#x27;N_A&#x27;, &#x27;None&#x27;, &#x27;CBlock&#x27;, &#x27;BrkCmn&#x27;, &#x27;BrkFace&#x27;,\n",
       "                            &#x27;Stone&#x27;],\n",
       "                           [&#x27;N_A&#x27;, &#x27;Po&#x27;, &#x27;Fa&#x27;, &#x27;TA&#x27;, &#x27;Gd&#x27;, &#x27;Ex&#x27;],\n",
       "                           [&#x27;N_A&#x27;, &#x27;Mix&#x27;, &#x27;FuseP&#x27;, &#x27;FuseF&#x27;, &#x27;FuseA&#x27;, &#x27;SBrkr&#x27;],\n",
       "                           [&#x27;N_A&#x27;, &#x27;Sal&#x27;, &#x27;Sev&#x27;, &#x27;Maj2&#x27;, &#x27;Maj1&#x27;, &#x27;Mod&#x27;, &#x27;Min2&#x27;,\n",
       "                            &#x27;Min1&#x27;, &#x27;Typ&#x27;],\n",
       "                           [&#x27;N_A&#x27;, &#x27;NA&#x27;, &#x27;Unf&#x27;, &#x27;RFn&#x27;, &#x27;Fin&#x27;],\n",
       "                           [&#x27;N_A&#x27;, &#x27;Po&#x27;, &#x27;Fa&#x27;, &#x27;TA&#x27;, &#x27;Gd&#x27;, &#x27;Ex&#x27;],\n",
       "                           [&#x27;N_A&#x27;, &#x27;Po&#x27;, &#x27;Fa&#x27;, &#x27;TA&#x27;, &#x27;Gd&#x27;, &#x27;Ex&#x27;],\n",
       "                           [&#x27;N_A&#x27;, &#x27;N&#x27;, &#x27;P&#x27;, &#x27;Y&#x27;]])</pre></div></div></div></div></div></div><div class=\"sk-parallel-item\"><div class=\"sk-item\"><div class=\"sk-label-container\"><div class=\"sk-label sk-toggleable\"><input class=\"sk-toggleable__control sk-hidden--visually\" id=\"sk-estimator-id-1059\" type=\"checkbox\" ><label for=\"sk-estimator-id-1059\" class=\"sk-toggleable__label sk-toggleable__label-arrow\">cat_onehot</label><div class=\"sk-toggleable__content\"><pre>[&#x27;Heating&#x27;, &#x27;MSZoning&#x27;, &#x27;Condition1&#x27;, &#x27;Neighborhood&#x27;, &#x27;Exterior1st&#x27;, &#x27;GarageType&#x27;, &#x27;SaleType&#x27;]</pre></div></div></div><div class=\"sk-serial\"><div class=\"sk-item\"><div class=\"sk-estimator sk-toggleable\"><input class=\"sk-toggleable__control sk-hidden--visually\" id=\"sk-estimator-id-1060\" type=\"checkbox\" ><label for=\"sk-estimator-id-1060\" class=\"sk-toggleable__label sk-toggleable__label-arrow\">OneHotEncoder</label><div class=\"sk-toggleable__content\"><pre>OneHotEncoder(handle_unknown=&#x27;ignore&#x27;, sparse_output=False)</pre></div></div></div></div></div></div></div></div></div></div></div></div></div></div></div><div class=\"sk-item\"><div class=\"sk-estimator sk-toggleable\"><input class=\"sk-toggleable__control sk-hidden--visually\" id=\"sk-estimator-id-1061\" type=\"checkbox\" ><label for=\"sk-estimator-id-1061\" class=\"sk-toggleable__label sk-toggleable__label-arrow\">StandardScaler</label><div class=\"sk-toggleable__content\"><pre>StandardScaler()</pre></div></div></div><div class=\"sk-item\"><div class=\"sk-estimator sk-toggleable\"><input class=\"sk-toggleable__control sk-hidden--visually\" id=\"sk-estimator-id-1062\" type=\"checkbox\" ><label for=\"sk-estimator-id-1062\" class=\"sk-toggleable__label sk-toggleable__label-arrow\">LogisticRegression</label><div class=\"sk-toggleable__content\"><pre>LogisticRegression()</pre></div></div></div></div></div></div></div></div></div></div></div></div>"
      ],
      "text/plain": [
       "GridSearchCV(cv=10,\n",
       "             estimator=Pipeline(steps=[('columntransformer',\n",
       "                                        ColumnTransformer(transformers=[('num_pipe',\n",
       "                                                                         Pipeline(steps=[('simpleimputer',\n",
       "                                                                                          SimpleImputer())]),\n",
       "                                                                         Index(['LotArea', 'LotFrontage', 'TotalBsmtSF', 'BedroomAbvGr', 'Fireplaces',\n",
       "       'PoolArea', 'GarageCars', 'WoodDeckSF', 'ScreenPorch', 'MSSubClass',\n",
       "       'OverallQual', 'OverallCond', 'YearBuilt', 'YearRemodA...\n",
       "       'GarageType', 'GarageFinish', 'GarageQual', 'GarageCond', 'PavedDrive',\n",
       "       'SaleType'],\n",
       "      dtype='object'))])),\n",
       "                                       ('standardscaler', StandardScaler()),\n",
       "                                       ('logisticregression',\n",
       "                                        LogisticRegression())]),\n",
       "             param_grid={'columntransformer__num_pipe__simpleimputer__strategy': ['mean'],\n",
       "                         'logisticregression__penalty': ['l2'],\n",
       "                         'logisticregression__solver': ['newton-cholesky']},\n",
       "             verbose=True)"
      ]
     },
     "execution_count": 611,
     "metadata": {},
     "output_type": "execute_result"
    }
   ],
   "source": [
    "import numpy as np\n",
    "import warnings\n",
    "\n",
    "warnings.filterwarnings(\"ignore\")\n",
    "# Filter out the specific warning by specifying its category\n",
    "#warnings.filterwarnings(\"ignore\", category=UserWarning, message=\"Scoring failed.\")\n",
    "#warnings.filterwarnings(\"ignore\", category=UserWarning, message=\"One or more of the test scores are non-finite\")\n",
    "\n",
    "\n",
    "\n",
    "param_grid_logreg = {\n",
    "    'columntransformer__num_pipe__simpleimputer__strategy':['mean'],\n",
    "    #'logisticregression__penalty' : ['l1', 'l2', 'elasticnet', 'none'],\n",
    "    'logisticregression__penalty' : ['l2'],\n",
    "    #'logisticregression__C' : np.logspace(-4, 4, 20),\n",
    "    #'logisticregression__solver' : ['newton-cholesky','newton-cg','liblinear','sag','saga'],\n",
    "    'logisticregression__solver' : ['newton-cholesky'],\n",
    "    #'logisticregression__max_iter' : [100, 1000,2500, 5000]\n",
    "}\n",
    "\n",
    "search_logreg = GridSearchCV(full_logreg_pipeline_scaled,\n",
    "                      param_grid_logreg,\n",
    "                      cv=10,\n",
    "                      verbose=True)\n",
    "\n",
    "search_logreg.fit(X_train, y_train)"
   ]
  },
  {
   "cell_type": "code",
   "execution_count": 612,
   "metadata": {
    "tags": []
   },
   "outputs": [
    {
     "data": {
      "text/plain": [
       "{'columntransformer__num_pipe__simpleimputer__strategy': 'mean',\n",
       " 'logisticregression__penalty': 'l2',\n",
       " 'logisticregression__solver': 'newton-cholesky'}"
      ]
     },
     "execution_count": 612,
     "metadata": {},
     "output_type": "execute_result"
    }
   ],
   "source": [
    "search_logreg.best_params_"
   ]
  },
  {
   "cell_type": "code",
   "execution_count": 613,
   "metadata": {
    "tags": []
   },
   "outputs": [
    {
     "data": {
      "text/plain": [
       "{'dtree': 0.9306734453286177,\n",
       " 'knn': 0.9126510462717359,\n",
       " 'knn_scaled': 0.9263483642793988,\n",
       " 'logreg': 0.9366710875331565}"
      ]
     },
     "execution_count": 613,
     "metadata": {},
     "output_type": "execute_result"
    }
   ],
   "source": [
    "scores[\"logreg\"] = search_logreg.best_score_\n",
    "\n",
    "scores"
   ]
  },
  {
   "cell_type": "code",
   "execution_count": 614,
   "metadata": {
    "tags": []
   },
   "outputs": [],
   "source": [
    "#logreg': 0.935798393309123"
   ]
  },
  {
   "cell_type": "code",
   "execution_count": 615,
   "metadata": {
    "tags": []
   },
   "outputs": [
    {
     "data": {
      "text/plain": [
       "0.9417808219178082"
      ]
     },
     "execution_count": 615,
     "metadata": {},
     "output_type": "execute_result"
    }
   ],
   "source": [
    "accuracy_score(y_test, search_logreg.predict(X_test))"
   ]
  },
  {
   "cell_type": "code",
   "execution_count": 616,
   "metadata": {
    "tags": []
   },
   "outputs": [],
   "source": [
    "#0.934931506849315"
   ]
  },
  {
   "cell_type": "code",
   "execution_count": 617,
   "metadata": {
    "tags": []
   },
   "outputs": [
    {
     "data": {
      "image/png": "[encoded data removed]",
      "text/plain": [
       "<Figure size 640x480 with 2 Axes>"
      ]
     },
     "metadata": {},
     "output_type": "display_data"
    }
   ],
   "source": [
    "#from sklearn.metrics import plot_confusion_matrix\n",
    "#plot_confusion_matrix(search, X_test, y_test, display_labels=['Not Survied', 'Survived']);\n",
    "\n",
    "from sklearn.metrics import ConfusionMatrixDisplay\n",
    "ConfusionMatrixDisplay.from_estimator(search_logreg,\n",
    "                                      X_test,\n",
    "                                      y_test,\n",
    "                                      display_labels=['Not Expensive','Expensive']);"
   ]
  },
  {
   "cell_type": "markdown",
   "metadata": {
    "id": "xtLN70Br1Bg1",
    "tags": []
   },
   "source": [
    "#### Support Vector Machines (SVC)"
   ]
  },
  {
   "cell_type": "code",
   "execution_count": 618,
   "metadata": {
    "tags": []
   },
   "outputs": [],
   "source": [
    "from sklearn.svm import SVC"
   ]
  },
  {
   "cell_type": "code",
   "execution_count": 619,
   "metadata": {
    "tags": []
   },
   "outputs": [],
   "source": [
    "full_svc_pipeline_scaled = make_pipeline(preprocessor,\n",
    "                                    StandardScaler(),\n",
    "                                 SVC())"
   ]
  },
  {
   "cell_type": "code",
   "execution_count": 620,
   "metadata": {
    "tags": []
   },
   "outputs": [
    {
     "data": {
      "text/html": [
       "<style>#sk-container-id-87 {color: black;}#sk-container-id-87 pre{padding: 0;}#sk-container-id-87 div.sk-toggleable {background-color: white;}#sk-container-id-87 label.sk-toggleable__label {cursor: pointer;display: block;width: 100%;margin-bottom: 0;padding: 0.3em;box-sizing: border-box;text-align: center;}#sk-container-id-87 label.sk-toggleable__label-arrow:before {content: \"▸\";float: left;margin-right: 0.25em;color: #696969;}#sk-container-id-87 label.sk-toggleable__label-arrow:hover:before {color: black;}#sk-container-id-87 div.sk-estimator:hover label.sk-toggleable__label-arrow:before {color: black;}#sk-container-id-87 div.sk-toggleable__content {max-height: 0;max-width: 0;overflow: hidden;text-align: left;background-color: #f0f8ff;}#sk-container-id-87 div.sk-toggleable__content pre {margin: 0.2em;color: black;border-radius: 0.25em;background-color: #f0f8ff;}#sk-container-id-87 input.sk-toggleable__control:checked~div.sk-toggleable__content {max-height: 200px;max-width: 100%;overflow: auto;}#sk-container-id-87 input.sk-toggleable__control:checked~label.sk-toggleable__label-arrow:before {content: \"▾\";}#sk-container-id-87 div.sk-estimator input.sk-toggleable__control:checked~label.sk-toggleable__label {background-color: #d4ebff;}#sk-container-id-87 div.sk-label input.sk-toggleable__control:checked~label.sk-toggleable__label {background-color: #d4ebff;}#sk-container-id-87 input.sk-hidden--visually {border: 0;clip: rect(1px 1px 1px 1px);clip: rect(1px, 1px, 1px, 1px);height: 1px;margin: -1px;overflow: hidden;padding: 0;position: absolute;width: 1px;}#sk-container-id-87 div.sk-estimator {font-family: monospace;background-color: #f0f8ff;border: 1px dotted black;border-radius: 0.25em;box-sizing: border-box;margin-bottom: 0.5em;}#sk-container-id-87 div.sk-estimator:hover {background-color: #d4ebff;}#sk-container-id-87 div.sk-parallel-item::after {content: \"\";width: 100%;border-bottom: 1px solid gray;flex-grow: 1;}#sk-container-id-87 div.sk-label:hover label.sk-toggleable__label {background-color: #d4ebff;}#sk-container-id-87 div.sk-serial::before {content: \"\";position: absolute;border-left: 1px solid gray;box-sizing: border-box;top: 0;bottom: 0;left: 50%;z-index: 0;}#sk-container-id-87 div.sk-serial {display: flex;flex-direction: column;align-items: center;background-color: white;padding-right: 0.2em;padding-left: 0.2em;position: relative;}#sk-container-id-87 div.sk-item {position: relative;z-index: 1;}#sk-container-id-87 div.sk-parallel {display: flex;align-items: stretch;justify-content: center;background-color: white;position: relative;}#sk-container-id-87 div.sk-item::before, #sk-container-id-87 div.sk-parallel-item::before {content: \"\";position: absolute;border-left: 1px solid gray;box-sizing: border-box;top: 0;bottom: 0;left: 50%;z-index: -1;}#sk-container-id-87 div.sk-parallel-item {display: flex;flex-direction: column;z-index: 1;position: relative;background-color: white;}#sk-container-id-87 div.sk-parallel-item:first-child::after {align-self: flex-end;width: 50%;}#sk-container-id-87 div.sk-parallel-item:last-child::after {align-self: flex-start;width: 50%;}#sk-container-id-87 div.sk-parallel-item:only-child::after {width: 0;}#sk-container-id-87 div.sk-dashed-wrapped {border: 1px dashed gray;margin: 0 0.4em 0.5em 0.4em;box-sizing: border-box;padding-bottom: 0.4em;background-color: white;}#sk-container-id-87 div.sk-label label {font-family: monospace;font-weight: bold;display: inline-block;line-height: 1.2em;}#sk-container-id-87 div.sk-label-container {text-align: center;}#sk-container-id-87 div.sk-container {/* jupyter's `normalize.less` sets `[hidden] { display: none; }` but bootstrap.min.css set `[hidden] { display: none !important; }` so we also need the `!important` here to be able to override the default hidden behavior on the sphinx rendered scikit-learn.org. See: https://github.com/scikit-learn/scikit-learn/issues/21755 */display: inline-block !important;position: relative;}#sk-container-id-87 div.sk-text-repr-fallback {display: none;}</style><div id=\"sk-container-id-87\" class=\"sk-top-container\"><div class=\"sk-text-repr-fallback\"><pre>Pipeline(steps=[(&#x27;columntransformer&#x27;,\n",
       "                 ColumnTransformer(transformers=[(&#x27;num_pipe&#x27;,\n",
       "                                                  Pipeline(steps=[(&#x27;simpleimputer&#x27;,\n",
       "                                                                   SimpleImputer())]),\n",
       "                                                  Index([&#x27;LotArea&#x27;, &#x27;LotFrontage&#x27;, &#x27;TotalBsmtSF&#x27;, &#x27;BedroomAbvGr&#x27;, &#x27;Fireplaces&#x27;,\n",
       "       &#x27;PoolArea&#x27;, &#x27;GarageCars&#x27;, &#x27;WoodDeckSF&#x27;, &#x27;ScreenPorch&#x27;, &#x27;MSSubClass&#x27;,\n",
       "       &#x27;OverallQual&#x27;, &#x27;OverallCond&#x27;, &#x27;YearBuilt&#x27;, &#x27;YearRemodAdd&#x27;, &#x27;MasVnrArea&#x27;,\n",
       "       &#x27;BsmtFinSF1&#x27;...\n",
       "       &#x27;BsmtExposure&#x27;, &#x27;BsmtFinType1&#x27;, &#x27;KitchenQual&#x27;, &#x27;FireplaceQu&#x27;,\n",
       "       &#x27;LotShape&#x27;, &#x27;LandContour&#x27;, &#x27;Utilities&#x27;, &#x27;LotConfig&#x27;, &#x27;LandSlope&#x27;,\n",
       "       &#x27;Neighborhood&#x27;, &#x27;BldgType&#x27;, &#x27;HouseStyle&#x27;, &#x27;RoofStyle&#x27;, &#x27;RoofMatl&#x27;,\n",
       "       &#x27;Exterior1st&#x27;, &#x27;MasVnrType&#x27;, &#x27;HeatingQC&#x27;, &#x27;Electrical&#x27;, &#x27;Functional&#x27;,\n",
       "       &#x27;GarageType&#x27;, &#x27;GarageFinish&#x27;, &#x27;GarageQual&#x27;, &#x27;GarageCond&#x27;, &#x27;PavedDrive&#x27;,\n",
       "       &#x27;SaleType&#x27;],\n",
       "      dtype=&#x27;object&#x27;))])),\n",
       "                (&#x27;standardscaler&#x27;, StandardScaler()), (&#x27;svc&#x27;, SVC())])</pre><b>In a Jupyter environment, please rerun this cell to show the HTML representation or trust the notebook. <br />On GitHub, the HTML representation is unable to render, please try loading this page with nbviewer.org.</b></div><div class=\"sk-container\" hidden><div class=\"sk-item sk-dashed-wrapped\"><div class=\"sk-label-container\"><div class=\"sk-label sk-toggleable\"><input class=\"sk-toggleable__control sk-hidden--visually\" id=\"sk-estimator-id-1063\" type=\"checkbox\" ><label for=\"sk-estimator-id-1063\" class=\"sk-toggleable__label sk-toggleable__label-arrow\">Pipeline</label><div class=\"sk-toggleable__content\"><pre>Pipeline(steps=[(&#x27;columntransformer&#x27;,\n",
       "                 ColumnTransformer(transformers=[(&#x27;num_pipe&#x27;,\n",
       "                                                  Pipeline(steps=[(&#x27;simpleimputer&#x27;,\n",
       "                                                                   SimpleImputer())]),\n",
       "                                                  Index([&#x27;LotArea&#x27;, &#x27;LotFrontage&#x27;, &#x27;TotalBsmtSF&#x27;, &#x27;BedroomAbvGr&#x27;, &#x27;Fireplaces&#x27;,\n",
       "       &#x27;PoolArea&#x27;, &#x27;GarageCars&#x27;, &#x27;WoodDeckSF&#x27;, &#x27;ScreenPorch&#x27;, &#x27;MSSubClass&#x27;,\n",
       "       &#x27;OverallQual&#x27;, &#x27;OverallCond&#x27;, &#x27;YearBuilt&#x27;, &#x27;YearRemodAdd&#x27;, &#x27;MasVnrArea&#x27;,\n",
       "       &#x27;BsmtFinSF1&#x27;...\n",
       "       &#x27;BsmtExposure&#x27;, &#x27;BsmtFinType1&#x27;, &#x27;KitchenQual&#x27;, &#x27;FireplaceQu&#x27;,\n",
       "       &#x27;LotShape&#x27;, &#x27;LandContour&#x27;, &#x27;Utilities&#x27;, &#x27;LotConfig&#x27;, &#x27;LandSlope&#x27;,\n",
       "       &#x27;Neighborhood&#x27;, &#x27;BldgType&#x27;, &#x27;HouseStyle&#x27;, &#x27;RoofStyle&#x27;, &#x27;RoofMatl&#x27;,\n",
       "       &#x27;Exterior1st&#x27;, &#x27;MasVnrType&#x27;, &#x27;HeatingQC&#x27;, &#x27;Electrical&#x27;, &#x27;Functional&#x27;,\n",
       "       &#x27;GarageType&#x27;, &#x27;GarageFinish&#x27;, &#x27;GarageQual&#x27;, &#x27;GarageCond&#x27;, &#x27;PavedDrive&#x27;,\n",
       "       &#x27;SaleType&#x27;],\n",
       "      dtype=&#x27;object&#x27;))])),\n",
       "                (&#x27;standardscaler&#x27;, StandardScaler()), (&#x27;svc&#x27;, SVC())])</pre></div></div></div><div class=\"sk-serial\"><div class=\"sk-item sk-dashed-wrapped\"><div class=\"sk-label-container\"><div class=\"sk-label sk-toggleable\"><input class=\"sk-toggleable__control sk-hidden--visually\" id=\"sk-estimator-id-1064\" type=\"checkbox\" ><label for=\"sk-estimator-id-1064\" class=\"sk-toggleable__label sk-toggleable__label-arrow\">columntransformer: ColumnTransformer</label><div class=\"sk-toggleable__content\"><pre>ColumnTransformer(transformers=[(&#x27;num_pipe&#x27;,\n",
       "                                 Pipeline(steps=[(&#x27;simpleimputer&#x27;,\n",
       "                                                  SimpleImputer())]),\n",
       "                                 Index([&#x27;LotArea&#x27;, &#x27;LotFrontage&#x27;, &#x27;TotalBsmtSF&#x27;, &#x27;BedroomAbvGr&#x27;, &#x27;Fireplaces&#x27;,\n",
       "       &#x27;PoolArea&#x27;, &#x27;GarageCars&#x27;, &#x27;WoodDeckSF&#x27;, &#x27;ScreenPorch&#x27;, &#x27;MSSubClass&#x27;,\n",
       "       &#x27;OverallQual&#x27;, &#x27;OverallCond&#x27;, &#x27;YearBuilt&#x27;, &#x27;YearRemodAdd&#x27;, &#x27;MasVnrArea&#x27;,\n",
       "       &#x27;BsmtFinSF1&#x27;, &#x27;BsmtFinSF2&#x27;, &#x27;BsmtUnfSF&#x27;, &#x27;1stFlrSF&#x27;,...\n",
       "       &#x27;Foundation&#x27;, &#x27;ExterQual&#x27;, &#x27;ExterCond&#x27;, &#x27;BsmtQual&#x27;, &#x27;BsmtCond&#x27;,\n",
       "       &#x27;BsmtExposure&#x27;, &#x27;BsmtFinType1&#x27;, &#x27;KitchenQual&#x27;, &#x27;FireplaceQu&#x27;,\n",
       "       &#x27;LotShape&#x27;, &#x27;LandContour&#x27;, &#x27;Utilities&#x27;, &#x27;LotConfig&#x27;, &#x27;LandSlope&#x27;,\n",
       "       &#x27;Neighborhood&#x27;, &#x27;BldgType&#x27;, &#x27;HouseStyle&#x27;, &#x27;RoofStyle&#x27;, &#x27;RoofMatl&#x27;,\n",
       "       &#x27;Exterior1st&#x27;, &#x27;MasVnrType&#x27;, &#x27;HeatingQC&#x27;, &#x27;Electrical&#x27;, &#x27;Functional&#x27;,\n",
       "       &#x27;GarageType&#x27;, &#x27;GarageFinish&#x27;, &#x27;GarageQual&#x27;, &#x27;GarageCond&#x27;, &#x27;PavedDrive&#x27;,\n",
       "       &#x27;SaleType&#x27;],\n",
       "      dtype=&#x27;object&#x27;))])</pre></div></div></div><div class=\"sk-parallel\"><div class=\"sk-parallel-item\"><div class=\"sk-item\"><div class=\"sk-label-container\"><div class=\"sk-label sk-toggleable\"><input class=\"sk-toggleable__control sk-hidden--visually\" id=\"sk-estimator-id-1065\" type=\"checkbox\" ><label for=\"sk-estimator-id-1065\" class=\"sk-toggleable__label sk-toggleable__label-arrow\">num_pipe</label><div class=\"sk-toggleable__content\"><pre>Index([&#x27;LotArea&#x27;, &#x27;LotFrontage&#x27;, &#x27;TotalBsmtSF&#x27;, &#x27;BedroomAbvGr&#x27;, &#x27;Fireplaces&#x27;,\n",
       "       &#x27;PoolArea&#x27;, &#x27;GarageCars&#x27;, &#x27;WoodDeckSF&#x27;, &#x27;ScreenPorch&#x27;, &#x27;MSSubClass&#x27;,\n",
       "       &#x27;OverallQual&#x27;, &#x27;OverallCond&#x27;, &#x27;YearBuilt&#x27;, &#x27;YearRemodAdd&#x27;, &#x27;MasVnrArea&#x27;,\n",
       "       &#x27;BsmtFinSF1&#x27;, &#x27;BsmtFinSF2&#x27;, &#x27;BsmtUnfSF&#x27;, &#x27;1stFlrSF&#x27;, &#x27;2ndFlrSF&#x27;,\n",
       "       &#x27;LowQualFinSF&#x27;, &#x27;GrLivArea&#x27;, &#x27;BsmtFullBath&#x27;, &#x27;BsmtHalfBath&#x27;, &#x27;FullBath&#x27;,\n",
       "       &#x27;HalfBath&#x27;, &#x27;KitchenAbvGr&#x27;, &#x27;TotRmsAbvGrd&#x27;, &#x27;GarageYrBlt&#x27;, &#x27;GarageArea&#x27;,\n",
       "       &#x27;OpenPorchSF&#x27;, &#x27;EnclosedPorch&#x27;, &#x27;3SsnPorch&#x27;, &#x27;MiscVal&#x27;, &#x27;MoSold&#x27;,\n",
       "       &#x27;YrSold&#x27;],\n",
       "      dtype=&#x27;object&#x27;)</pre></div></div></div><div class=\"sk-serial\"><div class=\"sk-item\"><div class=\"sk-serial\"><div class=\"sk-item\"><div class=\"sk-estimator sk-toggleable\"><input class=\"sk-toggleable__control sk-hidden--visually\" id=\"sk-estimator-id-1066\" type=\"checkbox\" ><label for=\"sk-estimator-id-1066\" class=\"sk-toggleable__label sk-toggleable__label-arrow\">SimpleImputer</label><div class=\"sk-toggleable__content\"><pre>SimpleImputer()</pre></div></div></div></div></div></div></div></div><div class=\"sk-parallel-item\"><div class=\"sk-item\"><div class=\"sk-label-container\"><div class=\"sk-label sk-toggleable\"><input class=\"sk-toggleable__control sk-hidden--visually\" id=\"sk-estimator-id-1067\" type=\"checkbox\" ><label for=\"sk-estimator-id-1067\" class=\"sk-toggleable__label sk-toggleable__label-arrow\">cat_pipe</label><div class=\"sk-toggleable__content\"><pre>Index([&#x27;MSZoning&#x27;, &#x27;Condition1&#x27;, &#x27;Heating&#x27;, &#x27;Street&#x27;, &#x27;CentralAir&#x27;,\n",
       "       &#x27;Foundation&#x27;, &#x27;ExterQual&#x27;, &#x27;ExterCond&#x27;, &#x27;BsmtQual&#x27;, &#x27;BsmtCond&#x27;,\n",
       "       &#x27;BsmtExposure&#x27;, &#x27;BsmtFinType1&#x27;, &#x27;KitchenQual&#x27;, &#x27;FireplaceQu&#x27;,\n",
       "       &#x27;LotShape&#x27;, &#x27;LandContour&#x27;, &#x27;Utilities&#x27;, &#x27;LotConfig&#x27;, &#x27;LandSlope&#x27;,\n",
       "       &#x27;Neighborhood&#x27;, &#x27;BldgType&#x27;, &#x27;HouseStyle&#x27;, &#x27;RoofStyle&#x27;, &#x27;RoofMatl&#x27;,\n",
       "       &#x27;Exterior1st&#x27;, &#x27;MasVnrType&#x27;, &#x27;HeatingQC&#x27;, &#x27;Electrical&#x27;, &#x27;Functional&#x27;,\n",
       "       &#x27;GarageType&#x27;, &#x27;GarageFinish&#x27;, &#x27;GarageQual&#x27;, &#x27;GarageCond&#x27;, &#x27;PavedDrive&#x27;,\n",
       "       &#x27;SaleType&#x27;],\n",
       "      dtype=&#x27;object&#x27;)</pre></div></div></div><div class=\"sk-serial\"><div class=\"sk-item\"><div class=\"sk-serial\"><div class=\"sk-item\"><div class=\"sk-estimator sk-toggleable\"><input class=\"sk-toggleable__control sk-hidden--visually\" id=\"sk-estimator-id-1068\" type=\"checkbox\" ><label for=\"sk-estimator-id-1068\" class=\"sk-toggleable__label sk-toggleable__label-arrow\">SimpleImputer</label><div class=\"sk-toggleable__content\"><pre>SimpleImputer(fill_value=&#x27;N_A&#x27;, strategy=&#x27;constant&#x27;)</pre></div></div></div><div class=\"sk-item sk-dashed-wrapped\"><div class=\"sk-label-container\"><div class=\"sk-label sk-toggleable\"><input class=\"sk-toggleable__control sk-hidden--visually\" id=\"sk-estimator-id-1069\" type=\"checkbox\" ><label for=\"sk-estimator-id-1069\" class=\"sk-toggleable__label sk-toggleable__label-arrow\">columntransformer: ColumnTransformer</label><div class=\"sk-toggleable__content\"><pre>ColumnTransformer(transformers=[(&#x27;cat_ordinal&#x27;,\n",
       "                                 OrdinalEncoder(categories=[[&#x27;N_A&#x27;, &#x27;Grvl&#x27;,\n",
       "                                                             &#x27;Pave&#x27;],\n",
       "                                                            [&#x27;N_A&#x27;, &#x27;N&#x27;, &#x27;Y&#x27;],\n",
       "                                                            [&#x27;N_A&#x27;, &#x27;Slab&#x27;,\n",
       "                                                             &#x27;BrkTil&#x27;, &#x27;CBlock&#x27;,\n",
       "                                                             &#x27;Wood&#x27;, &#x27;Stone&#x27;,\n",
       "                                                             &#x27;PConc&#x27;],\n",
       "                                                            [&#x27;N_A&#x27;, &#x27;Po&#x27;, &#x27;Fa&#x27;,\n",
       "                                                             &#x27;TA&#x27;, &#x27;Gd&#x27;, &#x27;Ex&#x27;],\n",
       "                                                            [&#x27;N_A&#x27;, &#x27;Po&#x27;, &#x27;Fa&#x27;,\n",
       "                                                             &#x27;TA&#x27;, &#x27;Gd&#x27;, &#x27;Ex&#x27;],\n",
       "                                                            [&#x27;N_A&#x27;, &#x27;NA&#x27;, &#x27;Po&#x27;,\n",
       "                                                             &#x27;Fa&#x27;, &#x27;TA&#x27;, &#x27;Gd&#x27;,\n",
       "                                                             &#x27;Ex&#x27;],\n",
       "                                                            [&#x27;N_A&#x27;, &#x27;NA&#x27;, &#x27;Po&#x27;,\n",
       "                                                             &#x27;Fa&#x27;, &#x27;TA&#x27;, &#x27;Gd&#x27;,\n",
       "                                                             &#x27;Ex&#x27;],\n",
       "                                                            [&#x27;N_A&#x27;, &#x27;NA&#x27;, &#x27;No&#x27;,\n",
       "                                                             &#x27;Mn&#x27;, &#x27;Av&#x27;, &#x27;Gd&#x27;],\n",
       "                                                            [&#x27;N_A&#x27;,...\n",
       "                                  &#x27;Utilities&#x27;, &#x27;LotConfig&#x27;, &#x27;LandSlope&#x27;,\n",
       "                                  &#x27;BldgType&#x27;, &#x27;HouseStyle&#x27;, &#x27;RoofStyle&#x27;,\n",
       "                                  &#x27;RoofMatl&#x27;, &#x27;MasVnrType&#x27;, &#x27;HeatingQC&#x27;,\n",
       "                                  &#x27;Electrical&#x27;, &#x27;Functional&#x27;, &#x27;GarageFinish&#x27;,\n",
       "                                  &#x27;GarageQual&#x27;, &#x27;GarageCond&#x27;, &#x27;PavedDrive&#x27;]),\n",
       "                                (&#x27;cat_onehot&#x27;,\n",
       "                                 OneHotEncoder(handle_unknown=&#x27;ignore&#x27;,\n",
       "                                               sparse_output=False),\n",
       "                                 [&#x27;Heating&#x27;, &#x27;MSZoning&#x27;, &#x27;Condition1&#x27;,\n",
       "                                  &#x27;Neighborhood&#x27;, &#x27;Exterior1st&#x27;, &#x27;GarageType&#x27;,\n",
       "                                  &#x27;SaleType&#x27;])])</pre></div></div></div><div class=\"sk-parallel\"><div class=\"sk-parallel-item\"><div class=\"sk-item\"><div class=\"sk-label-container\"><div class=\"sk-label sk-toggleable\"><input class=\"sk-toggleable__control sk-hidden--visually\" id=\"sk-estimator-id-1070\" type=\"checkbox\" ><label for=\"sk-estimator-id-1070\" class=\"sk-toggleable__label sk-toggleable__label-arrow\">cat_ordinal</label><div class=\"sk-toggleable__content\"><pre>[&#x27;Street&#x27;, &#x27;CentralAir&#x27;, &#x27;Foundation&#x27;, &#x27;ExterQual&#x27;, &#x27;ExterCond&#x27;, &#x27;BsmtQual&#x27;, &#x27;BsmtCond&#x27;, &#x27;BsmtExposure&#x27;, &#x27;BsmtFinType1&#x27;, &#x27;ExterQual&#x27;, &#x27;ExterCond&#x27;, &#x27;KitchenQual&#x27;, &#x27;FireplaceQu&#x27;, &#x27;LotShape&#x27;, &#x27;LandContour&#x27;, &#x27;Utilities&#x27;, &#x27;LotConfig&#x27;, &#x27;LandSlope&#x27;, &#x27;BldgType&#x27;, &#x27;HouseStyle&#x27;, &#x27;RoofStyle&#x27;, &#x27;RoofMatl&#x27;, &#x27;MasVnrType&#x27;, &#x27;HeatingQC&#x27;, &#x27;Electrical&#x27;, &#x27;Functional&#x27;, &#x27;GarageFinish&#x27;, &#x27;GarageQual&#x27;, &#x27;GarageCond&#x27;, &#x27;PavedDrive&#x27;]</pre></div></div></div><div class=\"sk-serial\"><div class=\"sk-item\"><div class=\"sk-estimator sk-toggleable\"><input class=\"sk-toggleable__control sk-hidden--visually\" id=\"sk-estimator-id-1071\" type=\"checkbox\" ><label for=\"sk-estimator-id-1071\" class=\"sk-toggleable__label sk-toggleable__label-arrow\">OrdinalEncoder</label><div class=\"sk-toggleable__content\"><pre>OrdinalEncoder(categories=[[&#x27;N_A&#x27;, &#x27;Grvl&#x27;, &#x27;Pave&#x27;], [&#x27;N_A&#x27;, &#x27;N&#x27;, &#x27;Y&#x27;],\n",
       "                           [&#x27;N_A&#x27;, &#x27;Slab&#x27;, &#x27;BrkTil&#x27;, &#x27;CBlock&#x27;, &#x27;Wood&#x27;, &#x27;Stone&#x27;,\n",
       "                            &#x27;PConc&#x27;],\n",
       "                           [&#x27;N_A&#x27;, &#x27;Po&#x27;, &#x27;Fa&#x27;, &#x27;TA&#x27;, &#x27;Gd&#x27;, &#x27;Ex&#x27;],\n",
       "                           [&#x27;N_A&#x27;, &#x27;Po&#x27;, &#x27;Fa&#x27;, &#x27;TA&#x27;, &#x27;Gd&#x27;, &#x27;Ex&#x27;],\n",
       "                           [&#x27;N_A&#x27;, &#x27;NA&#x27;, &#x27;Po&#x27;, &#x27;Fa&#x27;, &#x27;TA&#x27;, &#x27;Gd&#x27;, &#x27;Ex&#x27;],\n",
       "                           [&#x27;N_A&#x27;, &#x27;NA&#x27;, &#x27;Po&#x27;, &#x27;Fa&#x27;, &#x27;TA&#x27;, &#x27;Gd&#x27;, &#x27;Ex&#x27;],\n",
       "                           [&#x27;N_A&#x27;, &#x27;NA&#x27;, &#x27;No&#x27;, &#x27;Mn&#x27;, &#x27;Av&#x27;, &#x27;Gd&#x27;],\n",
       "                           [&#x27;N_A&#x27;, &#x27;NA&#x27;, &#x27;Unf&#x27;, &#x27;LwQ&#x27;, &#x27;Rec&#x27;, &#x27;BLQ&#x27;, &#x27;ALQ&#x27;,\n",
       "                            &#x27;GLQ&#x27;],\n",
       "                           [&#x27;N_A...\n",
       "                           [&#x27;N_A&#x27;, &#x27;Roll&#x27;, &#x27;Tar&amp;Grv&#x27;, &#x27;CompShg&#x27;, &#x27;WdShngl&#x27;,\n",
       "                            &#x27;WdShake&#x27;, &#x27;Membran&#x27;, &#x27;Metal&#x27;, &#x27;ClyTile&#x27;],\n",
       "                           [&#x27;N_A&#x27;, &#x27;None&#x27;, &#x27;CBlock&#x27;, &#x27;BrkCmn&#x27;, &#x27;BrkFace&#x27;,\n",
       "                            &#x27;Stone&#x27;],\n",
       "                           [&#x27;N_A&#x27;, &#x27;Po&#x27;, &#x27;Fa&#x27;, &#x27;TA&#x27;, &#x27;Gd&#x27;, &#x27;Ex&#x27;],\n",
       "                           [&#x27;N_A&#x27;, &#x27;Mix&#x27;, &#x27;FuseP&#x27;, &#x27;FuseF&#x27;, &#x27;FuseA&#x27;, &#x27;SBrkr&#x27;],\n",
       "                           [&#x27;N_A&#x27;, &#x27;Sal&#x27;, &#x27;Sev&#x27;, &#x27;Maj2&#x27;, &#x27;Maj1&#x27;, &#x27;Mod&#x27;, &#x27;Min2&#x27;,\n",
       "                            &#x27;Min1&#x27;, &#x27;Typ&#x27;],\n",
       "                           [&#x27;N_A&#x27;, &#x27;NA&#x27;, &#x27;Unf&#x27;, &#x27;RFn&#x27;, &#x27;Fin&#x27;],\n",
       "                           [&#x27;N_A&#x27;, &#x27;Po&#x27;, &#x27;Fa&#x27;, &#x27;TA&#x27;, &#x27;Gd&#x27;, &#x27;Ex&#x27;],\n",
       "                           [&#x27;N_A&#x27;, &#x27;Po&#x27;, &#x27;Fa&#x27;, &#x27;TA&#x27;, &#x27;Gd&#x27;, &#x27;Ex&#x27;],\n",
       "                           [&#x27;N_A&#x27;, &#x27;N&#x27;, &#x27;P&#x27;, &#x27;Y&#x27;]])</pre></div></div></div></div></div></div><div class=\"sk-parallel-item\"><div class=\"sk-item\"><div class=\"sk-label-container\"><div class=\"sk-label sk-toggleable\"><input class=\"sk-toggleable__control sk-hidden--visually\" id=\"sk-estimator-id-1072\" type=\"checkbox\" ><label for=\"sk-estimator-id-1072\" class=\"sk-toggleable__label sk-toggleable__label-arrow\">cat_onehot</label><div class=\"sk-toggleable__content\"><pre>[&#x27;Heating&#x27;, &#x27;MSZoning&#x27;, &#x27;Condition1&#x27;, &#x27;Neighborhood&#x27;, &#x27;Exterior1st&#x27;, &#x27;GarageType&#x27;, &#x27;SaleType&#x27;]</pre></div></div></div><div class=\"sk-serial\"><div class=\"sk-item\"><div class=\"sk-estimator sk-toggleable\"><input class=\"sk-toggleable__control sk-hidden--visually\" id=\"sk-estimator-id-1073\" type=\"checkbox\" ><label for=\"sk-estimator-id-1073\" class=\"sk-toggleable__label sk-toggleable__label-arrow\">OneHotEncoder</label><div class=\"sk-toggleable__content\"><pre>OneHotEncoder(handle_unknown=&#x27;ignore&#x27;, sparse_output=False)</pre></div></div></div></div></div></div></div></div></div></div></div></div></div></div></div><div class=\"sk-item\"><div class=\"sk-estimator sk-toggleable\"><input class=\"sk-toggleable__control sk-hidden--visually\" id=\"sk-estimator-id-1074\" type=\"checkbox\" ><label for=\"sk-estimator-id-1074\" class=\"sk-toggleable__label sk-toggleable__label-arrow\">StandardScaler</label><div class=\"sk-toggleable__content\"><pre>StandardScaler()</pre></div></div></div><div class=\"sk-item\"><div class=\"sk-estimator sk-toggleable\"><input class=\"sk-toggleable__control sk-hidden--visually\" id=\"sk-estimator-id-1075\" type=\"checkbox\" ><label for=\"sk-estimator-id-1075\" class=\"sk-toggleable__label sk-toggleable__label-arrow\">SVC</label><div class=\"sk-toggleable__content\"><pre>SVC()</pre></div></div></div></div></div></div></div>"
      ],
      "text/plain": [
       "Pipeline(steps=[('columntransformer',\n",
       "                 ColumnTransformer(transformers=[('num_pipe',\n",
       "                                                  Pipeline(steps=[('simpleimputer',\n",
       "                                                                   SimpleImputer())]),\n",
       "                                                  Index(['LotArea', 'LotFrontage', 'TotalBsmtSF', 'BedroomAbvGr', 'Fireplaces',\n",
       "       'PoolArea', 'GarageCars', 'WoodDeckSF', 'ScreenPorch', 'MSSubClass',\n",
       "       'OverallQual', 'OverallCond', 'YearBuilt', 'YearRemodAdd', 'MasVnrArea',\n",
       "       'BsmtFinSF1'...\n",
       "       'BsmtExposure', 'BsmtFinType1', 'KitchenQual', 'FireplaceQu',\n",
       "       'LotShape', 'LandContour', 'Utilities', 'LotConfig', 'LandSlope',\n",
       "       'Neighborhood', 'BldgType', 'HouseStyle', 'RoofStyle', 'RoofMatl',\n",
       "       'Exterior1st', 'MasVnrType', 'HeatingQC', 'Electrical', 'Functional',\n",
       "       'GarageType', 'GarageFinish', 'GarageQual', 'GarageCond', 'PavedDrive',\n",
       "       'SaleType'],\n",
       "      dtype='object'))])),\n",
       "                ('standardscaler', StandardScaler()), ('svc', SVC())])"
      ]
     },
     "execution_count": 620,
     "metadata": {},
     "output_type": "execute_result"
    }
   ],
   "source": [
    "full_svc_pipeline_scaled"
   ]
  },
  {
   "cell_type": "code",
   "execution_count": 621,
   "metadata": {
    "tags": []
   },
   "outputs": [
    {
     "name": "stdout",
     "output_type": "stream",
     "text": [
      "Fitting 10 folds for each of 10 candidates, totalling 100 fits\n"
     ]
    },
    {
     "data": {
      "text/html": [
       "<style>#sk-container-id-88 {color: black;}#sk-container-id-88 pre{padding: 0;}#sk-container-id-88 div.sk-toggleable {background-color: white;}#sk-container-id-88 label.sk-toggleable__label {cursor: pointer;display: block;width: 100%;margin-bottom: 0;padding: 0.3em;box-sizing: border-box;text-align: center;}#sk-container-id-88 label.sk-toggleable__label-arrow:before {content: \"▸\";float: left;margin-right: 0.25em;color: #696969;}#sk-container-id-88 label.sk-toggleable__label-arrow:hover:before {color: black;}#sk-container-id-88 div.sk-estimator:hover label.sk-toggleable__label-arrow:before {color: black;}#sk-container-id-88 div.sk-toggleable__content {max-height: 0;max-width: 0;overflow: hidden;text-align: left;background-color: #f0f8ff;}#sk-container-id-88 div.sk-toggleable__content pre {margin: 0.2em;color: black;border-radius: 0.25em;background-color: #f0f8ff;}#sk-container-id-88 input.sk-toggleable__control:checked~div.sk-toggleable__content {max-height: 200px;max-width: 100%;overflow: auto;}#sk-container-id-88 input.sk-toggleable__control:checked~label.sk-toggleable__label-arrow:before {content: \"▾\";}#sk-container-id-88 div.sk-estimator input.sk-toggleable__control:checked~label.sk-toggleable__label {background-color: #d4ebff;}#sk-container-id-88 div.sk-label input.sk-toggleable__control:checked~label.sk-toggleable__label {background-color: #d4ebff;}#sk-container-id-88 input.sk-hidden--visually {border: 0;clip: rect(1px 1px 1px 1px);clip: rect(1px, 1px, 1px, 1px);height: 1px;margin: -1px;overflow: hidden;padding: 0;position: absolute;width: 1px;}#sk-container-id-88 div.sk-estimator {font-family: monospace;background-color: #f0f8ff;border: 1px dotted black;border-radius: 0.25em;box-sizing: border-box;margin-bottom: 0.5em;}#sk-container-id-88 div.sk-estimator:hover {background-color: #d4ebff;}#sk-container-id-88 div.sk-parallel-item::after {content: \"\";width: 100%;border-bottom: 1px solid gray;flex-grow: 1;}#sk-container-id-88 div.sk-label:hover label.sk-toggleable__label {background-color: #d4ebff;}#sk-container-id-88 div.sk-serial::before {content: \"\";position: absolute;border-left: 1px solid gray;box-sizing: border-box;top: 0;bottom: 0;left: 50%;z-index: 0;}#sk-container-id-88 div.sk-serial {display: flex;flex-direction: column;align-items: center;background-color: white;padding-right: 0.2em;padding-left: 0.2em;position: relative;}#sk-container-id-88 div.sk-item {position: relative;z-index: 1;}#sk-container-id-88 div.sk-parallel {display: flex;align-items: stretch;justify-content: center;background-color: white;position: relative;}#sk-container-id-88 div.sk-item::before, #sk-container-id-88 div.sk-parallel-item::before {content: \"\";position: absolute;border-left: 1px solid gray;box-sizing: border-box;top: 0;bottom: 0;left: 50%;z-index: -1;}#sk-container-id-88 div.sk-parallel-item {display: flex;flex-direction: column;z-index: 1;position: relative;background-color: white;}#sk-container-id-88 div.sk-parallel-item:first-child::after {align-self: flex-end;width: 50%;}#sk-container-id-88 div.sk-parallel-item:last-child::after {align-self: flex-start;width: 50%;}#sk-container-id-88 div.sk-parallel-item:only-child::after {width: 0;}#sk-container-id-88 div.sk-dashed-wrapped {border: 1px dashed gray;margin: 0 0.4em 0.5em 0.4em;box-sizing: border-box;padding-bottom: 0.4em;background-color: white;}#sk-container-id-88 div.sk-label label {font-family: monospace;font-weight: bold;display: inline-block;line-height: 1.2em;}#sk-container-id-88 div.sk-label-container {text-align: center;}#sk-container-id-88 div.sk-container {/* jupyter's `normalize.less` sets `[hidden] { display: none; }` but bootstrap.min.css set `[hidden] { display: none !important; }` so we also need the `!important` here to be able to override the default hidden behavior on the sphinx rendered scikit-learn.org. See: https://github.com/scikit-learn/scikit-learn/issues/21755 */display: inline-block !important;position: relative;}#sk-container-id-88 div.sk-text-repr-fallback {display: none;}</style><div id=\"sk-container-id-88\" class=\"sk-top-container\"><div class=\"sk-text-repr-fallback\"><pre>GridSearchCV(cv=10,\n",
       "             estimator=Pipeline(steps=[(&#x27;columntransformer&#x27;,\n",
       "                                        ColumnTransformer(transformers=[(&#x27;num_pipe&#x27;,\n",
       "                                                                         Pipeline(steps=[(&#x27;simpleimputer&#x27;,\n",
       "                                                                                          SimpleImputer())]),\n",
       "                                                                         Index([&#x27;LotArea&#x27;, &#x27;LotFrontage&#x27;, &#x27;TotalBsmtSF&#x27;, &#x27;BedroomAbvGr&#x27;, &#x27;Fireplaces&#x27;,\n",
       "       &#x27;PoolArea&#x27;, &#x27;GarageCars&#x27;, &#x27;WoodDeckSF&#x27;, &#x27;ScreenPorch&#x27;, &#x27;MSSubClass&#x27;,\n",
       "       &#x27;OverallQual&#x27;, &#x27;OverallCond&#x27;, &#x27;YearBuilt&#x27;, &#x27;YearRemodA...\n",
       "       &#x27;Exterior1st&#x27;, &#x27;MasVnrType&#x27;, &#x27;HeatingQC&#x27;, &#x27;Electrical&#x27;, &#x27;Functional&#x27;,\n",
       "       &#x27;GarageType&#x27;, &#x27;GarageFinish&#x27;, &#x27;GarageQual&#x27;, &#x27;GarageCond&#x27;, &#x27;PavedDrive&#x27;,\n",
       "       &#x27;SaleType&#x27;],\n",
       "      dtype=&#x27;object&#x27;))])),\n",
       "                                       (&#x27;standardscaler&#x27;, StandardScaler()),\n",
       "                                       (&#x27;svc&#x27;, SVC())]),\n",
       "             param_grid={&#x27;columntransformer__num_pipe__simpleimputer__strategy&#x27;: [&#x27;mean&#x27;,\n",
       "                                                                                  &#x27;median&#x27;],\n",
       "                         &#x27;svc__kernel&#x27;: [&#x27;linear&#x27;, &#x27;poly&#x27;, &#x27;rbf&#x27;, &#x27;sigmoid&#x27;,\n",
       "                                         &#x27;precomputed&#x27;]},\n",
       "             verbose=1)</pre><b>In a Jupyter environment, please rerun this cell to show the HTML representation or trust the notebook. <br />On GitHub, the HTML representation is unable to render, please try loading this page with nbviewer.org.</b></div><div class=\"sk-container\" hidden><div class=\"sk-item sk-dashed-wrapped\"><div class=\"sk-label-container\"><div class=\"sk-label sk-toggleable\"><input class=\"sk-toggleable__control sk-hidden--visually\" id=\"sk-estimator-id-1076\" type=\"checkbox\" ><label for=\"sk-estimator-id-1076\" class=\"sk-toggleable__label sk-toggleable__label-arrow\">GridSearchCV</label><div class=\"sk-toggleable__content\"><pre>GridSearchCV(cv=10,\n",
       "             estimator=Pipeline(steps=[(&#x27;columntransformer&#x27;,\n",
       "                                        ColumnTransformer(transformers=[(&#x27;num_pipe&#x27;,\n",
       "                                                                         Pipeline(steps=[(&#x27;simpleimputer&#x27;,\n",
       "                                                                                          SimpleImputer())]),\n",
       "                                                                         Index([&#x27;LotArea&#x27;, &#x27;LotFrontage&#x27;, &#x27;TotalBsmtSF&#x27;, &#x27;BedroomAbvGr&#x27;, &#x27;Fireplaces&#x27;,\n",
       "       &#x27;PoolArea&#x27;, &#x27;GarageCars&#x27;, &#x27;WoodDeckSF&#x27;, &#x27;ScreenPorch&#x27;, &#x27;MSSubClass&#x27;,\n",
       "       &#x27;OverallQual&#x27;, &#x27;OverallCond&#x27;, &#x27;YearBuilt&#x27;, &#x27;YearRemodA...\n",
       "       &#x27;Exterior1st&#x27;, &#x27;MasVnrType&#x27;, &#x27;HeatingQC&#x27;, &#x27;Electrical&#x27;, &#x27;Functional&#x27;,\n",
       "       &#x27;GarageType&#x27;, &#x27;GarageFinish&#x27;, &#x27;GarageQual&#x27;, &#x27;GarageCond&#x27;, &#x27;PavedDrive&#x27;,\n",
       "       &#x27;SaleType&#x27;],\n",
       "      dtype=&#x27;object&#x27;))])),\n",
       "                                       (&#x27;standardscaler&#x27;, StandardScaler()),\n",
       "                                       (&#x27;svc&#x27;, SVC())]),\n",
       "             param_grid={&#x27;columntransformer__num_pipe__simpleimputer__strategy&#x27;: [&#x27;mean&#x27;,\n",
       "                                                                                  &#x27;median&#x27;],\n",
       "                         &#x27;svc__kernel&#x27;: [&#x27;linear&#x27;, &#x27;poly&#x27;, &#x27;rbf&#x27;, &#x27;sigmoid&#x27;,\n",
       "                                         &#x27;precomputed&#x27;]},\n",
       "             verbose=1)</pre></div></div></div><div class=\"sk-parallel\"><div class=\"sk-parallel-item\"><div class=\"sk-item\"><div class=\"sk-label-container\"><div class=\"sk-label sk-toggleable\"><input class=\"sk-toggleable__control sk-hidden--visually\" id=\"sk-estimator-id-1077\" type=\"checkbox\" ><label for=\"sk-estimator-id-1077\" class=\"sk-toggleable__label sk-toggleable__label-arrow\">estimator: Pipeline</label><div class=\"sk-toggleable__content\"><pre>Pipeline(steps=[(&#x27;columntransformer&#x27;,\n",
       "                 ColumnTransformer(transformers=[(&#x27;num_pipe&#x27;,\n",
       "                                                  Pipeline(steps=[(&#x27;simpleimputer&#x27;,\n",
       "                                                                   SimpleImputer())]),\n",
       "                                                  Index([&#x27;LotArea&#x27;, &#x27;LotFrontage&#x27;, &#x27;TotalBsmtSF&#x27;, &#x27;BedroomAbvGr&#x27;, &#x27;Fireplaces&#x27;,\n",
       "       &#x27;PoolArea&#x27;, &#x27;GarageCars&#x27;, &#x27;WoodDeckSF&#x27;, &#x27;ScreenPorch&#x27;, &#x27;MSSubClass&#x27;,\n",
       "       &#x27;OverallQual&#x27;, &#x27;OverallCond&#x27;, &#x27;YearBuilt&#x27;, &#x27;YearRemodAdd&#x27;, &#x27;MasVnrArea&#x27;,\n",
       "       &#x27;BsmtFinSF1&#x27;...\n",
       "       &#x27;BsmtExposure&#x27;, &#x27;BsmtFinType1&#x27;, &#x27;KitchenQual&#x27;, &#x27;FireplaceQu&#x27;,\n",
       "       &#x27;LotShape&#x27;, &#x27;LandContour&#x27;, &#x27;Utilities&#x27;, &#x27;LotConfig&#x27;, &#x27;LandSlope&#x27;,\n",
       "       &#x27;Neighborhood&#x27;, &#x27;BldgType&#x27;, &#x27;HouseStyle&#x27;, &#x27;RoofStyle&#x27;, &#x27;RoofMatl&#x27;,\n",
       "       &#x27;Exterior1st&#x27;, &#x27;MasVnrType&#x27;, &#x27;HeatingQC&#x27;, &#x27;Electrical&#x27;, &#x27;Functional&#x27;,\n",
       "       &#x27;GarageType&#x27;, &#x27;GarageFinish&#x27;, &#x27;GarageQual&#x27;, &#x27;GarageCond&#x27;, &#x27;PavedDrive&#x27;,\n",
       "       &#x27;SaleType&#x27;],\n",
       "      dtype=&#x27;object&#x27;))])),\n",
       "                (&#x27;standardscaler&#x27;, StandardScaler()), (&#x27;svc&#x27;, SVC())])</pre></div></div></div><div class=\"sk-serial\"><div class=\"sk-item\"><div class=\"sk-serial\"><div class=\"sk-item sk-dashed-wrapped\"><div class=\"sk-label-container\"><div class=\"sk-label sk-toggleable\"><input class=\"sk-toggleable__control sk-hidden--visually\" id=\"sk-estimator-id-1078\" type=\"checkbox\" ><label for=\"sk-estimator-id-1078\" class=\"sk-toggleable__label sk-toggleable__label-arrow\">columntransformer: ColumnTransformer</label><div class=\"sk-toggleable__content\"><pre>ColumnTransformer(transformers=[(&#x27;num_pipe&#x27;,\n",
       "                                 Pipeline(steps=[(&#x27;simpleimputer&#x27;,\n",
       "                                                  SimpleImputer())]),\n",
       "                                 Index([&#x27;LotArea&#x27;, &#x27;LotFrontage&#x27;, &#x27;TotalBsmtSF&#x27;, &#x27;BedroomAbvGr&#x27;, &#x27;Fireplaces&#x27;,\n",
       "       &#x27;PoolArea&#x27;, &#x27;GarageCars&#x27;, &#x27;WoodDeckSF&#x27;, &#x27;ScreenPorch&#x27;, &#x27;MSSubClass&#x27;,\n",
       "       &#x27;OverallQual&#x27;, &#x27;OverallCond&#x27;, &#x27;YearBuilt&#x27;, &#x27;YearRemodAdd&#x27;, &#x27;MasVnrArea&#x27;,\n",
       "       &#x27;BsmtFinSF1&#x27;, &#x27;BsmtFinSF2&#x27;, &#x27;BsmtUnfSF&#x27;, &#x27;1stFlrSF&#x27;,...\n",
       "       &#x27;Foundation&#x27;, &#x27;ExterQual&#x27;, &#x27;ExterCond&#x27;, &#x27;BsmtQual&#x27;, &#x27;BsmtCond&#x27;,\n",
       "       &#x27;BsmtExposure&#x27;, &#x27;BsmtFinType1&#x27;, &#x27;KitchenQual&#x27;, &#x27;FireplaceQu&#x27;,\n",
       "       &#x27;LotShape&#x27;, &#x27;LandContour&#x27;, &#x27;Utilities&#x27;, &#x27;LotConfig&#x27;, &#x27;LandSlope&#x27;,\n",
       "       &#x27;Neighborhood&#x27;, &#x27;BldgType&#x27;, &#x27;HouseStyle&#x27;, &#x27;RoofStyle&#x27;, &#x27;RoofMatl&#x27;,\n",
       "       &#x27;Exterior1st&#x27;, &#x27;MasVnrType&#x27;, &#x27;HeatingQC&#x27;, &#x27;Electrical&#x27;, &#x27;Functional&#x27;,\n",
       "       &#x27;GarageType&#x27;, &#x27;GarageFinish&#x27;, &#x27;GarageQual&#x27;, &#x27;GarageCond&#x27;, &#x27;PavedDrive&#x27;,\n",
       "       &#x27;SaleType&#x27;],\n",
       "      dtype=&#x27;object&#x27;))])</pre></div></div></div><div class=\"sk-parallel\"><div class=\"sk-parallel-item\"><div class=\"sk-item\"><div class=\"sk-label-container\"><div class=\"sk-label sk-toggleable\"><input class=\"sk-toggleable__control sk-hidden--visually\" id=\"sk-estimator-id-1079\" type=\"checkbox\" ><label for=\"sk-estimator-id-1079\" class=\"sk-toggleable__label sk-toggleable__label-arrow\">num_pipe</label><div class=\"sk-toggleable__content\"><pre>Index([&#x27;LotArea&#x27;, &#x27;LotFrontage&#x27;, &#x27;TotalBsmtSF&#x27;, &#x27;BedroomAbvGr&#x27;, &#x27;Fireplaces&#x27;,\n",
       "       &#x27;PoolArea&#x27;, &#x27;GarageCars&#x27;, &#x27;WoodDeckSF&#x27;, &#x27;ScreenPorch&#x27;, &#x27;MSSubClass&#x27;,\n",
       "       &#x27;OverallQual&#x27;, &#x27;OverallCond&#x27;, &#x27;YearBuilt&#x27;, &#x27;YearRemodAdd&#x27;, &#x27;MasVnrArea&#x27;,\n",
       "       &#x27;BsmtFinSF1&#x27;, &#x27;BsmtFinSF2&#x27;, &#x27;BsmtUnfSF&#x27;, &#x27;1stFlrSF&#x27;, &#x27;2ndFlrSF&#x27;,\n",
       "       &#x27;LowQualFinSF&#x27;, &#x27;GrLivArea&#x27;, &#x27;BsmtFullBath&#x27;, &#x27;BsmtHalfBath&#x27;, &#x27;FullBath&#x27;,\n",
       "       &#x27;HalfBath&#x27;, &#x27;KitchenAbvGr&#x27;, &#x27;TotRmsAbvGrd&#x27;, &#x27;GarageYrBlt&#x27;, &#x27;GarageArea&#x27;,\n",
       "       &#x27;OpenPorchSF&#x27;, &#x27;EnclosedPorch&#x27;, &#x27;3SsnPorch&#x27;, &#x27;MiscVal&#x27;, &#x27;MoSold&#x27;,\n",
       "       &#x27;YrSold&#x27;],\n",
       "      dtype=&#x27;object&#x27;)</pre></div></div></div><div class=\"sk-serial\"><div class=\"sk-item\"><div class=\"sk-serial\"><div class=\"sk-item\"><div class=\"sk-estimator sk-toggleable\"><input class=\"sk-toggleable__control sk-hidden--visually\" id=\"sk-estimator-id-1080\" type=\"checkbox\" ><label for=\"sk-estimator-id-1080\" class=\"sk-toggleable__label sk-toggleable__label-arrow\">SimpleImputer</label><div class=\"sk-toggleable__content\"><pre>SimpleImputer()</pre></div></div></div></div></div></div></div></div><div class=\"sk-parallel-item\"><div class=\"sk-item\"><div class=\"sk-label-container\"><div class=\"sk-label sk-toggleable\"><input class=\"sk-toggleable__control sk-hidden--visually\" id=\"sk-estimator-id-1081\" type=\"checkbox\" ><label for=\"sk-estimator-id-1081\" class=\"sk-toggleable__label sk-toggleable__label-arrow\">cat_pipe</label><div class=\"sk-toggleable__content\"><pre>Index([&#x27;MSZoning&#x27;, &#x27;Condition1&#x27;, &#x27;Heating&#x27;, &#x27;Street&#x27;, &#x27;CentralAir&#x27;,\n",
       "       &#x27;Foundation&#x27;, &#x27;ExterQual&#x27;, &#x27;ExterCond&#x27;, &#x27;BsmtQual&#x27;, &#x27;BsmtCond&#x27;,\n",
       "       &#x27;BsmtExposure&#x27;, &#x27;BsmtFinType1&#x27;, &#x27;KitchenQual&#x27;, &#x27;FireplaceQu&#x27;,\n",
       "       &#x27;LotShape&#x27;, &#x27;LandContour&#x27;, &#x27;Utilities&#x27;, &#x27;LotConfig&#x27;, &#x27;LandSlope&#x27;,\n",
       "       &#x27;Neighborhood&#x27;, &#x27;BldgType&#x27;, &#x27;HouseStyle&#x27;, &#x27;RoofStyle&#x27;, &#x27;RoofMatl&#x27;,\n",
       "       &#x27;Exterior1st&#x27;, &#x27;MasVnrType&#x27;, &#x27;HeatingQC&#x27;, &#x27;Electrical&#x27;, &#x27;Functional&#x27;,\n",
       "       &#x27;GarageType&#x27;, &#x27;GarageFinish&#x27;, &#x27;GarageQual&#x27;, &#x27;GarageCond&#x27;, &#x27;PavedDrive&#x27;,\n",
       "       &#x27;SaleType&#x27;],\n",
       "      dtype=&#x27;object&#x27;)</pre></div></div></div><div class=\"sk-serial\"><div class=\"sk-item\"><div class=\"sk-serial\"><div class=\"sk-item\"><div class=\"sk-estimator sk-toggleable\"><input class=\"sk-toggleable__control sk-hidden--visually\" id=\"sk-estimator-id-1082\" type=\"checkbox\" ><label for=\"sk-estimator-id-1082\" class=\"sk-toggleable__label sk-toggleable__label-arrow\">SimpleImputer</label><div class=\"sk-toggleable__content\"><pre>SimpleImputer(fill_value=&#x27;N_A&#x27;, strategy=&#x27;constant&#x27;)</pre></div></div></div><div class=\"sk-item sk-dashed-wrapped\"><div class=\"sk-label-container\"><div class=\"sk-label sk-toggleable\"><input class=\"sk-toggleable__control sk-hidden--visually\" id=\"sk-estimator-id-1083\" type=\"checkbox\" ><label for=\"sk-estimator-id-1083\" class=\"sk-toggleable__label sk-toggleable__label-arrow\">columntransformer: ColumnTransformer</label><div class=\"sk-toggleable__content\"><pre>ColumnTransformer(transformers=[(&#x27;cat_ordinal&#x27;,\n",
       "                                 OrdinalEncoder(categories=[[&#x27;N_A&#x27;, &#x27;Grvl&#x27;,\n",
       "                                                             &#x27;Pave&#x27;],\n",
       "                                                            [&#x27;N_A&#x27;, &#x27;N&#x27;, &#x27;Y&#x27;],\n",
       "                                                            [&#x27;N_A&#x27;, &#x27;Slab&#x27;,\n",
       "                                                             &#x27;BrkTil&#x27;, &#x27;CBlock&#x27;,\n",
       "                                                             &#x27;Wood&#x27;, &#x27;Stone&#x27;,\n",
       "                                                             &#x27;PConc&#x27;],\n",
       "                                                            [&#x27;N_A&#x27;, &#x27;Po&#x27;, &#x27;Fa&#x27;,\n",
       "                                                             &#x27;TA&#x27;, &#x27;Gd&#x27;, &#x27;Ex&#x27;],\n",
       "                                                            [&#x27;N_A&#x27;, &#x27;Po&#x27;, &#x27;Fa&#x27;,\n",
       "                                                             &#x27;TA&#x27;, &#x27;Gd&#x27;, &#x27;Ex&#x27;],\n",
       "                                                            [&#x27;N_A&#x27;, &#x27;NA&#x27;, &#x27;Po&#x27;,\n",
       "                                                             &#x27;Fa&#x27;, &#x27;TA&#x27;, &#x27;Gd&#x27;,\n",
       "                                                             &#x27;Ex&#x27;],\n",
       "                                                            [&#x27;N_A&#x27;, &#x27;NA&#x27;, &#x27;Po&#x27;,\n",
       "                                                             &#x27;Fa&#x27;, &#x27;TA&#x27;, &#x27;Gd&#x27;,\n",
       "                                                             &#x27;Ex&#x27;],\n",
       "                                                            [&#x27;N_A&#x27;, &#x27;NA&#x27;, &#x27;No&#x27;,\n",
       "                                                             &#x27;Mn&#x27;, &#x27;Av&#x27;, &#x27;Gd&#x27;],\n",
       "                                                            [&#x27;N_A&#x27;,...\n",
       "                                  &#x27;Utilities&#x27;, &#x27;LotConfig&#x27;, &#x27;LandSlope&#x27;,\n",
       "                                  &#x27;BldgType&#x27;, &#x27;HouseStyle&#x27;, &#x27;RoofStyle&#x27;,\n",
       "                                  &#x27;RoofMatl&#x27;, &#x27;MasVnrType&#x27;, &#x27;HeatingQC&#x27;,\n",
       "                                  &#x27;Electrical&#x27;, &#x27;Functional&#x27;, &#x27;GarageFinish&#x27;,\n",
       "                                  &#x27;GarageQual&#x27;, &#x27;GarageCond&#x27;, &#x27;PavedDrive&#x27;]),\n",
       "                                (&#x27;cat_onehot&#x27;,\n",
       "                                 OneHotEncoder(handle_unknown=&#x27;ignore&#x27;,\n",
       "                                               sparse_output=False),\n",
       "                                 [&#x27;Heating&#x27;, &#x27;MSZoning&#x27;, &#x27;Condition1&#x27;,\n",
       "                                  &#x27;Neighborhood&#x27;, &#x27;Exterior1st&#x27;, &#x27;GarageType&#x27;,\n",
       "                                  &#x27;SaleType&#x27;])])</pre></div></div></div><div class=\"sk-parallel\"><div class=\"sk-parallel-item\"><div class=\"sk-item\"><div class=\"sk-label-container\"><div class=\"sk-label sk-toggleable\"><input class=\"sk-toggleable__control sk-hidden--visually\" id=\"sk-estimator-id-1084\" type=\"checkbox\" ><label for=\"sk-estimator-id-1084\" class=\"sk-toggleable__label sk-toggleable__label-arrow\">cat_ordinal</label><div class=\"sk-toggleable__content\"><pre>[&#x27;Street&#x27;, &#x27;CentralAir&#x27;, &#x27;Foundation&#x27;, &#x27;ExterQual&#x27;, &#x27;ExterCond&#x27;, &#x27;BsmtQual&#x27;, &#x27;BsmtCond&#x27;, &#x27;BsmtExposure&#x27;, &#x27;BsmtFinType1&#x27;, &#x27;ExterQual&#x27;, &#x27;ExterCond&#x27;, &#x27;KitchenQual&#x27;, &#x27;FireplaceQu&#x27;, &#x27;LotShape&#x27;, &#x27;LandContour&#x27;, &#x27;Utilities&#x27;, &#x27;LotConfig&#x27;, &#x27;LandSlope&#x27;, &#x27;BldgType&#x27;, &#x27;HouseStyle&#x27;, &#x27;RoofStyle&#x27;, &#x27;RoofMatl&#x27;, &#x27;MasVnrType&#x27;, &#x27;HeatingQC&#x27;, &#x27;Electrical&#x27;, &#x27;Functional&#x27;, &#x27;GarageFinish&#x27;, &#x27;GarageQual&#x27;, &#x27;GarageCond&#x27;, &#x27;PavedDrive&#x27;]</pre></div></div></div><div class=\"sk-serial\"><div class=\"sk-item\"><div class=\"sk-estimator sk-toggleable\"><input class=\"sk-toggleable__control sk-hidden--visually\" id=\"sk-estimator-id-1085\" type=\"checkbox\" ><label for=\"sk-estimator-id-1085\" class=\"sk-toggleable__label sk-toggleable__label-arrow\">OrdinalEncoder</label><div class=\"sk-toggleable__content\"><pre>OrdinalEncoder(categories=[[&#x27;N_A&#x27;, &#x27;Grvl&#x27;, &#x27;Pave&#x27;], [&#x27;N_A&#x27;, &#x27;N&#x27;, &#x27;Y&#x27;],\n",
       "                           [&#x27;N_A&#x27;, &#x27;Slab&#x27;, &#x27;BrkTil&#x27;, &#x27;CBlock&#x27;, &#x27;Wood&#x27;, &#x27;Stone&#x27;,\n",
       "                            &#x27;PConc&#x27;],\n",
       "                           [&#x27;N_A&#x27;, &#x27;Po&#x27;, &#x27;Fa&#x27;, &#x27;TA&#x27;, &#x27;Gd&#x27;, &#x27;Ex&#x27;],\n",
       "                           [&#x27;N_A&#x27;, &#x27;Po&#x27;, &#x27;Fa&#x27;, &#x27;TA&#x27;, &#x27;Gd&#x27;, &#x27;Ex&#x27;],\n",
       "                           [&#x27;N_A&#x27;, &#x27;NA&#x27;, &#x27;Po&#x27;, &#x27;Fa&#x27;, &#x27;TA&#x27;, &#x27;Gd&#x27;, &#x27;Ex&#x27;],\n",
       "                           [&#x27;N_A&#x27;, &#x27;NA&#x27;, &#x27;Po&#x27;, &#x27;Fa&#x27;, &#x27;TA&#x27;, &#x27;Gd&#x27;, &#x27;Ex&#x27;],\n",
       "                           [&#x27;N_A&#x27;, &#x27;NA&#x27;, &#x27;No&#x27;, &#x27;Mn&#x27;, &#x27;Av&#x27;, &#x27;Gd&#x27;],\n",
       "                           [&#x27;N_A&#x27;, &#x27;NA&#x27;, &#x27;Unf&#x27;, &#x27;LwQ&#x27;, &#x27;Rec&#x27;, &#x27;BLQ&#x27;, &#x27;ALQ&#x27;,\n",
       "                            &#x27;GLQ&#x27;],\n",
       "                           [&#x27;N_A...\n",
       "                           [&#x27;N_A&#x27;, &#x27;Roll&#x27;, &#x27;Tar&amp;Grv&#x27;, &#x27;CompShg&#x27;, &#x27;WdShngl&#x27;,\n",
       "                            &#x27;WdShake&#x27;, &#x27;Membran&#x27;, &#x27;Metal&#x27;, &#x27;ClyTile&#x27;],\n",
       "                           [&#x27;N_A&#x27;, &#x27;None&#x27;, &#x27;CBlock&#x27;, &#x27;BrkCmn&#x27;, &#x27;BrkFace&#x27;,\n",
       "                            &#x27;Stone&#x27;],\n",
       "                           [&#x27;N_A&#x27;, &#x27;Po&#x27;, &#x27;Fa&#x27;, &#x27;TA&#x27;, &#x27;Gd&#x27;, &#x27;Ex&#x27;],\n",
       "                           [&#x27;N_A&#x27;, &#x27;Mix&#x27;, &#x27;FuseP&#x27;, &#x27;FuseF&#x27;, &#x27;FuseA&#x27;, &#x27;SBrkr&#x27;],\n",
       "                           [&#x27;N_A&#x27;, &#x27;Sal&#x27;, &#x27;Sev&#x27;, &#x27;Maj2&#x27;, &#x27;Maj1&#x27;, &#x27;Mod&#x27;, &#x27;Min2&#x27;,\n",
       "                            &#x27;Min1&#x27;, &#x27;Typ&#x27;],\n",
       "                           [&#x27;N_A&#x27;, &#x27;NA&#x27;, &#x27;Unf&#x27;, &#x27;RFn&#x27;, &#x27;Fin&#x27;],\n",
       "                           [&#x27;N_A&#x27;, &#x27;Po&#x27;, &#x27;Fa&#x27;, &#x27;TA&#x27;, &#x27;Gd&#x27;, &#x27;Ex&#x27;],\n",
       "                           [&#x27;N_A&#x27;, &#x27;Po&#x27;, &#x27;Fa&#x27;, &#x27;TA&#x27;, &#x27;Gd&#x27;, &#x27;Ex&#x27;],\n",
       "                           [&#x27;N_A&#x27;, &#x27;N&#x27;, &#x27;P&#x27;, &#x27;Y&#x27;]])</pre></div></div></div></div></div></div><div class=\"sk-parallel-item\"><div class=\"sk-item\"><div class=\"sk-label-container\"><div class=\"sk-label sk-toggleable\"><input class=\"sk-toggleable__control sk-hidden--visually\" id=\"sk-estimator-id-1086\" type=\"checkbox\" ><label for=\"sk-estimator-id-1086\" class=\"sk-toggleable__label sk-toggleable__label-arrow\">cat_onehot</label><div class=\"sk-toggleable__content\"><pre>[&#x27;Heating&#x27;, &#x27;MSZoning&#x27;, &#x27;Condition1&#x27;, &#x27;Neighborhood&#x27;, &#x27;Exterior1st&#x27;, &#x27;GarageType&#x27;, &#x27;SaleType&#x27;]</pre></div></div></div><div class=\"sk-serial\"><div class=\"sk-item\"><div class=\"sk-estimator sk-toggleable\"><input class=\"sk-toggleable__control sk-hidden--visually\" id=\"sk-estimator-id-1087\" type=\"checkbox\" ><label for=\"sk-estimator-id-1087\" class=\"sk-toggleable__label sk-toggleable__label-arrow\">OneHotEncoder</label><div class=\"sk-toggleable__content\"><pre>OneHotEncoder(handle_unknown=&#x27;ignore&#x27;, sparse_output=False)</pre></div></div></div></div></div></div></div></div></div></div></div></div></div></div></div><div class=\"sk-item\"><div class=\"sk-estimator sk-toggleable\"><input class=\"sk-toggleable__control sk-hidden--visually\" id=\"sk-estimator-id-1088\" type=\"checkbox\" ><label for=\"sk-estimator-id-1088\" class=\"sk-toggleable__label sk-toggleable__label-arrow\">StandardScaler</label><div class=\"sk-toggleable__content\"><pre>StandardScaler()</pre></div></div></div><div class=\"sk-item\"><div class=\"sk-estimator sk-toggleable\"><input class=\"sk-toggleable__control sk-hidden--visually\" id=\"sk-estimator-id-1089\" type=\"checkbox\" ><label for=\"sk-estimator-id-1089\" class=\"sk-toggleable__label sk-toggleable__label-arrow\">SVC</label><div class=\"sk-toggleable__content\"><pre>SVC()</pre></div></div></div></div></div></div></div></div></div></div></div></div>"
      ],
      "text/plain": [
       "GridSearchCV(cv=10,\n",
       "             estimator=Pipeline(steps=[('columntransformer',\n",
       "                                        ColumnTransformer(transformers=[('num_pipe',\n",
       "                                                                         Pipeline(steps=[('simpleimputer',\n",
       "                                                                                          SimpleImputer())]),\n",
       "                                                                         Index(['LotArea', 'LotFrontage', 'TotalBsmtSF', 'BedroomAbvGr', 'Fireplaces',\n",
       "       'PoolArea', 'GarageCars', 'WoodDeckSF', 'ScreenPorch', 'MSSubClass',\n",
       "       'OverallQual', 'OverallCond', 'YearBuilt', 'YearRemodA...\n",
       "       'Exterior1st', 'MasVnrType', 'HeatingQC', 'Electrical', 'Functional',\n",
       "       'GarageType', 'GarageFinish', 'GarageQual', 'GarageCond', 'PavedDrive',\n",
       "       'SaleType'],\n",
       "      dtype='object'))])),\n",
       "                                       ('standardscaler', StandardScaler()),\n",
       "                                       ('svc', SVC())]),\n",
       "             param_grid={'columntransformer__num_pipe__simpleimputer__strategy': ['mean',\n",
       "                                                                                  'median'],\n",
       "                         'svc__kernel': ['linear', 'poly', 'rbf', 'sigmoid',\n",
       "                                         'precomputed']},\n",
       "             verbose=1)"
      ]
     },
     "execution_count": 621,
     "metadata": {},
     "output_type": "execute_result"
    }
   ],
   "source": [
    "import numpy as np\n",
    "import warnings\n",
    "\n",
    "warnings.filterwarnings(\"ignore\")\n",
    "\n",
    "param_grid_svc = {\n",
    "    'columntransformer__num_pipe__simpleimputer__strategy':['mean', 'median'],\n",
    "    'svc__kernel':['linear','poly','rbf','sigmoid','precomputed']\n",
    "}\n",
    "\n",
    "search_svc = GridSearchCV(full_svc_pipeline_scaled,\n",
    "                      param_grid_svc,\n",
    "                      cv=10,\n",
    "                      verbose=1)\n",
    "\n",
    "search_svc.fit(X_train, y_train)"
   ]
  },
  {
   "cell_type": "code",
   "execution_count": 622,
   "metadata": {
    "tags": []
   },
   "outputs": [
    {
     "data": {
      "text/plain": [
       "{'columntransformer__num_pipe__simpleimputer__strategy': 'mean',\n",
       " 'svc__kernel': 'sigmoid'}"
      ]
     },
     "execution_count": 622,
     "metadata": {},
     "output_type": "execute_result"
    }
   ],
   "source": [
    "search_svc.best_params_"
   ]
  },
  {
   "cell_type": "code",
   "execution_count": 623,
   "metadata": {
    "tags": []
   },
   "outputs": [
    {
     "data": {
      "text/plain": [
       "{'dtree': 0.9306734453286177,\n",
       " 'knn': 0.9126510462717359,\n",
       " 'knn_scaled': 0.9263483642793988,\n",
       " 'logreg': 0.9366710875331565,\n",
       " 'svc': 0.9477969348659003}"
      ]
     },
     "execution_count": 623,
     "metadata": {},
     "output_type": "execute_result"
    }
   ],
   "source": [
    "scores[\"svc\"] = search_svc.best_score_\n",
    "\n",
    "scores"
   ]
  },
  {
   "cell_type": "code",
   "execution_count": 624,
   "metadata": {
    "tags": []
   },
   "outputs": [
    {
     "data": {
      "text/plain": [
       "0.9417808219178082"
      ]
     },
     "execution_count": 624,
     "metadata": {},
     "output_type": "execute_result"
    }
   ],
   "source": [
    "accuracy_score(y_test, search_svc.predict(X_test))"
   ]
  },
  {
   "cell_type": "markdown",
   "metadata": {
    "id": "xtLN70Br1Bg1",
    "tags": []
   },
   "source": [
    "#### Random Forest Classifier"
   ]
  },
  {
   "cell_type": "code",
   "execution_count": 625,
   "metadata": {
    "tags": []
   },
   "outputs": [],
   "source": [
    "from sklearn.ensemble import RandomForestClassifier"
   ]
  },
  {
   "cell_type": "code",
   "execution_count": 626,
   "metadata": {
    "tags": []
   },
   "outputs": [],
   "source": [
    "full_random_forest_pipeline_scaled = make_pipeline(preprocessor,\n",
    "                                    StandardScaler(),\n",
    "                                 RandomForestClassifier())"
   ]
  },
  {
   "cell_type": "code",
   "execution_count": 627,
   "metadata": {
    "tags": []
   },
   "outputs": [
    {
     "data": {
      "text/html": [
       "<style>#sk-container-id-89 {color: black;}#sk-container-id-89 pre{padding: 0;}#sk-container-id-89 div.sk-toggleable {background-color: white;}#sk-container-id-89 label.sk-toggleable__label {cursor: pointer;display: block;width: 100%;margin-bottom: 0;padding: 0.3em;box-sizing: border-box;text-align: center;}#sk-container-id-89 label.sk-toggleable__label-arrow:before {content: \"▸\";float: left;margin-right: 0.25em;color: #696969;}#sk-container-id-89 label.sk-toggleable__label-arrow:hover:before {color: black;}#sk-container-id-89 div.sk-estimator:hover label.sk-toggleable__label-arrow:before {color: black;}#sk-container-id-89 div.sk-toggleable__content {max-height: 0;max-width: 0;overflow: hidden;text-align: left;background-color: #f0f8ff;}#sk-container-id-89 div.sk-toggleable__content pre {margin: 0.2em;color: black;border-radius: 0.25em;background-color: #f0f8ff;}#sk-container-id-89 input.sk-toggleable__control:checked~div.sk-toggleable__content {max-height: 200px;max-width: 100%;overflow: auto;}#sk-container-id-89 input.sk-toggleable__control:checked~label.sk-toggleable__label-arrow:before {content: \"▾\";}#sk-container-id-89 div.sk-estimator input.sk-toggleable__control:checked~label.sk-toggleable__label {background-color: #d4ebff;}#sk-container-id-89 div.sk-label input.sk-toggleable__control:checked~label.sk-toggleable__label {background-color: #d4ebff;}#sk-container-id-89 input.sk-hidden--visually {border: 0;clip: rect(1px 1px 1px 1px);clip: rect(1px, 1px, 1px, 1px);height: 1px;margin: -1px;overflow: hidden;padding: 0;position: absolute;width: 1px;}#sk-container-id-89 div.sk-estimator {font-family: monospace;background-color: #f0f8ff;border: 1px dotted black;border-radius: 0.25em;box-sizing: border-box;margin-bottom: 0.5em;}#sk-container-id-89 div.sk-estimator:hover {background-color: #d4ebff;}#sk-container-id-89 div.sk-parallel-item::after {content: \"\";width: 100%;border-bottom: 1px solid gray;flex-grow: 1;}#sk-container-id-89 div.sk-label:hover label.sk-toggleable__label {background-color: #d4ebff;}#sk-container-id-89 div.sk-serial::before {content: \"\";position: absolute;border-left: 1px solid gray;box-sizing: border-box;top: 0;bottom: 0;left: 50%;z-index: 0;}#sk-container-id-89 div.sk-serial {display: flex;flex-direction: column;align-items: center;background-color: white;padding-right: 0.2em;padding-left: 0.2em;position: relative;}#sk-container-id-89 div.sk-item {position: relative;z-index: 1;}#sk-container-id-89 div.sk-parallel {display: flex;align-items: stretch;justify-content: center;background-color: white;position: relative;}#sk-container-id-89 div.sk-item::before, #sk-container-id-89 div.sk-parallel-item::before {content: \"\";position: absolute;border-left: 1px solid gray;box-sizing: border-box;top: 0;bottom: 0;left: 50%;z-index: -1;}#sk-container-id-89 div.sk-parallel-item {display: flex;flex-direction: column;z-index: 1;position: relative;background-color: white;}#sk-container-id-89 div.sk-parallel-item:first-child::after {align-self: flex-end;width: 50%;}#sk-container-id-89 div.sk-parallel-item:last-child::after {align-self: flex-start;width: 50%;}#sk-container-id-89 div.sk-parallel-item:only-child::after {width: 0;}#sk-container-id-89 div.sk-dashed-wrapped {border: 1px dashed gray;margin: 0 0.4em 0.5em 0.4em;box-sizing: border-box;padding-bottom: 0.4em;background-color: white;}#sk-container-id-89 div.sk-label label {font-family: monospace;font-weight: bold;display: inline-block;line-height: 1.2em;}#sk-container-id-89 div.sk-label-container {text-align: center;}#sk-container-id-89 div.sk-container {/* jupyter's `normalize.less` sets `[hidden] { display: none; }` but bootstrap.min.css set `[hidden] { display: none !important; }` so we also need the `!important` here to be able to override the default hidden behavior on the sphinx rendered scikit-learn.org. See: https://github.com/scikit-learn/scikit-learn/issues/21755 */display: inline-block !important;position: relative;}#sk-container-id-89 div.sk-text-repr-fallback {display: none;}</style><div id=\"sk-container-id-89\" class=\"sk-top-container\"><div class=\"sk-text-repr-fallback\"><pre>Pipeline(steps=[(&#x27;columntransformer&#x27;,\n",
       "                 ColumnTransformer(transformers=[(&#x27;num_pipe&#x27;,\n",
       "                                                  Pipeline(steps=[(&#x27;simpleimputer&#x27;,\n",
       "                                                                   SimpleImputer())]),\n",
       "                                                  Index([&#x27;LotArea&#x27;, &#x27;LotFrontage&#x27;, &#x27;TotalBsmtSF&#x27;, &#x27;BedroomAbvGr&#x27;, &#x27;Fireplaces&#x27;,\n",
       "       &#x27;PoolArea&#x27;, &#x27;GarageCars&#x27;, &#x27;WoodDeckSF&#x27;, &#x27;ScreenPorch&#x27;, &#x27;MSSubClass&#x27;,\n",
       "       &#x27;OverallQual&#x27;, &#x27;OverallCond&#x27;, &#x27;YearBuilt&#x27;, &#x27;YearRemodAdd&#x27;, &#x27;MasVnrArea&#x27;,\n",
       "       &#x27;BsmtFinSF1&#x27;...\n",
       "       &#x27;LotShape&#x27;, &#x27;LandContour&#x27;, &#x27;Utilities&#x27;, &#x27;LotConfig&#x27;, &#x27;LandSlope&#x27;,\n",
       "       &#x27;Neighborhood&#x27;, &#x27;BldgType&#x27;, &#x27;HouseStyle&#x27;, &#x27;RoofStyle&#x27;, &#x27;RoofMatl&#x27;,\n",
       "       &#x27;Exterior1st&#x27;, &#x27;MasVnrType&#x27;, &#x27;HeatingQC&#x27;, &#x27;Electrical&#x27;, &#x27;Functional&#x27;,\n",
       "       &#x27;GarageType&#x27;, &#x27;GarageFinish&#x27;, &#x27;GarageQual&#x27;, &#x27;GarageCond&#x27;, &#x27;PavedDrive&#x27;,\n",
       "       &#x27;SaleType&#x27;],\n",
       "      dtype=&#x27;object&#x27;))])),\n",
       "                (&#x27;standardscaler&#x27;, StandardScaler()),\n",
       "                (&#x27;randomforestclassifier&#x27;, RandomForestClassifier())])</pre><b>In a Jupyter environment, please rerun this cell to show the HTML representation or trust the notebook. <br />On GitHub, the HTML representation is unable to render, please try loading this page with nbviewer.org.</b></div><div class=\"sk-container\" hidden><div class=\"sk-item sk-dashed-wrapped\"><div class=\"sk-label-container\"><div class=\"sk-label sk-toggleable\"><input class=\"sk-toggleable__control sk-hidden--visually\" id=\"sk-estimator-id-1090\" type=\"checkbox\" ><label for=\"sk-estimator-id-1090\" class=\"sk-toggleable__label sk-toggleable__label-arrow\">Pipeline</label><div class=\"sk-toggleable__content\"><pre>Pipeline(steps=[(&#x27;columntransformer&#x27;,\n",
       "                 ColumnTransformer(transformers=[(&#x27;num_pipe&#x27;,\n",
       "                                                  Pipeline(steps=[(&#x27;simpleimputer&#x27;,\n",
       "                                                                   SimpleImputer())]),\n",
       "                                                  Index([&#x27;LotArea&#x27;, &#x27;LotFrontage&#x27;, &#x27;TotalBsmtSF&#x27;, &#x27;BedroomAbvGr&#x27;, &#x27;Fireplaces&#x27;,\n",
       "       &#x27;PoolArea&#x27;, &#x27;GarageCars&#x27;, &#x27;WoodDeckSF&#x27;, &#x27;ScreenPorch&#x27;, &#x27;MSSubClass&#x27;,\n",
       "       &#x27;OverallQual&#x27;, &#x27;OverallCond&#x27;, &#x27;YearBuilt&#x27;, &#x27;YearRemodAdd&#x27;, &#x27;MasVnrArea&#x27;,\n",
       "       &#x27;BsmtFinSF1&#x27;...\n",
       "       &#x27;LotShape&#x27;, &#x27;LandContour&#x27;, &#x27;Utilities&#x27;, &#x27;LotConfig&#x27;, &#x27;LandSlope&#x27;,\n",
       "       &#x27;Neighborhood&#x27;, &#x27;BldgType&#x27;, &#x27;HouseStyle&#x27;, &#x27;RoofStyle&#x27;, &#x27;RoofMatl&#x27;,\n",
       "       &#x27;Exterior1st&#x27;, &#x27;MasVnrType&#x27;, &#x27;HeatingQC&#x27;, &#x27;Electrical&#x27;, &#x27;Functional&#x27;,\n",
       "       &#x27;GarageType&#x27;, &#x27;GarageFinish&#x27;, &#x27;GarageQual&#x27;, &#x27;GarageCond&#x27;, &#x27;PavedDrive&#x27;,\n",
       "       &#x27;SaleType&#x27;],\n",
       "      dtype=&#x27;object&#x27;))])),\n",
       "                (&#x27;standardscaler&#x27;, StandardScaler()),\n",
       "                (&#x27;randomforestclassifier&#x27;, RandomForestClassifier())])</pre></div></div></div><div class=\"sk-serial\"><div class=\"sk-item sk-dashed-wrapped\"><div class=\"sk-label-container\"><div class=\"sk-label sk-toggleable\"><input class=\"sk-toggleable__control sk-hidden--visually\" id=\"sk-estimator-id-1091\" type=\"checkbox\" ><label for=\"sk-estimator-id-1091\" class=\"sk-toggleable__label sk-toggleable__label-arrow\">columntransformer: ColumnTransformer</label><div class=\"sk-toggleable__content\"><pre>ColumnTransformer(transformers=[(&#x27;num_pipe&#x27;,\n",
       "                                 Pipeline(steps=[(&#x27;simpleimputer&#x27;,\n",
       "                                                  SimpleImputer())]),\n",
       "                                 Index([&#x27;LotArea&#x27;, &#x27;LotFrontage&#x27;, &#x27;TotalBsmtSF&#x27;, &#x27;BedroomAbvGr&#x27;, &#x27;Fireplaces&#x27;,\n",
       "       &#x27;PoolArea&#x27;, &#x27;GarageCars&#x27;, &#x27;WoodDeckSF&#x27;, &#x27;ScreenPorch&#x27;, &#x27;MSSubClass&#x27;,\n",
       "       &#x27;OverallQual&#x27;, &#x27;OverallCond&#x27;, &#x27;YearBuilt&#x27;, &#x27;YearRemodAdd&#x27;, &#x27;MasVnrArea&#x27;,\n",
       "       &#x27;BsmtFinSF1&#x27;, &#x27;BsmtFinSF2&#x27;, &#x27;BsmtUnfSF&#x27;, &#x27;1stFlrSF&#x27;,...\n",
       "       &#x27;Foundation&#x27;, &#x27;ExterQual&#x27;, &#x27;ExterCond&#x27;, &#x27;BsmtQual&#x27;, &#x27;BsmtCond&#x27;,\n",
       "       &#x27;BsmtExposure&#x27;, &#x27;BsmtFinType1&#x27;, &#x27;KitchenQual&#x27;, &#x27;FireplaceQu&#x27;,\n",
       "       &#x27;LotShape&#x27;, &#x27;LandContour&#x27;, &#x27;Utilities&#x27;, &#x27;LotConfig&#x27;, &#x27;LandSlope&#x27;,\n",
       "       &#x27;Neighborhood&#x27;, &#x27;BldgType&#x27;, &#x27;HouseStyle&#x27;, &#x27;RoofStyle&#x27;, &#x27;RoofMatl&#x27;,\n",
       "       &#x27;Exterior1st&#x27;, &#x27;MasVnrType&#x27;, &#x27;HeatingQC&#x27;, &#x27;Electrical&#x27;, &#x27;Functional&#x27;,\n",
       "       &#x27;GarageType&#x27;, &#x27;GarageFinish&#x27;, &#x27;GarageQual&#x27;, &#x27;GarageCond&#x27;, &#x27;PavedDrive&#x27;,\n",
       "       &#x27;SaleType&#x27;],\n",
       "      dtype=&#x27;object&#x27;))])</pre></div></div></div><div class=\"sk-parallel\"><div class=\"sk-parallel-item\"><div class=\"sk-item\"><div class=\"sk-label-container\"><div class=\"sk-label sk-toggleable\"><input class=\"sk-toggleable__control sk-hidden--visually\" id=\"sk-estimator-id-1092\" type=\"checkbox\" ><label for=\"sk-estimator-id-1092\" class=\"sk-toggleable__label sk-toggleable__label-arrow\">num_pipe</label><div class=\"sk-toggleable__content\"><pre>Index([&#x27;LotArea&#x27;, &#x27;LotFrontage&#x27;, &#x27;TotalBsmtSF&#x27;, &#x27;BedroomAbvGr&#x27;, &#x27;Fireplaces&#x27;,\n",
       "       &#x27;PoolArea&#x27;, &#x27;GarageCars&#x27;, &#x27;WoodDeckSF&#x27;, &#x27;ScreenPorch&#x27;, &#x27;MSSubClass&#x27;,\n",
       "       &#x27;OverallQual&#x27;, &#x27;OverallCond&#x27;, &#x27;YearBuilt&#x27;, &#x27;YearRemodAdd&#x27;, &#x27;MasVnrArea&#x27;,\n",
       "       &#x27;BsmtFinSF1&#x27;, &#x27;BsmtFinSF2&#x27;, &#x27;BsmtUnfSF&#x27;, &#x27;1stFlrSF&#x27;, &#x27;2ndFlrSF&#x27;,\n",
       "       &#x27;LowQualFinSF&#x27;, &#x27;GrLivArea&#x27;, &#x27;BsmtFullBath&#x27;, &#x27;BsmtHalfBath&#x27;, &#x27;FullBath&#x27;,\n",
       "       &#x27;HalfBath&#x27;, &#x27;KitchenAbvGr&#x27;, &#x27;TotRmsAbvGrd&#x27;, &#x27;GarageYrBlt&#x27;, &#x27;GarageArea&#x27;,\n",
       "       &#x27;OpenPorchSF&#x27;, &#x27;EnclosedPorch&#x27;, &#x27;3SsnPorch&#x27;, &#x27;MiscVal&#x27;, &#x27;MoSold&#x27;,\n",
       "       &#x27;YrSold&#x27;],\n",
       "      dtype=&#x27;object&#x27;)</pre></div></div></div><div class=\"sk-serial\"><div class=\"sk-item\"><div class=\"sk-serial\"><div class=\"sk-item\"><div class=\"sk-estimator sk-toggleable\"><input class=\"sk-toggleable__control sk-hidden--visually\" id=\"sk-estimator-id-1093\" type=\"checkbox\" ><label for=\"sk-estimator-id-1093\" class=\"sk-toggleable__label sk-toggleable__label-arrow\">SimpleImputer</label><div class=\"sk-toggleable__content\"><pre>SimpleImputer()</pre></div></div></div></div></div></div></div></div><div class=\"sk-parallel-item\"><div class=\"sk-item\"><div class=\"sk-label-container\"><div class=\"sk-label sk-toggleable\"><input class=\"sk-toggleable__control sk-hidden--visually\" id=\"sk-estimator-id-1094\" type=\"checkbox\" ><label for=\"sk-estimator-id-1094\" class=\"sk-toggleable__label sk-toggleable__label-arrow\">cat_pipe</label><div class=\"sk-toggleable__content\"><pre>Index([&#x27;MSZoning&#x27;, &#x27;Condition1&#x27;, &#x27;Heating&#x27;, &#x27;Street&#x27;, &#x27;CentralAir&#x27;,\n",
       "       &#x27;Foundation&#x27;, &#x27;ExterQual&#x27;, &#x27;ExterCond&#x27;, &#x27;BsmtQual&#x27;, &#x27;BsmtCond&#x27;,\n",
       "       &#x27;BsmtExposure&#x27;, &#x27;BsmtFinType1&#x27;, &#x27;KitchenQual&#x27;, &#x27;FireplaceQu&#x27;,\n",
       "       &#x27;LotShape&#x27;, &#x27;LandContour&#x27;, &#x27;Utilities&#x27;, &#x27;LotConfig&#x27;, &#x27;LandSlope&#x27;,\n",
       "       &#x27;Neighborhood&#x27;, &#x27;BldgType&#x27;, &#x27;HouseStyle&#x27;, &#x27;RoofStyle&#x27;, &#x27;RoofMatl&#x27;,\n",
       "       &#x27;Exterior1st&#x27;, &#x27;MasVnrType&#x27;, &#x27;HeatingQC&#x27;, &#x27;Electrical&#x27;, &#x27;Functional&#x27;,\n",
       "       &#x27;GarageType&#x27;, &#x27;GarageFinish&#x27;, &#x27;GarageQual&#x27;, &#x27;GarageCond&#x27;, &#x27;PavedDrive&#x27;,\n",
       "       &#x27;SaleType&#x27;],\n",
       "      dtype=&#x27;object&#x27;)</pre></div></div></div><div class=\"sk-serial\"><div class=\"sk-item\"><div class=\"sk-serial\"><div class=\"sk-item\"><div class=\"sk-estimator sk-toggleable\"><input class=\"sk-toggleable__control sk-hidden--visually\" id=\"sk-estimator-id-1095\" type=\"checkbox\" ><label for=\"sk-estimator-id-1095\" class=\"sk-toggleable__label sk-toggleable__label-arrow\">SimpleImputer</label><div class=\"sk-toggleable__content\"><pre>SimpleImputer(fill_value=&#x27;N_A&#x27;, strategy=&#x27;constant&#x27;)</pre></div></div></div><div class=\"sk-item sk-dashed-wrapped\"><div class=\"sk-label-container\"><div class=\"sk-label sk-toggleable\"><input class=\"sk-toggleable__control sk-hidden--visually\" id=\"sk-estimator-id-1096\" type=\"checkbox\" ><label for=\"sk-estimator-id-1096\" class=\"sk-toggleable__label sk-toggleable__label-arrow\">columntransformer: ColumnTransformer</label><div class=\"sk-toggleable__content\"><pre>ColumnTransformer(transformers=[(&#x27;cat_ordinal&#x27;,\n",
       "                                 OrdinalEncoder(categories=[[&#x27;N_A&#x27;, &#x27;Grvl&#x27;,\n",
       "                                                             &#x27;Pave&#x27;],\n",
       "                                                            [&#x27;N_A&#x27;, &#x27;N&#x27;, &#x27;Y&#x27;],\n",
       "                                                            [&#x27;N_A&#x27;, &#x27;Slab&#x27;,\n",
       "                                                             &#x27;BrkTil&#x27;, &#x27;CBlock&#x27;,\n",
       "                                                             &#x27;Wood&#x27;, &#x27;Stone&#x27;,\n",
       "                                                             &#x27;PConc&#x27;],\n",
       "                                                            [&#x27;N_A&#x27;, &#x27;Po&#x27;, &#x27;Fa&#x27;,\n",
       "                                                             &#x27;TA&#x27;, &#x27;Gd&#x27;, &#x27;Ex&#x27;],\n",
       "                                                            [&#x27;N_A&#x27;, &#x27;Po&#x27;, &#x27;Fa&#x27;,\n",
       "                                                             &#x27;TA&#x27;, &#x27;Gd&#x27;, &#x27;Ex&#x27;],\n",
       "                                                            [&#x27;N_A&#x27;, &#x27;NA&#x27;, &#x27;Po&#x27;,\n",
       "                                                             &#x27;Fa&#x27;, &#x27;TA&#x27;, &#x27;Gd&#x27;,\n",
       "                                                             &#x27;Ex&#x27;],\n",
       "                                                            [&#x27;N_A&#x27;, &#x27;NA&#x27;, &#x27;Po&#x27;,\n",
       "                                                             &#x27;Fa&#x27;, &#x27;TA&#x27;, &#x27;Gd&#x27;,\n",
       "                                                             &#x27;Ex&#x27;],\n",
       "                                                            [&#x27;N_A&#x27;, &#x27;NA&#x27;, &#x27;No&#x27;,\n",
       "                                                             &#x27;Mn&#x27;, &#x27;Av&#x27;, &#x27;Gd&#x27;],\n",
       "                                                            [&#x27;N_A&#x27;,...\n",
       "                                  &#x27;Utilities&#x27;, &#x27;LotConfig&#x27;, &#x27;LandSlope&#x27;,\n",
       "                                  &#x27;BldgType&#x27;, &#x27;HouseStyle&#x27;, &#x27;RoofStyle&#x27;,\n",
       "                                  &#x27;RoofMatl&#x27;, &#x27;MasVnrType&#x27;, &#x27;HeatingQC&#x27;,\n",
       "                                  &#x27;Electrical&#x27;, &#x27;Functional&#x27;, &#x27;GarageFinish&#x27;,\n",
       "                                  &#x27;GarageQual&#x27;, &#x27;GarageCond&#x27;, &#x27;PavedDrive&#x27;]),\n",
       "                                (&#x27;cat_onehot&#x27;,\n",
       "                                 OneHotEncoder(handle_unknown=&#x27;ignore&#x27;,\n",
       "                                               sparse_output=False),\n",
       "                                 [&#x27;Heating&#x27;, &#x27;MSZoning&#x27;, &#x27;Condition1&#x27;,\n",
       "                                  &#x27;Neighborhood&#x27;, &#x27;Exterior1st&#x27;, &#x27;GarageType&#x27;,\n",
       "                                  &#x27;SaleType&#x27;])])</pre></div></div></div><div class=\"sk-parallel\"><div class=\"sk-parallel-item\"><div class=\"sk-item\"><div class=\"sk-label-container\"><div class=\"sk-label sk-toggleable\"><input class=\"sk-toggleable__control sk-hidden--visually\" id=\"sk-estimator-id-1097\" type=\"checkbox\" ><label for=\"sk-estimator-id-1097\" class=\"sk-toggleable__label sk-toggleable__label-arrow\">cat_ordinal</label><div class=\"sk-toggleable__content\"><pre>[&#x27;Street&#x27;, &#x27;CentralAir&#x27;, &#x27;Foundation&#x27;, &#x27;ExterQual&#x27;, &#x27;ExterCond&#x27;, &#x27;BsmtQual&#x27;, &#x27;BsmtCond&#x27;, &#x27;BsmtExposure&#x27;, &#x27;BsmtFinType1&#x27;, &#x27;ExterQual&#x27;, &#x27;ExterCond&#x27;, &#x27;KitchenQual&#x27;, &#x27;FireplaceQu&#x27;, &#x27;LotShape&#x27;, &#x27;LandContour&#x27;, &#x27;Utilities&#x27;, &#x27;LotConfig&#x27;, &#x27;LandSlope&#x27;, &#x27;BldgType&#x27;, &#x27;HouseStyle&#x27;, &#x27;RoofStyle&#x27;, &#x27;RoofMatl&#x27;, &#x27;MasVnrType&#x27;, &#x27;HeatingQC&#x27;, &#x27;Electrical&#x27;, &#x27;Functional&#x27;, &#x27;GarageFinish&#x27;, &#x27;GarageQual&#x27;, &#x27;GarageCond&#x27;, &#x27;PavedDrive&#x27;]</pre></div></div></div><div class=\"sk-serial\"><div class=\"sk-item\"><div class=\"sk-estimator sk-toggleable\"><input class=\"sk-toggleable__control sk-hidden--visually\" id=\"sk-estimator-id-1098\" type=\"checkbox\" ><label for=\"sk-estimator-id-1098\" class=\"sk-toggleable__label sk-toggleable__label-arrow\">OrdinalEncoder</label><div class=\"sk-toggleable__content\"><pre>OrdinalEncoder(categories=[[&#x27;N_A&#x27;, &#x27;Grvl&#x27;, &#x27;Pave&#x27;], [&#x27;N_A&#x27;, &#x27;N&#x27;, &#x27;Y&#x27;],\n",
       "                           [&#x27;N_A&#x27;, &#x27;Slab&#x27;, &#x27;BrkTil&#x27;, &#x27;CBlock&#x27;, &#x27;Wood&#x27;, &#x27;Stone&#x27;,\n",
       "                            &#x27;PConc&#x27;],\n",
       "                           [&#x27;N_A&#x27;, &#x27;Po&#x27;, &#x27;Fa&#x27;, &#x27;TA&#x27;, &#x27;Gd&#x27;, &#x27;Ex&#x27;],\n",
       "                           [&#x27;N_A&#x27;, &#x27;Po&#x27;, &#x27;Fa&#x27;, &#x27;TA&#x27;, &#x27;Gd&#x27;, &#x27;Ex&#x27;],\n",
       "                           [&#x27;N_A&#x27;, &#x27;NA&#x27;, &#x27;Po&#x27;, &#x27;Fa&#x27;, &#x27;TA&#x27;, &#x27;Gd&#x27;, &#x27;Ex&#x27;],\n",
       "                           [&#x27;N_A&#x27;, &#x27;NA&#x27;, &#x27;Po&#x27;, &#x27;Fa&#x27;, &#x27;TA&#x27;, &#x27;Gd&#x27;, &#x27;Ex&#x27;],\n",
       "                           [&#x27;N_A&#x27;, &#x27;NA&#x27;, &#x27;No&#x27;, &#x27;Mn&#x27;, &#x27;Av&#x27;, &#x27;Gd&#x27;],\n",
       "                           [&#x27;N_A&#x27;, &#x27;NA&#x27;, &#x27;Unf&#x27;, &#x27;LwQ&#x27;, &#x27;Rec&#x27;, &#x27;BLQ&#x27;, &#x27;ALQ&#x27;,\n",
       "                            &#x27;GLQ&#x27;],\n",
       "                           [&#x27;N_A...\n",
       "                           [&#x27;N_A&#x27;, &#x27;Roll&#x27;, &#x27;Tar&amp;Grv&#x27;, &#x27;CompShg&#x27;, &#x27;WdShngl&#x27;,\n",
       "                            &#x27;WdShake&#x27;, &#x27;Membran&#x27;, &#x27;Metal&#x27;, &#x27;ClyTile&#x27;],\n",
       "                           [&#x27;N_A&#x27;, &#x27;None&#x27;, &#x27;CBlock&#x27;, &#x27;BrkCmn&#x27;, &#x27;BrkFace&#x27;,\n",
       "                            &#x27;Stone&#x27;],\n",
       "                           [&#x27;N_A&#x27;, &#x27;Po&#x27;, &#x27;Fa&#x27;, &#x27;TA&#x27;, &#x27;Gd&#x27;, &#x27;Ex&#x27;],\n",
       "                           [&#x27;N_A&#x27;, &#x27;Mix&#x27;, &#x27;FuseP&#x27;, &#x27;FuseF&#x27;, &#x27;FuseA&#x27;, &#x27;SBrkr&#x27;],\n",
       "                           [&#x27;N_A&#x27;, &#x27;Sal&#x27;, &#x27;Sev&#x27;, &#x27;Maj2&#x27;, &#x27;Maj1&#x27;, &#x27;Mod&#x27;, &#x27;Min2&#x27;,\n",
       "                            &#x27;Min1&#x27;, &#x27;Typ&#x27;],\n",
       "                           [&#x27;N_A&#x27;, &#x27;NA&#x27;, &#x27;Unf&#x27;, &#x27;RFn&#x27;, &#x27;Fin&#x27;],\n",
       "                           [&#x27;N_A&#x27;, &#x27;Po&#x27;, &#x27;Fa&#x27;, &#x27;TA&#x27;, &#x27;Gd&#x27;, &#x27;Ex&#x27;],\n",
       "                           [&#x27;N_A&#x27;, &#x27;Po&#x27;, &#x27;Fa&#x27;, &#x27;TA&#x27;, &#x27;Gd&#x27;, &#x27;Ex&#x27;],\n",
       "                           [&#x27;N_A&#x27;, &#x27;N&#x27;, &#x27;P&#x27;, &#x27;Y&#x27;]])</pre></div></div></div></div></div></div><div class=\"sk-parallel-item\"><div class=\"sk-item\"><div class=\"sk-label-container\"><div class=\"sk-label sk-toggleable\"><input class=\"sk-toggleable__control sk-hidden--visually\" id=\"sk-estimator-id-1099\" type=\"checkbox\" ><label for=\"sk-estimator-id-1099\" class=\"sk-toggleable__label sk-toggleable__label-arrow\">cat_onehot</label><div class=\"sk-toggleable__content\"><pre>[&#x27;Heating&#x27;, &#x27;MSZoning&#x27;, &#x27;Condition1&#x27;, &#x27;Neighborhood&#x27;, &#x27;Exterior1st&#x27;, &#x27;GarageType&#x27;, &#x27;SaleType&#x27;]</pre></div></div></div><div class=\"sk-serial\"><div class=\"sk-item\"><div class=\"sk-estimator sk-toggleable\"><input class=\"sk-toggleable__control sk-hidden--visually\" id=\"sk-estimator-id-1100\" type=\"checkbox\" ><label for=\"sk-estimator-id-1100\" class=\"sk-toggleable__label sk-toggleable__label-arrow\">OneHotEncoder</label><div class=\"sk-toggleable__content\"><pre>OneHotEncoder(handle_unknown=&#x27;ignore&#x27;, sparse_output=False)</pre></div></div></div></div></div></div></div></div></div></div></div></div></div></div></div><div class=\"sk-item\"><div class=\"sk-estimator sk-toggleable\"><input class=\"sk-toggleable__control sk-hidden--visually\" id=\"sk-estimator-id-1101\" type=\"checkbox\" ><label for=\"sk-estimator-id-1101\" class=\"sk-toggleable__label sk-toggleable__label-arrow\">StandardScaler</label><div class=\"sk-toggleable__content\"><pre>StandardScaler()</pre></div></div></div><div class=\"sk-item\"><div class=\"sk-estimator sk-toggleable\"><input class=\"sk-toggleable__control sk-hidden--visually\" id=\"sk-estimator-id-1102\" type=\"checkbox\" ><label for=\"sk-estimator-id-1102\" class=\"sk-toggleable__label sk-toggleable__label-arrow\">RandomForestClassifier</label><div class=\"sk-toggleable__content\"><pre>RandomForestClassifier()</pre></div></div></div></div></div></div></div>"
      ],
      "text/plain": [
       "Pipeline(steps=[('columntransformer',\n",
       "                 ColumnTransformer(transformers=[('num_pipe',\n",
       "                                                  Pipeline(steps=[('simpleimputer',\n",
       "                                                                   SimpleImputer())]),\n",
       "                                                  Index(['LotArea', 'LotFrontage', 'TotalBsmtSF', 'BedroomAbvGr', 'Fireplaces',\n",
       "       'PoolArea', 'GarageCars', 'WoodDeckSF', 'ScreenPorch', 'MSSubClass',\n",
       "       'OverallQual', 'OverallCond', 'YearBuilt', 'YearRemodAdd', 'MasVnrArea',\n",
       "       'BsmtFinSF1'...\n",
       "       'LotShape', 'LandContour', 'Utilities', 'LotConfig', 'LandSlope',\n",
       "       'Neighborhood', 'BldgType', 'HouseStyle', 'RoofStyle', 'RoofMatl',\n",
       "       'Exterior1st', 'MasVnrType', 'HeatingQC', 'Electrical', 'Functional',\n",
       "       'GarageType', 'GarageFinish', 'GarageQual', 'GarageCond', 'PavedDrive',\n",
       "       'SaleType'],\n",
       "      dtype='object'))])),\n",
       "                ('standardscaler', StandardScaler()),\n",
       "                ('randomforestclassifier', RandomForestClassifier())])"
      ]
     },
     "execution_count": 627,
     "metadata": {},
     "output_type": "execute_result"
    }
   ],
   "source": [
    "full_random_forest_pipeline_scaled"
   ]
  },
  {
   "cell_type": "code",
   "execution_count": 656,
   "metadata": {
    "tags": []
   },
   "outputs": [
    {
     "name": "stdout",
     "output_type": "stream",
     "text": [
      "Fitting 10 folds for each of 416 candidates, totalling 4160 fits\n"
     ]
    },
    {
     "data": {
      "text/html": [
       "<style>#sk-container-id-93 {color: black;}#sk-container-id-93 pre{padding: 0;}#sk-container-id-93 div.sk-toggleable {background-color: white;}#sk-container-id-93 label.sk-toggleable__label {cursor: pointer;display: block;width: 100%;margin-bottom: 0;padding: 0.3em;box-sizing: border-box;text-align: center;}#sk-container-id-93 label.sk-toggleable__label-arrow:before {content: \"▸\";float: left;margin-right: 0.25em;color: #696969;}#sk-container-id-93 label.sk-toggleable__label-arrow:hover:before {color: black;}#sk-container-id-93 div.sk-estimator:hover label.sk-toggleable__label-arrow:before {color: black;}#sk-container-id-93 div.sk-toggleable__content {max-height: 0;max-width: 0;overflow: hidden;text-align: left;background-color: #f0f8ff;}#sk-container-id-93 div.sk-toggleable__content pre {margin: 0.2em;color: black;border-radius: 0.25em;background-color: #f0f8ff;}#sk-container-id-93 input.sk-toggleable__control:checked~div.sk-toggleable__content {max-height: 200px;max-width: 100%;overflow: auto;}#sk-container-id-93 input.sk-toggleable__control:checked~label.sk-toggleable__label-arrow:before {content: \"▾\";}#sk-container-id-93 div.sk-estimator input.sk-toggleable__control:checked~label.sk-toggleable__label {background-color: #d4ebff;}#sk-container-id-93 div.sk-label input.sk-toggleable__control:checked~label.sk-toggleable__label {background-color: #d4ebff;}#sk-container-id-93 input.sk-hidden--visually {border: 0;clip: rect(1px 1px 1px 1px);clip: rect(1px, 1px, 1px, 1px);height: 1px;margin: -1px;overflow: hidden;padding: 0;position: absolute;width: 1px;}#sk-container-id-93 div.sk-estimator {font-family: monospace;background-color: #f0f8ff;border: 1px dotted black;border-radius: 0.25em;box-sizing: border-box;margin-bottom: 0.5em;}#sk-container-id-93 div.sk-estimator:hover {background-color: #d4ebff;}#sk-container-id-93 div.sk-parallel-item::after {content: \"\";width: 100%;border-bottom: 1px solid gray;flex-grow: 1;}#sk-container-id-93 div.sk-label:hover label.sk-toggleable__label {background-color: #d4ebff;}#sk-container-id-93 div.sk-serial::before {content: \"\";position: absolute;border-left: 1px solid gray;box-sizing: border-box;top: 0;bottom: 0;left: 50%;z-index: 0;}#sk-container-id-93 div.sk-serial {display: flex;flex-direction: column;align-items: center;background-color: white;padding-right: 0.2em;padding-left: 0.2em;position: relative;}#sk-container-id-93 div.sk-item {position: relative;z-index: 1;}#sk-container-id-93 div.sk-parallel {display: flex;align-items: stretch;justify-content: center;background-color: white;position: relative;}#sk-container-id-93 div.sk-item::before, #sk-container-id-93 div.sk-parallel-item::before {content: \"\";position: absolute;border-left: 1px solid gray;box-sizing: border-box;top: 0;bottom: 0;left: 50%;z-index: -1;}#sk-container-id-93 div.sk-parallel-item {display: flex;flex-direction: column;z-index: 1;position: relative;background-color: white;}#sk-container-id-93 div.sk-parallel-item:first-child::after {align-self: flex-end;width: 50%;}#sk-container-id-93 div.sk-parallel-item:last-child::after {align-self: flex-start;width: 50%;}#sk-container-id-93 div.sk-parallel-item:only-child::after {width: 0;}#sk-container-id-93 div.sk-dashed-wrapped {border: 1px dashed gray;margin: 0 0.4em 0.5em 0.4em;box-sizing: border-box;padding-bottom: 0.4em;background-color: white;}#sk-container-id-93 div.sk-label label {font-family: monospace;font-weight: bold;display: inline-block;line-height: 1.2em;}#sk-container-id-93 div.sk-label-container {text-align: center;}#sk-container-id-93 div.sk-container {/* jupyter's `normalize.less` sets `[hidden] { display: none; }` but bootstrap.min.css set `[hidden] { display: none !important; }` so we also need the `!important` here to be able to override the default hidden behavior on the sphinx rendered scikit-learn.org. See: https://github.com/scikit-learn/scikit-learn/issues/21755 */display: inline-block !important;position: relative;}#sk-container-id-93 div.sk-text-repr-fallback {display: none;}</style><div id=\"sk-container-id-93\" class=\"sk-top-container\"><div class=\"sk-text-repr-fallback\"><pre>GridSearchCV(cv=10,\n",
       "             estimator=Pipeline(steps=[(&#x27;columntransformer&#x27;,\n",
       "                                        ColumnTransformer(transformers=[(&#x27;num_pipe&#x27;,\n",
       "                                                                         Pipeline(steps=[(&#x27;simpleimputer&#x27;,\n",
       "                                                                                          SimpleImputer())]),\n",
       "                                                                         Index([&#x27;LotArea&#x27;, &#x27;LotFrontage&#x27;, &#x27;TotalBsmtSF&#x27;, &#x27;BedroomAbvGr&#x27;, &#x27;Fireplaces&#x27;,\n",
       "       &#x27;PoolArea&#x27;, &#x27;GarageCars&#x27;, &#x27;WoodDeckSF&#x27;, &#x27;ScreenPorch&#x27;, &#x27;MSSubClass&#x27;,\n",
       "       &#x27;OverallQual&#x27;, &#x27;OverallCond&#x27;, &#x27;YearBuilt&#x27;, &#x27;YearRemodA...\n",
       "                                       (&#x27;randomforestclassifier&#x27;,\n",
       "                                        RandomForestClassifier())]),\n",
       "             param_grid={&#x27;columntransformer__num_pipe__simpleimputer__strategy&#x27;: [&#x27;mean&#x27;,\n",
       "                                                                                  &#x27;median&#x27;],\n",
       "                         &#x27;randomforestclassifier__criterion&#x27;: [&#x27;gini&#x27;,\n",
       "                                                               &#x27;entropy&#x27;],\n",
       "                         &#x27;randomforestclassifier__max_depth&#x27;: range(14, 40, 2),\n",
       "                         &#x27;randomforestclassifier__min_samples_leaf&#x27;: range(3, 10, 2),\n",
       "                         &#x27;randomforestclassifier__min_samples_split&#x27;: range(2, 10, 5)},\n",
       "             verbose=1)</pre><b>In a Jupyter environment, please rerun this cell to show the HTML representation or trust the notebook. <br />On GitHub, the HTML representation is unable to render, please try loading this page with nbviewer.org.</b></div><div class=\"sk-container\" hidden><div class=\"sk-item sk-dashed-wrapped\"><div class=\"sk-label-container\"><div class=\"sk-label sk-toggleable\"><input class=\"sk-toggleable__control sk-hidden--visually\" id=\"sk-estimator-id-1145\" type=\"checkbox\" ><label for=\"sk-estimator-id-1145\" class=\"sk-toggleable__label sk-toggleable__label-arrow\">GridSearchCV</label><div class=\"sk-toggleable__content\"><pre>GridSearchCV(cv=10,\n",
       "             estimator=Pipeline(steps=[(&#x27;columntransformer&#x27;,\n",
       "                                        ColumnTransformer(transformers=[(&#x27;num_pipe&#x27;,\n",
       "                                                                         Pipeline(steps=[(&#x27;simpleimputer&#x27;,\n",
       "                                                                                          SimpleImputer())]),\n",
       "                                                                         Index([&#x27;LotArea&#x27;, &#x27;LotFrontage&#x27;, &#x27;TotalBsmtSF&#x27;, &#x27;BedroomAbvGr&#x27;, &#x27;Fireplaces&#x27;,\n",
       "       &#x27;PoolArea&#x27;, &#x27;GarageCars&#x27;, &#x27;WoodDeckSF&#x27;, &#x27;ScreenPorch&#x27;, &#x27;MSSubClass&#x27;,\n",
       "       &#x27;OverallQual&#x27;, &#x27;OverallCond&#x27;, &#x27;YearBuilt&#x27;, &#x27;YearRemodA...\n",
       "                                       (&#x27;randomforestclassifier&#x27;,\n",
       "                                        RandomForestClassifier())]),\n",
       "             param_grid={&#x27;columntransformer__num_pipe__simpleimputer__strategy&#x27;: [&#x27;mean&#x27;,\n",
       "                                                                                  &#x27;median&#x27;],\n",
       "                         &#x27;randomforestclassifier__criterion&#x27;: [&#x27;gini&#x27;,\n",
       "                                                               &#x27;entropy&#x27;],\n",
       "                         &#x27;randomforestclassifier__max_depth&#x27;: range(14, 40, 2),\n",
       "                         &#x27;randomforestclassifier__min_samples_leaf&#x27;: range(3, 10, 2),\n",
       "                         &#x27;randomforestclassifier__min_samples_split&#x27;: range(2, 10, 5)},\n",
       "             verbose=1)</pre></div></div></div><div class=\"sk-parallel\"><div class=\"sk-parallel-item\"><div class=\"sk-item\"><div class=\"sk-label-container\"><div class=\"sk-label sk-toggleable\"><input class=\"sk-toggleable__control sk-hidden--visually\" id=\"sk-estimator-id-1146\" type=\"checkbox\" ><label for=\"sk-estimator-id-1146\" class=\"sk-toggleable__label sk-toggleable__label-arrow\">estimator: Pipeline</label><div class=\"sk-toggleable__content\"><pre>Pipeline(steps=[(&#x27;columntransformer&#x27;,\n",
       "                 ColumnTransformer(transformers=[(&#x27;num_pipe&#x27;,\n",
       "                                                  Pipeline(steps=[(&#x27;simpleimputer&#x27;,\n",
       "                                                                   SimpleImputer())]),\n",
       "                                                  Index([&#x27;LotArea&#x27;, &#x27;LotFrontage&#x27;, &#x27;TotalBsmtSF&#x27;, &#x27;BedroomAbvGr&#x27;, &#x27;Fireplaces&#x27;,\n",
       "       &#x27;PoolArea&#x27;, &#x27;GarageCars&#x27;, &#x27;WoodDeckSF&#x27;, &#x27;ScreenPorch&#x27;, &#x27;MSSubClass&#x27;,\n",
       "       &#x27;OverallQual&#x27;, &#x27;OverallCond&#x27;, &#x27;YearBuilt&#x27;, &#x27;YearRemodAdd&#x27;, &#x27;MasVnrArea&#x27;,\n",
       "       &#x27;BsmtFinSF1&#x27;...\n",
       "       &#x27;LotShape&#x27;, &#x27;LandContour&#x27;, &#x27;Utilities&#x27;, &#x27;LotConfig&#x27;, &#x27;LandSlope&#x27;,\n",
       "       &#x27;Neighborhood&#x27;, &#x27;BldgType&#x27;, &#x27;HouseStyle&#x27;, &#x27;RoofStyle&#x27;, &#x27;RoofMatl&#x27;,\n",
       "       &#x27;Exterior1st&#x27;, &#x27;MasVnrType&#x27;, &#x27;HeatingQC&#x27;, &#x27;Electrical&#x27;, &#x27;Functional&#x27;,\n",
       "       &#x27;GarageType&#x27;, &#x27;GarageFinish&#x27;, &#x27;GarageQual&#x27;, &#x27;GarageCond&#x27;, &#x27;PavedDrive&#x27;,\n",
       "       &#x27;SaleType&#x27;],\n",
       "      dtype=&#x27;object&#x27;))])),\n",
       "                (&#x27;standardscaler&#x27;, StandardScaler()),\n",
       "                (&#x27;randomforestclassifier&#x27;, RandomForestClassifier())])</pre></div></div></div><div class=\"sk-serial\"><div class=\"sk-item\"><div class=\"sk-serial\"><div class=\"sk-item sk-dashed-wrapped\"><div class=\"sk-label-container\"><div class=\"sk-label sk-toggleable\"><input class=\"sk-toggleable__control sk-hidden--visually\" id=\"sk-estimator-id-1147\" type=\"checkbox\" ><label for=\"sk-estimator-id-1147\" class=\"sk-toggleable__label sk-toggleable__label-arrow\">columntransformer: ColumnTransformer</label><div class=\"sk-toggleable__content\"><pre>ColumnTransformer(transformers=[(&#x27;num_pipe&#x27;,\n",
       "                                 Pipeline(steps=[(&#x27;simpleimputer&#x27;,\n",
       "                                                  SimpleImputer())]),\n",
       "                                 Index([&#x27;LotArea&#x27;, &#x27;LotFrontage&#x27;, &#x27;TotalBsmtSF&#x27;, &#x27;BedroomAbvGr&#x27;, &#x27;Fireplaces&#x27;,\n",
       "       &#x27;PoolArea&#x27;, &#x27;GarageCars&#x27;, &#x27;WoodDeckSF&#x27;, &#x27;ScreenPorch&#x27;, &#x27;MSSubClass&#x27;,\n",
       "       &#x27;OverallQual&#x27;, &#x27;OverallCond&#x27;, &#x27;YearBuilt&#x27;, &#x27;YearRemodAdd&#x27;, &#x27;MasVnrArea&#x27;,\n",
       "       &#x27;BsmtFinSF1&#x27;, &#x27;BsmtFinSF2&#x27;, &#x27;BsmtUnfSF&#x27;, &#x27;1stFlrSF&#x27;,...\n",
       "       &#x27;Foundation&#x27;, &#x27;ExterQual&#x27;, &#x27;ExterCond&#x27;, &#x27;BsmtQual&#x27;, &#x27;BsmtCond&#x27;,\n",
       "       &#x27;BsmtExposure&#x27;, &#x27;BsmtFinType1&#x27;, &#x27;KitchenQual&#x27;, &#x27;FireplaceQu&#x27;,\n",
       "       &#x27;LotShape&#x27;, &#x27;LandContour&#x27;, &#x27;Utilities&#x27;, &#x27;LotConfig&#x27;, &#x27;LandSlope&#x27;,\n",
       "       &#x27;Neighborhood&#x27;, &#x27;BldgType&#x27;, &#x27;HouseStyle&#x27;, &#x27;RoofStyle&#x27;, &#x27;RoofMatl&#x27;,\n",
       "       &#x27;Exterior1st&#x27;, &#x27;MasVnrType&#x27;, &#x27;HeatingQC&#x27;, &#x27;Electrical&#x27;, &#x27;Functional&#x27;,\n",
       "       &#x27;GarageType&#x27;, &#x27;GarageFinish&#x27;, &#x27;GarageQual&#x27;, &#x27;GarageCond&#x27;, &#x27;PavedDrive&#x27;,\n",
       "       &#x27;SaleType&#x27;],\n",
       "      dtype=&#x27;object&#x27;))])</pre></div></div></div><div class=\"sk-parallel\"><div class=\"sk-parallel-item\"><div class=\"sk-item\"><div class=\"sk-label-container\"><div class=\"sk-label sk-toggleable\"><input class=\"sk-toggleable__control sk-hidden--visually\" id=\"sk-estimator-id-1148\" type=\"checkbox\" ><label for=\"sk-estimator-id-1148\" class=\"sk-toggleable__label sk-toggleable__label-arrow\">num_pipe</label><div class=\"sk-toggleable__content\"><pre>Index([&#x27;LotArea&#x27;, &#x27;LotFrontage&#x27;, &#x27;TotalBsmtSF&#x27;, &#x27;BedroomAbvGr&#x27;, &#x27;Fireplaces&#x27;,\n",
       "       &#x27;PoolArea&#x27;, &#x27;GarageCars&#x27;, &#x27;WoodDeckSF&#x27;, &#x27;ScreenPorch&#x27;, &#x27;MSSubClass&#x27;,\n",
       "       &#x27;OverallQual&#x27;, &#x27;OverallCond&#x27;, &#x27;YearBuilt&#x27;, &#x27;YearRemodAdd&#x27;, &#x27;MasVnrArea&#x27;,\n",
       "       &#x27;BsmtFinSF1&#x27;, &#x27;BsmtFinSF2&#x27;, &#x27;BsmtUnfSF&#x27;, &#x27;1stFlrSF&#x27;, &#x27;2ndFlrSF&#x27;,\n",
       "       &#x27;LowQualFinSF&#x27;, &#x27;GrLivArea&#x27;, &#x27;BsmtFullBath&#x27;, &#x27;BsmtHalfBath&#x27;, &#x27;FullBath&#x27;,\n",
       "       &#x27;HalfBath&#x27;, &#x27;KitchenAbvGr&#x27;, &#x27;TotRmsAbvGrd&#x27;, &#x27;GarageYrBlt&#x27;, &#x27;GarageArea&#x27;,\n",
       "       &#x27;OpenPorchSF&#x27;, &#x27;EnclosedPorch&#x27;, &#x27;3SsnPorch&#x27;, &#x27;MiscVal&#x27;, &#x27;MoSold&#x27;,\n",
       "       &#x27;YrSold&#x27;],\n",
       "      dtype=&#x27;object&#x27;)</pre></div></div></div><div class=\"sk-serial\"><div class=\"sk-item\"><div class=\"sk-serial\"><div class=\"sk-item\"><div class=\"sk-estimator sk-toggleable\"><input class=\"sk-toggleable__control sk-hidden--visually\" id=\"sk-estimator-id-1149\" type=\"checkbox\" ><label for=\"sk-estimator-id-1149\" class=\"sk-toggleable__label sk-toggleable__label-arrow\">SimpleImputer</label><div class=\"sk-toggleable__content\"><pre>SimpleImputer()</pre></div></div></div></div></div></div></div></div><div class=\"sk-parallel-item\"><div class=\"sk-item\"><div class=\"sk-label-container\"><div class=\"sk-label sk-toggleable\"><input class=\"sk-toggleable__control sk-hidden--visually\" id=\"sk-estimator-id-1150\" type=\"checkbox\" ><label for=\"sk-estimator-id-1150\" class=\"sk-toggleable__label sk-toggleable__label-arrow\">cat_pipe</label><div class=\"sk-toggleable__content\"><pre>Index([&#x27;MSZoning&#x27;, &#x27;Condition1&#x27;, &#x27;Heating&#x27;, &#x27;Street&#x27;, &#x27;CentralAir&#x27;,\n",
       "       &#x27;Foundation&#x27;, &#x27;ExterQual&#x27;, &#x27;ExterCond&#x27;, &#x27;BsmtQual&#x27;, &#x27;BsmtCond&#x27;,\n",
       "       &#x27;BsmtExposure&#x27;, &#x27;BsmtFinType1&#x27;, &#x27;KitchenQual&#x27;, &#x27;FireplaceQu&#x27;,\n",
       "       &#x27;LotShape&#x27;, &#x27;LandContour&#x27;, &#x27;Utilities&#x27;, &#x27;LotConfig&#x27;, &#x27;LandSlope&#x27;,\n",
       "       &#x27;Neighborhood&#x27;, &#x27;BldgType&#x27;, &#x27;HouseStyle&#x27;, &#x27;RoofStyle&#x27;, &#x27;RoofMatl&#x27;,\n",
       "       &#x27;Exterior1st&#x27;, &#x27;MasVnrType&#x27;, &#x27;HeatingQC&#x27;, &#x27;Electrical&#x27;, &#x27;Functional&#x27;,\n",
       "       &#x27;GarageType&#x27;, &#x27;GarageFinish&#x27;, &#x27;GarageQual&#x27;, &#x27;GarageCond&#x27;, &#x27;PavedDrive&#x27;,\n",
       "       &#x27;SaleType&#x27;],\n",
       "      dtype=&#x27;object&#x27;)</pre></div></div></div><div class=\"sk-serial\"><div class=\"sk-item\"><div class=\"sk-serial\"><div class=\"sk-item\"><div class=\"sk-estimator sk-toggleable\"><input class=\"sk-toggleable__control sk-hidden--visually\" id=\"sk-estimator-id-1151\" type=\"checkbox\" ><label for=\"sk-estimator-id-1151\" class=\"sk-toggleable__label sk-toggleable__label-arrow\">SimpleImputer</label><div class=\"sk-toggleable__content\"><pre>SimpleImputer(fill_value=&#x27;N_A&#x27;, strategy=&#x27;constant&#x27;)</pre></div></div></div><div class=\"sk-item sk-dashed-wrapped\"><div class=\"sk-label-container\"><div class=\"sk-label sk-toggleable\"><input class=\"sk-toggleable__control sk-hidden--visually\" id=\"sk-estimator-id-1152\" type=\"checkbox\" ><label for=\"sk-estimator-id-1152\" class=\"sk-toggleable__label sk-toggleable__label-arrow\">columntransformer: ColumnTransformer</label><div class=\"sk-toggleable__content\"><pre>ColumnTransformer(transformers=[(&#x27;cat_ordinal&#x27;,\n",
       "                                 OrdinalEncoder(categories=[[&#x27;N_A&#x27;, &#x27;Grvl&#x27;,\n",
       "                                                             &#x27;Pave&#x27;],\n",
       "                                                            [&#x27;N_A&#x27;, &#x27;N&#x27;, &#x27;Y&#x27;],\n",
       "                                                            [&#x27;N_A&#x27;, &#x27;Slab&#x27;,\n",
       "                                                             &#x27;BrkTil&#x27;, &#x27;CBlock&#x27;,\n",
       "                                                             &#x27;Wood&#x27;, &#x27;Stone&#x27;,\n",
       "                                                             &#x27;PConc&#x27;],\n",
       "                                                            [&#x27;N_A&#x27;, &#x27;Po&#x27;, &#x27;Fa&#x27;,\n",
       "                                                             &#x27;TA&#x27;, &#x27;Gd&#x27;, &#x27;Ex&#x27;],\n",
       "                                                            [&#x27;N_A&#x27;, &#x27;Po&#x27;, &#x27;Fa&#x27;,\n",
       "                                                             &#x27;TA&#x27;, &#x27;Gd&#x27;, &#x27;Ex&#x27;],\n",
       "                                                            [&#x27;N_A&#x27;, &#x27;NA&#x27;, &#x27;Po&#x27;,\n",
       "                                                             &#x27;Fa&#x27;, &#x27;TA&#x27;, &#x27;Gd&#x27;,\n",
       "                                                             &#x27;Ex&#x27;],\n",
       "                                                            [&#x27;N_A&#x27;, &#x27;NA&#x27;, &#x27;Po&#x27;,\n",
       "                                                             &#x27;Fa&#x27;, &#x27;TA&#x27;, &#x27;Gd&#x27;,\n",
       "                                                             &#x27;Ex&#x27;],\n",
       "                                                            [&#x27;N_A&#x27;, &#x27;NA&#x27;, &#x27;No&#x27;,\n",
       "                                                             &#x27;Mn&#x27;, &#x27;Av&#x27;, &#x27;Gd&#x27;],\n",
       "                                                            [&#x27;N_A&#x27;,...\n",
       "                                  &#x27;Utilities&#x27;, &#x27;LotConfig&#x27;, &#x27;LandSlope&#x27;,\n",
       "                                  &#x27;BldgType&#x27;, &#x27;HouseStyle&#x27;, &#x27;RoofStyle&#x27;,\n",
       "                                  &#x27;RoofMatl&#x27;, &#x27;MasVnrType&#x27;, &#x27;HeatingQC&#x27;,\n",
       "                                  &#x27;Electrical&#x27;, &#x27;Functional&#x27;, &#x27;GarageFinish&#x27;,\n",
       "                                  &#x27;GarageQual&#x27;, &#x27;GarageCond&#x27;, &#x27;PavedDrive&#x27;]),\n",
       "                                (&#x27;cat_onehot&#x27;,\n",
       "                                 OneHotEncoder(handle_unknown=&#x27;ignore&#x27;,\n",
       "                                               sparse_output=False),\n",
       "                                 [&#x27;Heating&#x27;, &#x27;MSZoning&#x27;, &#x27;Condition1&#x27;,\n",
       "                                  &#x27;Neighborhood&#x27;, &#x27;Exterior1st&#x27;, &#x27;GarageType&#x27;,\n",
       "                                  &#x27;SaleType&#x27;])])</pre></div></div></div><div class=\"sk-parallel\"><div class=\"sk-parallel-item\"><div class=\"sk-item\"><div class=\"sk-label-container\"><div class=\"sk-label sk-toggleable\"><input class=\"sk-toggleable__control sk-hidden--visually\" id=\"sk-estimator-id-1153\" type=\"checkbox\" ><label for=\"sk-estimator-id-1153\" class=\"sk-toggleable__label sk-toggleable__label-arrow\">cat_ordinal</label><div class=\"sk-toggleable__content\"><pre>[&#x27;Street&#x27;, &#x27;CentralAir&#x27;, &#x27;Foundation&#x27;, &#x27;ExterQual&#x27;, &#x27;ExterCond&#x27;, &#x27;BsmtQual&#x27;, &#x27;BsmtCond&#x27;, &#x27;BsmtExposure&#x27;, &#x27;BsmtFinType1&#x27;, &#x27;ExterQual&#x27;, &#x27;ExterCond&#x27;, &#x27;KitchenQual&#x27;, &#x27;FireplaceQu&#x27;, &#x27;LotShape&#x27;, &#x27;LandContour&#x27;, &#x27;Utilities&#x27;, &#x27;LotConfig&#x27;, &#x27;LandSlope&#x27;, &#x27;BldgType&#x27;, &#x27;HouseStyle&#x27;, &#x27;RoofStyle&#x27;, &#x27;RoofMatl&#x27;, &#x27;MasVnrType&#x27;, &#x27;HeatingQC&#x27;, &#x27;Electrical&#x27;, &#x27;Functional&#x27;, &#x27;GarageFinish&#x27;, &#x27;GarageQual&#x27;, &#x27;GarageCond&#x27;, &#x27;PavedDrive&#x27;]</pre></div></div></div><div class=\"sk-serial\"><div class=\"sk-item\"><div class=\"sk-estimator sk-toggleable\"><input class=\"sk-toggleable__control sk-hidden--visually\" id=\"sk-estimator-id-1154\" type=\"checkbox\" ><label for=\"sk-estimator-id-1154\" class=\"sk-toggleable__label sk-toggleable__label-arrow\">OrdinalEncoder</label><div class=\"sk-toggleable__content\"><pre>OrdinalEncoder(categories=[[&#x27;N_A&#x27;, &#x27;Grvl&#x27;, &#x27;Pave&#x27;], [&#x27;N_A&#x27;, &#x27;N&#x27;, &#x27;Y&#x27;],\n",
       "                           [&#x27;N_A&#x27;, &#x27;Slab&#x27;, &#x27;BrkTil&#x27;, &#x27;CBlock&#x27;, &#x27;Wood&#x27;, &#x27;Stone&#x27;,\n",
       "                            &#x27;PConc&#x27;],\n",
       "                           [&#x27;N_A&#x27;, &#x27;Po&#x27;, &#x27;Fa&#x27;, &#x27;TA&#x27;, &#x27;Gd&#x27;, &#x27;Ex&#x27;],\n",
       "                           [&#x27;N_A&#x27;, &#x27;Po&#x27;, &#x27;Fa&#x27;, &#x27;TA&#x27;, &#x27;Gd&#x27;, &#x27;Ex&#x27;],\n",
       "                           [&#x27;N_A&#x27;, &#x27;NA&#x27;, &#x27;Po&#x27;, &#x27;Fa&#x27;, &#x27;TA&#x27;, &#x27;Gd&#x27;, &#x27;Ex&#x27;],\n",
       "                           [&#x27;N_A&#x27;, &#x27;NA&#x27;, &#x27;Po&#x27;, &#x27;Fa&#x27;, &#x27;TA&#x27;, &#x27;Gd&#x27;, &#x27;Ex&#x27;],\n",
       "                           [&#x27;N_A&#x27;, &#x27;NA&#x27;, &#x27;No&#x27;, &#x27;Mn&#x27;, &#x27;Av&#x27;, &#x27;Gd&#x27;],\n",
       "                           [&#x27;N_A&#x27;, &#x27;NA&#x27;, &#x27;Unf&#x27;, &#x27;LwQ&#x27;, &#x27;Rec&#x27;, &#x27;BLQ&#x27;, &#x27;ALQ&#x27;,\n",
       "                            &#x27;GLQ&#x27;],\n",
       "                           [&#x27;N_A...\n",
       "                           [&#x27;N_A&#x27;, &#x27;Roll&#x27;, &#x27;Tar&amp;Grv&#x27;, &#x27;CompShg&#x27;, &#x27;WdShngl&#x27;,\n",
       "                            &#x27;WdShake&#x27;, &#x27;Membran&#x27;, &#x27;Metal&#x27;, &#x27;ClyTile&#x27;],\n",
       "                           [&#x27;N_A&#x27;, &#x27;None&#x27;, &#x27;CBlock&#x27;, &#x27;BrkCmn&#x27;, &#x27;BrkFace&#x27;,\n",
       "                            &#x27;Stone&#x27;],\n",
       "                           [&#x27;N_A&#x27;, &#x27;Po&#x27;, &#x27;Fa&#x27;, &#x27;TA&#x27;, &#x27;Gd&#x27;, &#x27;Ex&#x27;],\n",
       "                           [&#x27;N_A&#x27;, &#x27;Mix&#x27;, &#x27;FuseP&#x27;, &#x27;FuseF&#x27;, &#x27;FuseA&#x27;, &#x27;SBrkr&#x27;],\n",
       "                           [&#x27;N_A&#x27;, &#x27;Sal&#x27;, &#x27;Sev&#x27;, &#x27;Maj2&#x27;, &#x27;Maj1&#x27;, &#x27;Mod&#x27;, &#x27;Min2&#x27;,\n",
       "                            &#x27;Min1&#x27;, &#x27;Typ&#x27;],\n",
       "                           [&#x27;N_A&#x27;, &#x27;NA&#x27;, &#x27;Unf&#x27;, &#x27;RFn&#x27;, &#x27;Fin&#x27;],\n",
       "                           [&#x27;N_A&#x27;, &#x27;Po&#x27;, &#x27;Fa&#x27;, &#x27;TA&#x27;, &#x27;Gd&#x27;, &#x27;Ex&#x27;],\n",
       "                           [&#x27;N_A&#x27;, &#x27;Po&#x27;, &#x27;Fa&#x27;, &#x27;TA&#x27;, &#x27;Gd&#x27;, &#x27;Ex&#x27;],\n",
       "                           [&#x27;N_A&#x27;, &#x27;N&#x27;, &#x27;P&#x27;, &#x27;Y&#x27;]])</pre></div></div></div></div></div></div><div class=\"sk-parallel-item\"><div class=\"sk-item\"><div class=\"sk-label-container\"><div class=\"sk-label sk-toggleable\"><input class=\"sk-toggleable__control sk-hidden--visually\" id=\"sk-estimator-id-1155\" type=\"checkbox\" ><label for=\"sk-estimator-id-1155\" class=\"sk-toggleable__label sk-toggleable__label-arrow\">cat_onehot</label><div class=\"sk-toggleable__content\"><pre>[&#x27;Heating&#x27;, &#x27;MSZoning&#x27;, &#x27;Condition1&#x27;, &#x27;Neighborhood&#x27;, &#x27;Exterior1st&#x27;, &#x27;GarageType&#x27;, &#x27;SaleType&#x27;]</pre></div></div></div><div class=\"sk-serial\"><div class=\"sk-item\"><div class=\"sk-estimator sk-toggleable\"><input class=\"sk-toggleable__control sk-hidden--visually\" id=\"sk-estimator-id-1156\" type=\"checkbox\" ><label for=\"sk-estimator-id-1156\" class=\"sk-toggleable__label sk-toggleable__label-arrow\">OneHotEncoder</label><div class=\"sk-toggleable__content\"><pre>OneHotEncoder(handle_unknown=&#x27;ignore&#x27;, sparse_output=False)</pre></div></div></div></div></div></div></div></div></div></div></div></div></div></div></div><div class=\"sk-item\"><div class=\"sk-estimator sk-toggleable\"><input class=\"sk-toggleable__control sk-hidden--visually\" id=\"sk-estimator-id-1157\" type=\"checkbox\" ><label for=\"sk-estimator-id-1157\" class=\"sk-toggleable__label sk-toggleable__label-arrow\">StandardScaler</label><div class=\"sk-toggleable__content\"><pre>StandardScaler()</pre></div></div></div><div class=\"sk-item\"><div class=\"sk-estimator sk-toggleable\"><input class=\"sk-toggleable__control sk-hidden--visually\" id=\"sk-estimator-id-1158\" type=\"checkbox\" ><label for=\"sk-estimator-id-1158\" class=\"sk-toggleable__label sk-toggleable__label-arrow\">RandomForestClassifier</label><div class=\"sk-toggleable__content\"><pre>RandomForestClassifier()</pre></div></div></div></div></div></div></div></div></div></div></div></div>"
      ],
      "text/plain": [
       "GridSearchCV(cv=10,\n",
       "             estimator=Pipeline(steps=[('columntransformer',\n",
       "                                        ColumnTransformer(transformers=[('num_pipe',\n",
       "                                                                         Pipeline(steps=[('simpleimputer',\n",
       "                                                                                          SimpleImputer())]),\n",
       "                                                                         Index(['LotArea', 'LotFrontage', 'TotalBsmtSF', 'BedroomAbvGr', 'Fireplaces',\n",
       "       'PoolArea', 'GarageCars', 'WoodDeckSF', 'ScreenPorch', 'MSSubClass',\n",
       "       'OverallQual', 'OverallCond', 'YearBuilt', 'YearRemodA...\n",
       "                                       ('randomforestclassifier',\n",
       "                                        RandomForestClassifier())]),\n",
       "             param_grid={'columntransformer__num_pipe__simpleimputer__strategy': ['mean',\n",
       "                                                                                  'median'],\n",
       "                         'randomforestclassifier__criterion': ['gini',\n",
       "                                                               'entropy'],\n",
       "                         'randomforestclassifier__max_depth': range(14, 40, 2),\n",
       "                         'randomforestclassifier__min_samples_leaf': range(3, 10, 2),\n",
       "                         'randomforestclassifier__min_samples_split': range(2, 10, 5)},\n",
       "             verbose=1)"
      ]
     },
     "execution_count": 656,
     "metadata": {},
     "output_type": "execute_result"
    }
   ],
   "source": [
    "param_grid_random_forest = {\n",
    "       \"columntransformer__num_pipe__simpleimputer__strategy\":[\"mean\", \"median\"],\n",
    "       \"randomforestclassifier__max_depth\": range(14, 40, 2),\n",
    "       \"randomforestclassifier__min_samples_leaf\": range(3, 10, 2),\n",
    "       \"randomforestclassifier__min_samples_split\": range(2, 10, 5),\n",
    "       \"randomforestclassifier__criterion\":[\"gini\", \"entropy\"]\n",
    "}\n",
    "\n",
    "search_random_forest = GridSearchCV(full_random_forest_pipeline_scaled,\n",
    "                      param_grid_random_forest,\n",
    "                      cv=10,\n",
    "                      verbose=1)\n",
    "\n",
    "search_random_forest.fit(X_train, y_train)"
   ]
  },
  {
   "cell_type": "code",
   "execution_count": 657,
   "metadata": {
    "tags": []
   },
   "outputs": [
    {
     "data": {
      "text/plain": [
       "{'columntransformer__num_pipe__simpleimputer__strategy': 'mean',\n",
       " 'randomforestclassifier__criterion': 'gini',\n",
       " 'randomforestclassifier__max_depth': 30,\n",
       " 'randomforestclassifier__min_samples_leaf': 3,\n",
       " 'randomforestclassifier__min_samples_split': 2}"
      ]
     },
     "execution_count": 657,
     "metadata": {},
     "output_type": "execute_result"
    }
   ],
   "source": [
    "search_random_forest.best_params_"
   ]
  },
  {
   "cell_type": "code",
   "execution_count": 658,
   "metadata": {
    "tags": []
   },
   "outputs": [
    {
     "data": {
      "text/plain": [
       "{'dtree': 0.9306734453286177,\n",
       " 'knn': 0.9126510462717359,\n",
       " 'knn_scaled': 0.9263483642793988,\n",
       " 'logreg': 0.9366710875331565,\n",
       " 'svc': 0.9477969348659003,\n",
       " 'random_forest': 0.9546345417035071}"
      ]
     },
     "execution_count": 658,
     "metadata": {},
     "output_type": "execute_result"
    }
   ],
   "source": [
    "scores[\"random_forest\"] = search_random_forest.best_score_\n",
    "\n",
    "scores"
   ]
  },
  {
   "cell_type": "code",
   "execution_count": 659,
   "metadata": {
    "tags": []
   },
   "outputs": [
    {
     "data": {
      "text/plain": [
       "0.9486301369863014"
      ]
     },
     "execution_count": 659,
     "metadata": {},
     "output_type": "execute_result"
    }
   ],
   "source": [
    "accuracy_score(y_test, search_random_forest.predict(X_test))"
   ]
  },
  {
   "cell_type": "code",
   "execution_count": 660,
   "metadata": {},
   "outputs": [],
   "source": [
    "competition_test = pd.read_csv('test-housing-classification.csv')"
   ]
  },
  {
   "cell_type": "code",
   "execution_count": 661,
   "metadata": {
    "tags": []
   },
   "outputs": [
    {
     "data": {
      "text/plain": [
       "0       1461\n",
       "1       1462\n",
       "2       1463\n",
       "3       1464\n",
       "4       1465\n",
       "        ... \n",
       "1454    2915\n",
       "1455    2916\n",
       "1456    2917\n",
       "1457    2918\n",
       "1458    2919\n",
       "Name: Id, Length: 1459, dtype: int64"
      ]
     },
     "execution_count": 661,
     "metadata": {},
     "output_type": "execute_result"
    }
   ],
   "source": [
    "competition_test.pop('Id')"
   ]
  },
  {
   "cell_type": "code",
   "execution_count": 662,
   "metadata": {
    "tags": []
   },
   "outputs": [],
   "source": [
    "competition_test_dropped = competition_test.drop(columns=[\"PoolQC\", \"MiscFeature\",\n",
    "                                                          \"Fence\",\"Condition2\", \n",
    "                                                          \"Alley\", \"Exterior2nd\", \n",
    "                                                          \"BsmtFinType2\",\"SaleCondition\"]) \n",
    "                                                          #\"SaleType\", \"MasVnrType\", \"FireplaceQu\"])"
   ]
  },
  {
   "cell_type": "code",
   "execution_count": 663,
   "metadata": {
    "tags": []
   },
   "outputs": [
    {
     "data": {
      "text/html": [
       "<div>\n",
       "<style scoped>\n",
       "    .dataframe tbody tr th:only-of-type {\n",
       "        vertical-align: middle;\n",
       "    }\n",
       "\n",
       "    .dataframe tbody tr th {\n",
       "        vertical-align: top;\n",
       "    }\n",
       "\n",
       "    .dataframe thead th {\n",
       "        text-align: right;\n",
       "    }\n",
       "</style>\n",
       "<table border=\"1\" class=\"dataframe\">\n",
       "  <thead>\n",
       "    <tr style=\"text-align: right;\">\n",
       "      <th></th>\n",
       "      <th>Id</th>\n",
       "      <th>Expensive</th>\n",
       "    </tr>\n",
       "  </thead>\n",
       "  <tbody>\n",
       "    <tr>\n",
       "      <th>0</th>\n",
       "      <td>1461</td>\n",
       "      <td>0</td>\n",
       "    </tr>\n",
       "    <tr>\n",
       "      <th>1</th>\n",
       "      <td>1462</td>\n",
       "      <td>0</td>\n",
       "    </tr>\n",
       "    <tr>\n",
       "      <th>2</th>\n",
       "      <td>1463</td>\n",
       "      <td>0</td>\n",
       "    </tr>\n",
       "    <tr>\n",
       "      <th>3</th>\n",
       "      <td>1464</td>\n",
       "      <td>0</td>\n",
       "    </tr>\n",
       "    <tr>\n",
       "      <th>4</th>\n",
       "      <td>1465</td>\n",
       "      <td>0</td>\n",
       "    </tr>\n",
       "    <tr>\n",
       "      <th>...</th>\n",
       "      <td>...</td>\n",
       "      <td>...</td>\n",
       "    </tr>\n",
       "    <tr>\n",
       "      <th>1454</th>\n",
       "      <td>2915</td>\n",
       "      <td>0</td>\n",
       "    </tr>\n",
       "    <tr>\n",
       "      <th>1455</th>\n",
       "      <td>2916</td>\n",
       "      <td>0</td>\n",
       "    </tr>\n",
       "    <tr>\n",
       "      <th>1456</th>\n",
       "      <td>2917</td>\n",
       "      <td>0</td>\n",
       "    </tr>\n",
       "    <tr>\n",
       "      <th>1457</th>\n",
       "      <td>2918</td>\n",
       "      <td>0</td>\n",
       "    </tr>\n",
       "    <tr>\n",
       "      <th>1458</th>\n",
       "      <td>2919</td>\n",
       "      <td>0</td>\n",
       "    </tr>\n",
       "  </tbody>\n",
       "</table>\n",
       "<p>1459 rows × 2 columns</p>\n",
       "</div>"
      ],
      "text/plain": [
       "        Id  Expensive\n",
       "0     1461          0\n",
       "1     1462          0\n",
       "2     1463          0\n",
       "3     1464          0\n",
       "4     1465          0\n",
       "...    ...        ...\n",
       "1454  2915          0\n",
       "1455  2916          0\n",
       "1456  2917          0\n",
       "1457  2918          0\n",
       "1458  2919          0\n",
       "\n",
       "[1459 rows x 2 columns]"
      ]
     },
     "execution_count": 663,
     "metadata": {},
     "output_type": "execute_result"
    }
   ],
   "source": [
    "submission_prediction = search_random_forest.predict(competition_test_dropped)\n",
    "submission_prediction = list(submission_prediction)\n",
    "submission_df = pd.DataFrame()\n",
    "submission_df['Id'] = Id\n",
    "submission_df['Expensive'] = submission_prediction\n",
    "submission_df"
   ]
  },
  {
   "cell_type": "code",
   "execution_count": 664,
   "metadata": {
    "tags": []
   },
   "outputs": [],
   "source": [
    "# create the csv for the competition and download it\n",
    "submission_df.to_csv(\"classification_17.csv\", index=False)"
   ]
  },
  {
   "cell_type": "code",
   "execution_count": 219,
   "metadata": {
    "tags": []
   },
   "outputs": [
    {
     "data": {
      "text/html": [
       "<div>\n",
       "<style scoped>\n",
       "    .dataframe tbody tr th:only-of-type {\n",
       "        vertical-align: middle;\n",
       "    }\n",
       "\n",
       "    .dataframe tbody tr th {\n",
       "        vertical-align: top;\n",
       "    }\n",
       "\n",
       "    .dataframe thead th {\n",
       "        text-align: right;\n",
       "    }\n",
       "</style>\n",
       "<table border=\"1\" class=\"dataframe\">\n",
       "  <thead>\n",
       "    <tr style=\"text-align: right;\">\n",
       "      <th></th>\n",
       "      <th>Id</th>\n",
       "      <th>Expensive</th>\n",
       "    </tr>\n",
       "  </thead>\n",
       "  <tbody>\n",
       "    <tr>\n",
       "      <th>0</th>\n",
       "      <td>1461</td>\n",
       "      <td>0</td>\n",
       "    </tr>\n",
       "    <tr>\n",
       "      <th>1</th>\n",
       "      <td>1462</td>\n",
       "      <td>0</td>\n",
       "    </tr>\n",
       "    <tr>\n",
       "      <th>2</th>\n",
       "      <td>1463</td>\n",
       "      <td>0</td>\n",
       "    </tr>\n",
       "    <tr>\n",
       "      <th>3</th>\n",
       "      <td>1464</td>\n",
       "      <td>0</td>\n",
       "    </tr>\n",
       "    <tr>\n",
       "      <th>4</th>\n",
       "      <td>1465</td>\n",
       "      <td>0</td>\n",
       "    </tr>\n",
       "    <tr>\n",
       "      <th>...</th>\n",
       "      <td>...</td>\n",
       "      <td>...</td>\n",
       "    </tr>\n",
       "    <tr>\n",
       "      <th>1454</th>\n",
       "      <td>2915</td>\n",
       "      <td>0</td>\n",
       "    </tr>\n",
       "    <tr>\n",
       "      <th>1455</th>\n",
       "      <td>2916</td>\n",
       "      <td>0</td>\n",
       "    </tr>\n",
       "    <tr>\n",
       "      <th>1456</th>\n",
       "      <td>2917</td>\n",
       "      <td>0</td>\n",
       "    </tr>\n",
       "    <tr>\n",
       "      <th>1457</th>\n",
       "      <td>2918</td>\n",
       "      <td>0</td>\n",
       "    </tr>\n",
       "    <tr>\n",
       "      <th>1458</th>\n",
       "      <td>2919</td>\n",
       "      <td>0</td>\n",
       "    </tr>\n",
       "  </tbody>\n",
       "</table>\n",
       "<p>1459 rows × 2 columns</p>\n",
       "</div>"
      ],
      "text/plain": [
       "        Id  Expensive\n",
       "0     1461          0\n",
       "1     1462          0\n",
       "2     1463          0\n",
       "3     1464          0\n",
       "4     1465          0\n",
       "...    ...        ...\n",
       "1454  2915          0\n",
       "1455  2916          0\n",
       "1456  2917          0\n",
       "1457  2918          0\n",
       "1458  2919          0\n",
       "\n",
       "[1459 rows x 2 columns]"
      ]
     },
     "execution_count": 219,
     "metadata": {},
     "output_type": "execute_result"
    }
   ],
   "source": [
    "submission_prediction_4 = search_svc.predict(competition_test_dropped)\n",
    "submission_prediction_4 = list(submission_prediction_4)\n",
    "submission_df_4 = pd.DataFrame()\n",
    "submission_df_4['Id'] = Id\n",
    "submission_df_4['Expensive'] = submission_prediction_4\n",
    "submission_df_4"
   ]
  },
  {
   "cell_type": "code",
   "execution_count": 220,
   "metadata": {
    "tags": []
   },
   "outputs": [],
   "source": [
    "submission_df_4.to_csv(\"classification_4.csv\", index=False)"
   ]
  },
  {
   "cell_type": "code",
   "execution_count": 221,
   "metadata": {
    "tags": []
   },
   "outputs": [
    {
     "data": {
      "text/html": [
       "<div>\n",
       "<style scoped>\n",
       "    .dataframe tbody tr th:only-of-type {\n",
       "        vertical-align: middle;\n",
       "    }\n",
       "\n",
       "    .dataframe tbody tr th {\n",
       "        vertical-align: top;\n",
       "    }\n",
       "\n",
       "    .dataframe thead th {\n",
       "        text-align: right;\n",
       "    }\n",
       "</style>\n",
       "<table border=\"1\" class=\"dataframe\">\n",
       "  <thead>\n",
       "    <tr style=\"text-align: right;\">\n",
       "      <th></th>\n",
       "      <th>Id</th>\n",
       "      <th>Expensive</th>\n",
       "    </tr>\n",
       "  </thead>\n",
       "  <tbody>\n",
       "    <tr>\n",
       "      <th>0</th>\n",
       "      <td>1461</td>\n",
       "      <td>0</td>\n",
       "    </tr>\n",
       "    <tr>\n",
       "      <th>1</th>\n",
       "      <td>1462</td>\n",
       "      <td>0</td>\n",
       "    </tr>\n",
       "    <tr>\n",
       "      <th>2</th>\n",
       "      <td>1463</td>\n",
       "      <td>0</td>\n",
       "    </tr>\n",
       "    <tr>\n",
       "      <th>3</th>\n",
       "      <td>1464</td>\n",
       "      <td>0</td>\n",
       "    </tr>\n",
       "    <tr>\n",
       "      <th>4</th>\n",
       "      <td>1465</td>\n",
       "      <td>0</td>\n",
       "    </tr>\n",
       "    <tr>\n",
       "      <th>...</th>\n",
       "      <td>...</td>\n",
       "      <td>...</td>\n",
       "    </tr>\n",
       "    <tr>\n",
       "      <th>1454</th>\n",
       "      <td>2915</td>\n",
       "      <td>0</td>\n",
       "    </tr>\n",
       "    <tr>\n",
       "      <th>1455</th>\n",
       "      <td>2916</td>\n",
       "      <td>0</td>\n",
       "    </tr>\n",
       "    <tr>\n",
       "      <th>1456</th>\n",
       "      <td>2917</td>\n",
       "      <td>0</td>\n",
       "    </tr>\n",
       "    <tr>\n",
       "      <th>1457</th>\n",
       "      <td>2918</td>\n",
       "      <td>0</td>\n",
       "    </tr>\n",
       "    <tr>\n",
       "      <th>1458</th>\n",
       "      <td>2919</td>\n",
       "      <td>0</td>\n",
       "    </tr>\n",
       "  </tbody>\n",
       "</table>\n",
       "<p>1459 rows × 2 columns</p>\n",
       "</div>"
      ],
      "text/plain": [
       "        Id  Expensive\n",
       "0     1461          0\n",
       "1     1462          0\n",
       "2     1463          0\n",
       "3     1464          0\n",
       "4     1465          0\n",
       "...    ...        ...\n",
       "1454  2915          0\n",
       "1455  2916          0\n",
       "1456  2917          0\n",
       "1457  2918          0\n",
       "1458  2919          0\n",
       "\n",
       "[1459 rows x 2 columns]"
      ]
     },
     "execution_count": 221,
     "metadata": {},
     "output_type": "execute_result"
    }
   ],
   "source": [
    "submission_prediction_3 = search_logreg.predict(competition_test_dropped)\n",
    "submission_prediction_3 = list(submission_prediction_3)\n",
    "submission_df_3 = pd.DataFrame()\n",
    "submission_df_3['Id'] = Id\n",
    "submission_df_3['Expensive'] = submission_prediction_3\n",
    "submission_df_3"
   ]
  },
  {
   "cell_type": "code",
   "execution_count": 222,
   "metadata": {
    "tags": []
   },
   "outputs": [],
   "source": [
    "submission_df_3.to_csv(\"classification_5.csv\", index=False)"
   ]
  },
  {
   "cell_type": "code",
   "execution_count": null,
   "metadata": {},
   "outputs": [],
   "source": []
  }
 ],
 "metadata": {
  "colab": {
   "provenance": []
  },
  "kernelspec": {
   "display_name": "Python 3 (ipykernel)",
   "language": "python",
   "name": "python3"
  },
  "language_info": {
   "codemirror_mode": {
    "name": "ipython",
    "version": 3
   },
   "file_extension": ".py",
   "mimetype": "text/x-python",
   "name": "python",
   "nbconvert_exporter": "python",
   "pygments_lexer": "ipython3",
   "version": "3.11.5"
  }
 },
 "nbformat": 4,
 "nbformat_minor": 4
}
